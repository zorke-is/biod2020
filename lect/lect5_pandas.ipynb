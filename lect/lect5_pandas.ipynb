{
 "cells": [
  {
   "cell_type": "markdown",
   "metadata": {},
   "source": [
    "# [Pandas](https://pandas.pydata.org/pandas-docs/stable/index.html)\n",
    "\n",
    "2020-10-20\n",
    "\n",
    "- Pandas pagrindai\n",
    "- Duomenų manipuliacijos\n",
    "- Importavimas\n",
    "- Grafikai\n",
    "- Stilius"
   ]
  },
  {
   "cell_type": "code",
   "execution_count": null,
   "metadata": {},
   "outputs": [],
   "source": [
    "import pathlib\n",
    "import numpy as np\n",
    "import pandas as pd\n",
    "import matplotlib.pyplot as plt"
   ]
  },
  {
   "cell_type": "markdown",
   "metadata": {},
   "source": [
    "## Pagrindai\n",
    "\n",
    "[Pandas](https://pandas.pydata.org/)\n",
    "praplečia NumPy duomenų struktūromis bei metodais iš\n",
    "SAS, STATA, SQL, R data.frame ir panašių duomenų analizės įrankių.\n",
    "\n",
    "[Dokumentacija](https://pandas.pydata.org/pandas-docs/stable/user_guide/)"
   ]
  },
  {
   "cell_type": "markdown",
   "metadata": {},
   "source": [
    "### [Series](https://pandas.pydata.org/pandas-docs/stable/reference/series.html)\n",
    "\n",
    "Pagrindinėse Pandas duomenų struktūros: Series, DataFrame ir Index.\n",
    "\n",
    "Series - paprasčiausia struktūra reprezentuojanti vienos dimensijos masyvą."
   ]
  },
  {
   "cell_type": "code",
   "execution_count": null,
   "metadata": {},
   "outputs": [],
   "source": [
    "data = pd.Series([0.25, 0.5, 0.75, 1])\n",
    "data"
   ]
  },
  {
   "cell_type": "markdown",
   "metadata": {},
   "source": [
    "Paversti NumPy masyvu duomenis galime"
   ]
  },
  {
   "cell_type": "code",
   "execution_count": null,
   "metadata": {},
   "outputs": [],
   "source": [
    "data.values"
   ]
  },
  {
   "cell_type": "markdown",
   "metadata": {},
   "source": [
    "Prie paprasto NumPy masyvo pandas prideda stulpelių ir eilučių\n",
    "pavadinimus kas įgalina konstruoti loginius sakinius.\n",
    "Vertės turi automatiškai priskirtą indeksą, bet galima ir priskirti\n",
    "specifinius vardus."
   ]
  },
  {
   "cell_type": "code",
   "execution_count": null,
   "metadata": {},
   "outputs": [],
   "source": [
    "data = pd.Series([0.25, 0.5, 0.75, 1], index=['a', 'b', 'c', 'd'])\n",
    "data"
   ]
  },
  {
   "cell_type": "markdown",
   "metadata": {},
   "source": [
    "Indeksas gali būti bet kokia  tvarka bet kokie simboliai"
   ]
  },
  {
   "cell_type": "code",
   "execution_count": null,
   "metadata": {},
   "outputs": [],
   "source": [
    "pd.Series(5, index=[5, 10, 1])  # Vienos vertės Series"
   ]
  },
  {
   "cell_type": "code",
   "execution_count": null,
   "metadata": {},
   "outputs": [],
   "source": [
    "pd.Series({2: 'a', 1: 'b', 3: 'c'})"
   ]
  },
  {
   "cell_type": "code",
   "execution_count": null,
   "metadata": {},
   "outputs": [],
   "source": [
    "pd.Series({2: 'a', 1: 'b', 3: 'c'}, index=[3, 2])  # tik nurodyti lieka"
   ]
  },
  {
   "cell_type": "markdown",
   "metadata": {},
   "source": [
    "Skirtingai nuo žodynų Series karpyti duomenis galima raktų pagalba."
   ]
  },
  {
   "cell_type": "code",
   "execution_count": null,
   "metadata": {},
   "outputs": [],
   "source": [
    "tel_dict = {'Ona': 867183231,\n",
    "            'Tomas': 863173231,\n",
    "            'Jonas': 867199292,\n",
    "            'Petras': 860183037,\n",
    "            'Rita': 864132431}\n",
    "tel_nr = pd.Series(tel_dict)\n",
    "tel_nr['Tomas':'Petras']"
   ]
  },
  {
   "cell_type": "markdown",
   "metadata": {},
   "source": [
    "### [DataFrame](https://pandas.pydata.org/pandas-docs/stable/reference/frame.html)\n",
    "\n",
    "Svarbiausia struktūra: dvimatis masyvas, lentelė\n",
    "\n",
    "Lengviausia formuoti iš Series"
   ]
  },
  {
   "cell_type": "code",
   "execution_count": null,
   "metadata": {},
   "outputs": [],
   "source": [
    "eil_nr = pd.Series({'Ona': 1,\n",
    "                    'Tomas': 60,\n",
    "                    'Jonas': 82,\n",
    "                    'Petras': 8,\n",
    "                    'Rita': 11})\n",
    "eil_nr"
   ]
  },
  {
   "cell_type": "code",
   "execution_count": null,
   "metadata": {},
   "outputs": [],
   "source": [
    "firma = pd.Series({'Ona': 'Sony',\n",
    "                   'Tomas': 'Nokia',\n",
    "                   'Jonas': 'HTC',\n",
    "                   'Petras': 'Samsung',\n",
    "                   'Rita': 'Apple'})\n",
    "firma"
   ]
  },
  {
   "cell_type": "code",
   "execution_count": null,
   "metadata": {},
   "outputs": [],
   "source": [
    "tel_knyga = pd.DataFrame({'tel_nr': tel_nr, 'tel_firma': firma})\n",
    "tel_knyga"
   ]
  },
  {
   "cell_type": "markdown",
   "metadata": {},
   "source": [
    "Formuojant iš kitų elementų pravartu nurodyti ir stulpelių bei eilučių vardus"
   ]
  },
  {
   "cell_type": "code",
   "execution_count": null,
   "metadata": {},
   "outputs": [],
   "source": [
    "pd.DataFrame(np.zeros((3, 4)), columns=[\n",
    "             'a', 'b', 'C', 'd'], index=[100, 200, 300])"
   ]
  },
  {
   "cell_type": "markdown",
   "metadata": {},
   "source": [
    "Nenurodžius jie priskiriami automatiškai"
   ]
  },
  {
   "cell_type": "code",
   "execution_count": null,
   "metadata": {},
   "outputs": [],
   "source": [
    "pd.DataFrame([[1, 4, 5], [7, 8, 9]])"
   ]
  },
  {
   "cell_type": "code",
   "execution_count": null,
   "metadata": {},
   "outputs": [],
   "source": [
    "pd.DataFrame([[[1, 4], [5, 8]], [[9, 8], [7, 5]]])"
   ]
  },
  {
   "cell_type": "markdown",
   "metadata": {},
   "source": [
    "## [Index](https://pandas.pydata.org/pandas-docs/stable/reference/indexing.html)\n",
    "\n",
    "Pandas indeksą galima naudot kaip atskira duomenų struktūrą."
   ]
  },
  {
   "cell_type": "code",
   "execution_count": null,
   "metadata": {},
   "outputs": [],
   "source": [
    "indA = pd.Index([1, 2, 3, 4])\n",
    "indA"
   ]
  },
  {
   "cell_type": "markdown",
   "metadata": {},
   "source": [
    "Index elementai yra nekeičiami."
   ]
  },
  {
   "cell_type": "code",
   "execution_count": null,
   "metadata": {},
   "outputs": [],
   "source": [
    "indA[1] = 5"
   ]
  },
  {
   "cell_type": "markdown",
   "metadata": {},
   "source": [
    "pd.Index turi daug standartinės struktūros `set` operacijų"
   ]
  },
  {
   "cell_type": "code",
   "execution_count": null,
   "metadata": {},
   "outputs": [],
   "source": [
    "indB = pd.Index([1, 8, 9, 4])\n",
    "indB"
   ]
  },
  {
   "cell_type": "code",
   "execution_count": null,
   "metadata": {},
   "outputs": [],
   "source": [
    "indA & indB"
   ]
  },
  {
   "cell_type": "code",
   "execution_count": null,
   "metadata": {},
   "outputs": [],
   "source": [
    "indA.intersection(indB)"
   ]
  },
  {
   "cell_type": "code",
   "execution_count": null,
   "metadata": {},
   "outputs": [],
   "source": [
    "indA | indB"
   ]
  },
  {
   "cell_type": "code",
   "execution_count": null,
   "metadata": {},
   "outputs": [],
   "source": [
    "indA ^ indB"
   ]
  },
  {
   "cell_type": "markdown",
   "metadata": {},
   "source": [
    "### Elementų pasiekimas (Series)"
   ]
  },
  {
   "cell_type": "code",
   "execution_count": null,
   "metadata": {},
   "outputs": [],
   "source": [
    "data = pd.Series(np.arange(1, 8, 2), index=list('abcd'))\n",
    "data"
   ]
  },
  {
   "cell_type": "code",
   "execution_count": null,
   "metadata": {},
   "outputs": [],
   "source": [
    "data['b']"
   ]
  },
  {
   "cell_type": "code",
   "execution_count": null,
   "metadata": {},
   "outputs": [],
   "source": [
    "data[1]"
   ]
  },
  {
   "cell_type": "markdown",
   "metadata": {},
   "source": [
    "In tikrina eilučių vardus"
   ]
  },
  {
   "cell_type": "code",
   "execution_count": null,
   "metadata": {},
   "outputs": [],
   "source": [
    "'a' in data"
   ]
  },
  {
   "cell_type": "markdown",
   "metadata": {},
   "source": [
    "Ne duomenis"
   ]
  },
  {
   "cell_type": "code",
   "execution_count": null,
   "metadata": {},
   "outputs": [],
   "source": [
    "1 in data"
   ]
  },
  {
   "cell_type": "markdown",
   "metadata": {},
   "source": [
    "Eilučių vardus galime gauti"
   ]
  },
  {
   "cell_type": "code",
   "execution_count": null,
   "metadata": {},
   "outputs": [],
   "source": [
    "data.keys()"
   ]
  },
  {
   "cell_type": "markdown",
   "metadata": {},
   "source": [
    "Poras vardų ir verčių"
   ]
  },
  {
   "cell_type": "code",
   "execution_count": null,
   "metadata": {},
   "outputs": [],
   "source": [
    "list(data.items())"
   ]
  },
  {
   "cell_type": "markdown",
   "metadata": {},
   "source": [
    "### Karpymas (Series)"
   ]
  },
  {
   "cell_type": "code",
   "execution_count": null,
   "metadata": {},
   "outputs": [],
   "source": [
    "data['a':'b']"
   ]
  },
  {
   "cell_type": "code",
   "execution_count": null,
   "metadata": {},
   "outputs": [],
   "source": [
    "data[0:2]"
   ]
  },
  {
   "cell_type": "code",
   "execution_count": null,
   "metadata": {},
   "outputs": [],
   "source": [
    "data[['d', 'a']]"
   ]
  },
  {
   "cell_type": "code",
   "execution_count": null,
   "metadata": {},
   "outputs": [],
   "source": [
    "data[(data > 3) & (data < 7)]"
   ]
  },
  {
   "cell_type": "code",
   "execution_count": null,
   "metadata": {},
   "outputs": [],
   "source": [
    "data[np.logical_and(data > 3, data < 7)]"
   ]
  },
  {
   "cell_type": "markdown",
   "metadata": {},
   "source": [
    "Norint išvengi neaiškumų (kai indeksas pvz yra iš skaičių) naudojami iloc ir loc indeksavimo metodai"
   ]
  },
  {
   "cell_type": "code",
   "execution_count": null,
   "metadata": {},
   "outputs": [],
   "source": [
    "data = pd.Series(np.arange(9, 17, 2), index=np.arange(1, 8, 2))\n",
    "data"
   ]
  },
  {
   "cell_type": "markdown",
   "metadata": {},
   "source": [
    "Neaišku ką turim omenyje (indekso eilės nr ar pavadinimą) kai rašom"
   ]
  },
  {
   "cell_type": "code",
   "execution_count": null,
   "metadata": {},
   "outputs": [],
   "source": [
    "data[1:3]"
   ]
  },
  {
   "cell_type": "code",
   "execution_count": null,
   "metadata": {},
   "outputs": [],
   "source": [
    "data[1]"
   ]
  },
  {
   "cell_type": "markdown",
   "metadata": {},
   "source": [
    ".loc visada indekso vertės"
   ]
  },
  {
   "cell_type": "code",
   "execution_count": null,
   "metadata": {},
   "outputs": [],
   "source": [
    "data.loc[1:3]"
   ]
  },
  {
   "cell_type": "code",
   "execution_count": null,
   "metadata": {},
   "outputs": [],
   "source": [
    "data.loc[1]"
   ]
  },
  {
   "cell_type": "code",
   "execution_count": null,
   "metadata": {},
   "outputs": [],
   "source": [
    "data.loc[0]"
   ]
  },
  {
   "cell_type": "markdown",
   "metadata": {},
   "source": [
    ".iloc  visada elemento vietos indeksas"
   ]
  },
  {
   "cell_type": "code",
   "execution_count": null,
   "metadata": {},
   "outputs": [],
   "source": [
    "data.iloc[1:3]"
   ]
  },
  {
   "cell_type": "code",
   "execution_count": null,
   "metadata": {},
   "outputs": [],
   "source": [
    "data.iloc[0]"
   ]
  },
  {
   "cell_type": "markdown",
   "metadata": {},
   "source": [
    "### DataFrame (df) karpymas (slicing) ir elementų paėmimas (indexing)\n",
    "\n",
    "Norint pasiekti tam tikrą stulpelį geriau naudot jo pilną pavadinimą"
   ]
  },
  {
   "cell_type": "code",
   "execution_count": null,
   "metadata": {},
   "outputs": [],
   "source": [
    "tel_knyga.tel_nr"
   ]
  },
  {
   "cell_type": "markdown",
   "metadata": {},
   "source": [
    "Per tašką šaukiami ir metodai tad geriau kreiptis laužtiniuose skliaustuose."
   ]
  },
  {
   "cell_type": "code",
   "execution_count": null,
   "metadata": {},
   "outputs": [],
   "source": [
    "tel_knyga['tel_nr']"
   ]
  },
  {
   "cell_type": "markdown",
   "metadata": {},
   "source": [
    "Vieni laužtiniai skliaustai gražina Series struktūrą.\n",
    "Norint gauti DataFrame reikia naudoti [[]]"
   ]
  },
  {
   "cell_type": "code",
   "execution_count": null,
   "metadata": {},
   "outputs": [],
   "source": [
    "tel_knyga[['tel_nr']]"
   ]
  },
  {
   "cell_type": "markdown",
   "metadata": {},
   "source": [
    "Karpymas skiriasi nuo indeksavimo\n",
    "\n",
    "Mes karpome eilutes"
   ]
  },
  {
   "cell_type": "code",
   "execution_count": null,
   "metadata": {},
   "outputs": [],
   "source": [
    "tel_knyga[:'Petras']"
   ]
  },
  {
   "cell_type": "code",
   "execution_count": null,
   "metadata": {},
   "outputs": [],
   "source": [
    "tel_knyga[:'tel_firma']"
   ]
  },
  {
   "cell_type": "markdown",
   "metadata": {},
   "source": [
    "O tiesiogiai kreipiamės į stulpelį"
   ]
  },
  {
   "cell_type": "code",
   "execution_count": null,
   "metadata": {},
   "outputs": [],
   "source": [
    "tel_knyga['tel_firma']"
   ]
  },
  {
   "cell_type": "code",
   "execution_count": null,
   "metadata": {},
   "outputs": [],
   "source": [
    "tel_knyga['Ona']"
   ]
  },
  {
   "cell_type": "markdown",
   "metadata": {},
   "source": [
    "Geriau kaip ir Series naudot iloc ir loc"
   ]
  },
  {
   "cell_type": "code",
   "execution_count": null,
   "metadata": {},
   "outputs": [],
   "source": [
    "tel_knyga.iloc[:1, :1]  # iki antro (0,1) elemento"
   ]
  },
  {
   "cell_type": "code",
   "execution_count": null,
   "metadata": {},
   "outputs": [],
   "source": [
    "tel_knyga.iloc[1, 1]  # Antras elementas"
   ]
  },
  {
   "cell_type": "code",
   "execution_count": null,
   "metadata": {},
   "outputs": [],
   "source": [
    "tel_knyga.iloc[0, 0]  # Pirmas elementas"
   ]
  },
  {
   "cell_type": "code",
   "execution_count": null,
   "metadata": {},
   "outputs": [],
   "source": [
    "tel_knyga.loc[:'Tomas', :'tel_firma']"
   ]
  },
  {
   "cell_type": "markdown",
   "metadata": {},
   "source": [
    "### Operacijos su DataFrame (df)"
   ]
  },
  {
   "cell_type": "code",
   "execution_count": null,
   "metadata": {},
   "outputs": [],
   "source": [
    "dfA = pd.DataFrame(np.arange(8).reshape(\n",
    "    2, 4), columns=list('abcd'), index=[1, 2])\n",
    "dfA"
   ]
  },
  {
   "cell_type": "code",
   "execution_count": null,
   "metadata": {},
   "outputs": [],
   "source": [
    "dfB = pd.DataFrame(np.arange(6).reshape(2, 3),\n",
    "                   columns=list('abd'), index=[1, 2])\n",
    "dfB"
   ]
  },
  {
   "cell_type": "markdown",
   "metadata": {},
   "source": [
    "Skirtingai nuo NumPy galima atlikti operacijas su skirtingų dimensijų\n",
    "masyvais.\n",
    "Svarbu eilučių/stulpelių pavadinimų sutapimas."
   ]
  },
  {
   "cell_type": "code",
   "execution_count": null,
   "metadata": {},
   "outputs": [],
   "source": [
    "dfA + dfB"
   ]
  },
  {
   "cell_type": "code",
   "execution_count": null,
   "metadata": {},
   "outputs": [],
   "source": [
    "dfA.subtract(dfB)"
   ]
  },
  {
   "cell_type": "markdown",
   "metadata": {},
   "source": [
    "Operacijas galima atlikti skirtingomis kryptimis, dimensijomis"
   ]
  },
  {
   "cell_type": "code",
   "execution_count": null,
   "metadata": {},
   "outputs": [],
   "source": [
    "dfA.subtract(dfA.iloc[1], axis=1)  # axis 1 numatytas"
   ]
  },
  {
   "cell_type": "code",
   "execution_count": null,
   "metadata": {},
   "outputs": [],
   "source": [
    "dfA.subtract(dfA.iloc[1, 1])  # axis 1 numatytas"
   ]
  },
  {
   "cell_type": "code",
   "execution_count": null,
   "metadata": {},
   "outputs": [],
   "source": [
    "dfA.subtract(dfA['a'], axis=0)"
   ]
  },
  {
   "cell_type": "code",
   "execution_count": null,
   "metadata": {},
   "outputs": [],
   "source": [
    "dfA.subtract(dfA.iloc[:1, :2], axis=1)"
   ]
  },
  {
   "cell_type": "markdown",
   "metadata": {},
   "source": [
    "## Daugiau nei dvi dimensijos\n",
    "\n",
    "Dvimatė lentelė df reprezentuoja vieno dalyvio (subj1), rezultatus (min max) skirtingose sąlygose (baseline ir test)"
   ]
  },
  {
   "cell_type": "code",
   "execution_count": null,
   "metadata": {},
   "outputs": [],
   "source": [
    "df = pd.DataFrame(np.arange(4).reshape(2, 2), index=[\n",
    "                  'baseline', 'test'], columns=['min', 'max'])\n",
    "df"
   ]
  },
  {
   "cell_type": "markdown",
   "metadata": {},
   "source": [
    "Norėdami pridėti daugiau dimensijų į lentelę (kitus dalyvius, etc. ) galime:\n",
    "\n",
    "- kurti skirtingoms sąlygoms kitą lentelę. Greitai atsirastų be galo daug kintamųjų\n",
    "- naudoti NumPy masyvus kur 3 ir 4 dimensijos saugotų dalyvius, laikotarpius.\n",
    "Tai dažnas sprendimas kai norim skaičiuoti.\n",
    "Bet saugojimui patogiau viska turėti vienoje vietoje\n",
    "- naudoti 3 dimensijų pd.Panel arba 4 dimensijų pd.Panel4D.\n",
    "Taip sukuriame per daug skirtingo tipo duomenų tampa sunkiau organizuot juos.\n",
    "- kurti dvimatę lentelę ir saugoti papildomas dimensijas skirtingais vardais.\n",
    "Tampa sunku karpyt ir indeksuot duomenis dėl didelės pavadinimų įvairovės"
   ]
  },
  {
   "cell_type": "code",
   "execution_count": null,
   "metadata": {},
   "outputs": [],
   "source": [
    "df = pd.DataFrame(np.arange(16).reshape(4, 4), index=[\n",
    "                  'baseline2018', 'test2018', 'baseline2019', 'test2019'],\n",
    "                  columns=['subj1min', 'subj1max', 'subj2min', 'subj2max'])\n",
    "df"
   ]
  },
  {
   "cell_type": "markdown",
   "metadata": {},
   "source": [
    "Dvimatėje lentelėje saugoti daugiau nei dvi dimensijas galima su `pd.MultIndex`"
   ]
  },
  {
   "cell_type": "code",
   "execution_count": null,
   "metadata": {},
   "outputs": [],
   "source": [
    "ind = pd.MultiIndex(levels=[['basline', 'test'], [2018, 2019]],\n",
    "                    codes=[[0, 0, 1, 1], [0, 1, 0, 1]])\n",
    "df = pd.DataFrame(np.arange(8).reshape(4, 2), index=ind,\n",
    "                  columns=['min', 'max'])\n",
    "df"
   ]
  },
  {
   "cell_type": "markdown",
   "metadata": {},
   "source": [
    "MultiIndex galima sukurti naudojant kintamuosius: arrays, tuples, dataFrames"
   ]
  },
  {
   "cell_type": "code",
   "execution_count": null,
   "metadata": {},
   "outputs": [],
   "source": [
    "pd.MultiIndex?"
   ]
  },
  {
   "cell_type": "code",
   "execution_count": null,
   "metadata": {},
   "outputs": [],
   "source": [
    "index = pd.MultiIndex.from_product([['baseline', 'test'],\n",
    "                                    [2018, 2019]],\n",
    "                                   names=['kondicija', 'metai'])\n",
    "columns = pd.MultiIndex.from_product([['subj1', 'subj2', 'subj3'],\n",
    "                                      ['min', 'max']],\n",
    "                                     names=['tiriamasis', 'matavimas'])\n",
    "data = np.arange(24).reshape(4, 6)\n",
    "df = pd.DataFrame(data, index=index, columns=columns)\n",
    "df"
   ]
  },
  {
   "cell_type": "markdown",
   "metadata": {},
   "source": [
    "Visus indeksus ir pavadinimus galima sukurti tiesiogiai DataFrame kūrimo metu:"
   ]
  },
  {
   "cell_type": "code",
   "execution_count": null,
   "metadata": {},
   "outputs": [],
   "source": [
    "dft = pd.DataFrame(np.arange(8).reshape(4, 2),\n",
    "                   index=[['baseline', 'baseline', 'testas', 'testas'],\n",
    "                          [2019, 2018, 2019, 2018]], columns=['min', 'max'])\n",
    "dft.index.names = ['kondicija', 'metai']\n",
    "dft"
   ]
  },
  {
   "cell_type": "markdown",
   "metadata": {},
   "source": [
    "### MultiIndex indeksavimas"
   ]
  },
  {
   "cell_type": "code",
   "execution_count": null,
   "metadata": {},
   "outputs": [],
   "source": [
    "df['subj1', 'min']"
   ]
  },
  {
   "cell_type": "code",
   "execution_count": null,
   "metadata": {},
   "outputs": [],
   "source": [
    "df[:'baseline']"
   ]
  },
  {
   "cell_type": "code",
   "execution_count": null,
   "metadata": {},
   "outputs": [],
   "source": [
    "df.iloc[:3, :1]"
   ]
  },
  {
   "cell_type": "code",
   "execution_count": null,
   "metadata": {},
   "outputs": [],
   "source": [
    "df.iloc[3:4, 2:4]"
   ]
  },
  {
   "cell_type": "code",
   "execution_count": null,
   "metadata": {},
   "outputs": [],
   "source": [
    "df[df < 5]"
   ]
  },
  {
   "cell_type": "markdown",
   "metadata": {},
   "source": [
    "Detaliam karpymui pagal vardus  galima naudot IndexSlice objektą\n",
    "\n",
    "Jo pagalba lengvai išskiriam kiekvieną dimensiją stulpeliuose ir eilutėse."
   ]
  },
  {
   "cell_type": "code",
   "execution_count": null,
   "metadata": {},
   "outputs": [],
   "source": [
    "idx = pd.IndexSlice\n",
    "df.loc[idx[:, 2018], idx['subj2':'subj3',:]]"
   ]
  },
  {
   "cell_type": "code",
   "execution_count": null,
   "metadata": {},
   "outputs": [],
   "source": [
    "df.loc[idx['baseline', 2018], idx['subj2':'subj3']]"
   ]
  },
  {
   "cell_type": "code",
   "execution_count": null,
   "metadata": {},
   "outputs": [],
   "source": [
    "df.loc[idx['baseline', 2018], idx['subj2', 'max']]"
   ]
  },
  {
   "cell_type": "markdown",
   "metadata": {},
   "source": [
    "## Filtravimas duomenų\n",
    "\n",
    "### `where`"
   ]
  },
  {
   "cell_type": "code",
   "execution_count": null,
   "metadata": {},
   "outputs": [],
   "source": [
    "df[df<10]"
   ]
  },
  {
   "cell_type": "code",
   "execution_count": null,
   "metadata": {},
   "outputs": [],
   "source": [
    "df[df.isin([2])]"
   ]
  },
  {
   "cell_type": "code",
   "execution_count": null,
   "metadata": {},
   "outputs": [],
   "source": [
    "df.where(df<10)"
   ]
  },
  {
   "cell_type": "markdown",
   "metadata": {},
   "source": [
    "Taip pat galima pakeisti vertes kurios neatitiko filtro"
   ]
  },
  {
   "cell_type": "code",
   "execution_count": null,
   "metadata": {},
   "outputs": [],
   "source": [
    "df.where(df<9, -df)"
   ]
  },
  {
   "cell_type": "markdown",
   "metadata": {},
   "source": [
    "`where` gražina kopiją duomenų.\n",
    "Norint pakeisti df reikia arba priskirti išeigą arba naudoti opciją `inplace=True`\n",
    "\n",
    "### `mask`\n",
    "\n",
    "Priešingybė `where` metodui"
   ]
  },
  {
   "cell_type": "code",
   "execution_count": null,
   "metadata": {},
   "outputs": [],
   "source": [
    "df.mask(df<9)"
   ]
  },
  {
   "cell_type": "markdown",
   "metadata": {},
   "source": [
    "### `query`\n",
    "\n",
    "query metodas pasiskolintas iš SQL.\n",
    "\n",
    "Įgalina rašyti užklausas loginiais sakiniais."
   ]
  },
  {
   "cell_type": "code",
   "execution_count": null,
   "metadata": {},
   "outputs": [],
   "source": [
    "df.query('metai > 2018')"
   ]
  },
  {
   "cell_type": "code",
   "execution_count": null,
   "metadata": {},
   "outputs": [],
   "source": [
    "df.query('metai > 2018 and kondicija==\"baseline\"')"
   ]
  },
  {
   "cell_type": "markdown",
   "metadata": {},
   "source": [
    "## Manipuliacijos lentelių\n",
    "\n",
    "Sumažinti dimensijas"
   ]
  },
  {
   "cell_type": "code",
   "execution_count": null,
   "metadata": {},
   "outputs": [],
   "source": [
    "df = df.droplevel(level=1,axis=1)\n",
    "df"
   ]
  },
  {
   "cell_type": "markdown",
   "metadata": {},
   "source": [
    "pakeisti stulpelių vardus galime columns komanda"
   ]
  },
  {
   "cell_type": "code",
   "execution_count": null,
   "metadata": {},
   "outputs": [],
   "source": [
    "df.columns"
   ]
  },
  {
   "cell_type": "code",
   "execution_count": null,
   "metadata": {},
   "outputs": [],
   "source": [
    "df.columns = ['sub1min','sub1max','sub2min','sub2max','sub3min','sub3max',]\n",
    "df"
   ]
  },
  {
   "cell_type": "markdown",
   "metadata": {},
   "source": [
    "Lenteles performatuoti, ir dimensijas išskleisti ar sutraukti galima daugeliu būdu:"
   ]
  },
  {
   "cell_type": "code",
   "execution_count": null,
   "metadata": {},
   "outputs": [],
   "source": [
    "df.unstack(level=1)"
   ]
  },
  {
   "cell_type": "code",
   "execution_count": null,
   "metadata": {},
   "outputs": [],
   "source": [
    "df.unstack(level=0)"
   ]
  },
  {
   "cell_type": "code",
   "execution_count": null,
   "metadata": {},
   "outputs": [],
   "source": [
    "df.unstack().stack()  # Atgal sugrąžina stack"
   ]
  },
  {
   "cell_type": "code",
   "execution_count": null,
   "metadata": {},
   "outputs": [],
   "source": [
    "df_flat = df.reset_index()\n",
    "df_flat"
   ]
  },
  {
   "cell_type": "code",
   "execution_count": null,
   "metadata": {},
   "outputs": [],
   "source": [
    "df_flat.set_index(['kondicija', 'metai'])  # Sugrąžinti atgal"
   ]
  },
  {
   "cell_type": "markdown",
   "metadata": {},
   "source": [
    "Žmogui lentelė df yra lengvai skaitoma ir suprantama (plataus formato)"
   ]
  },
  {
   "cell_type": "code",
   "execution_count": null,
   "metadata": {},
   "outputs": [],
   "source": [
    "df"
   ]
  },
  {
   "cell_type": "code",
   "execution_count": null,
   "metadata": {},
   "outputs": [],
   "source": [
    "df_flat"
   ]
  },
  {
   "cell_type": "markdown",
   "metadata": {},
   "source": [
    "Bet rašyti kodą kompiuteriui tokioms lentelėms yra ne visada lengva.\n",
    "Metodas 'melt' pertvarko lentelę sutraukdamas indeksus ir stulpelius."
   ]
  },
  {
   "cell_type": "code",
   "execution_count": null,
   "metadata": {},
   "outputs": [],
   "source": [
    "df_flat.melt()"
   ]
  },
  {
   "cell_type": "markdown",
   "metadata": {},
   "source": [
    "`id_vars` nurodo stulpelius kurie turi likti ir ju pagrindu formuoja lentelę"
   ]
  },
  {
   "cell_type": "code",
   "execution_count": null,
   "metadata": {},
   "outputs": [],
   "source": [
    "df_flat.melt(id_vars=['kondicija'])"
   ]
  },
  {
   "cell_type": "code",
   "execution_count": null,
   "metadata": {},
   "outputs": [],
   "source": [
    "df_flat.melt(id_vars=['kondicija', 'metai'])"
   ]
  },
  {
   "cell_type": "markdown",
   "metadata": {},
   "source": [
    "## Sujungimas lentelių\n",
    "\n",
    "pandas turi funkcija pd.concat kuri panaši i np.concatenate.\n",
    "\n",
    "pd.concat(objs, axis=0, join='outer',\n",
    "          join_axes=None, ignore_index=False,\n",
    "          keys=None, levels=None, names=None, verify_integrity=False,\n",
    "          copy=True)"
   ]
  },
  {
   "cell_type": "code",
   "execution_count": null,
   "metadata": {},
   "outputs": [],
   "source": [
    "dfs1min = df[['sub1min']]\n",
    "dfs2min = df[['sub2min']]\n",
    "pd.concat([dfs1min, dfs2min])"
   ]
  },
  {
   "cell_type": "code",
   "execution_count": null,
   "metadata": {},
   "outputs": [],
   "source": [
    "pd.concat([df['sub1min'], df['sub2min']], axis=1)"
   ]
  },
  {
   "cell_type": "code",
   "execution_count": null,
   "metadata": {},
   "outputs": [],
   "source": [
    "pd.concat([dfs1min, dfs2min], ignore_index=True)"
   ]
  },
  {
   "cell_type": "code",
   "execution_count": null,
   "metadata": {},
   "outputs": [],
   "source": [
    "pd.concat([dfs1min, dfs2min], keys=['a', 'b'])"
   ]
  },
  {
   "cell_type": "markdown",
   "metadata": {},
   "source": [
    "append paprastesnis metodas"
   ]
  },
  {
   "cell_type": "code",
   "execution_count": null,
   "metadata": {},
   "outputs": [],
   "source": [
    "df['sub1min'].append(df['sub2min'])"
   ]
  },
  {
   "cell_type": "markdown",
   "metadata": {},
   "source": [
    "Dažnai tenka sujungti lenteles turinčias skirtingus ar tik dalį sutampančiu indeksų:"
   ]
  },
  {
   "cell_type": "code",
   "execution_count": null,
   "metadata": {},
   "outputs": [],
   "source": [
    "df1 = pd.DataFrame({'kursas': [1, 2, 3, 4],\n",
    "                    'paskaita': ['mat', 'bio', 'fiz', 'bio']})\n",
    "df1"
   ]
  },
  {
   "cell_type": "code",
   "execution_count": null,
   "metadata": {},
   "outputs": [],
   "source": [
    "df2 = pd.DataFrame({'paskaita': ['mat', 'bio', 'fiz'],\n",
    "                    'vieta': ['212', '242', '242']})\n",
    "df2"
   ]
  },
  {
   "cell_type": "code",
   "execution_count": null,
   "metadata": {},
   "outputs": [],
   "source": [
    "pd.concat([df1, df2], sort=True)"
   ]
  },
  {
   "cell_type": "markdown",
   "metadata": {},
   "source": [
    "Tik bendrą informaciją palieka join opcija\n",
    "(inner = intersection, outer = union, right = raktai iš kairės df, left = raktai is dešinės df)"
   ]
  },
  {
   "cell_type": "code",
   "execution_count": null,
   "metadata": {},
   "outputs": [],
   "source": [
    "pd.concat([df1, df2], join='inner')"
   ]
  },
  {
   "cell_type": "code",
   "execution_count": null,
   "metadata": {},
   "outputs": [],
   "source": [
    "df1.append(df2, sort=True)"
   ]
  },
  {
   "cell_type": "markdown",
   "metadata": {},
   "source": [
    "### merge\n",
    "\n",
    "Pandas gali sujungti lenteles atsižvelgdama į jų stulpelių vardus"
   ]
  },
  {
   "cell_type": "code",
   "execution_count": null,
   "metadata": {},
   "outputs": [],
   "source": [
    "pd.merge(df1, df2)"
   ]
  },
  {
   "cell_type": "markdown",
   "metadata": {},
   "source": [
    "`merge` gali sujungti dvi gana skirtingas lenteles.\n",
    "\n",
    "df.merge(dfA, # kita lentelė kurią bandom prijungti prie dfA\n",
    "         on='col1', # stulpelio vardas kurį naudosime prijungimui (gali\n",
    "         buti sąrašas stulepių)\n",
    "         suffixes=('_df','_dfA'), # priedas prie stulpelių vardų norint\n",
    "         atskirti iš kurios lentelės jis atsirado\n",
    "         how='inner', # sujungimo būdas (inner outer right left)\n",
    "         rigth_on='col1', # on stuleplis dešinėj lentelėj\n",
    "         left_on='col1', # on stulpelis kairėj\n",
    "         validate='one_to_one'\n",
    ")"
   ]
  },
  {
   "cell_type": "code",
   "execution_count": null,
   "metadata": {},
   "outputs": [],
   "source": [
    "dfs1min.merge(dfs2min, on=['metai', 'kondicija'], suffixes=('_df1','_df2'),\n",
    "how='outer')"
   ]
  },
  {
   "cell_type": "code",
   "execution_count": null,
   "metadata": {},
   "outputs": [],
   "source": [
    "df1=df[['sub1min']][:'baseline']\n",
    "df2=df[['sub2min']]\n",
    "df1.merge(df2, on=['metai', 'kondicija'], suffixes=('_df1','_df2'),\n",
    "how='left')"
   ]
  },
  {
   "cell_type": "code",
   "execution_count": null,
   "metadata": {},
   "outputs": [],
   "source": [
    "df1.merge(df2, on=['metai', 'kondicija'], suffixes=('_df1','_df2'),\n",
    "how='right')"
   ]
  },
  {
   "cell_type": "code",
   "execution_count": null,
   "metadata": {},
   "outputs": [],
   "source": [
    "df1.merge(df2, on=['metai', 'kondicija'], suffixes=('_df1','_df2'),\n",
    "how='inner')"
   ]
  },
  {
   "cell_type": "markdown",
   "metadata": {},
   "source": [
    "#### merge_ordered()"
   ]
  },
  {
   "cell_type": "code",
   "execution_count": null,
   "metadata": {},
   "outputs": [],
   "source": [
    "pd.merge_ordered(df1,df2, on=['metai', 'kondicija'], suffixes=('_df1','_df2'), how='outer')"
   ]
  },
  {
   "cell_type": "code",
   "execution_count": null,
   "metadata": {},
   "outputs": [],
   "source": [
    "pd.merge_ordered(df1,df2, on=['metai', 'kondicija'], suffixes=('_df1','_df2'), how='outer',fill_method='ffill')"
   ]
  },
  {
   "cell_type": "markdown",
   "metadata": {},
   "source": [
    "### pivot"
   ]
  },
  {
   "cell_type": "code",
   "execution_count": null,
   "metadata": {},
   "outputs": [],
   "source": [
    "df_flat"
   ]
  },
  {
   "cell_type": "code",
   "execution_count": null,
   "metadata": {},
   "outputs": [],
   "source": [
    "pd.pivot(data=df_flat,index='kondicija',columns='metai',\n",
    "values='sub1min')"
   ]
  },
  {
   "cell_type": "markdown",
   "metadata": {},
   "source": [
    "### pivot_table\n",
    "\n",
    "Performatuoja lentelę ir sutraukia naudodamas aggregate nurodyta metodą"
   ]
  },
  {
   "cell_type": "code",
   "execution_count": null,
   "metadata": {},
   "outputs": [],
   "source": [
    "pd.pivot_table(data=df_flat,index='kondicija',columns='metai',\n",
    "values='sub1min')"
   ]
  },
  {
   "cell_type": "code",
   "execution_count": null,
   "metadata": {},
   "outputs": [],
   "source": [
    "dfmelt = df_flat.melt(id_vars=['kondicija','metai'])\n",
    "dfmelt"
   ]
  },
  {
   "cell_type": "markdown",
   "metadata": {},
   "source": [
    "Numatytoje aggregate funkcija vidurkis"
   ]
  },
  {
   "cell_type": "code",
   "execution_count": null,
   "metadata": {},
   "outputs": [],
   "source": [
    "pd.pivot_table(data=dfmelt,index='kondicija',columns='metai',\n",
    "values='value')"
   ]
  },
  {
   "cell_type": "markdown",
   "metadata": {},
   "source": [
    "## [Duomenų importavimas](https://pandas.pydata.org/pandas-docs/stable/user_guide/io.html)"
   ]
  },
  {
   "cell_type": "code",
   "execution_count": null,
   "metadata": {},
   "outputs": [],
   "source": [
    "def find_files(directory, pattern):\n",
    "    files = []\n",
    "    p = pathlib.Path(directory).glob(pattern)\n",
    "    files = [x for x in p]\n",
    "    return files\n",
    "\n",
    "\n",
    "directory = '/home/aleks/Documents/bioa/data/'\n",
    "pattern = '**/temp.csv'\n",
    "files = find_files(directory, pattern)\n",
    "files"
   ]
  },
  {
   "cell_type": "markdown",
   "metadata": {},
   "source": [
    "Pandas turi daugybę metodų importuoti duomenis iš skirtingų duomenų\n",
    "tipų.\n",
    "\n",
    "`pd.read_csv` skirtas importuoti csv failus"
   ]
  },
  {
   "cell_type": "code",
   "execution_count": null,
   "metadata": {},
   "outputs": [],
   "source": [
    "dfCSV = pd.read_csv(files[0], skiprows=0)\n",
    "dfCSV"
   ]
  },
  {
   "cell_type": "markdown",
   "metadata": {},
   "source": [
    "Dažnai importuoti failai yra dideli ir mes nenorime pavaizduoti visos\n",
    "informacijos.\n",
    "Norint pavaizduoti pirmas 5 eilutes naudojame komandą `head`"
   ]
  },
  {
   "cell_type": "code",
   "execution_count": null,
   "metadata": {},
   "outputs": [],
   "source": [
    "dfCSV.head()"
   ]
  },
  {
   "cell_type": "markdown",
   "metadata": {},
   "source": [
    "Kitą eilučių skaičių"
   ]
  },
  {
   "cell_type": "code",
   "execution_count": null,
   "metadata": {},
   "outputs": [],
   "source": [
    "dfCSV.head(2)"
   ]
  },
  {
   "cell_type": "markdown",
   "metadata": {},
   "source": [
    "Panašiai norint pamatyti paskutines 5 eilutes"
   ]
  },
  {
   "cell_type": "code",
   "execution_count": null,
   "metadata": {},
   "outputs": [],
   "source": [
    "dfCSV.tail()"
   ]
  },
  {
   "cell_type": "markdown",
   "metadata": {},
   "source": [
    "Grįžtam prie `read_csv` metodo.\n",
    "Duomenys dažnai būna suformatuoti unikaliai ir reikia pritaikyti\n",
    "naudojamas funkcijas kiekvienam atvejui individualiai."
   ]
  },
  {
   "cell_type": "code",
   "execution_count": null,
   "metadata": {},
   "outputs": [],
   "source": [
    "pd.read_csv?"
   ]
  },
  {
   "cell_type": "markdown",
   "metadata": {},
   "source": [
    "output = pd.read_csv(filename or path , additional options)\n",
    "\n",
    "- sep --- atskiriamasis elementas, numatytasis yra , (comma separated values)\n",
    "- header: eilutę naudot kaip stulpelių vardus\n",
    "- names: stulpelių vardai\n",
    "- skiprows: praleisti x eilučių prieš importuojant\n",
    "\n",
    "Importavus duomenis galime apžvelgti įvairiais metodais"
   ]
  },
  {
   "cell_type": "code",
   "execution_count": null,
   "metadata": {},
   "outputs": [],
   "source": [
    "dfCSV.describe()"
   ]
  },
  {
   "cell_type": "markdown",
   "metadata": {},
   "source": [
    "Galime pasirinkti atsitiktinę imtį:\n",
    "\n",
    "- replacement: False tą pačią eilutę gražins tik kartą\n",
    "- weights: vienodi visiems jei nenustatyta\n",
    "- axis\n",
    "- random_state"
   ]
  },
  {
   "cell_type": "code",
   "execution_count": null,
   "metadata": {},
   "outputs": [],
   "source": [
    "dfCSV.sample(n=3, replace=False)"
   ]
  },
  {
   "cell_type": "markdown",
   "metadata": {},
   "source": [
    "Kita informacija apie lentelę"
   ]
  },
  {
   "cell_type": "code",
   "execution_count": null,
   "metadata": {},
   "outputs": [],
   "source": [
    "dfCSV.info()"
   ]
  },
  {
   "cell_type": "code",
   "execution_count": null,
   "metadata": {},
   "outputs": [],
   "source": [
    "dfCSV.shape"
   ]
  },
  {
   "cell_type": "markdown",
   "metadata": {},
   "source": [
    "Norint pasiekti vertes"
   ]
  },
  {
   "cell_type": "code",
   "execution_count": null,
   "metadata": {},
   "outputs": [],
   "source": [
    "dfCSV.values"
   ]
  },
  {
   "cell_type": "code",
   "execution_count": null,
   "metadata": {},
   "outputs": [],
   "source": [
    "dfCSV.columns"
   ]
  },
  {
   "cell_type": "code",
   "execution_count": null,
   "metadata": {},
   "outputs": [],
   "source": [
    "dfCSV.index"
   ]
  },
  {
   "cell_type": "markdown",
   "metadata": {},
   "source": [
    "Surūšiuoti indeksą"
   ]
  },
  {
   "cell_type": "code",
   "execution_count": null,
   "metadata": {},
   "outputs": [],
   "source": [
    "df.sort_index(level=1,ascending=True)"
   ]
  },
  {
   "cell_type": "markdown",
   "metadata": {},
   "source": [
    "Surūšiuoti vertes"
   ]
  },
  {
   "cell_type": "code",
   "execution_count": null,
   "metadata": {},
   "outputs": [],
   "source": [
    "dfCSV.sort_values(['Date'], ascending=True)"
   ]
  },
  {
   "cell_type": "markdown",
   "metadata": {},
   "source": [
    "### Datos formatavimas\n",
    "\n",
    "Kodas| Reikšmė\n",
    "---|---\n",
    "%Y| Metai 1999\n",
    "%m| Mėnuo 03\n",
    "%d| Diena 01\n",
    "%H | Valanda (24)\n",
    "%M | Minutė 09\n",
    "%S | Sekundė 05"
   ]
  },
  {
   "cell_type": "code",
   "execution_count": null,
   "metadata": {},
   "outputs": [],
   "source": [
    "dfCSV['Date']=pd.to_datetime(dfCSV['Date'], format='%Y-%m-%d')"
   ]
  },
  {
   "cell_type": "code",
   "execution_count": null,
   "metadata": {},
   "outputs": [],
   "source": [
    "dfCSV.info()"
   ]
  },
  {
   "cell_type": "markdown",
   "metadata": {},
   "source": [
    "### `Groupby`\n",
    "\n",
    "Duomenis galima sugrupuoti `groupby` metodu. Panašiai kaip ir\n",
    "pivot_table.\n",
    "Šis metodas veikia trimis etapais:\n",
    "\n",
    "- Padalinimas nurodytais parametrais\n",
    "- Funkcijos pritaikymas\n",
    "- Surinkimas atgal"
   ]
  },
  {
   "cell_type": "code",
   "execution_count": null,
   "metadata": {},
   "outputs": [],
   "source": [
    "dfCSV.groupby('Source').mean()"
   ]
  },
  {
   "cell_type": "code",
   "execution_count": null,
   "metadata": {},
   "outputs": [],
   "source": [
    "dfCSV.groupby('Source').count()"
   ]
  },
  {
   "cell_type": "code",
   "execution_count": null,
   "metadata": {},
   "outputs": [],
   "source": [
    "dfCSV.groupby('Source').describe()"
   ]
  },
  {
   "cell_type": "markdown",
   "metadata": {},
   "source": [
    "Groupby su multiIndex"
   ]
  },
  {
   "cell_type": "code",
   "execution_count": null,
   "metadata": {},
   "outputs": [],
   "source": [
    "df"
   ]
  },
  {
   "cell_type": "code",
   "execution_count": null,
   "metadata": {},
   "outputs": [],
   "source": [
    "df.groupby(level=0).mean()"
   ]
  },
  {
   "cell_type": "code",
   "execution_count": null,
   "metadata": {},
   "outputs": [],
   "source": [
    "df.groupby(level=1).mean()"
   ]
  },
  {
   "cell_type": "code",
   "execution_count": null,
   "metadata": {},
   "outputs": [],
   "source": [
    "df.groupby(level=0, axis=1).mean()"
   ]
  },
  {
   "cell_type": "markdown",
   "metadata": {},
   "source": [
    "Grupės pasirinkimas"
   ]
  },
  {
   "cell_type": "code",
   "execution_count": null,
   "metadata": {},
   "outputs": [],
   "source": [
    "dfCSV.groupby('Source').get_group('GCAG').head()"
   ]
  },
  {
   "cell_type": "markdown",
   "metadata": {},
   "source": [
    "### Aggregate\n",
    "\n",
    "`aggregate` funkcija kartu su `groupby` leidžia pritaikyti visas\n",
    "funkcijas."
   ]
  },
  {
   "cell_type": "code",
   "execution_count": null,
   "metadata": {},
   "outputs": [],
   "source": [
    "dfCSV.groupby('Source').aggregate([min, np.mean, 'count'])"
   ]
  },
  {
   "cell_type": "markdown",
   "metadata": {},
   "source": [
    "Skirtingiems stulpeliams galia pritaikyti skirtingas funkcijas  su žodynu"
   ]
  },
  {
   "cell_type": "code",
   "execution_count": null,
   "metadata": {},
   "outputs": [],
   "source": [
    "dfCSV.head()"
   ]
  },
  {
   "cell_type": "code",
   "execution_count": null,
   "metadata": {},
   "outputs": [],
   "source": [
    "dfCSV.groupby('Source').aggregate({'Date': min, 'Mean': 'mean'})"
   ]
  },
  {
   "cell_type": "markdown",
   "metadata": {},
   "source": [
    "### Iteravimas per duomenis\n",
    "\n",
    "#### iterrows"
   ]
  },
  {
   "cell_type": "code",
   "execution_count": null,
   "metadata": {},
   "outputs": [],
   "source": [
    "for i, row in dfCSV.head(5).iterrows():\n",
    "    print(row['Date'])"
   ]
  },
  {
   "cell_type": "markdown",
   "metadata": {},
   "source": [
    "#### itertuples"
   ]
  },
  {
   "cell_type": "code",
   "execution_count": null,
   "metadata": {},
   "outputs": [],
   "source": [
    "for namedtuplerow in dfCSV.head(5).itertuples():\n",
    "  print(namedtuplerow.Date)"
   ]
  },
  {
   "cell_type": "markdown",
   "metadata": {},
   "source": [
    "  \n",
    "#### Apply\n",
    "\n",
    "Kiekvienai eilutei pritaiko funkciją"
   ]
  },
  {
   "cell_type": "code",
   "execution_count": null,
   "metadata": {},
   "outputs": [],
   "source": [
    "dfCSV.apply(np.max, axis=0)"
   ]
  },
  {
   "cell_type": "markdown",
   "metadata": {},
   "source": [
    "## [Grafikai](https://pandas.pydata.org/pandas-docs/stable/user_guide/visualization.html)\n",
    "\n",
    "Pandas grafikus galima koreguoti matplotlib pakuotės komandomis."
   ]
  },
  {
   "cell_type": "code",
   "execution_count": null,
   "metadata": {},
   "outputs": [],
   "source": [
    "dfCSV.pivot(index='Date', columns='Source',\n",
    "            values='Mean').plot(figsize=(8, 8));"
   ]
  },
  {
   "cell_type": "markdown",
   "metadata": {},
   "source": [
    "Raktažodis `kind` lemia grafiko tipą"
   ]
  },
  {
   "cell_type": "code",
   "execution_count": null,
   "metadata": {},
   "outputs": [],
   "source": [
    "dfCSV.pivot(index='Date', columns='Source', values='Mean').plot(\n",
    "    figsize=(5, 5), kind='box');"
   ]
  },
  {
   "cell_type": "code",
   "execution_count": null,
   "metadata": {},
   "outputs": [],
   "source": [
    "dfCSV.pivot(index='Date', columns='Source', values='Mean').plot(\n",
    "    figsize=(10, 10), kind='hist', alpha=0.5, stacked=False);"
   ]
  },
  {
   "cell_type": "code",
   "execution_count": null,
   "metadata": {},
   "outputs": [],
   "source": [
    "dfCSV.pivot(index='Date', columns='Source', values='Mean').plot(\n",
    "    figsize=(10, 10), subplots=True, layout=(2, 1), sharex=True);"
   ]
  },
  {
   "cell_type": "markdown",
   "metadata": {},
   "source": [
    "## [Stilius](https://pandas.pydata.org/pandas-docs/stable/user_guide/style.html)\n",
    "\n",
    "Lentelių ir kitų pandas elementų stilių/vizualizaciją galima koreguoti.\n",
    "\n",
    "Kai spausdinam ilgą lentelę pandas pavaizduoja tik dalį.\n",
    "Maksimalus skaičius eilučių kurias dar vaizduoja pilnai nustatomas `max_rows` opcija."
   ]
  },
  {
   "cell_type": "code",
   "execution_count": null,
   "metadata": {},
   "outputs": [],
   "source": [
    "mm = pd.options.display.max_rows\n",
    "mm"
   ]
  },
  {
   "cell_type": "code",
   "execution_count": null,
   "metadata": {},
   "outputs": [],
   "source": [
    "pd.Series(np.arange(mm))"
   ]
  },
  {
   "cell_type": "markdown",
   "metadata": {},
   "source": [
    "Dar vieno elemento pridėjimas pakeičia vizualizaciją"
   ]
  },
  {
   "cell_type": "code",
   "execution_count": null,
   "metadata": {},
   "outputs": [],
   "source": [
    "pd.Series(np.arange(mm+1))"
   ]
  },
  {
   "cell_type": "markdown",
   "metadata": {},
   "source": [
    "Parametrus galime keisti tiesiogiai arba su metodais:\n",
    "get_option, set_option, reset_option\n",
    "\n",
    "Visus parametrus galime matyti"
   ]
  },
  {
   "cell_type": "code",
   "execution_count": null,
   "metadata": {},
   "outputs": [],
   "source": [
    "pd.describe_option()"
   ]
  },
  {
   "cell_type": "markdown",
   "metadata": {},
   "source": [
    "Parametrus galime filtruoti su regex"
   ]
  },
  {
   "cell_type": "code",
   "execution_count": null,
   "metadata": {},
   "outputs": [],
   "source": [
    "pd.describe_option('^display*')"
   ]
  },
  {
   "cell_type": "markdown",
   "metadata": {},
   "source": [
    "Norint kad parametrai išliktu juos galime surašyti į ipython starto failą (Linux, ~/.ipython/profile_default/startup)."
   ]
  },
  {
   "cell_type": "code",
   "execution_count": null,
   "metadata": {},
   "outputs": [],
   "source": [
    "dfCSV"
   ]
  },
  {
   "cell_type": "markdown",
   "metadata": {},
   "source": [
    "Lentelės vaizdą taip pat galime pakeisti\n",
    "\n",
    "Pvz visas vertes mažesnes už 6 galime pavaizduoti raudona spalva."
   ]
  },
  {
   "cell_type": "code",
   "execution_count": null,
   "metadata": {},
   "outputs": [],
   "source": [
    "def color_red(val):\n",
    "    color = 'red' if val < 6 else 'black'\n",
    "    return 'color: %s' % color\n",
    "\n",
    "\n",
    "s = df.style.applymap(color_red)\n",
    "s"
   ]
  },
  {
   "cell_type": "markdown",
   "metadata": {},
   "source": [
    "Arba"
   ]
  },
  {
   "cell_type": "code",
   "execution_count": null,
   "metadata": {},
   "outputs": [],
   "source": [
    "def highlight_max(s):\n",
    "    is_max = s == s.max()\n",
    "    return ['background-color: yellow' if v else '' for v in is_max]\n",
    "\n",
    "\n",
    "df.style.apply(highlight_max)"
   ]
  },
  {
   "cell_type": "markdown",
   "metadata": {},
   "source": [
    "Lab work:"
   ]
  },
  {
   "cell_type": "markdown",
   "metadata": {},
   "source": [
    "- documentation\n",
    "- datacamp"
   ]
  },
  {
   "cell_type": "markdown",
   "metadata": {},
   "source": [
    "![pandas](../images/datacamp.png)"
   ]
  },
  {
   "cell_type": "markdown",
   "metadata": {},
   "source": [
    "Skill track | Course\n",
    "---|---\n",
    "Importing & Cleaning Data with Python | Introduction to importing...\n",
    "Data Manipulation with Python | Data manipulation with pandas"
   ]
  },
  {
   "cell_type": "code",
   "execution_count": null,
   "metadata": {},
   "outputs": [],
   "source": []
  }
 ],
 "metadata": {
  "jupytext": {
   "cell_metadata_filter": "-all",
   "encoding": "# -*- coding: utf-8 -*-",
   "formats": "ipynb,py:light,md:myst"
  },
  "kernelspec": {
   "display_name": "Python 3",
   "language": "python",
   "name": "python3"
  },
  "language_info": {
   "codemirror_mode": {
    "name": "ipython",
    "version": 3
   },
   "file_extension": ".py",
   "mimetype": "text/x-python",
   "name": "python",
   "nbconvert_exporter": "python",
   "pygments_lexer": "ipython3",
   "version": "3.8.3"
  }
 },
 "nbformat": 4,
 "nbformat_minor": 4
}
