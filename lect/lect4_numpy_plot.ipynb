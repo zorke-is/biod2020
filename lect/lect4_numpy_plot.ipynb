{
 "cells": [
  {
   "cell_type": "markdown",
   "metadata": {},
   "source": [
    "# Duomenų valdymas ir vaizdinimas\n",
    "\n",
    "2020-10-13\n",
    "\n",
    "- numpy\n",
    "- matplotlib\n",
    "- K1"
   ]
  },
  {
   "cell_type": "markdown",
   "metadata": {},
   "source": [
    "---\n",
    "- [NumPy](https://numpy.org/)\n",
    "\n",
    "Tai fundamentali duomenų analizės pakuotė susidedanti iš:\n",
    "\n",
    "- N-dimensių masyvų objektų.\n",
    "- Masyvų  operacijų (broadcasting).\n",
    "- Įrankių integruoti C/C++ ir Fortran programavimo kalbų kodą.\n",
    "- Įvairų metodų duomenų analizei (algebra, FFT, atsitiktinių skaičių\n",
    "  generavimas ir t.t.)\n",
    "---\n",
    "- [pandas](https://pandas.pydata.org/)\n",
    "\n",
    "`pandas` skirta greitam duomenų manipuliavimui ir apžvalgai.\n",
    "Sukurta SAS, STATA, SQL, R data.frame pavyzdžiu naudojant python ir numpy.\n",
    "---\n",
    "- [scipy](https://www.scipy.org/)\n",
    "\n",
    "Python ekosistema atviro kodo programų skirtų duomenų analizei.\n",
    "Pagrindinės pakuotės: NumPy, Matplotlib, IPython, SymPy, pandas, SciPy\n",
    "biblioteka"
   ]
  },
  {
   "cell_type": "markdown",
   "metadata": {},
   "source": [
    "## Numpy\n",
    "\n",
    "Bibliotekų importavimas"
   ]
  },
  {
   "cell_type": "code",
   "execution_count": null,
   "metadata": {},
   "outputs": [],
   "source": [
    "import pathlib\n",
    "import re\n",
    "import numpy as np\n",
    "import matplotlib.pyplot as plt"
   ]
  },
  {
   "cell_type": "markdown",
   "metadata": {},
   "source": [
    "NumPy (Numerical Python) įgalina python programavimo kalbą efektyviai laikyti\n",
    "ir manipuliuoti dideliais duomenų masyvais.\n",
    "Tai pati svarbiausia biblioteka duomenų analizėje!\n",
    "\n",
    "Siekdama efektyvumo NumPy leidžia masyvuose laikyti tik vieno tipo\n",
    "kintamuosius."
   ]
  },
  {
   "cell_type": "code",
   "execution_count": null,
   "metadata": {},
   "outputs": [],
   "source": [
    "simple_array = [1, 4, 2, 5, 3]\n",
    "simple_array"
   ]
  },
  {
   "cell_type": "markdown",
   "metadata": {},
   "source": [
    "Standartinius sąrašus galime lengvai paversti į NumPy masyvą:"
   ]
  },
  {
   "cell_type": "code",
   "execution_count": null,
   "metadata": {},
   "outputs": [],
   "source": [
    "simple_array = np.array(simple_array)\n",
    "simple_array"
   ]
  },
  {
   "cell_type": "markdown",
   "metadata": {},
   "source": [
    "Jei sąraše yra skirtingi duomenų tipai tai jie  paverčiami į sudėtingiausią\n",
    "tipą esanti sąraše.\n",
    "\n",
    "Pvz:\n",
    "\n",
    "Visi elementai paverčiami į `float`"
   ]
  },
  {
   "cell_type": "code",
   "execution_count": null,
   "metadata": {},
   "outputs": [],
   "source": [
    "np.array([3.14, 4, 2, 3])"
   ]
  },
  {
   "cell_type": "markdown",
   "metadata": {},
   "source": [
    "Visi elementai paverčiami į tekstą"
   ]
  },
  {
   "cell_type": "code",
   "execution_count": null,
   "metadata": {},
   "outputs": [],
   "source": [
    "np.array([3.14, 4, 2, 3, 't'])"
   ]
  },
  {
   "cell_type": "markdown",
   "metadata": {},
   "source": [
    "Tipą galime nurodyti kūrimo metu"
   ]
  },
  {
   "cell_type": "code",
   "execution_count": null,
   "metadata": {},
   "outputs": [],
   "source": [
    "np.array([1, 2, 3, 4], dtype='float32')"
   ]
  },
  {
   "cell_type": "markdown",
   "metadata": {},
   "source": [
    "Teksto elementų paversti skaičiais negalime"
   ]
  },
  {
   "cell_type": "code",
   "execution_count": null,
   "metadata": {},
   "outputs": [],
   "source": [
    "np.array([1, 't', 3, 4], dtype='float32')"
   ]
  },
  {
   "cell_type": "markdown",
   "metadata": {},
   "source": [
    "Daugiadimensiai masyvai susikuria iš daugiadimensių sąrašų (nested)"
   ]
  },
  {
   "cell_type": "code",
   "execution_count": null,
   "metadata": {},
   "outputs": [],
   "source": [
    "listA = [[4, 5], [3, 2]]\n",
    "np.array(listA)"
   ]
  },
  {
   "cell_type": "markdown",
   "metadata": {},
   "source": [
    "### Dažnai pasitaikantys metodai\n",
    "\n",
    "Tuščias masyvas 3x3 dimensijų (vertės lieka tokios kokios prieš tai buvo\n",
    "išskirtose atminties blokuose)"
   ]
  },
  {
   "cell_type": "code",
   "execution_count": null,
   "metadata": {},
   "outputs": [],
   "source": [
    "np.empty((3, 3), dtype=float)"
   ]
  },
  {
   "cell_type": "markdown",
   "metadata": {},
   "source": [
    "10 elementų nuliai:"
   ]
  },
  {
   "cell_type": "code",
   "execution_count": null,
   "metadata": {},
   "outputs": [],
   "source": [
    "np.zeros(10, dtype=int)"
   ]
  },
  {
   "cell_type": "markdown",
   "metadata": {},
   "source": [
    "3x5 float vienetų masyvas"
   ]
  },
  {
   "cell_type": "code",
   "execution_count": null,
   "metadata": {},
   "outputs": [],
   "source": [
    "np.ones((3, 5), dtype=float)"
   ]
  },
  {
   "cell_type": "markdown",
   "metadata": {},
   "source": [
    "2d masyvas su vienetais pagrindinėje įstrižainėje"
   ]
  },
  {
   "cell_type": "code",
   "execution_count": null,
   "metadata": {},
   "outputs": [],
   "source": [
    "np.identity(n=5)"
   ]
  },
  {
   "cell_type": "markdown",
   "metadata": {},
   "source": [
    "Nurodytoje įstrižainėje"
   ]
  },
  {
   "cell_type": "code",
   "execution_count": null,
   "metadata": {},
   "outputs": [],
   "source": [
    "np.eye(N=3,  # rows\n",
    "       M=5,  # columns\n",
    "       k=1   # Index of the diagonal (main diagonal 0 is default)\n",
    "       )"
   ]
  },
  {
   "cell_type": "markdown",
   "metadata": {},
   "source": [
    "3x5 float masyvas su specifine reikšme"
   ]
  },
  {
   "cell_type": "code",
   "execution_count": null,
   "metadata": {},
   "outputs": [],
   "source": [
    "np.full((3, 5), 3.14)"
   ]
  },
  {
   "cell_type": "markdown",
   "metadata": {},
   "source": [
    "Masyvas užpildytas nurodytomis vertėmis"
   ]
  },
  {
   "cell_type": "code",
   "execution_count": null,
   "metadata": {},
   "outputs": [],
   "source": [
    "np.full((3, 5), [3.14, 2, 3, 4, 5])"
   ]
  },
  {
   "cell_type": "markdown",
   "metadata": {},
   "source": [
    "#### `np.arange`\n",
    "\n",
    "Python dažnai naudojamas metodas `range` turi porą alternatyvų NumPy\n",
    "pakuotėje\n",
    "\n",
    "`range` -> `arange(start,end,step)`"
   ]
  },
  {
   "cell_type": "code",
   "execution_count": null,
   "metadata": {},
   "outputs": [],
   "source": [
    "np.arange(0, 20, 2)"
   ]
  },
  {
   "cell_type": "markdown",
   "metadata": {},
   "source": [
    "#### `np.linspace`"
   ]
  },
  {
   "cell_type": "code",
   "execution_count": null,
   "metadata": {},
   "outputs": [],
   "source": [
    "np_array, step = np.linspace(0, # pradinis taškas\n",
    "1, # pabaiga\n",
    "5, # taškų skaičius\n",
    "endpoint=True, # Paskutinio elemento įtraukimas\n",
    "retstep=True, # žingsnis\n",
    "dtype=float) # duomenų tipas\n",
    "\n",
    "step, np_array"
   ]
  },
  {
   "cell_type": "code",
   "execution_count": null,
   "metadata": {},
   "outputs": [],
   "source": [
    "np_array, step = np.linspace(\n",
    "    0, 1, 5, endpoint=False, retstep=True, dtype=float)\n",
    "np_array"
   ]
  },
  {
   "cell_type": "code",
   "execution_count": null,
   "metadata": {},
   "outputs": [],
   "source": [
    "N = 8\n",
    "y = np.zeros(N)\n",
    "x1 = np.linspace(0, 10, N, endpoint=True)\n",
    "x2 = np.linspace(0, 10, N, endpoint=False)\n",
    "plt.plot(x1, y, 'o', label='endpoint=True')\n",
    "plt.plot(x2, y + 0.5, 'o', label='endpoint=False')\n",
    "plt.ylim([-0.5, 1])\n",
    "plt.title('Endpoint effect')\n",
    "plt.legend();"
   ]
  },
  {
   "cell_type": "markdown",
   "metadata": {},
   "source": [
    "Geometrinė progresija nuo 1 iki 10, vienodais tarpais"
   ]
  },
  {
   "cell_type": "code",
   "execution_count": null,
   "metadata": {},
   "outputs": [],
   "source": [
    "x = np.geomspace(1, 10, num=10, endpoint=True, dtype=float)\n",
    "plt.plot(x);"
   ]
  },
  {
   "cell_type": "markdown",
   "metadata": {},
   "source": [
    "Logaritminė skaičių seka (gali būti skirtinga bazė)"
   ]
  },
  {
   "cell_type": "code",
   "execution_count": null,
   "metadata": {},
   "outputs": [],
   "source": [
    "x = np.logspace(1, 10, 10, endpoint=True, base=10.0, dtype=float)\n",
    "plt.plot(x);"
   ]
  },
  {
   "cell_type": "markdown",
   "metadata": {},
   "source": [
    "### Atsitiktiniai skaičiai\n",
    "\n",
    "NumPy turi metodus generuoti atsitiktinius skaičius.\n",
    "\n",
    "Pati svarbiausia dalis dirbant su atsitiktiniais skaičiais yra\n",
    "nustatymas atsitiktinio generavimo pradmens (seed).\n",
    "Kiekvieną kartą nustačius naujai pradmenį tie patys atsitiktiniai skaičiai yra sugeneruojami.\n",
    "Tokiu būdu mes galime atkartoti \"atsitiktinius\" eksperimentus.\n",
    "\n",
    "Dažniausiai naudojama pradmens nustatymo ir atsitiktinių skaičių\n",
    "generavimo sintaksė:"
   ]
  },
  {
   "cell_type": "code",
   "execution_count": null,
   "metadata": {},
   "outputs": [],
   "source": [
    "np.random.seed(1)\n",
    "np.random.random()"
   ]
  },
  {
   "cell_type": "code",
   "execution_count": null,
   "metadata": {},
   "outputs": [],
   "source": [
    "np.random.random()"
   ]
  },
  {
   "cell_type": "code",
   "execution_count": null,
   "metadata": {},
   "outputs": [],
   "source": [
    "np.random.seed(1)\n",
    "np.random.random()"
   ]
  },
  {
   "cell_type": "code",
   "execution_count": null,
   "metadata": {},
   "outputs": [],
   "source": [
    "np.random.random()"
   ]
  },
  {
   "cell_type": "markdown",
   "metadata": {},
   "source": [
    "Šio metodo sintaksė panaši į random pakuotės naudojamą sintaksę"
   ]
  },
  {
   "cell_type": "code",
   "execution_count": null,
   "metadata": {},
   "outputs": [],
   "source": [
    "import random\n",
    "random.seed(1)\n",
    "random.random()"
   ]
  },
  {
   "cell_type": "markdown",
   "metadata": {},
   "source": [
    "NumPy `seed` funkcija įtakoja tik NumPy ir ją naudojančias pakuotes!\n",
    "Globalų pradmenį galima nustatyti random pakuotės pagalba.\n",
    "\n",
    "Nustatyti atsitiktinių skaičių kūrimo pradmenis ir generuoti\n",
    "atsitiktinius skaičius galima ir per objektus:\n",
    "\n",
    "Pirmiausiai apsibrėžiam naują generatoriaus objektą kuriame nurodome pradmenį\n",
    "generuojančius parametrus ir tada naudojame sukurtą objektą `rng` šaukdami jo metodus."
   ]
  },
  {
   "cell_type": "code",
   "execution_count": null,
   "metadata": {},
   "outputs": [],
   "source": [
    "rng = np.random.default_rng(seed=1)\n",
    "rng.random()"
   ]
  },
  {
   "cell_type": "code",
   "execution_count": null,
   "metadata": {},
   "outputs": [],
   "source": [
    "rng = np.random.default_rng(seed=1)\n",
    "rng.random()"
   ]
  },
  {
   "cell_type": "code",
   "execution_count": null,
   "metadata": {},
   "outputs": [],
   "source": [
    "np.random?"
   ]
  },
  {
   "cell_type": "markdown",
   "metadata": {},
   "source": [
    "#### Metodai generuojantys atsitiktinių skaičių sekas\n",
    "\n",
    "Atsitiktinis float skaičius intervale [0.0, 1.0) iš tolygaus skirstinio:"
   ]
  },
  {
   "cell_type": "code",
   "execution_count": null,
   "metadata": {},
   "outputs": [],
   "source": [
    "rng.random(size=4)"
   ]
  },
  {
   "cell_type": "code",
   "execution_count": null,
   "metadata": {},
   "outputs": [],
   "source": [
    "rng.random()"
   ]
  },
  {
   "cell_type": "markdown",
   "metadata": {},
   "source": [
    "Sumaišyti sąrašą galime"
   ]
  },
  {
   "cell_type": "code",
   "execution_count": null,
   "metadata": {},
   "outputs": [],
   "source": [
    "listA = np.arange(10)\n",
    "listA"
   ]
  },
  {
   "cell_type": "code",
   "execution_count": null,
   "metadata": {},
   "outputs": [],
   "source": [
    "rng.shuffle(listA)\n",
    "listA"
   ]
  },
  {
   "cell_type": "markdown",
   "metadata": {},
   "source": [
    "Atsitiktinai pasirinkti elementą iš sąrašo (np.choice?)"
   ]
  },
  {
   "cell_type": "code",
   "execution_count": null,
   "metadata": {},
   "outputs": [],
   "source": [
    "rng.choice(listA)"
   ]
  },
  {
   "cell_type": "markdown",
   "metadata": {},
   "source": [
    "Atsitiktinis sveikas skaičius"
   ]
  },
  {
   "cell_type": "code",
   "execution_count": null,
   "metadata": {},
   "outputs": [],
   "source": [
    "np.random.randint(8)"
   ]
  },
  {
   "cell_type": "markdown",
   "metadata": {},
   "source": [
    "Atsitiktinis skaičius iš normalaus skirstinio"
   ]
  },
  {
   "cell_type": "code",
   "execution_count": null,
   "metadata": {},
   "outputs": [],
   "source": [
    "rng.normal()"
   ]
  },
  {
   "cell_type": "markdown",
   "metadata": {},
   "source": [
    "Atsitiktinis skaičius iš Puasono skirstinio"
   ]
  },
  {
   "cell_type": "code",
   "execution_count": null,
   "metadata": {},
   "outputs": [],
   "source": [
    "rng.poisson()"
   ]
  },
  {
   "cell_type": "markdown",
   "metadata": {},
   "source": [
    "### Informacija apie masyvus\n",
    "\n",
    "Sukūrus masyvus ar importavus duomenis pirmiausiai norime gauti\n",
    "informaciją apie juos"
   ]
  },
  {
   "cell_type": "code",
   "execution_count": null,
   "metadata": {},
   "outputs": [],
   "source": [
    "x1 = np.arange(12)\n",
    "x1"
   ]
  },
  {
   "cell_type": "code",
   "execution_count": null,
   "metadata": {},
   "outputs": [],
   "source": [
    "print(\"x1 dimensions: \", x1.ndim)"
   ]
  },
  {
   "cell_type": "code",
   "execution_count": null,
   "metadata": {},
   "outputs": [],
   "source": [
    "print(\"x1 shape:\", x1.shape)"
   ]
  },
  {
   "cell_type": "code",
   "execution_count": null,
   "metadata": {},
   "outputs": [],
   "source": [
    "print(\"x1 size:\", x1.size)"
   ]
  },
  {
   "cell_type": "code",
   "execution_count": null,
   "metadata": {},
   "outputs": [],
   "source": [
    "print(\"x1 type:\", x1.dtype)"
   ]
  },
  {
   "cell_type": "code",
   "execution_count": null,
   "metadata": {},
   "outputs": [],
   "source": [
    "print(\"x1 size in bits of every element:\", x1.itemsize)"
   ]
  },
  {
   "cell_type": "code",
   "execution_count": null,
   "metadata": {},
   "outputs": [],
   "source": [
    "print(\"total size of array:\", x1.nbytes)"
   ]
  },
  {
   "cell_type": "markdown",
   "metadata": {},
   "source": [
    "### Performatavimas masyvo dimensijų"
   ]
  },
  {
   "cell_type": "code",
   "execution_count": null,
   "metadata": {},
   "outputs": [],
   "source": [
    "x2 = np.arange(0, 12)\n",
    "np.reshape(a=x2,                \n",
    "           newshape=[2, 6])     # naujos dimensijos"
   ]
  },
  {
   "cell_type": "markdown",
   "metadata": {},
   "source": [
    "Tą patį galima padaryt vienoje eilutėje sujungus abi komandas tašku"
   ]
  },
  {
   "cell_type": "code",
   "execution_count": null,
   "metadata": {},
   "outputs": [],
   "source": [
    "x2 = np.arange(0, 12).reshape(2, 6)\n",
    "x2"
   ]
  },
  {
   "cell_type": "code",
   "execution_count": null,
   "metadata": {},
   "outputs": [],
   "source": [
    "print(\"x2 dimensions: \", x2.ndim)"
   ]
  },
  {
   "cell_type": "code",
   "execution_count": null,
   "metadata": {},
   "outputs": [],
   "source": [
    "print(\"x2 shape:\", x2.shape)"
   ]
  },
  {
   "cell_type": "code",
   "execution_count": null,
   "metadata": {},
   "outputs": [],
   "source": [
    "print(\"x2 size:\", x2.size)"
   ]
  },
  {
   "cell_type": "code",
   "execution_count": null,
   "metadata": {},
   "outputs": [],
   "source": [
    "print(\"x2 type:\", x2.dtype)"
   ]
  },
  {
   "cell_type": "code",
   "execution_count": null,
   "metadata": {},
   "outputs": [],
   "source": [
    "print(\"x2 size of every element:\", x2.itemsize)"
   ]
  },
  {
   "cell_type": "code",
   "execution_count": null,
   "metadata": {},
   "outputs": [],
   "source": [
    "print(\"array size:\", x2.nbytes)"
   ]
  },
  {
   "cell_type": "markdown",
   "metadata": {},
   "source": [
    "Atvirkščiai duomenis paverčia vienadimensiais `np.ravel`"
   ]
  },
  {
   "cell_type": "code",
   "execution_count": null,
   "metadata": {},
   "outputs": [],
   "source": [
    "np.ravel(a=x2,\n",
    "         order='C'  # eiliškumas išskleidimo C,F\n",
    "         )"
   ]
  },
  {
   "cell_type": "code",
   "execution_count": null,
   "metadata": {},
   "outputs": [],
   "source": [
    "np.ravel(a=x2,\n",
    "         order='F'\n",
    "         )"
   ]
  },
  {
   "cell_type": "markdown",
   "metadata": {},
   "source": [
    "Pavertimas vienadimensiu vadinamas išlyginimu (flattening)"
   ]
  },
  {
   "cell_type": "code",
   "execution_count": null,
   "metadata": {},
   "outputs": [],
   "source": [
    "x2.flatten(order='C')"
   ]
  },
  {
   "cell_type": "markdown",
   "metadata": {},
   "source": [
    "Masyvo transponavimas"
   ]
  },
  {
   "cell_type": "code",
   "execution_count": null,
   "metadata": {},
   "outputs": [],
   "source": [
    "x2.T"
   ]
  },
  {
   "cell_type": "markdown",
   "metadata": {},
   "source": [
    "Apvertimas iš viršaus į apačia"
   ]
  },
  {
   "cell_type": "code",
   "execution_count": null,
   "metadata": {},
   "outputs": [],
   "source": [
    "np.flipud(x2)"
   ]
  },
  {
   "cell_type": "markdown",
   "metadata": {},
   "source": [
    "Apvertimas iš kairės į dešinę"
   ]
  },
  {
   "cell_type": "code",
   "execution_count": null,
   "metadata": {},
   "outputs": [],
   "source": [
    "np.fliplr(x2)"
   ]
  },
  {
   "cell_type": "markdown",
   "metadata": {},
   "source": [
    "Pasukimas prieš laikrodžio rodyklę 90 laipsnių"
   ]
  },
  {
   "cell_type": "code",
   "execution_count": null,
   "metadata": {
    "lines_to_next_cell": 2
   },
   "outputs": [],
   "source": [
    "np.rot90(x2,\n",
    "         k=1  # pasukimų skaičius\n",
    "         )"
   ]
  },
  {
   "cell_type": "markdown",
   "metadata": {},
   "source": [
    "Pastūmimas elementų nurodyta kryptimi"
   ]
  },
  {
   "cell_type": "code",
   "execution_count": null,
   "metadata": {},
   "outputs": [],
   "source": [
    "x2"
   ]
  },
  {
   "cell_type": "code",
   "execution_count": null,
   "metadata": {},
   "outputs": [],
   "source": [
    "np.roll(a=x2,\n",
    "        shift=2,  # per 2 elementus pastumti\n",
    "        axis=0  # eilutė\n",
    "        )"
   ]
  },
  {
   "cell_type": "markdown",
   "metadata": {},
   "source": [
    "### Elementų pasiekimas (indexing)\n",
    "\n",
    "Elementai pasiekiami panašiai kaip ir paprastuose sąrašuose"
   ]
  },
  {
   "cell_type": "code",
   "execution_count": null,
   "metadata": {},
   "outputs": [],
   "source": [
    "x1"
   ]
  },
  {
   "cell_type": "markdown",
   "metadata": {},
   "source": [
    "Gauti pirmą elementą"
   ]
  },
  {
   "cell_type": "code",
   "execution_count": null,
   "metadata": {},
   "outputs": [],
   "source": [
    "x1[0]"
   ]
  },
  {
   "cell_type": "markdown",
   "metadata": {},
   "source": [
    "5-tą elementą"
   ]
  },
  {
   "cell_type": "code",
   "execution_count": null,
   "metadata": {},
   "outputs": [],
   "source": [
    "x1[4]"
   ]
  },
  {
   "cell_type": "markdown",
   "metadata": {},
   "source": [
    "Paskutinį elementą"
   ]
  },
  {
   "cell_type": "code",
   "execution_count": null,
   "metadata": {},
   "outputs": [],
   "source": [
    "x1[-1]"
   ]
  },
  {
   "cell_type": "markdown",
   "metadata": {},
   "source": [
    "Daugiamačių masyvų indeksavimas šiek tiek kitoks\n",
    "\n",
    "Standartiniai masyvai indeksuojami dviem laužtiniais skliaustais"
   ]
  },
  {
   "cell_type": "code",
   "execution_count": null,
   "metadata": {},
   "outputs": [],
   "source": [
    "x_2 = [[0, 1, 2, 3, 4, 5], [6, 7, 8, 9, 10, 11]]\n",
    "x_2"
   ]
  },
  {
   "cell_type": "code",
   "execution_count": null,
   "metadata": {},
   "outputs": [],
   "source": [
    "x_2[1][0]"
   ]
  },
  {
   "cell_type": "markdown",
   "metadata": {},
   "source": [
    "NumPy daugiamačiai masyvai indeksuojami vienais laužtiniais skliaustais"
   ]
  },
  {
   "cell_type": "code",
   "execution_count": null,
   "metadata": {},
   "outputs": [],
   "source": [
    "x2"
   ]
  },
  {
   "cell_type": "code",
   "execution_count": null,
   "metadata": {},
   "outputs": [],
   "source": [
    "x2[1, 0]"
   ]
  },
  {
   "cell_type": "markdown",
   "metadata": {},
   "source": [
    "Norint pakeisti vertes nurodom vietą kurią norime pakeisti ir priskiriame naują\n",
    "vertę.\n",
    "Reikia nepamiršti kad priskiriamos naujos vertės keičia savo tipą į to masyvo tipą.\n",
    "Pavyzdyje 33.33(float) tampa 33(int)."
   ]
  },
  {
   "cell_type": "code",
   "execution_count": null,
   "metadata": {},
   "outputs": [],
   "source": [
    "x2[1, 1] = 33.33\n",
    "x2"
   ]
  },
  {
   "cell_type": "markdown",
   "metadata": {},
   "source": [
    "### Fancy indexing\n",
    "\n",
    "Galima pasiekti daug elementų ir suformatuoti išeigą viena komanda indeksuojant\n",
    "kito masyvo pagalba."
   ]
  },
  {
   "cell_type": "code",
   "execution_count": null,
   "metadata": {},
   "outputs": [],
   "source": [
    "ind = np.array([[1, 0], [-2, -1]])\n",
    "x1"
   ]
  },
  {
   "cell_type": "markdown",
   "metadata": {},
   "source": [
    "Jei naudojam ind masyvą kaip indeksą"
   ]
  },
  {
   "cell_type": "code",
   "execution_count": null,
   "metadata": {},
   "outputs": [],
   "source": [
    "x1[ind]"
   ]
  },
  {
   "cell_type": "markdown",
   "metadata": {},
   "source": [
    "ind yra dvidimensis tad ir atsakymas yra dviejų dimensijų"
   ]
  },
  {
   "cell_type": "code",
   "execution_count": null,
   "metadata": {},
   "outputs": [],
   "source": [
    "ind.shape"
   ]
  },
  {
   "cell_type": "code",
   "execution_count": null,
   "metadata": {},
   "outputs": [],
   "source": [
    "x1[ind].shape"
   ]
  },
  {
   "cell_type": "markdown",
   "metadata": {},
   "source": [
    "Pirmoje dimensijoje mes gauname 1 ir 0 iš x1, antroje dimensijoje -2 ir -1"
   ]
  },
  {
   "cell_type": "code",
   "execution_count": null,
   "metadata": {},
   "outputs": [],
   "source": [
    "x2"
   ]
  },
  {
   "cell_type": "code",
   "execution_count": null,
   "metadata": {},
   "outputs": [],
   "source": [
    "row = np.array([0, 1])\n",
    "col = np.array([0, 1])"
   ]
  },
  {
   "cell_type": "code",
   "execution_count": null,
   "metadata": {},
   "outputs": [],
   "source": [
    "x2[row, col]"
   ]
  },
  {
   "cell_type": "markdown",
   "metadata": {},
   "source": [
    "### NumPy masyvų karpymas\n",
    "\n",
    "x1[start:stop:step]"
   ]
  },
  {
   "cell_type": "code",
   "execution_count": null,
   "metadata": {},
   "outputs": [],
   "source": [
    "x1[:5]  # pirmi penki elementai"
   ]
  },
  {
   "cell_type": "code",
   "execution_count": null,
   "metadata": {},
   "outputs": [],
   "source": [
    "x1[2:]  # nuo antro elemento"
   ]
  },
  {
   "cell_type": "code",
   "execution_count": null,
   "metadata": {},
   "outputs": [],
   "source": [
    "x1[::2]  # kas antras elementas"
   ]
  },
  {
   "cell_type": "markdown",
   "metadata": {},
   "source": [
    "Kas antras elementas pradedant nuo antro elemento (pirmas ties 0)"
   ]
  },
  {
   "cell_type": "code",
   "execution_count": null,
   "metadata": {},
   "outputs": [],
   "source": [
    "x1[1::2]"
   ]
  },
  {
   "cell_type": "code",
   "execution_count": null,
   "metadata": {},
   "outputs": [],
   "source": [
    "x1[::-1]  # atvirštine tvarka"
   ]
  },
  {
   "cell_type": "code",
   "execution_count": null,
   "metadata": {},
   "outputs": [],
   "source": [
    "x1[5:-2]  # apversti mašyvą ir nuo 5to elemento imti kas antrą elemntą."
   ]
  },
  {
   "cell_type": "markdown",
   "metadata": {},
   "source": [
    "### Daugiadimensių masyvų karpymas"
   ]
  },
  {
   "cell_type": "code",
   "execution_count": null,
   "metadata": {},
   "outputs": [],
   "source": [
    "x2"
   ]
  },
  {
   "cell_type": "code",
   "execution_count": null,
   "metadata": {},
   "outputs": [],
   "source": [
    "x2[:2, :3]  # pirmos dvi eilutės ir pirmi trys stulpeliai"
   ]
  },
  {
   "cell_type": "code",
   "execution_count": null,
   "metadata": {},
   "outputs": [],
   "source": [
    "x2[:3, ::2]  # trys pirmos eilutės ir kas antras stulpelis nuo pradžių"
   ]
  },
  {
   "cell_type": "code",
   "execution_count": null,
   "metadata": {},
   "outputs": [],
   "source": [
    "x2[::-1, ::-1]  # apvertimas"
   ]
  },
  {
   "cell_type": "code",
   "execution_count": null,
   "metadata": {},
   "outputs": [],
   "source": [
    "x2[:, 0]  # pirmas stulpelis"
   ]
  },
  {
   "cell_type": "code",
   "execution_count": null,
   "metadata": {},
   "outputs": [],
   "source": [
    "x2[0]  # tas pats kaip x2[0,:]"
   ]
  },
  {
   "cell_type": "markdown",
   "metadata": {},
   "source": [
    "## Kopijos\n",
    "\n",
    "Svarbu! Python kalboje priskyrimai nesukuria tikrų nepriklausomų kopijų"
   ]
  },
  {
   "cell_type": "code",
   "execution_count": null,
   "metadata": {},
   "outputs": [],
   "source": [
    "x2"
   ]
  },
  {
   "cell_type": "code",
   "execution_count": null,
   "metadata": {},
   "outputs": [],
   "source": [
    "x_change = x2[0, :]\n",
    "x_change[1] = 55\n",
    "x_change"
   ]
  },
  {
   "cell_type": "code",
   "execution_count": null,
   "metadata": {},
   "outputs": [],
   "source": [
    "x2  # x2 ir x_change pasikeitė"
   ]
  },
  {
   "cell_type": "markdown",
   "metadata": {},
   "source": [
    "Iš naujo sukuriam masyvą"
   ]
  },
  {
   "cell_type": "code",
   "execution_count": null,
   "metadata": {},
   "outputs": [],
   "source": [
    "x2 = np.arange(0, 12).reshape(2, 6)\n",
    "x2"
   ]
  },
  {
   "cell_type": "markdown",
   "metadata": {},
   "source": [
    "Nepriklausoma kopija sukuriama copy metodu"
   ]
  },
  {
   "cell_type": "code",
   "execution_count": null,
   "metadata": {},
   "outputs": [],
   "source": [
    "x2_independent = x2[0, :].copy()\n",
    "x2_independent[1] = 55\n",
    "x2"
   ]
  },
  {
   "cell_type": "code",
   "execution_count": null,
   "metadata": {},
   "outputs": [],
   "source": [
    "x2_independent"
   ]
  },
  {
   "cell_type": "markdown",
   "metadata": {},
   "source": [
    "### Apjungimas masyvų"
   ]
  },
  {
   "cell_type": "code",
   "execution_count": null,
   "metadata": {},
   "outputs": [],
   "source": [
    "np.concatenate([x1, x1])"
   ]
  },
  {
   "cell_type": "code",
   "execution_count": null,
   "metadata": {},
   "outputs": [],
   "source": [
    "np.concatenate([x2, x2])  # axis =0"
   ]
  },
  {
   "cell_type": "code",
   "execution_count": null,
   "metadata": {},
   "outputs": [],
   "source": [
    "np.concatenate([x2, x2], axis=1)"
   ]
  },
  {
   "cell_type": "code",
   "execution_count": null,
   "metadata": {},
   "outputs": [],
   "source": [
    "x1 = np.arange(6)\n",
    "x2 = np.arange(0, 12).reshape(2, 6)\n",
    "x2.shape"
   ]
  },
  {
   "cell_type": "code",
   "execution_count": null,
   "metadata": {},
   "outputs": [],
   "source": [
    "x1.shape"
   ]
  },
  {
   "cell_type": "markdown",
   "metadata": {},
   "source": [
    "x1 forma yra (6,), o x2 (2, 6).\n",
    "\n",
    "(6,) ir (6,1) turi tik vieną dimensiją."
   ]
  },
  {
   "cell_type": "code",
   "execution_count": null,
   "metadata": {},
   "outputs": [],
   "source": [
    "x1[1]"
   ]
  },
  {
   "cell_type": "code",
   "execution_count": null,
   "metadata": {},
   "outputs": [],
   "source": [
    "x1[1, 0]"
   ]
  },
  {
   "cell_type": "code",
   "execution_count": null,
   "metadata": {},
   "outputs": [],
   "source": [
    "x1.reshape(6, 1)[5, 0]"
   ]
  },
  {
   "cell_type": "markdown",
   "metadata": {},
   "source": [
    "(6,) ir (6,1) arba (1,6) atrodo panašiai bet daugumai metodų jie yra skirtingi.\n",
    "(6,) turi tik vieną ašį, o (6,1) reprezentuojamas dviem ašimis.\n",
    "\n",
    "Pridėti daugiau ašių galime keliais metodais."
   ]
  },
  {
   "cell_type": "code",
   "execution_count": null,
   "metadata": {},
   "outputs": [],
   "source": [
    "x1.reshape(6, 1, 1, 1)"
   ]
  },
  {
   "cell_type": "markdown",
   "metadata": {},
   "source": [
    "Norint atlikti veiksmus su šiais masyvais kartu reikia suvienodinti jų\n",
    "dimensijas.\n",
    "Tai numpy atlieka automatiškai jei tai padaryti įmanoma (broadcasting).\n",
    "\n",
    "Sujungiam ties pirma ašimi naudodami vstack"
   ]
  },
  {
   "cell_type": "code",
   "execution_count": null,
   "metadata": {},
   "outputs": [],
   "source": [
    "np.vstack([x1, x2])"
   ]
  },
  {
   "cell_type": "markdown",
   "metadata": {},
   "source": [
    "Tą patį galime padaryt ir su concatenate tik reikia papildomo ašies argumento"
   ]
  },
  {
   "cell_type": "code",
   "execution_count": null,
   "metadata": {},
   "outputs": [],
   "source": [
    "np.concatenate([x1.reshape(1, 6), x2], axis=0)"
   ]
  },
  {
   "cell_type": "markdown",
   "metadata": {},
   "source": [
    "Ties antra ašimi sujungiame su hstack"
   ]
  },
  {
   "cell_type": "code",
   "execution_count": null,
   "metadata": {},
   "outputs": [],
   "source": [
    "np.hstack([x2, x2])"
   ]
  },
  {
   "cell_type": "markdown",
   "metadata": {},
   "source": [
    "arba universalia concatenate"
   ]
  },
  {
   "cell_type": "code",
   "execution_count": null,
   "metadata": {},
   "outputs": [],
   "source": [
    "np.concatenate([x2, x2], axis=1)"
   ]
  },
  {
   "cell_type": "markdown",
   "metadata": {},
   "source": [
    "Trečiame ašimi"
   ]
  },
  {
   "cell_type": "code",
   "execution_count": null,
   "metadata": {},
   "outputs": [],
   "source": [
    "np.dstack([x2, x2])"
   ]
  },
  {
   "cell_type": "code",
   "execution_count": null,
   "metadata": {},
   "outputs": [],
   "source": [
    "np.concatenate([x2.reshape(2, 6, 1), x2.reshape(2, 6, 1)], axis=2)"
   ]
  },
  {
   "cell_type": "markdown",
   "metadata": {},
   "source": [
    "`Split` dalina masyvą ties pasirinktais taškais (pvz 3 ir 5)."
   ]
  },
  {
   "cell_type": "code",
   "execution_count": null,
   "metadata": {},
   "outputs": [],
   "source": [
    "x11, x12, x13 = np.split(x1, [3, 5])\n",
    "print(x11, x12, x13)"
   ]
  },
  {
   "cell_type": "markdown",
   "metadata": {},
   "source": [
    "Panašiai kaip ir sujungimo atveju split yra universali funkcija.\n",
    "Jos atitikmuo pirmai ašiai vsplit"
   ]
  },
  {
   "cell_type": "code",
   "execution_count": null,
   "metadata": {},
   "outputs": [],
   "source": [
    "top, bottom = np.vsplit(x2, [1])\n",
    "print(top, bottom)"
   ]
  },
  {
   "cell_type": "code",
   "execution_count": null,
   "metadata": {},
   "outputs": [],
   "source": [
    "top, bottom = np.split(x2, [1], axis=0)\n",
    "print(top, bottom)"
   ]
  },
  {
   "cell_type": "markdown",
   "metadata": {},
   "source": [
    "Antra ašis"
   ]
  },
  {
   "cell_type": "code",
   "execution_count": null,
   "metadata": {},
   "outputs": [],
   "source": [
    "left, right = np.hsplit(x2, [3])\n",
    "print(left, right)"
   ]
  },
  {
   "cell_type": "code",
   "execution_count": null,
   "metadata": {},
   "outputs": [],
   "source": [
    "np.split(x2, [3], axis=1)"
   ]
  },
  {
   "cell_type": "markdown",
   "metadata": {},
   "source": [
    "Trečia ašis"
   ]
  },
  {
   "cell_type": "code",
   "execution_count": null,
   "metadata": {},
   "outputs": [],
   "source": [
    "np.dsplit(x2.reshape(2, 6, 1), [2])"
   ]
  },
  {
   "cell_type": "code",
   "execution_count": null,
   "metadata": {},
   "outputs": [],
   "source": [
    "np.split(x2.reshape(2, 6, 1), [2], axis=2)"
   ]
  },
  {
   "cell_type": "markdown",
   "metadata": {},
   "source": [
    "### Vektorizavimas (ufunc)\n",
    "\n",
    "NumPy veikia daug greičiau nei standartiniai python metodai.\n",
    "Taip yra dėl vektorinio skaičiavimo kompiliuotomis programomis."
   ]
  },
  {
   "cell_type": "code",
   "execution_count": null,
   "metadata": {},
   "outputs": [],
   "source": [
    "%timeit np.add(5, x1)"
   ]
  },
  {
   "cell_type": "code",
   "execution_count": null,
   "metadata": {},
   "outputs": [],
   "source": [
    "%timeit [x + 5 for x in x1]"
   ]
  },
  {
   "cell_type": "code",
   "execution_count": null,
   "metadata": {},
   "outputs": [],
   "source": [
    "%timeit (5 + x1) # Tas pats kaip np.add"
   ]
  },
  {
   "cell_type": "markdown",
   "metadata": {},
   "source": [
    "Dažnos operacijos"
   ]
  },
  {
   "cell_type": "code",
   "execution_count": null,
   "metadata": {},
   "outputs": [],
   "source": [
    "np.add(x1, 5)"
   ]
  },
  {
   "cell_type": "code",
   "execution_count": null,
   "metadata": {},
   "outputs": [],
   "source": [
    "np.subtract(x1, 5)"
   ]
  },
  {
   "cell_type": "code",
   "execution_count": null,
   "metadata": {},
   "outputs": [],
   "source": [
    "np.negative(x1)"
   ]
  },
  {
   "cell_type": "code",
   "execution_count": null,
   "metadata": {},
   "outputs": [],
   "source": [
    "np.multiply(x1, 5)"
   ]
  },
  {
   "cell_type": "code",
   "execution_count": null,
   "metadata": {},
   "outputs": [],
   "source": [
    "np.divide(x1, 5)"
   ]
  },
  {
   "cell_type": "code",
   "execution_count": null,
   "metadata": {},
   "outputs": [],
   "source": [
    "np.floor_divide(x1, 5)"
   ]
  },
  {
   "cell_type": "code",
   "execution_count": null,
   "metadata": {},
   "outputs": [],
   "source": [
    "np.power(x1, 5)"
   ]
  },
  {
   "cell_type": "code",
   "execution_count": null,
   "metadata": {},
   "outputs": [],
   "source": [
    "np.mod(x1, 5)"
   ]
  },
  {
   "cell_type": "code",
   "execution_count": null,
   "metadata": {},
   "outputs": [],
   "source": [
    "np.mean(x1)"
   ]
  },
  {
   "cell_type": "code",
   "execution_count": null,
   "metadata": {},
   "outputs": [],
   "source": [
    "np.std(x1)"
   ]
  },
  {
   "cell_type": "markdown",
   "metadata": {},
   "source": [
    "Papildomi parametrai operacijoms"
   ]
  },
  {
   "cell_type": "code",
   "execution_count": null,
   "metadata": {},
   "outputs": [],
   "source": [
    "y = np.zeros([8])\n",
    "y"
   ]
  },
  {
   "cell_type": "code",
   "execution_count": null,
   "metadata": {},
   "outputs": [],
   "source": [
    "np.multiply(x1, 10, out=y[2:])  # Priskiria ties nurodytomis pozicijomis\n",
    "y"
   ]
  },
  {
   "cell_type": "code",
   "execution_count": null,
   "metadata": {},
   "outputs": [],
   "source": [
    "x = np.arange(1, 6)\n",
    "x"
   ]
  },
  {
   "cell_type": "code",
   "execution_count": null,
   "metadata": {},
   "outputs": [],
   "source": [
    "np.add.reduce(x)  # Kartoja opreraciją kol lieka tik vienas elementas"
   ]
  },
  {
   "cell_type": "code",
   "execution_count": null,
   "metadata": {},
   "outputs": [],
   "source": [
    "np.multiply.reduce(x)"
   ]
  },
  {
   "cell_type": "code",
   "execution_count": null,
   "metadata": {},
   "outputs": [],
   "source": [
    "np.multiply.accumulate(x)  # taip pat kaip reduce tik visus žingsnius išsaugo"
   ]
  },
  {
   "cell_type": "code",
   "execution_count": null,
   "metadata": {},
   "outputs": [],
   "source": [
    "np.multiply.outer(x, x)  # poruotiems elementams"
   ]
  },
  {
   "cell_type": "markdown",
   "metadata": {},
   "source": [
    "## Dimensijų automatinis suvienodinimas (Broadcasting)\n",
    "\n",
    "NumPy siekdamas maksimalaus greičio vektorizuodamas\n",
    "naudoja pora taisyklių atlikdamas veiksmus su skirtingo dydžio masyvais.\n",
    "\n",
    "Jei turime a ir b masyvus"
   ]
  },
  {
   "cell_type": "code",
   "execution_count": null,
   "metadata": {},
   "outputs": [],
   "source": [
    "a = np.ones((2, 3))\n",
    "a.shape"
   ]
  },
  {
   "cell_type": "code",
   "execution_count": null,
   "metadata": {},
   "outputs": [],
   "source": [
    "a"
   ]
  },
  {
   "cell_type": "code",
   "execution_count": null,
   "metadata": {},
   "outputs": [],
   "source": [
    "b = np.arange(3)\n",
    "b.shape"
   ]
  },
  {
   "cell_type": "code",
   "execution_count": null,
   "metadata": {},
   "outputs": [],
   "source": [
    "b"
   ]
  },
  {
   "cell_type": "markdown",
   "metadata": {},
   "source": [
    "Sumuojant šiuos du masyvus atliekami šie veiksmai tokia tvarka:\n",
    "\n",
    "Žingsniai: a dimensijos (2,3) ir b (3,).\n",
    "\n",
    "- `b` tampa (1,3) prie kairės pusės 1 dydžio (np.ones) dimensija pridedama.\n",
    "- Pridėta dimensija  prie `b` praplečiama kad atitiktų `a` (b -> (2,3))\n",
    "- Tikrinamos ar dabar dimensijos lygios\n",
    "\n",
    "Pvz 1:"
   ]
  },
  {
   "cell_type": "code",
   "execution_count": null,
   "metadata": {},
   "outputs": [],
   "source": [
    "a = np.arange(3).reshape((3, 1))\n",
    "b = np.arange(3)\n",
    "a,b"
   ]
  },
  {
   "cell_type": "markdown",
   "metadata": {},
   "source": [
    "`b` (3,)-> (1,3) -> ir praplečiama iki (3,3)\n",
    "\n",
    "`a` taip pat praplečiama (3,1)->(3,3)"
   ]
  },
  {
   "cell_type": "code",
   "execution_count": null,
   "metadata": {},
   "outputs": [],
   "source": [
    "a + b"
   ]
  },
  {
   "cell_type": "markdown",
   "metadata": {},
   "source": [
    "Pvz 2:"
   ]
  },
  {
   "cell_type": "code",
   "execution_count": null,
   "metadata": {},
   "outputs": [],
   "source": [
    "a = np.ones((3, 2))\n",
    "b = np.arange(3)\n",
    "a,b"
   ]
  },
  {
   "cell_type": "markdown",
   "metadata": {},
   "source": [
    "b (3,) tamp (1,3) -> (3,3)\n",
    "\n",
    "a neturi vienetinėse dimensijos. (3,2) nėra lygu (3,3)"
   ]
  },
  {
   "cell_type": "code",
   "execution_count": null,
   "metadata": {},
   "outputs": [],
   "source": [
    "a + b"
   ]
  },
  {
   "cell_type": "markdown",
   "metadata": {},
   "source": [
    "### Loginiai palyginimai\n",
    "\n",
    "Python standartiniai palyginimai neveikia su sudėtingesnėmis struktūromis"
   ]
  },
  {
   "cell_type": "code",
   "execution_count": null,
   "metadata": {},
   "outputs": [],
   "source": [
    "a = np.ones((2, 3))\n",
    "b = np.ones((2, 3))"
   ]
  },
  {
   "cell_type": "code",
   "execution_count": null,
   "metadata": {},
   "outputs": [],
   "source": [
    "(a==b) and (b>a)"
   ]
  },
  {
   "cell_type": "code",
   "execution_count": null,
   "metadata": {},
   "outputs": [],
   "source": [
    "np.logical_and(a==b, b>a)"
   ]
  },
  {
   "cell_type": "code",
   "execution_count": null,
   "metadata": {},
   "outputs": [],
   "source": [
    "np.logical_or(a==b, b>a)"
   ]
  },
  {
   "cell_type": "markdown",
   "metadata": {},
   "source": [
    "## Grafikų paišymas (matplotlib)\n",
    "\n",
    "Python būdama viena iš populiariausių programavimo kalbų turi be galo daug\n",
    "specifinių pakuočių vizualizuoti duomenis.\n",
    "\n",
    "Mes apžvelgsime pačią populiariausią `matplotlib` pakuotę.\n",
    "\n",
    "- Viena iš senesnių pakuočių.\n",
    "- Įmanoma viskas, bet dažnai daug reik rašyti kodo.\n",
    "- Sintaksė panaši į naudojamas matlab, julia programavimo kalbose.\n",
    "Tad lengva pereiti, adaptuoti kodą.\n",
    "- Daug python pakuočių naudoja.\n",
    "- Alternatyvos: Seaborn, HoloViews, Altair, Bokeh, plotly\n",
    "\n",
    "[matplotlib dokumentacija]( https://matplotlib.org/index.html)\n",
    "\n",
    "Standartiškai pakuotė importuojama `plt` vardu taip trumpinant rašymą"
   ]
  },
  {
   "cell_type": "code",
   "execution_count": null,
   "metadata": {},
   "outputs": [],
   "source": [
    "import matplotlib.pyplot as plt\n",
    "import matplotlib as mpl\n",
    "\n",
    "%matplotlib inline"
   ]
  },
  {
   "cell_type": "markdown",
   "metadata": {},
   "source": [
    "matplotlib.pyplot yra paišymo branduolys kurį dažniausiai ir naudosime."
   ]
  },
  {
   "cell_type": "code",
   "execution_count": null,
   "metadata": {},
   "outputs": [],
   "source": [
    "x = [1, 2, 3, 4]\n",
    "y = [1, 1, 0, 1]\n",
    "plt.plot(x, y);"
   ]
  },
  {
   "cell_type": "markdown",
   "metadata": {},
   "source": [
    "### Python versijų įtaka\n",
    "\n",
    "matplotlib pakuotė valdo ne vien tik komandas paišymo bet ir renkasi kas ir\n",
    "kaip kompiuteryje generuos grafikus.\n",
    "\n",
    "Nurodžius vietoj inline qt grafikai iššoka"
   ]
  },
  {
   "cell_type": "code",
   "execution_count": null,
   "metadata": {},
   "outputs": [],
   "source": [
    "%matplotlib qt\n",
    "plt.plot(x, y);"
   ]
  },
  {
   "cell_type": "markdown",
   "metadata": {},
   "source": [
    "Taupant laiką mes beveik visada naudosime inline metodą"
   ]
  },
  {
   "cell_type": "code",
   "execution_count": null,
   "metadata": {},
   "outputs": [],
   "source": [
    "%matplotlib inline"
   ]
  },
  {
   "cell_type": "markdown",
   "metadata": {},
   "source": [
    "Paišant grafikus ne ipython, o python terminale grafikai nebus\n",
    "vaizduojami kol nebus įgyvendinta komanda:"
   ]
  },
  {
   "cell_type": "code",
   "execution_count": null,
   "metadata": {},
   "outputs": [],
   "source": [
    "plt.show()"
   ]
  },
  {
   "cell_type": "markdown",
   "metadata": {},
   "source": [
    "Po šios komandos norėdami galėti dar keisti paveikslėli reikia įjungti\n",
    "interaktyvų paišymą."
   ]
  },
  {
   "cell_type": "code",
   "execution_count": null,
   "metadata": {},
   "outputs": [],
   "source": [
    "plt.ion()"
   ]
  },
  {
   "cell_type": "markdown",
   "metadata": {},
   "source": [
    "Jei interaktyvių funkcijų nenorime (pvz jei automatiškai paišome daug grafikų\n",
    "ir svarbu optimizuoti resursus) išjungiame ioff metodu"
   ]
  },
  {
   "cell_type": "code",
   "execution_count": null,
   "metadata": {},
   "outputs": [],
   "source": [
    "plt.ioff()"
   ]
  },
  {
   "cell_type": "markdown",
   "metadata": {},
   "source": [
    "### Paveikslų sukūrimas ir saugojimas\n",
    "\n",
    "Norint išsaugoti grafiką dabartinėje aktyvioje direktorijoje"
   ]
  },
  {
   "cell_type": "code",
   "execution_count": null,
   "metadata": {},
   "outputs": [],
   "source": [
    "fig = plt.figure() # sukuriam figūrą\n",
    "plt.plot(x,y) # nupaišome ant jos\n",
    "fig.savefig('test.png') # užsaugome png formatu"
   ]
  },
  {
   "cell_type": "markdown",
   "metadata": {},
   "source": [
    "Norint išsaugoti kitoje vietoje reik nurodyti pilną kelią.\n",
    "\n",
    "Formatai kuriais galima išsaugoti"
   ]
  },
  {
   "cell_type": "code",
   "execution_count": null,
   "metadata": {},
   "outputs": [],
   "source": [
    "fig.canvas.get_supported_filetypes()"
   ]
  },
  {
   "cell_type": "markdown",
   "metadata": {},
   "source": [
    "Kurdami figūrą galime nurodyti jos dydį, tada ant figūros nupaišome\n",
    "drobę/ašis."
   ]
  },
  {
   "cell_type": "code",
   "execution_count": null,
   "metadata": {},
   "outputs": [],
   "source": [
    "fig = plt.figure(figsize=(6,6))\n",
    "ax = plt.axes()"
   ]
  },
  {
   "cell_type": "markdown",
   "metadata": {},
   "source": [
    "Figūros objektą dažniausiai priskiriame kintamajam `fig`, o ašių `ax`.\n",
    "Šių objektų pagalba nurodome tiksliai kur paišyti.\n",
    "\n",
    "Jei kintamųjų nepriskyrėme juos galime gauti gcf komanda.\n",
    "plt.gcf kintamasis saugo paskutinę aktyvią figūrą."
   ]
  },
  {
   "cell_type": "code",
   "execution_count": null,
   "metadata": {},
   "outputs": [],
   "source": [
    "fig = plt.gcf() # get current figure"
   ]
  },
  {
   "cell_type": "markdown",
   "metadata": {},
   "source": [
    "Ašis panašiai gauname `gca` komanda"
   ]
  },
  {
   "cell_type": "code",
   "execution_count": null,
   "metadata": {},
   "outputs": [],
   "source": [
    "ax = plt.gca() # (get current axes)\n",
    "ax.plot(x,y)"
   ]
  },
  {
   "cell_type": "markdown",
   "metadata": {},
   "source": [
    "Pavyzdžiuose dažnai matysite paišymą atliekama kitokiu stiliumi.\n",
    "Vietoj objektų kūrimo dažnai rašomos paišymo komandos kurios užduotis\n",
    "automatiškai atlieka paskutiniame aktyviame elemente."
   ]
  },
  {
   "cell_type": "code",
   "execution_count": null,
   "metadata": {},
   "outputs": [],
   "source": [
    "plt.figure()\n",
    "plt.plot(x,y)"
   ]
  },
  {
   "cell_type": "markdown",
   "metadata": {},
   "source": [
    "`plt.komanda`  įgyvendina `komandą` paskutiniame aktyviame elemente.\n",
    "\n",
    "Tokiu būdu dažnai sutaupoma rašymo vieta, lengviau perskaityt kodą.\n",
    "Kitas didelis pranašumas tai kad atmetus plt. dalį komandos tampa tolygios matlab ar julia programavimo kalbų komandoms.\n",
    "\n",
    "Bet toks stilius sukuria ir daug problemų ir apsunkina kūrimą sudėtingų\n",
    "grafikų.\n",
    "\n",
    "### Bazė\n",
    "\n",
    "Pirmiausiai sukursime duomenis tolimesniam paišymui.\n",
    "\n",
    "`sin_wave`  funkcija generuos sinusoidę kuria nupiešime"
   ]
  },
  {
   "cell_type": "code",
   "execution_count": null,
   "metadata": {},
   "outputs": [],
   "source": [
    "import math\n",
    "\n",
    "def sin_wave(freq,t):\n",
    "    y = []\n",
    "    f =freq # Hz\n",
    "    for x in t:\n",
    "       x=x/1000\n",
    "       y.append(math.sin(2*math.pi*x*f))\n",
    "    return y\n",
    "\n",
    "\n",
    "def line_points(t,shift):\n",
    "    y=[]\n",
    "    for x in t:\n",
    "        y.append(x+shift)\n",
    "    return y"
   ]
  },
  {
   "cell_type": "code",
   "execution_count": null,
   "metadata": {},
   "outputs": [],
   "source": [
    "t = list(range(0,1000))\n",
    "fig = plt.figure()\n",
    "ax = plt.axes()         #  - a) Sukūrimas ašių\n",
    "ax.plot(t,sin_wave(10,t)) #  - b) paišymas sinusoidės\n",
    "ax.plot(t,sin_wave(20,t)) #  - c) paišymas tame pačiame grafike\n",
    "#  fig.show()              #  - d) papildomos komanodos"
   ]
  },
  {
   "cell_type": "markdown",
   "metadata": {},
   "source": [
    "Sukurtos funkcijos sinusoidės paišymui neefektyvios.\n",
    "Tokiom užduotims mes galime panaudoti NumPy vektorizaciją."
   ]
  },
  {
   "cell_type": "code",
   "execution_count": null,
   "metadata": {},
   "outputs": [],
   "source": [
    "def sin_wave(Hz=10, sample_rate=1000, length_sec=1):\n",
    "    t = np.linspace(0, length_sec, length_sec * sample_rate, endpoint=False)\n",
    "    x = np.sin(Hz * 2 * np.pi * t)\n",
    "    return(t, x)\n",
    "\n",
    "def line_points(shift, sample_rate=1000, length_sec=1):\n",
    "    t = np.linspace(0, length_sec, length_sec * sample_rate, endpoint=False)\n",
    "    x = t+shift\n",
    "    return(t, x)"
   ]
  },
  {
   "cell_type": "code",
   "execution_count": null,
   "metadata": {},
   "outputs": [],
   "source": [
    "fig = plt.figure()\n",
    "ax = plt.axes()         #  - a) Sukūrimas ašių\n",
    "ax.plot(*sin_wave(10)) #  - b) paišymas sinusoidės\n",
    "ax.plot(*sin_wave(20)) #  - c) paišymas tame pačiame grafike\n",
    "#  fig.show()              #  - d) papildomos komanodos"
   ]
  },
  {
   "cell_type": "markdown",
   "metadata": {},
   "source": [
    "## Pagražinimas\n",
    "\n",
    "Spalvos priskiriamos automatiškai, bet norint galima nurodyti `color`\n",
    "raktažodžiu"
   ]
  },
  {
   "cell_type": "code",
   "execution_count": null,
   "metadata": {
    "lines_to_next_cell": 2
   },
   "outputs": [],
   "source": [
    "ax = plt.axes()\n",
    "ax.plot(*sin_wave(1), color='blue')         # specifinė spalva\n",
    "ax.plot(*sin_wave(2), color='g')           # trumpinys (rgbcmyk)\n",
    "ax.plot(*sin_wave(3), color='0.75')        # tarp 0 ir 1\n",
    "ax.plot(*sin_wave(4), color='#FFDD44')     # Hex kodas (RRGGBB 00 iki FF)\n",
    "ax.plot(*sin_wave(5), color=(1.0,0.2,0.3)) # RGB, 0 iki 1\n",
    "ax.plot(*sin_wave(6), color='chartreuse'); # HTML vardai"
   ]
  },
  {
   "cell_type": "markdown",
   "metadata": {},
   "source": [
    "Linijų stilius keičiamas `linestyle` raktažodžiu"
   ]
  },
  {
   "cell_type": "code",
   "execution_count": null,
   "metadata": {},
   "outputs": [],
   "source": [
    "fig=plt.figure(figsize=(8,8))\n",
    "ax = plt.axes()\n",
    "ax.plot(*line_points(0), linestyle='solid')\n",
    "ax.plot(*line_points(10), linestyle='dashed')\n",
    "ax.plot(*line_points(20), linestyle='dashdot')\n",
    "ax.plot(*line_points(30), linestyle='dotted');"
   ]
  },
  {
   "cell_type": "markdown",
   "metadata": {},
   "source": [
    "Arba simboliais"
   ]
  },
  {
   "cell_type": "code",
   "execution_count": null,
   "metadata": {},
   "outputs": [],
   "source": [
    "fig=plt.figure(figsize=(8,8))\n",
    "ax = plt.axes()\n",
    "ax.plot(*line_points(0), linestyle='-')  # solid\n",
    "ax.plot(*line_points(10), linestyle='--') # dashed\n",
    "ax.plot(*line_points(20), linestyle='-.') # dashdot\n",
    "ax.plot(*line_points(30), linestyle=':'); # dotted"
   ]
  },
  {
   "cell_type": "markdown",
   "metadata": {},
   "source": [
    "Priartinimas ir atitolinimas grafiko nustatomas ašių koordinatėmis"
   ]
  },
  {
   "cell_type": "code",
   "execution_count": null,
   "metadata": {},
   "outputs": [],
   "source": [
    "fig = plt.figure()\n",
    "ax = plt.axes()\n",
    "ax.plot(*line_points(0), linestyle='-')\n",
    "ax.plot(*line_points(10), linestyle='--')\n",
    "ax.plot(*line_points(20), linestyle='-.')\n",
    "ax.plot(*line_points(30), linestyle=':')\n",
    "ax.set_xlim([0, .5])\n",
    "ax.set_ylim([0, 5]);\n",
    "# plt.xlim([0, 100]) # Skiriasi sintaksė\n",
    "# plt.ylim([0, 100]) # Skiriasi sintaksė"
   ]
  },
  {
   "cell_type": "markdown",
   "metadata": {},
   "source": [
    "Apverčiam ašis"
   ]
  },
  {
   "cell_type": "code",
   "execution_count": null,
   "metadata": {},
   "outputs": [],
   "source": [
    "fig = plt.figure()\n",
    "ax = plt.axes()\n",
    "ax.plot(*line_points(0), linestyle='-')\n",
    "ax.plot(*line_points(10), linestyle='--')\n",
    "ax.plot(*line_points(20), linestyle='-.')\n",
    "ax.plot(*line_points(30), linestyle=':')\n",
    "ax.set_xlim([0, 1])\n",
    "ax.set_ylim([30, 0]);"
   ]
  },
  {
   "cell_type": "markdown",
   "metadata": {},
   "source": [
    "Tuo pat metu  x ir y galima nustatyti `axis` metodu"
   ]
  },
  {
   "cell_type": "code",
   "execution_count": null,
   "metadata": {},
   "outputs": [],
   "source": [
    "fig = plt.figure()\n",
    "ax = plt.axes()\n",
    "ax.plot(*line_points(0), linestyle='-')\n",
    "ax.plot(*line_points(10), linestyle='--')\n",
    "ax.plot(*line_points(20), linestyle='-.')\n",
    "ax.plot(*line_points(30), linestyle=':')\n",
    "ax.axis([0,1,0,30]);"
   ]
  },
  {
   "cell_type": "code",
   "execution_count": null,
   "metadata": {},
   "outputs": [],
   "source": [
    "fig = plt.figure()\n",
    "ax = plt.axes()\n",
    "ax.plot(*line_points(0), linestyle='-')\n",
    "ax.plot(*line_points(10), linestyle='--')\n",
    "ax.plot(*line_points(20), linestyle='-.')\n",
    "ax.plot(*line_points(30), linestyle=':')\n",
    "ax.axis('equal')"
   ]
  },
  {
   "cell_type": "code",
   "execution_count": null,
   "metadata": {},
   "outputs": [],
   "source": [
    "fig = plt.figure()\n",
    "ax = plt.axes()\n",
    "ax.plot(*line_points(0), linestyle='-')\n",
    "ax.plot(*line_points(10), linestyle='--')\n",
    "ax.plot(*line_points(20), linestyle='-.')\n",
    "ax.plot(*line_points(30), linestyle=':')\n",
    "ax.axis('tight')"
   ]
  },
  {
   "cell_type": "markdown",
   "metadata": {},
   "source": [
    "### Anotacijos"
   ]
  },
  {
   "cell_type": "code",
   "execution_count": null,
   "metadata": {},
   "outputs": [],
   "source": [
    "fig = plt.figure()\n",
    "ax = plt.axes()\n",
    "ax.plot(*sin_wave(1), label='sin(x)') # legendai skirtas tekstas\n",
    "ax.set_xlabel(\"Laikas\")\n",
    "ax.set_ylabel(\"Amplitudė\")\n",
    "ax.set_title(\"1 Hz sine wave\") # pavadinimas\n",
    "ax.legend(); # legenda"
   ]
  },
  {
   "cell_type": "markdown",
   "metadata": {},
   "source": [
    "`plt` --> xlabel, ylabel title"
   ]
  },
  {
   "cell_type": "code",
   "execution_count": null,
   "metadata": {},
   "outputs": [],
   "source": [
    "plt.figure()\n",
    "plt.plot(*sin_wave(1), label = 'sin(x)')\n",
    "plt.legend()"
   ]
  },
  {
   "cell_type": "markdown",
   "metadata": {},
   "source": [
    "`loc`  parametras nurodo kur atsiras legenda"
   ]
  },
  {
   "cell_type": "code",
   "execution_count": null,
   "metadata": {},
   "outputs": [],
   "source": [
    "fig = plt.figure()\n",
    "ax = plt.axes()\n",
    "ax.plot(*sin_wave(1), label='1 Hz')\n",
    "ax.plot(*sin_wave(2), label='2 Hz')\n",
    "ax.set_xlabel(\"Laikas\")\n",
    "ax.set_ylabel(\"Amplitudė\")\n",
    "ax.set_title(\"Sinusoidės\")\n",
    "ax.legend(loc='upper left',frameon=False)"
   ]
  },
  {
   "cell_type": "markdown",
   "metadata": {},
   "source": [
    "Stilių elementų galima nurodyti gana detaliai"
   ]
  },
  {
   "cell_type": "code",
   "execution_count": null,
   "metadata": {},
   "outputs": [],
   "source": [
    "fig = plt.figure(figsize=(10,10))\n",
    "ax = plt.axes()\n",
    "ax.plot(*sin_wave(1), label='1 Hz')\n",
    "ax.plot(*sin_wave(2), label='2 Hz')\n",
    "ax.plot(*sin_wave(3)) # nenurodžius neatsiras legendoje\n",
    "ax.set_xlabel(\"Laikas\")\n",
    "ax.set_ylabel(\"Amplitudė\")\n",
    "ax.set_title(\"Sinusoidės\")\n",
    "ax.legend(ncol=2, borderpad=1, shadow=True, framealpha=1, fancybox=True, title='Frequency')"
   ]
  },
  {
   "cell_type": "markdown",
   "metadata": {},
   "source": [
    "Nenurodžius žymės (label) legendoje nebus įtrauktas elementas.\n",
    "Legendą galima nurodyti vėliau"
   ]
  },
  {
   "cell_type": "code",
   "execution_count": null,
   "metadata": {},
   "outputs": [],
   "source": [
    "ax.legend(['1 Hz', '2 Hz', '3 Hz'])\n",
    "fig"
   ]
  },
  {
   "cell_type": "markdown",
   "metadata": {},
   "source": [
    "Norint sukurti daugiau negu vieną legendą reikia pridėti naują legendos\n",
    "objektą iš matplotlib."
   ]
  },
  {
   "cell_type": "code",
   "execution_count": null,
   "metadata": {},
   "outputs": [],
   "source": [
    "fig1 = plt.figure()\n",
    "ax1 = plt.axes()\n",
    "lines = []\n",
    "lines += ax1.plot(*sin_wave(1))\n",
    "lines += ax1.plot(*sin_wave(2))\n",
    "ax1.legend(lines[:1],['1 Hz'],loc='upper left',frameon=False)\n",
    "leg2 = mpl.legend.Legend(ax1,lines[1:2],['2 Hz'],loc='lower right')\n",
    "ax1.add_artist(leg2)"
   ]
  },
  {
   "cell_type": "markdown",
   "metadata": {},
   "source": [
    "## Sklaidos grafikai\n",
    "\n",
    "Pradžioje sugeneruosim atsitiktinių taškų vizualizacijai"
   ]
  },
  {
   "cell_type": "code",
   "execution_count": null,
   "metadata": {},
   "outputs": [],
   "source": [
    "t = np.linspace(0, 1, 10, endpoint=False)\n",
    "points = np.random.random(10)"
   ]
  },
  {
   "cell_type": "markdown",
   "metadata": {},
   "source": [
    "Standartinė plot funkcija yra universali.\n",
    "Sklaidos grafikus galime brėžti nurodžius taškus žymėti `o` simboliu."
   ]
  },
  {
   "cell_type": "code",
   "execution_count": null,
   "metadata": {},
   "outputs": [],
   "source": [
    "plt.plot(t,points, 'o')"
   ]
  },
  {
   "cell_type": "code",
   "execution_count": null,
   "metadata": {},
   "outputs": [],
   "source": [
    "import random\n",
    "ax = plt.axes()\n",
    "for symbol in ['o', '.', ',', 'x', '+', 'v', '^', '<', '>', 's', 'd']:\n",
    "    ax.plot(random.random(), random.random(), symbol, label=f\"symbol={symbol}\")\n",
    "    ax.plot(random.random(), random.random(), symbol)\n",
    "    ax.plot(random.random(), random.random(), symbol)\n",
    "    ax.plot(random.random(), random.random(), symbol)\n",
    "    ax.plot(random.random(), random.random(), symbol)\n",
    "ax.legend(numpoints=1, loc='upper right')"
   ]
  },
  {
   "cell_type": "markdown",
   "metadata": {},
   "source": [
    "Įvairius parametrus galima maišyti ir gauti bet kokį grafiką."
   ]
  },
  {
   "cell_type": "code",
   "execution_count": null,
   "metadata": {},
   "outputs": [],
   "source": [
    "plt.plot(t, points, '-d', color='gray',\n",
    "         markersize=20, linewidth=5,\n",
    "         markeredgecolor='gray',\n",
    "         markerfacecolor='blue',\n",
    "         markeredgewidth=3)"
   ]
  },
  {
   "cell_type": "markdown",
   "metadata": {},
   "source": [
    "### plt.scatter\n",
    "\n",
    "Visgi tokiems dažniems grafikams yra specifinės komandos palengvinančios vizualizaciją ."
   ]
  },
  {
   "cell_type": "code",
   "execution_count": null,
   "metadata": {},
   "outputs": [],
   "source": [
    "plt.scatter(t,points, marker = 'd')"
   ]
  },
  {
   "cell_type": "markdown",
   "metadata": {},
   "source": [
    "`scatter` komanda turi daug metodų būtent šiam vizualizacijos tipui kas\n",
    "leidžia daug greičiau pasiekti norimą rezultatą."
   ]
  },
  {
   "cell_type": "code",
   "execution_count": null,
   "metadata": {},
   "outputs": [],
   "source": [
    "x = random.sample(list(range(1000)),20)\n",
    "y = random.sample(list(range(1000)),20)\n",
    "colors = random.sample(list(range(1000)),20)\n",
    "sizes = random.sample(list(range(1000)),20)\n",
    "plt.scatter(x, y, c=colors, s=sizes, alpha=0.5,\n",
    "            cmap='viridis')\n",
    "plt.colorbar()\n",
    "for size in [300, 500, 700]:\n",
    "    plt.scatter([],[],color='black',alpha=.3,s=size, label=f\"{size}\")\n",
    "plt.legend(scatterpoints=1,frameon=False,labelspacing=1,title='Size')"
   ]
  },
  {
   "cell_type": "markdown",
   "metadata": {},
   "source": [
    "Scatter funkcija turi daugiau metodų ir parametrų.\n",
    "Tai palengvina grafikų kūrimą, bet taip pat ir sulėtina programos darbą.\n",
    "Paprastiems sklaidos grafikams turint didelius duomenų masyvus geriau naudoti plot funkciją\n",
    "\n",
    "### Spalvų žemėlapiai (colormaps)\n",
    "\n",
    "Susikuriam funkciją kurios pagalba vaizdinsim žemėlapius"
   ]
  },
  {
   "cell_type": "code",
   "execution_count": null,
   "metadata": {},
   "outputs": [],
   "source": [
    "def view_cmap(cmap):\n",
    "    ax = plt.axes()\n",
    "    cmap = plt.cm.get_cmap(cmap)\n",
    "    cmap = cmap(list(range(cmap.N)))\n",
    "    ax.imshow([cmap],extent=[0,10,0,1])"
   ]
  },
  {
   "cell_type": "markdown",
   "metadata": {},
   "source": [
    "Yra be galo daug spalvų žemėlapių, bet juos visus galima padalinti į grupes:\n",
    "\n",
    "- Nuoseklūs --- tęstinės nepertraukiamos spalvos. Tai dažniausiai naudojami žemėlapiai.\n",
    "Juos lengva interpretuoti, dažniausiai spalvos ryškis kinta su\n",
    "duomenimis."
   ]
  },
  {
   "cell_type": "code",
   "execution_count": null,
   "metadata": {},
   "outputs": [],
   "source": [
    "view_cmap('binary')"
   ]
  },
  {
   "cell_type": "code",
   "execution_count": null,
   "metadata": {},
   "outputs": [],
   "source": [
    "view_cmap('viridis')"
   ]
  },
  {
   "cell_type": "markdown",
   "metadata": {},
   "source": [
    "- Išsiskiriantys --- naudojamos skirtingos spalvos.\n",
    "Šie žemėlapiai labiausiai tinkami parodyti dvi skirtingas puses."
   ]
  },
  {
   "cell_type": "code",
   "execution_count": null,
   "metadata": {},
   "outputs": [],
   "source": [
    "view_cmap('RdBu')"
   ]
  },
  {
   "cell_type": "code",
   "execution_count": null,
   "metadata": {},
   "outputs": [],
   "source": [
    "view_cmap('PuOr')"
   ]
  },
  {
   "cell_type": "markdown",
   "metadata": {},
   "source": [
    "- Kokybiniai: daugelio spalvų mišinys"
   ]
  },
  {
   "cell_type": "code",
   "execution_count": null,
   "metadata": {},
   "outputs": [],
   "source": [
    "view_cmap('rainbow')"
   ]
  },
  {
   "cell_type": "code",
   "execution_count": null,
   "metadata": {},
   "outputs": [],
   "source": [
    "view_cmap('jet')"
   ]
  },
  {
   "cell_type": "markdown",
   "metadata": {},
   "source": [
    "### Spalvų juostos parametrai\n",
    "\n",
    "Kartais norint paryškinti efektus reikia pakeisti z ašies ribas."
   ]
  },
  {
   "cell_type": "code",
   "execution_count": null,
   "metadata": {},
   "outputs": [],
   "source": [
    "x = random.sample(list(range(1000)),100)\n",
    "y = random.sample(list(range(1000)),100)\n",
    "colors = random.sample(list(range(1000)),100)\n",
    "sizes = random.sample(list(range(1000)),100)\n",
    "fig = plt.figure()\n",
    "ax = plt.axes()\n",
    "scat = ax.scatter(x, y, c=colors, s=sizes, alpha=0.5,\n",
    "            cmap=plt.cm.get_cmap('viridis',6))\n",
    "fig.colorbar(scat, extend='max',boundaries=list(range(501)))\n",
    "# plt.colorbar()\n",
    "# plt.clim(0, 500)"
   ]
  },
  {
   "cell_type": "markdown",
   "metadata": {},
   "source": [
    "### Statistiniai elementai\n",
    "\n",
    "Seaborn pakuotė yra geriau pritaikyta šiems elementams vaizduoti."
   ]
  },
  {
   "cell_type": "code",
   "execution_count": null,
   "metadata": {},
   "outputs": [],
   "source": [
    "error=.11\n",
    "plt.errorbar(*sin_wave(10, sample_rate=100), yerr=error, fmt='o',color='gray',\n",
    "        ecolor = 'lightgray',elinewidth=3,capsize=0)"
   ]
  },
  {
   "cell_type": "markdown",
   "metadata": {},
   "source": [
    "Nurodant nuolatinį nuokrypį užpildome erdvę tarp dviejų verčių"
   ]
  },
  {
   "cell_type": "code",
   "execution_count": null,
   "metadata": {},
   "outputs": [],
   "source": [
    "x,y = sin_wave(10)\n",
    "plt.plot(x,y+.1, 'o-')\n",
    "plt.fill_between(x,y-.3, y+.3, # arba plt.fill\n",
    "                 color='gray', alpha=0.2)"
   ]
  },
  {
   "cell_type": "markdown",
   "metadata": {},
   "source": [
    "### Histograma\n",
    "\n",
    "`hist` paišo histogramas.\n",
    "Dauguma parametrų yra tokie patys kaip ir prieš tai minėtuose\n",
    "funkcijose.\n",
    "Prisideda tik duomenų normalizavimas ir suskirstymas."
   ]
  },
  {
   "cell_type": "code",
   "execution_count": null,
   "metadata": {},
   "outputs": [],
   "source": [
    "plt.hist(y, bins=10, density=True, alpha=.4,\n",
    "        color='gray',edgecolor='none'\n",
    "        )"
   ]
  },
  {
   "cell_type": "markdown",
   "metadata": {},
   "source": [
    "## Daugiaašiai grafikai (subplots)\n",
    "\n",
    "Daugiausiai kontrolės turintis būdas yra sukurti naujas ašis nurodytuose koordinatėse."
   ]
  },
  {
   "cell_type": "code",
   "execution_count": null,
   "metadata": {},
   "outputs": [],
   "source": [
    "fig=plt.figure(figsize=(5,5))\n",
    "ax1 = plt.axes()\n",
    "# pradžia nuo figūros kairės, apačios, ilgis, aukštis\n",
    "ax2 = plt.axes([0.3, 0.5, 0.4, 0.2])"
   ]
  },
  {
   "cell_type": "markdown",
   "metadata": {},
   "source": [
    "arba pridedant ašis prie figūros"
   ]
  },
  {
   "cell_type": "code",
   "execution_count": null,
   "metadata": {},
   "outputs": [],
   "source": [
    "fig = plt.figure()\n",
    "ax1 = fig.add_axes([0.1, 0.5, 0.8,0.4])\n",
    "ax2 = fig.add_axes([0.1, 0, 0.8,0.4])"
   ]
  },
  {
   "cell_type": "markdown",
   "metadata": {},
   "source": [
    "Paprasčiau yra naudoti `subplot` funkciją kur nurodome skaičių\n",
    "stulpelių, eilučių ir kaip jie dalinasi ašis."
   ]
  },
  {
   "cell_type": "code",
   "execution_count": null,
   "metadata": {},
   "outputs": [],
   "source": [
    "fig, ax = plt.subplots(ncols= 2, nrows=3, sharex='col', sharey='row')\n",
    "for i in range(3):\n",
    "    for j in range(2):\n",
    "        ax[i, j].text(0.5, 0.5, str((i, j)), # ax contains all the axes\n",
    "                      fontsize=18, ha='center')"
   ]
  },
  {
   "cell_type": "markdown",
   "metadata": {},
   "source": [
    "Sudėtingesniems grafikams naudojamas `gridspec`"
   ]
  },
  {
   "cell_type": "code",
   "execution_count": null,
   "metadata": {},
   "outputs": [],
   "source": [
    "x = random.sample(list(range(1000)),100)\n",
    "y = random.sample(list(range(1000)),100)\n",
    "colors = random.sample(list(range(1000)),100)\n",
    "sizes = random.sample(list(range(1000)),100)\n",
    "fig = plt.figure()\n",
    "grid = plt.GridSpec(4, 4, wspace=0.2, hspace=0.2) # creates 4 by 4 grid with spacing\n",
    "ax=fig.add_subplot(grid[:-1, 1:]) # subplot will take space from top to 2nd from bottom element and from 2nd element from left to right\n",
    "ax1=fig.add_subplot(grid[:-1, 0]) # subplot will take space from top to 2nd from bottom element and first from left\n",
    "ax2=fig.add_subplot(grid[-1, 1:]) # subplot will take space at the bottom and from 2nd element from left to right\n",
    "ax.scatter(x, y, c=colors, s=sizes, alpha=0.5, cmap='viridis')\n",
    "ax1.hist(x,orientation='horizontal',color='gray')\n",
    "ax2.hist(y,orientation='vertical',color='gray')\n",
    "ax1.invert_xaxis()\n",
    "ax2.invert_yaxis()"
   ]
  },
  {
   "cell_type": "markdown",
   "metadata": {},
   "source": [
    "### Žymės (ticks)"
   ]
  },
  {
   "cell_type": "code",
   "execution_count": null,
   "metadata": {},
   "outputs": [],
   "source": [
    "fig = plt.figure(figsize=(10,10))\n",
    "ax = plt.axes(xscale='log',yscale='linear')\n",
    "ax.plot(*sin_wave(2))\n",
    "ax.grid()"
   ]
  },
  {
   "cell_type": "markdown",
   "metadata": {},
   "source": [
    "Grafike matome pagrindinius (major) ir šalutinius (minor) žymenis.\n",
    "Jie kontroliuojami per ašių xaxis ir yaxis objektus.\n",
    "\n",
    "Naudojimo pvz:\n",
    "\n",
    "Išjungti skaičius ir žymenis"
   ]
  },
  {
   "cell_type": "code",
   "execution_count": null,
   "metadata": {},
   "outputs": [],
   "source": [
    "fig = plt.figure(figsize=(10,10))\n",
    "ax = plt.axes(xscale='log',yscale='linear')\n",
    "ax.plot(*sin_wave(2))\n",
    "ax.grid()\n",
    "ax.yaxis.set_major_locator(plt.NullLocator()) # locator keičia vertes\n",
    "ax.xaxis.set_major_formatter(plt.NullFormatter()) # formatter keičia išvaizdą."
   ]
  },
  {
   "cell_type": "markdown",
   "metadata": {},
   "source": [
    "Žymenų dažnis"
   ]
  },
  {
   "cell_type": "code",
   "execution_count": null,
   "metadata": {},
   "outputs": [],
   "source": [
    "fig = plt.figure(figsize=(10,10))\n",
    "ax = plt.axes()\n",
    "ax.plot(*sin_wave(2))\n",
    "ax.grid()\n",
    "ax.yaxis.set_major_locator(plt.MaxNLocator(3))\n",
    "ax.xaxis.set_major_locator(plt.MaxNLocator(3))"
   ]
  },
  {
   "cell_type": "markdown",
   "metadata": {},
   "source": [
    "Specifinių žymenų parinkimas"
   ]
  },
  {
   "cell_type": "code",
   "execution_count": null,
   "metadata": {},
   "outputs": [],
   "source": [
    "fig = plt.figure(figsize=(10,10))\n",
    "ax = plt.axes()\n",
    "ax.plot(* sin_wave(2))\n",
    "ax.grid()\n",
    "ax.xaxis.set_major_locator(plt.MultipleLocator(125)) # multiples of\n",
    "ax.xaxis.set_minor_locator(plt.MultipleLocator(25))"
   ]
  },
  {
   "cell_type": "code",
   "execution_count": null,
   "metadata": {},
   "outputs": [],
   "source": [
    "fig = plt.figure(figsize=(10,10))\n",
    "ax = plt.axes()\n",
    "ax.plot(*sin_wave(2))\n",
    "ax.grid()\n",
    "ax.xaxis.set_major_locator(plt.FixedLocator([145, 333, 897]))\n",
    "ax.xaxis.set_major_formatter(plt.FixedFormatter(['a', 'b', 'c']))"
   ]
  },
  {
   "cell_type": "markdown",
   "metadata": {},
   "source": [
    "Visi parametrai:\n",
    "\n",
    "Pirmiausiai pasirenkame tarp pagrindinių ir šalutinių žymenų\n",
    "\n",
    "Tada renkamės tarp locator ir formatter metodų\n",
    "\n",
    "- locator keičia kur žymenys yra:\n",
    "  - AutoLocator: numatytasis\n",
    "  - NullLocator: nėr žymenų\n",
    "  - FixedLocator: pagal sąrašą\n",
    "    - LinearLocator: vienodai išdėstyti tarp dviejų taškų\n",
    "    - LogLocator:  logaritminis išdėstymas\n",
    "    - MultipleLocator: išdėstyti kas x vienetų\n",
    "    - MaxNLocator: automatiškai išdėsto N žymenų\n",
    "- formatter pakeičia išvaizdą (tekstą)\n",
    "  - ScalarFormatter ar LogFormatter: pagal ašis numatytasis\n",
    "  - NullFormatter: nėra teksto\n",
    "  - FixedFormatter: žymenys iš sąrašo\n",
    "  - FuncFormatter: žymenys iš funkcijos\n",
    "\n",
    "### Anotacijos\n",
    "\n",
    "Norint pavaizduoti tekstą x,y koordinatėse `plt.text(x,y,message,ha='')`"
   ]
  },
  {
   "cell_type": "code",
   "execution_count": null,
   "metadata": {},
   "outputs": [],
   "source": [
    "fig = plt.figure(figsize=(20,20))\n",
    "ax = plt.axes()\n",
    "ax.plot(*sin_wave(10))\n",
    "ax.text(0,0,'Start',ha='center')\n",
    "ax.text(.5,0,'Middle',ha='center')\n",
    "ax.text(.51,1,'Peak',ha='center')"
   ]
  },
  {
   "cell_type": "markdown",
   "metadata": {},
   "source": [
    "X ir Y yra koordinatės duomenų atžvilgiu.\n",
    "Kartais norime dėti žymenis grafiko atžvilgiu."
   ]
  },
  {
   "cell_type": "code",
   "execution_count": null,
   "metadata": {},
   "outputs": [],
   "source": [
    "fig, ax = plt.subplots()\n",
    "ax.axis([0, 10, 0, 10])\n",
    "ax.text(2, 2, \". Data: (2, 2)\", transform=ax.transData) # default\n",
    "ax.text(0.4, 0.5, \". Axes: (0.5, 0.1)\", transform=ax.transAxes) # ašių dimensijos\n",
    "ax.text(0.2, 0.5, \". Figure: (0.2, 0.2)\", transform=fig.transFigure) # Figūros dimensijos"
   ]
  },
  {
   "cell_type": "markdown",
   "metadata": {},
   "source": [
    "Jei dabar pakeistumėme ašių ribas pasikeis tik `transData` variantas."
   ]
  },
  {
   "cell_type": "code",
   "execution_count": null,
   "metadata": {},
   "outputs": [],
   "source": [
    "fig, ax = plt.subplots()\n",
    "ax.axis([0, 10, 0, 10])\n",
    "ax.text(2, 2, \". Data: (2, 2)\", transform=ax.transData)\n",
    "ax.text(0.4, 0.5, \". Axes: (0.5, 0.1)\", transform=ax.transAxes)\n",
    "ax.text(0.2, 0.5, \". Figure: (0.2, 0.2)\", transform=fig.transFigure)\n",
    "ax.set_xlim(1, 3)\n",
    "ax.set_ylim(0,6)"
   ]
  },
  {
   "cell_type": "markdown",
   "metadata": {},
   "source": [
    "Rodyklę sukuriame annotate komanda\n",
    "annotate(text, xy=koordinatės rodyklės galvos, xytext = teksto koordinatės, arrowprops = rodyklės stilius)"
   ]
  },
  {
   "cell_type": "code",
   "execution_count": null,
   "metadata": {},
   "outputs": [],
   "source": [
    "fig = plt.figure()\n",
    "ax = plt.axes()\n",
    "ax.plot(*sin_wave(10))\n",
    "ax.set_ylim(-2,2)\n",
    "ax.set_xlim(0,1)\n",
    "ax.annotate('local maximum',xy=(0.12,1),xytext=(0.12,2),arrowprops=dict(facecolor='black',shrink=0.05))\n",
    "ax.annotate('local minimum', xy=(0.6, -1), xytext=(0.6, -2), bbox=dict(boxstyle=\"round4,pad=.5\", fc=\"0.9\"), arrowprops=dict(arrowstyle=\"->\", connectionstyle=\"angle3,angleA=0,angleB=-90\"))"
   ]
  },
  {
   "cell_type": "markdown",
   "metadata": {},
   "source": [
    "### Stilius grafikų\n",
    "\n",
    "Numatytasis stilius grafiko: plt.rcParams"
   ]
  },
  {
   "cell_type": "code",
   "execution_count": null,
   "metadata": {},
   "outputs": [],
   "source": [
    "style = plt.rcParams.copy()\n",
    "style"
   ]
  },
  {
   "cell_type": "markdown",
   "metadata": {},
   "source": [
    "Galime numatytąjį stilių pakeisti"
   ]
  },
  {
   "cell_type": "code",
   "execution_count": null,
   "metadata": {},
   "outputs": [],
   "source": [
    "plt.rc('grid', color='blue', linestyle='solid')\n",
    "plt.rc('xtick', direction='out', color='gray')\n",
    "plt.rc('ytick', direction='in', color='gray')\n",
    "plt.rc('patch', edgecolor='white')\n",
    "plt.rc('lines', linewidth=2)\n",
    "fig = plt.figure()\n",
    "ax = plt.axes()\n",
    "ax.plot(*sin_wave(10))\n",
    "ax.grid()"
   ]
  },
  {
   "cell_type": "markdown",
   "metadata": {},
   "source": [
    "Bet lengviau pasirinkti vieną iš daugelio sukurtų stilių"
   ]
  },
  {
   "cell_type": "code",
   "execution_count": null,
   "metadata": {},
   "outputs": [],
   "source": [
    "plt.style.available"
   ]
  },
  {
   "cell_type": "code",
   "execution_count": null,
   "metadata": {},
   "outputs": [],
   "source": [
    "plt.style.use('default')\n",
    "fig = plt.figure()\n",
    "ax = plt.axes()\n",
    "ax.plot(*sin_wave(10),label='SIN')\n",
    "ax.legend()"
   ]
  },
  {
   "cell_type": "code",
   "execution_count": null,
   "metadata": {},
   "outputs": [],
   "source": [
    "plt.style.use('ggplot')\n",
    "fig = plt.figure()\n",
    "ax = plt.axes()\n",
    "ax.plot(*sin_wave(10),label='SIN')\n",
    "ax.legend()"
   ]
  },
  {
   "cell_type": "code",
   "execution_count": null,
   "metadata": {},
   "outputs": [],
   "source": [
    "plt.style.use('dark_background')\n",
    "fig = plt.figure()\n",
    "ax = plt.axes()\n",
    "ax.plot(*sin_wave(10),label='SIN')\n",
    "ax.legend()"
   ]
  },
  {
   "cell_type": "code",
   "execution_count": null,
   "metadata": {},
   "outputs": [],
   "source": [
    "plt.style.use('grayscale')\n",
    "fig = plt.figure()\n",
    "ax = plt.axes()\n",
    "ax.plot(*sin_wave(10),label='SIN')\n",
    "ax.legend()"
   ]
  },
  {
   "cell_type": "code",
   "execution_count": null,
   "metadata": {},
   "outputs": [],
   "source": [
    "plt.style.use('seaborn')\n",
    "fig = plt.figure()\n",
    "ax = plt.axes()\n",
    "ax.plot(*sin_wave(10),label='SIN')\n",
    "ax.legend()"
   ]
  },
  {
   "cell_type": "markdown",
   "metadata": {},
   "source": [
    "[Matplotlib galerija skirtingų grafikų](https://matplotlib.org/gallery.html)"
   ]
  },
  {
   "cell_type": "code",
   "execution_count": null,
   "metadata": {},
   "outputs": [],
   "source": []
  },
  {
   "cell_type": "code",
   "execution_count": null,
   "metadata": {},
   "outputs": [],
   "source": []
  },
  {
   "cell_type": "code",
   "execution_count": null,
   "metadata": {},
   "outputs": [],
   "source": []
  }
 ],
 "metadata": {
  "jupytext": {
   "cell_metadata_filter": "-all",
   "encoding": "# -*- coding: utf-8 -*-",
   "formats": "ipynb,py:light,md:myst"
  },
  "kernelspec": {
   "display_name": "Python 3",
   "language": "python",
   "name": "python3"
  },
  "language_info": {
   "codemirror_mode": {
    "name": "ipython",
    "version": 3
   },
   "file_extension": ".py",
   "mimetype": "text/x-python",
   "name": "python",
   "nbconvert_exporter": "python",
   "pygments_lexer": "ipython3",
   "version": "3.8.3"
  }
 },
 "nbformat": 4,
 "nbformat_minor": 4
}
