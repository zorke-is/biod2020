{
 "cells": [
  {
   "cell_type": "markdown",
   "metadata": {
    "lines_to_next_cell": 2,
    "slideshow": {
     "slide_type": "slide"
    }
   },
   "source": [
    " \n",
    " \n",
    "# Apžvalga\n",
    "\n",
    " 2020-09-15\n",
    "\n",
    "Temos:\n",
    "\n",
    "- Kurso struktūra\n",
    "- Įrankių apžvalga\n",
    "   + Komandinė eilutė\n",
    "   + Anaconda\n",
    "   + Git\n",
    "   + Teksto rašymo programos\n",
    "   + Markdown\n",
    "   + Latex\n",
    "   + Dokumentų eksportavimas\n",
    "   + Paieška informacijos internete"
   ]
  },
  {
   "cell_type": "markdown",
   "metadata": {
    "slideshow": {
     "slide_type": "slide"
    }
   },
   "source": [
    "## Kurso planas\n",
    "\n",
    " 1. Įvadas. Duomenų analizės įrankių ekosistema.\n",
    " 2. Python pagrindai.\n",
    " 3. Duomenų radimas ir nuskaitymas.\n",
    " 4. Duomenų vaizdinimas.\n",
    " 5. Duomenų tvarkymas.\n",
    " 6. Baziniai algoritmai ir signalo parametrai.\n",
    " 7. Eksperimento kontrolė."
   ]
  },
  {
   "cell_type": "markdown",
   "metadata": {
    "lines_to_next_cell": 2,
    "slideshow": {
     "slide_type": "slide"
    }
   },
   "source": [
    "## Įvertinimas\n",
    "\n",
    " Semestro metu renkamas kaupiamasis balas, vidurkis skaičiuojamas iš keturių atsiskaitymų. Atsiskaitymo metu naudojantis pratybų ir laboratorinių darbų aprašais sprendžiamos duomenų analizės užduotys\n",
    "\n",
    " Jei bendras kaupiamasis balas yra mažesnis nei 5 studentas (-ė) privalo laikyti egzaminą raštu. Jei bendras kaupiamasis balas yra 5 ir daugiau, bet netenkina studento, galima laikyti egzaminą raštu, tada galutinis įvertinimas toks, koks yra egzamino įvertinimas.\n",
    "\n",
    "### Atsiskaitymų vertinimas\n",
    "\n",
    "- Komentarai aprašantys sprendimą\n",
    "- Pritaikyti metodai\n",
    "- Pavaizdavimas rezultatų\n",
    "- Rezultatas\n",
    "- Kodas"
   ]
  },
  {
   "cell_type": "markdown",
   "metadata": {
    "slideshow": {
     "slide_type": "slide"
    }
   },
   "source": [
    "# Bioduomenų analizės tikslai\n",
    "  - Informacijos surinkimas -- matavimai siekiant interpretuoti sistemą\n",
    "  - Diagnozė -- aptikimas patologijos, sutrikimo\n",
    "  - Monitoringas -- gavimas periodinės informacijos apie sistemą\n",
    "  - Terapija ir kontrolė -- keitimas sistemos elgesio remiantis praeitais žingsniais\n",
    "  - Įvertinimas progreso -- kokybės kontrolė, efektas gydymo"
   ]
  },
  {
   "cell_type": "markdown",
   "metadata": {
    "slideshow": {
     "slide_type": "slide"
    }
   },
   "source": [
    "#  Matavimų ir analizės sunkumai\n",
    "\n",
    "- Signalo variabilumas\n",
    "- Signalo pasiekimas\n",
    "- Sąveika fiziologinių sistemų\n",
    "- Matavimo prietaisų įtaka matavimo sistemai\n",
    "- Fiziologiniai artefaktai\n",
    "- Signalo silpnumas, įtaka pašalinių stipresnių signalų\n",
    "- Tiriamųjų saugumas\n"
   ]
  },
  {
   "cell_type": "markdown",
   "metadata": {
    "slideshow": {
     "slide_type": "slide"
    }
   },
   "source": [
    "# Bioduomenų pavyzdžiai\n",
    "### Smegenų neuronų matavimai skirtingose skalėse\n",
    "\n",
    "![](../images/varela.png)"
   ]
  },
  {
   "cell_type": "markdown",
   "metadata": {
    "slideshow": {
     "slide_type": "slide"
    }
   },
   "source": [
    "### Temperatūra\n",
    "- Kūno temperatūra\n",
    "- Aplinkos temperatūra\n",
    "- Objekto temperatūra\n",
    "\n",
    "![](../images/tempResults.jpg)\n",
    "\n",
    "![](../images/tempSensors.jpg)\n"
   ]
  },
  {
   "cell_type": "markdown",
   "metadata": {
    "lines_to_next_cell": 2,
    "slideshow": {
     "slide_type": "slide"
    }
   },
   "source": [
    "### Elektromiograma (EMG) - Raumenų aktyvumo tyrimas\n",
    "\n",
    "![](../images/EMGCOACTIVATION.JPG)\n",
    "![](../images/WatanabeEMG.png)"
   ]
  },
  {
   "cell_type": "markdown",
   "metadata": {
    "slideshow": {
     "slide_type": "slide"
    }
   },
   "source": [
    "###  Elektrokardiograma (ECG)\n",
    "\n",
    "![](../images/ECGfirst.jpg)\n",
    "![](../images/ECG1.png)"
   ]
  },
  {
   "cell_type": "markdown",
   "metadata": {
    "slideshow": {
     "slide_type": "slide"
    }
   },
   "source": [
    "### Elektroencefalograma (EEG) ir Magnetoencefalograma (MEG)\n",
    " - Delta <4Hz\n",
    " - Theta 4-7Hz\n",
    " - Alpha 8-15Hz\n",
    " - Beta 16-31 Hz\n",
    " - Gamma >31\n",
    " \n",
    "![](../images/sources.png)\n",
    "![](../images/EEGcap.png)\n",
    "![](../images/erp.png)"
   ]
  },
  {
   "cell_type": "markdown",
   "metadata": {
    "slideshow": {
     "slide_type": "slide"
    }
   },
   "source": [
    "###  Funkcinis magnetinis rezonansas (fMRI)\n",
    " ![Glover, 2010](../images/fmri.jpg)"
   ]
  },
  {
   "cell_type": "markdown",
   "metadata": {
    "slideshow": {
     "slide_type": "slide"
    }
   },
   "source": [
    "### Kalba\n",
    " ![Schnupp, 2010](../images/pitch.jpg)"
   ]
  },
  {
   "cell_type": "markdown",
   "metadata": {
    "slideshow": {
     "slide_type": "slide"
    }
   },
   "source": [
    "###  Klausimynai (Opler, 2017)\n",
    "- Pozityvių ir negatyvių simptomų skalė (PANSS) skirta nustatyti šizofrenija sergančių pacientų simptomų išreikštumą.\n",
    "- Skalę sudaro trys dalys, kuriuose įvertinami įvairūs ligos simptomai (pozityvūs, negatyvūs, neuromotoriniai, depresiniai), taip pat šeimos narių, slaugytojų pranešima\n",
    "- Iš 30 testo elementų, septyni priskiriami pozityviai skalei (minimalus įvertinimas 7, maksimalus -- 49), kuri aprašo normalių funkcijų pakitimus (pvz., haliucinacijos, kliedesiai, didybė, iliuzijos)\n",
    "- Negatyvi skalė reprezentuoja normalių funkcijų, kaip gebėjimo atskirti realybę ar reikšti emocijas, netekimą (7 elementai, minimalus įvertinimas 7, maksimalus įvertinimas 49)\n",
    "- Bendra psichopatologijos skalė vertina 16 elementų (minimalus įvertinimas 16, maksimalus įvertinimas 112) tokių kaip depresija, dezorientacija ir t.t.\n",
    "- Galiausiai suminė PANSS vertė gaunama susumuojant visas teigiamos, neigiamos ir bendros skalės vertes (minimali vertė 30 ir maksimali vertė 210)"
   ]
  },
  {
   "cell_type": "markdown",
   "metadata": {},
   "source": [
    "## Analizės schema"
   ]
  },
  {
   "cell_type": "markdown",
   "metadata": {},
   "source": [
    "![](../images/Pipeline.png)"
   ]
  },
  {
   "cell_type": "markdown",
   "metadata": {
    "slideshow": {
     "slide_type": "slide"
    }
   },
   "source": [
    "# Aplinkos paruošimas\n",
    "\n",
    " - Operacinė sistema (www.distrowatch.com)\n",
    " - Komandinė eilutė (https://docs.microsoft.com/en-us/windows/wsl/install-win10)\n",
    " - Sistemos valdymo programos\n",
    " - Analizės vykdymo ir pavaizdavimo programos"
   ]
  },
  {
   "cell_type": "markdown",
   "metadata": {
    "slideshow": {
     "slide_type": "slide"
    }
   },
   "source": [
    "# Komandinė eilutė\n",
    "\n",
    "Pagrindiniai kompiuterių veiksmai:\n",
    " * programų paleidimas\n",
    " * duomenų saugojimas\n",
    " * komunikavimas su kitais kompiuteriais\n",
    " * komunikavimas su žmonėmis\n",
    "\n",
    "Dažnai komunikacijai naudojamos grafinį vaizdą (*GUI*) turinčios programos valdomos pelės pagalba. Norint pagreitinti darbą ir automatizuoti pasikartojančius veiksmus programas galima valdyti klaviatūra per terminalą (*CLI*)."
   ]
  },
  {
   "cell_type": "markdown",
   "metadata": {
    "slideshow": {
     "slide_type": "slide"
    }
   },
   "source": [
    "##  Pagrindinės komandos, veiksmai:\n",
    "\n",
    " Terminalas startuoja vartotojo namų direktorijoje `/home/neurobiofiz/` tai galime pamatyti įvedę komandą `pwd`\n",
    " Namų direktorija Linux sistemose trumpinama `~`. Terminalas startuodamas visada perskaito konfigūracijos failą `~/.bashrc`. Konfigūracijos failas skirtas praplėsti ir pritaikyti terminalą prie savo poreikių."
   ]
  },
  {
   "cell_type": "code",
   "execution_count": 1,
   "metadata": {},
   "outputs": [
    {
     "data": {
      "text/plain": [
       "'/home/aleks/Documents/biod2020/lect'"
      ]
     },
     "execution_count": 1,
     "metadata": {},
     "output_type": "execute_result"
    }
   ],
   "source": [
    "pwd"
   ]
  },
  {
   "cell_type": "markdown",
   "metadata": {},
   "source": [
    " Komanda `ls` parodo direktorijos turinį:"
   ]
  },
  {
   "cell_type": "code",
   "execution_count": 2,
   "metadata": {},
   "outputs": [
    {
     "name": "stdout",
     "output_type": "stream",
     "text": [
      "lect1_Intro.html  \u001b[0m\u001b[01;32mlect1_Intro.ipynb\u001b[0m*  \u001b[00;32mlect1_Intro.pdf\u001b[0m  \u001b[01;32mlect1_Intro.py\u001b[0m*\n"
     ]
    }
   ],
   "source": [
    "ls"
   ]
  },
  {
   "cell_type": "markdown",
   "metadata": {
    "slideshow": {
     "slide_type": "slide"
    }
   },
   "source": [
    " Failai prasidedantys tašku `.` kaip kad terminalo konfigūracija yra paslėpti. Norint kad komanda ls juos parodytų reikia pridėti papildomų argumentų (*flags*).\n",
    "```bash\n",
    " ls -a\n",
    "```\n",
    " Norint pamatyt failus esančius kitoje direktorijoje prie komandos `ls` nurodome norimą direktoriją. Pavyzdžiui norėdami pamatyti turinį direktorijos ~/Documents/biod/ suvedame\n",
    " ```bash\n",
    " ls ~/Documents/biod/\n",
    " ```\n",
    "Pasviri brūkšniai  / skiria direktorijas linux sistemoje\n",
    "\n",
    " TAB klavišas pabaigia pradėtus rašyt žodžius. Pradėjus rašyt `~/Doc` paspaudus TAB automatiškai užbaigs žodį arba parodys galimus variantus."
   ]
  },
  {
   "cell_type": "markdown",
   "metadata": {
    "slideshow": {
     "slide_type": "slide"
    }
   },
   "source": [
    "Dokumentacija  pasiekiama `man` komanda ir naudoja šiuos universalius simbolius:\n",
    "- Navigacija  hjkl arba rodyklės\n",
    "- / paieška\n",
    "- Ctrl+d/u žemyn aukštyn puse ekrano\n",
    "- q išeiti\n",
    "\n",
    "\n",
    "```bash\n",
    " man ls\n",
    "```"
   ]
  },
  {
   "cell_type": "markdown",
   "metadata": {
    "slideshow": {
     "slide_type": "slide"
    }
   },
   "source": [
    "### Reliatyvios direktorijos\n",
    "\n",
    "Priklausomai kurioje vietoje esame į kitas direktorijas galima patekti įvairiais būdais.\n",
    "Jei mes esame direktorijoje pratybos/, o visas direktorijų medis atrodo taip:\n",
    "\n",
    "```\n",
    "/home/neurobiofiz/Documents/biod/\n",
    "├── duomenys\n",
    "│   ├── csv\n",
    "│   ├── img\n",
    "│   ├── mat\n",
    "│   ├── txt\n",
    "│   └── xlsx\n",
    "├── paskaitos\n",
    "└── pratybos\n",
    "    ├── kodas\n",
    "    │   ├── cpp\n",
    "    │   ├── jpynb\n",
    "    │   ├── m\n",
    "    │   ├── md\n",
    "    │   ├── py\n",
    "    │   ├── r\n",
    "    │   └── sh\n",
    "    └── paveikslai\n",
    "\n",
    "17 directories\n",
    "```"
   ]
  },
  {
   "cell_type": "markdown",
   "metadata": {
    "slideshow": {
     "slide_type": "slide"
    }
   },
   "source": [
    "Jei mes norime patekti į `md` direktoriją tai galime padaryti tokiais būdais:\n",
    "1. Nurodydami pilną sistemos kelią link direktorijos `cd /home/neurobiofiz/Documents/biod/pratybos/kodas/md`\n",
    "1. Nurodydami pilną sistemos kelią link direktorijos pakeičiant namų direktoriją trumpiniu  `cd ~/Documents/biod/pratybos/kodas/md`\n",
    "1. Nurodydami reliatyvų kelią link direktorijos `cd ./kodas/md`\n",
    "Taškas nurodo dabartinę direktoriją ir jį galima dažnai praleisti ir rašyt `cd kodas/md`.\n",
    "Dvitaškis `..` nurodo direktoriją prieš dabar esamą. Taigi jei esame direktorijoje `md` `ls ../` komanda parodytų turinį direktorijos `kodas`. Tai labai naudinga programose nurodant kur yra duomenys -- pasikeitus kompiuteriui ar nukopijavus projektą į kitą laikmeną pilnas kelias pasikeičia, bet reliatyvus lieka toks pats.\n",
    "Taigi jei mes turime savo programą direktorijoje `py` ir iš jos norime pamatyti duomenų pavadinimus direktorijoje `txt` rašome komandą:\n",
    "\n",
    "```bash\n",
    "ls ../../../duomenys/txt/\n",
    "```"
   ]
  },
  {
   "cell_type": "markdown",
   "metadata": {
    "lines_to_next_cell": 2,
    "slideshow": {
     "slide_type": "slide"
    }
   },
   "source": [
    "```bash\n",
    " cd .\n",
    "```\n",
    "```bash\n",
    " cd ..\n",
    "```\n",
    "```bash\n",
    " cd ~\n",
    "```\n",
    "```bash\n",
    " cd -\n",
    "```\n",
    "```bash\n",
    " cd ~/Documents/biod2020/\n",
    "```\n",
    "\n",
    " ![ls](../images/bashLS.png)"
   ]
  },
  {
   "cell_type": "markdown",
   "metadata": {
    "slideshow": {
     "slide_type": "slide"
    }
   },
   "source": [
    "## Linux [Failų sistema](https://en.wikipedia.org/wiki/Unix\\_filesystem\\#Conventional\\_directory\\_layout)\n",
    " \n",
    " ![](../images/LinuxFileSystem.png)"
   ]
  },
  {
   "cell_type": "markdown",
   "metadata": {},
   "source": [
    "### Kūrimas direktorijų ir failų\n",
    "- mkdir direktorijosPavadinimas\n",
    "\n",
    "\n",
    "```bash\n",
    " mkdir testas\n",
    " ls\n",
    "```\n",
    "\n",
    "\n",
    "\n",
    "- Nenaudot tarpų, lietuviškų raidžių. Esant tarpams reikia apsupti žodžius kabutėmis.\n",
    "- Naudotini simboliai: raidės, skaičiai, -, _"
   ]
  },
  {
   "cell_type": "markdown",
   "metadata": {},
   "source": [
    "Galima sukurti iškarto visą direktorijų medį:\n",
    "\n",
    "```bash\n",
    "mkdir -p Biodata/{paskaitos,pratybos/{paveikslai,kodas/{py,jpynb,md,sh,m,cpp,config}},duomenys{xlsx,txt,csv,mat,img}}\n",
    "```\n",
    "\n",
    "```\n",
    "  Biodata/\n",
    "  ├── duomenyscsv\n",
    "  ├── duomenysimg\n",
    "  ├── duomenysmat\n",
    "  ├── duomenystxt\n",
    "  ├── duomenysxlsx\n",
    "  ├── paskaitos\n",
    "  └── pratybos\n",
    "      ├── kodas\n",
    "      │   ├── cpp\n",
    "      │   ├── jpynb\n",
    "      │   ├── m\n",
    "      │   ├── md\n",
    "      │   ├── py\n",
    "      │   ├── config\n",
    "      │   └── sh\n",
    "      └── paveikslai\n",
    "\n",
    "16 directories, 0 files\n",
    "```\n"
   ]
  },
  {
   "cell_type": "markdown",
   "metadata": {
    "lines_to_next_cell": 2
   },
   "source": [
    " - touch failoVardas -  sukuria tuščią failą. Sukurti failus galima naudojant nano, vim arba grafinę sąsają turinčias programas (gedit, kate, notepad)\n",
    " \n",
    " \n",
    "```bash\n",
    " cd test\n",
    " touch test.txt\n",
    " ls\n",
    "```"
   ]
  },
  {
   "cell_type": "markdown",
   "metadata": {},
   "source": [
    "- Failai perkeliami, pervadinami su move komanda: mv ~/Documents/tekstas.txt ~/Downloads/tekstas2.txt (kopijuoja komanda --- cp, ištrina --- rm)\n",
    "\n",
    "\n",
    "```bash\n",
    "mv test.txt test2.txt\n",
    "ls\n",
    "```"
   ]
  },
  {
   "cell_type": "markdown",
   "metadata": {
    "lines_to_next_cell": 2,
    "slideshow": {
     "slide_type": "slide"
    }
   },
   "source": [
    "## Filtravimas **Wild cards**\n",
    "\n",
    " `*` ir `?` simboliai praverčia norint dirbti su daugiau nei vienu failu ar direktorija.\n",
    " Visus duomenų failus parodo komanda:\n",
    " ```bash\n",
    " ls ~/Documents/biod/duomenys/csv/\n",
    " ```\n",
    " Jei mes norėtumėme pamatyti tik failus kurių pavadinime yra raidžiu junginys LY naudotumėm simboli `*` kuris atstoja 0 ar daugiau simbolių\n",
    " ```bash\n",
    " ls ~/Documents/biod/duomenys/csv/*LY*\n",
    " ```\n",
    " `?` atstoja 1 simbolį."
   ]
  },
  {
   "cell_type": "markdown",
   "metadata": {},
   "source": [
    "```bash\n",
    " rm *txt\n",
    " ls\n",
    "\n",
    " cd ..\n",
    " rm -rf test\n",
    "```"
   ]
  },
  {
   "cell_type": "markdown",
   "metadata": {},
   "source": [
    "- Įrašom tekstą į failą teksto redaktoriumi arba komanda echo\n",
    "\n",
    "\n",
    "```bash\n",
    " echo 'komandine eilute' > textas.txt\n",
    "```\n",
    " Peržiūrėti failo turinį galima šiais būdais\n",
    "\n",
    "```bash\n",
    " cat textas.txt\n",
    "```\n",
    "\n",
    "```bash\n",
    " less textas.txt\n",
    "```\n",
    "\n",
    "```bash\n",
    " head textas.txt\n",
    "```\n",
    "\n",
    "```bash\n",
    " tail textas.txt\n",
    "```"
   ]
  },
  {
   "cell_type": "markdown",
   "metadata": {},
   "source": [
    "## Operacijų grandinės (pipes)\n",
    " - Sujungti programas galima grandinių pagalba. Tai leidžia skirtingas programas sujungti unikaliems tikslams.\n",
    " 1. Viengubas ženklas > po komandas `komanda > failas` sukuria  failą (perrašo jei egzistavo) ir į jį įrašo išeigą komandos.\n",
    " 1. Dvigubas >> po komandos  `komanda >> failas` failo gale prideda išeigą komandos\n",
    " 1. Vertikalus brūkšnys `|` tarp dviejų komandų nurodo terminalui kad mes norim pirmos komandos išeigą naudoti sekančioje programoje\n",
    "pavyzdžiui eilučių skaičių visuose .txt failuose suskaičiuoti ir įrašyti galima tokia komanda"
   ]
  },
  {
   "cell_type": "markdown",
   "metadata": {},
   "source": [
    "```bash\n",
    "wc -l *.txt >> textas.txt\n",
    "cat textas.txt\n",
    "```"
   ]
  },
  {
   "cell_type": "markdown",
   "metadata": {},
   "source": [
    " arba sugeneruoti atsitiktinę seka ATGC raidžių:\n",
    "```bash\n",
    " cat /dev/urandom | tr -dc 'ATGC' | fold -w 60 | head -n 5\n",
    "```\n",
    "\n",
    "## Paieška\n",
    " - paieška teksto ar žodžių failuose:\n",
    " \n",
    " \n",
    "```bash\n",
    " grep -n 'eilute'\n",
    "```\n",
    "\n",
    " - paprastesnė sintaksė ir daug greitesni: silversearch (ag), ripgrep (rg)\n",
    "\n",
    "```bash\n",
    " rg eilute\n",
    "```\n",
    "\n",
    "- paieška failų:\n",
    "\n",
    "```bash\n",
    " find . -name lect1\n",
    "```\n",
    "\n",
    "Failų prieigos teisės\n",
    " - Teisės kiekvienam failui ar direktorijai galima pamatyt komanda:\n",
    " ls -l failoVardas\n",
    " - Teisės keičiamos komanda: chmod u=rwx failoVardas\n",
    " - Įgauti administratoriaus teises galima naudojant komandą: sudo"
   ]
  },
  {
   "cell_type": "markdown",
   "metadata": {
    "lines_to_next_cell": 2
   },
   "source": [
    "# [Git įvadas](https://git-scm.com)\n",
    "\n",
    " ![Git](../images/phdComicsFinalDoc.png)\n",
    "\n",
    " - github, bitbucket, gitlab - nemokamos talpyklos\n",
    " - figshare.com, zenodo.org, osf.io tuo pačiu standartu besikuriančios atkartojamo mokslo talpyklos\n",
    " - [talpyklos su python darbais](https://github.com/search?l=Python&q=python&type=Repositories)\n",
    " - [tensorflow](https://github.com/tensorflow/tensorflow)\n",
    " - [istorijos](https://github.com/customer-stories?type=enterprise)\n",
    "-  osf.io ir panašūs puslapiai talpinantys mokslinius straipsnius"
   ]
  },
  {
   "cell_type": "markdown",
   "metadata": {},
   "source": [
    "## Kam reikia?\n",
    "\n",
    " Leidžia kontroliuoti dokumentus\n",
    " - Grįžti prie buvusios versijos\n",
    " - Palyginti skirtingas versijas\n",
    " - Vienu metu turėti daug versijų\n",
    " - Matyti kas ką ir kada pakeitė\n",
    " - Sincronizuoti tarp skirtingų irenginių\n",
    " - Saugoti atsarginę pilną versiją\n",
    " - Dirbti komandoje\n",
    " - Visa projekto eiga lengvai atkuriama (reproducible)"
   ]
  },
  {
   "cell_type": "markdown",
   "metadata": {},
   "source": [
    " Pilna dokumentacija: https://git-scm.com/book/en/v2"
   ]
  },
  {
   "cell_type": "markdown",
   "metadata": {},
   "source": [
    "##  Git istorija\n",
    "\n",
    " ![git](../images/gitHistory.png)\n",
    " \n",
    "- Vietinė versijų kontrolė (RCS)\n",
    "- Centralizuota vietinė versijų kontrolė (subversion, CVS)\n",
    "- Paskirstyta versijų kontrolė (Git, Mercurial)"
   ]
  },
  {
   "cell_type": "markdown",
   "metadata": {},
   "source": [
    "##  Diegimas\n",
    "https://git-scm.com/download/ (arba is anacondos: conda install git)\n",
    "\n",
    "Pirmą kartą naudojantis git reikia atlikti **konfigūraciją**. Nurodome vardą ir el-paštą kuris matysis atliekant pakeitimus."
   ]
  },
  {
   "cell_type": "markdown",
   "metadata": {},
   "source": [
    " ```bash\n",
    " git config\n",
    " \n",
    " git config --global user.name \"Vardas Pavarde\"\n",
    " \n",
    " git config --global user.email pastas@domain.com\n",
    " ```\n",
    " Numatytasis teksto editorius naudojamas git - vim\n",
    " Norint pasikeisti reikia įrašyt atitinkamą komandą (išeilės: nano, notepad++, gedit, isual studio code):"
   ]
  },
  {
   "cell_type": "markdown",
   "metadata": {},
   "source": [
    " ```bash\n",
    " git config --global core.editor \"nano -w\"\n",
    " \n",
    " git config --global core.editor \"'c:/program files (x86)/Notepad++/notepad++.exe' -multiInst -notabbar -nosession -noPlugin\"\n",
    " \n",
    " git config --global core.editor \"gedit --wait --new-window\"\n",
    " \n",
    " git config --global core.editor \"code --wait\"\n",
    " ```\n",
    "\n",
    " Šiuolaikiniai IDE tokie kaip PyCharm, Jupyter lab, visual studio code turi GUI git integraciją."
   ]
  },
  {
   "cell_type": "markdown",
   "metadata": {},
   "source": [
    "##  Talpyklos kūrimas\n",
    " \n",
    "```bash\n",
    " git init\n",
    "```\n",
    "\n",
    "## Atsisiuntimas egzistuojančių (pvz kurso talpyklos)\n",
    "\n",
    "Galimi variantai protokolo https://, git:// (ssh)\n",
    "\n",
    "```bash\n",
    "git clone https://github.com/avoicikas/biod2020.git \n",
    "```\n",
    "\n",
    "##  Git darbo eiga\n",
    "\n",
    "![](../images/gitSimpleWorkflow.png)\n",
    " - Modify, stage, commit\n",
    " - Valdoma komandinės eilutės, specifinės programos arba tiesiai iš teksto įvedimo programų\n",
    "\n",
    " ![](../images/gitFileLyfecycle.png)"
   ]
  },
  {
   "cell_type": "markdown",
   "metadata": {},
   "source": [
    "## Darbas su saugykla\n",
    "Informacija"
   ]
  },
  {
   "cell_type": "markdown",
   "metadata": {},
   "source": [
    "```bash\n",
    " git status\n",
    "```\n",
    "\n",
    " Failo pridėjimas. -A prideda visus failus saugyklos ribose.\n",
    "\n",
    "```bash\n",
    " git add tt.txt\n",
    " \n",
    " git status\n",
    "```\n",
    "\n",
    "```bash\n",
    " git add -A\n",
    "```\n",
    "\n",
    "```bash\n",
    " git add .\n",
    "```\n",
    "\n",
    "```bash\n",
    " git status\n",
    "```\n",
    "\n",
    "Failas pašalinamas iš sekamų\n",
    "\n",
    "```bash\n",
    " git rm --cached tt.txt\n",
    "```\n",
    "\n",
    "## Failų ignoravimas\n",
    "\n",
    "Dažnai yra tokių failų kurių mes nenorime kitimo sekti ar saugoti. Pvz: techniniai failai, dideli duomenų failai. Tam yra sukuriamas .gitignore failas kuriame nurodomos taisyklės kurių failų saugykla neturėtų matyti. Šio failo paiso ir daugelis kitų programų. Pvz: rg neieškos teksto šiuose failuose.\n",
    "\n",
    " - https://www.gitignore.io/\n",
    " - Glob taisyklės: ? * [abc] [0-9]\n",
    " - \\# komentarai ignoruojami"
   ]
  },
  {
   "cell_type": "markdown",
   "metadata": {},
   "source": [
    "Pavyzdžiai taisyklių:\n",
    "- ignoruos failus kurių plėtiniai o arba a\n",
    "`*.[oa]`\n",
    "- ignoruos failus besibaigiančius tilde\n",
    "` *~`\n",
    "- nors ir yra taisyklė ignoruoti a gale turinčius failus lib.a nebus ignoruojamas\n",
    " `!lib.a`\n",
    "- ignoruoti direktoriją build\n",
    " `build/`\n",
    "- ignoruos doc direktorijoje visus txt failus\n",
    " `doc/*.txt`\n",
    "- ignoruos pdf failus doc direktorijoje ir jos subdirektorijose\n",
    "`doc/**/*.pdf`"
   ]
  },
  {
   "cell_type": "markdown",
   "metadata": {},
   "source": [
    "# Pakeitimų užsaugojimas\n",
    "\n",
    "Pridėjus failus prie sekamų sąrašo ir atlikus darbus norint užsaugoti esamą situacija atliekama commit komanda\n",
    "```bash\n",
    " git commit -m 'zinute kad atsiminti kokie darbai atlikti sioje stadijoje'\n",
    "```\n",
    " Padarius klaidą galima ištaisyti žinutę komanda:\n",
    "```bash\n",
    " git commit --amend\n",
    "```\n",
    " Pažiūrėti istoriją saugojimų galime komanda log:\n",
    "```bash\n",
    " git log\n",
    " git log --stat\n",
    " git log -p -2\n",
    " git log --pretty=oneline\n",
    " git log --pretty=format:\"%h - %an, %ar : %s\"\n",
    "```\n",
    " Pamatyti skirtumus tarp versijų\n",
    "```bash\n",
    " git diff hash1 hash2\n",
    "```\n",
    " Atstatyti versijas\n",
    "```bash\n",
    " git reset HEAD filename\n",
    "```\n",
    " arba\n",
    "```bash\n",
    " git checkout -- filename\n",
    "```\n",
    "#  Nuotolinė saugykla"
   ]
  },
  {
   "cell_type": "markdown",
   "metadata": {},
   "source": [
    " Pamatyti nuotolinės saugyklos adresą\n",
    "```bash\n",
    " git remote -v\n",
    "```\n",
    " Pridėti nuotolinę saugyklą\n",
    "```bash\n",
    " git remote add shortname URL\n",
    "```\n",
    " Atnaujinti duomenis\n",
    "```bash\n",
    " git pull\n",
    "```\n",
    "# Šakojimas\n",
    "\n",
    " ![branching](../images/gitbranching.png)\n",
    "\n",
    "- git branch branchName sukūrimas atšakos\n",
    "- git checkout master\n",
    "- git merge branchName  sujungimas atšakų\n",
    "- git branch            visų atšakų pavaizdavimas"
   ]
  },
  {
   "cell_type": "markdown",
   "metadata": {},
   "source": [
    " ![](../images/gitCycle1.png)"
   ]
  },
  {
   "cell_type": "markdown",
   "metadata": {},
   "source": [
    " Daugiau informacijos ir nuotolinių saugyklų aprašus galima rasti:\n",
    " - github.com\n",
    " - bitbucket.org\n",
    " - gitlab.com\n",
    " - https://guides.github.com/activities/hello-world/\n",
    " - https://www.atlassian.com/git/tutorials/learn-git-with-bitbucket-cloud\n",
    "\n",
    "\n",
    " #   [Anaconda](https://www.anaconda.com/)\n",
    " Tai populiariausia python mokslui ir duomenų analizei skirta platforma tvarkanti pakuotes ir aplinkas. Skirtingai nuo pip conda pakuotės yra sukompiliuotos (pip atsisiuntęs turi sukompiliuoti pakuotes, o tam reik atitinkamai paruošti kompiuterį skirtingoms pakuotėms). Conda yra platesnio profilio tvarkyklė galinti tvarkyti ir python versijas ir kitomis kalbomis parašytas programas. Visgi pip turi daug kartų daugiau pakuočių skirtų įvairiausiems tikslams tuo tarpu conda fokusuojasi į duomenų analizę. Prireikus pakuočių nesančių conda sąraše galima jis įdiegti conda sukurtoje aplinkoje standartine pip diegimo tvarka."
   ]
  },
  {
   "cell_type": "markdown",
   "metadata": {},
   "source": [
    "#### Diegimas windows aplinkoje\n",
    "\n",
    " [Chocolatey ](https://chocolatey.org/) programa skirta automatizuoti  windows sistemoje įdiegimą ir tvarkymą programų.\n",
    " - Windows:\n",
    "    + choco install anaconda\n",
    "    + arba atsisiuntus [Anaconda](https://docs.anaconda.com/anaconda/install/)\n",
    " - Linux\n",
    "    + naudoti distribucijos tvarkykles arba atsisiųsti"
   ]
  },
  {
   "cell_type": "markdown",
   "metadata": {},
   "source": [
    "Tiek windows tiek Linux variante galima conda valdyt GUI pagalba (anaconda-navigator).\n",
    "Home skiltyje galima pasirinkti ir startuoti programas kodo redagavimui pasirinktoje aplinkoje (*environments*).\n",
    "\n",
    "![](../images/AnacondaHome.png)\n",
    "\n",
    "Environments skiltyje galima pasirinkti/sukurti/ištrinti aplinkas ir instaliuoti bei atnaujinti aplinkose esančius paketus.\n",
    "\n",
    "![](../images/AnacondaEnv.png)\n",
    "\n",
    "Detaliau [oficialiame Anaconda apraše](https://docs.anaconda.com/anaconda/navigator/getting-started/).\n",
    "\n",
    "Norint detaliau valdyti situaciją atsidarome terminalą. Windows sistemoje ieškome `Anaconda Prompt`.\n",
    "\n",
    "Atidarytame terminale matome aktyvią conda aplinką `base`.\n",
    "Naują aplinką pavadinimu NEURO galima sukurti `conda create --name NEURO` komandos pagalba. Naują aplinką būtina kurti kai naudojamos nestandartinės (senesnės) versijos pakuotės ar kai norim izoliuoti sistemą (pavyzdžiui esant konfliktuojančioms pakuotėms), arba norim naudoti specifinę python versiją.\n",
    "\n",
    "Visas sukurtas aplinkas galima pamatyti komanda\n",
    "```bash\n",
    "conda info --envs\n",
    "```\n",
    "\n",
    "Gautoje išeigoje * žymi aktyvią aplinką\n",
    "```\n",
    "conda environments:\n",
    "\n",
    "      base         * /home/neurobiofiz/Anaconda3\n",
    "      NEURO          /home/neurobiofiz/Anaconda3/envs/NEURO\n",
    "```\n",
    "\n",
    "Aktyvuoti norimą aplinka:\n",
    "```bash\n",
    "conda activate NEURO\n",
    "```\n",
    "Pakuotes sudiegtas aplinkoje matome komanda\n",
    "```bash\n",
    "conda list\n",
    "```\n",
    "\n",
    "Paieška pakuotės numpy\n",
    "```bash\n",
    "conda search numpy\n",
    "```\n",
    "Diegimas pakoutės numpy\n",
    "```bash\n",
    "conda install numpy\n",
    "```\n",
    "\n",
    " Bendra informacija\n",
    "```bash\n",
    "conda info\n",
    "```"
   ]
  },
  {
   "cell_type": "markdown",
   "metadata": {},
   "source": [
    " - Sukūrimas naujos izoliuotos aplinkos ir diegimas reikalingų pakuočių\n",
    " \n",
    "```bash\n",
    " conda create --name environment_name python=2.7 matplotlib\n",
    "```\n",
    " \n",
    " - Visų aplinkų pavaizdavimas\n",
    "\n",
    "```bash\n",
    " conda info --envs\n",
    "```\n",
    "\n",
    "- Aplinkos įjungimas ir išjungimas\n",
    "\n",
    "```bash\n",
    " conda activate|deactivate environment_name\n",
    "```\n",
    "\n",
    "- Aplinkos ištrynimas\n",
    "\n",
    "```bash\n",
    " conda remove --name environment_name --all\n",
    "```\n",
    " - Paieška pakuočių\n",
    "\n",
    "```bash\n",
    " conda search package_name\n",
    "```"
   ]
  },
  {
   "cell_type": "markdown",
   "metadata": {
    "lines_to_next_cell": 2
   },
   "source": [
    " - Diegimas pakuočių dabartinėj aplinkoje\n",
    " \n",
    "```bash\n",
    " conda install python=3.4 numpy\n",
    "```\n",
    " \n",
    "Kadangi conda dirba ne vien su python pakuotėmis galime atsisiųsti ir daug kitų programų naudojamų analizėj\n",
    "\n",
    "```bash\n",
    " conda install git\n",
    "```\n",
    "\n",
    "- Įdiegtų pakuočių aplinkoje pavaizdavimas\n",
    "\n",
    "```bash\n",
    " conda list\n",
    "```\n",
    "\n",
    "Dažnai pateikiama informacija apie pilną conda aplanką environment.yml failuose. Turint tokį failą lengva sudiegti reikalingas pakuotes naujame izoliuotame aplanke.\n",
    "\n",
    "```bash\n",
    " conda env create --name mne --file environment.yml.\n",
    "```\n",
    "\n",
    "Detaliau [oficialiame Anaconda apraše](https://conda.io/projects/conda/en/latest/user-guide/getting-started.html)\n",
    "\n",
    "\n",
    "[Komandų trumpas sąrašas](https://conda.io/projects/conda/en/latest/user-guide/cheatsheet.html)\n"
   ]
  },
  {
   "cell_type": "markdown",
   "metadata": {},
   "source": [
    "### YAML intro"
   ]
  },
  {
   "cell_type": "code",
   "execution_count": 3,
   "metadata": {},
   "outputs": [
    {
     "data": {
      "image/jpeg": "[encoded data removed]",
      "text/html": [
       "\n",
       "        <iframe\n",
       "            width=\"400\"\n",
       "            height=\"200\"\n",
       "            src=\"https://www.youtube.com/embed/1uFVr15xDGg?fs=1&autoplay=0\"\n",
       "            frameborder=\"0\"\n",
       "            allowfullscreen\n",
       "        ></iframe>\n",
       "        "
      ],
      "text/plain": [
       "<IPython.lib.display.YouTubeVideo at 0x7f12a6e40040>"
      ]
     },
     "execution_count": 3,
     "metadata": {},
     "output_type": "execute_result"
    }
   ],
   "source": [
    "from IPython.display import YouTubeVideo\n",
    "video = YouTubeVideo(id='1uFVr15xDGg', width=400, height=200, fs=1, autoplay=0)\n",
    "video"
   ]
  },
  {
   "cell_type": "markdown",
   "metadata": {},
   "source": [
    "# Teksto surinkimo programos\n",
    "\n",
    "- PyCharm\n",
    " \n",
    "![PyCharm](../images/pycharm.png)\n",
    " \n",
    "- Spyder\n",
    " \n",
    "![Spyder](../images/spyder.png)\n",
    " \n",
    "- Idle\n",
    " \n",
    "- Visual Studio Code\n",
    " \n",
    "![Visual Studio Code](../images/visualStudioCode.png)\n",
    " \n",
    "- VIM\n",
    " \n",
    "![vim](../images/neovim.png)\n",
    " \n",
    "- JupyterLab"
   ]
  },
  {
   "cell_type": "markdown",
   "metadata": {},
   "source": [
    "## [Jupyter lab](https://jupyterlab.readthedocs.io/en/latest/)"
   ]
  },
  {
   "cell_type": "markdown",
   "metadata": {},
   "source": [
    " JupyterLab padeda dirbti su Jupyter ipynb failais, teksto redaktoriais, terminalais, ir kitais komponentais integruotoje lengvai praplečiamoje aplinkoje."
   ]
  },
  {
   "cell_type": "markdown",
   "metadata": {
    "lines_to_next_cell": 2
   },
   "source": [
    " ![Jupyter lab IDE](../images/jupyterlab.png)\n",
    "\n",
    "### Įjungimas ir išjungimas\n",
    "\n",
    " - Terminale norimoje direktorijoje `jupyter lab` komanda startuoja. Paspaudus `Ctrl-c` ir patvirtinus `y` jupyterlab sustabdomas.\n",
    " - Terminale parašius anaconda-navigator atsidaro GUI su įvairiomis opcijomis kur galima startuoti jupyterlab paspaudus ant ikonos.\n",
    " \n",
    "### Bazinės komandos\n",
    "\n",
    " Help -> JupyterLab reference\n",
    "\n",
    " Pradėjus darbą atkarpoje **cell** pasirinkti kokio tipo bus atkarpa: markdown ar code\n",
    "\n",
    " shift+enter - įvykdo komandas **cell** atkarpoje\n",
    "\n",
    "\n",
    "### Siuntimas kodo į konsolę\n",
    "\n",
    " Run -> Run selected text or line in console\n",
    " \n",
    " ![](../images/RunInConsole1.png)\n",
    "\n",
    "\n",
    " Norint padaryti klaviatūros spartujį klavišą:\n",
    " Settings -> Advanced Settings Editor\n",
    " \n",
    " ![](../images/RunInConsole2.png)\n",
    "\n",
    " ctrl+F paieškoti cun-in-console eilutės ir nukopijuoti ją į šalia esantį langą pavadinimu User Overrides (Pasirinkti norima klaviša pvz F9) ir paspausti dešinėje viršuje išsaugojimo mygtuką.\n",
    " \n",
    " ![](../images/RunInConsole3.png)"
   ]
  },
  {
   "cell_type": "markdown",
   "metadata": {
    "lines_to_next_cell": 2
   },
   "source": [
    "### Plėtinių aktyvavimas\n",
    "\n",
    " Advanced settings editorius, extension manager sekcija -> true. Išsaugoti ir paspausti enable.\n",
    " Kairiame šone atsiranda plėtinių paieškos opcija.\n",
    "\n",
    " Naudingų plėtinių pavyzdžiai\n",
    " * https://github.com/ryantam626/jupyterlab_code_formatter\n",
    " * https://github.com/jupyterlab/jupyterlab-toc\n",
    " * https://github.com/QuantStack/jupyterlab-drawio\n",
    "\n",
    "## Markdown\n",
    "\n",
    "Jupyter lab sujungia python ir kitas programavimo kalbas su teksto maketavimo kalbom markdown\n",
    "ir latex. Tai leidžia viename dokumente turėti analizės eigą kartu su paveikslėliais, rezultatais ir aprašu.\n",
    "\n",
    "[dokumentacija](https://jupyter-notebook.readthedocs.io/en/stable/examples/Notebook/Working%20With%20Markdown%20Cells.html)\n",
    "\n",
    "Jupyter užrašinėja (notebook, ipynb) galima suprogramuoti interaktyvius grafikus:"
   ]
  },
  {
   "cell_type": "code",
   "execution_count": 6,
   "metadata": {},
   "outputs": [],
   "source": [
    "import ipywidgets as widgets"
   ]
  },
  {
   "cell_type": "code",
   "execution_count": 7,
   "metadata": {},
   "outputs": [
    {
     "data": {
      "application/vnd.jupyter.widget-view+json": {
       "model_id": "4f7ca23f952a48b7b9b7385ac9beb27c",
       "version_major": 2,
       "version_minor": 0
      },
      "text/plain": [
       "interactive(children=(FloatSlider(value=0.5, description='p', max=1.0), IntSlider(value=500, description='n_fl…"
      ]
     },
     "metadata": {},
     "output_type": "display_data"
    }
   ],
   "source": [
    "p = 0.5\n",
    "n = 10\n",
    "flips = np.random.choice([\"H\", \"T\"], p=[1-p, p], size=n)\n",
    "@widgets.interact(p=(0.0, 1.0), n_flip=(1, 1000), continuous_update=False)\n",
    "def simulate_coin_flip(p, n_flip):\n",
    "    flip = np.random.choice([0, 1], p=[1-p, p], size=n_flip)\n",
    "    c_sums = np.cumsum(flip)\n",
    "    c_means = c_sums / np.arange(1, n_flip + 1)\n",
    "    plt.plot(np.arange(1, n_flip+1), c_means)\n",
    "    plt.plot(range(n_flip), [p] * n_flip, 'k', linewidth=1)\n",
    "    plt.xlabel('Number of flips')\n",
    "    plt.ylabel('Fraction of heads')\n",
    "    plt.xlim([1, n_flip])\n",
    "    plt.ylim([0, 1])"
   ]
  },
  {
   "cell_type": "markdown",
   "metadata": {},
   "source": [
    " Įkelti įvairaus formato mediją, rašyti html kodą"
   ]
  },
  {
   "cell_type": "code",
   "execution_count": 6,
   "metadata": {},
   "outputs": [
    {
     "data": {
      "image/jpeg": "[encoded data removed]",
      "text/html": [
       "\n",
       "        <iframe\n",
       "            width=\"400\"\n",
       "            height=\"200\"\n",
       "            src=\"https://www.youtube.com/embed/1WBgTrCBKEM?fs=1&autoplay=0\"\n",
       "            frameborder=\"0\"\n",
       "            allowfullscreen\n",
       "        ></iframe>\n",
       "        "
      ],
      "text/plain": [
       "<IPython.lib.display.YouTubeVideo at 0x7f12a6470ac0>"
      ]
     },
     "execution_count": 6,
     "metadata": {},
     "output_type": "execute_result"
    }
   ],
   "source": [
    "video = YouTubeVideo(id='1WBgTrCBKEM', width=400, height=200, fs=1, autoplay=0)\n",
    "video"
   ]
  },
  {
   "cell_type": "markdown",
   "metadata": {},
   "source": [
    " Latex sintakse rašyti formules:\n",
    "\n",
    " Command | Description | Output\n",
    " --- | --- | ---\n",
    " \\frac |\tBuild a fraction like so: | $\\frac{1}{\\pi}$\n",
    " \\frac{\\frac{}}{} |\tYou can nest fractions  | $\\frac{\\frac{1}{2}}{2}$\n",
    " \\alpha |\talpha |\t$\\alpha$\n",
    " \\beta |\tbeta |\t$\\beta$\n",
    " \\gamma |\tgamma |\t$\\gamma$\n",
    " \\delta |\tdelta |\t$\\delta$\n",
    " \\epsilon |\tepsilon |\t$\\epsilon$\n",
    " \\zeta |\tzeta |\t$\\zeta$\n",
    " \\eta |\teta |\t$\\eta$\n",
    " \\theta |\ttheta |\t$\\theta$\n",
    " \\iota |\tiota |\t$\\iota$\n",
    " \\kappa |\tkappa |\t$\\kappa$\n",
    " \\lambda |\tlambda |\t$\\lambda$\n",
    " \\mu |\tmu |\t$\\mu$\n",
    " \\nu |\tnu |\t$\\nu$\n",
    " \\xi |\txi |\t$\\xi$\n",
    " \\rho |\trho |\t$\\rho$\n",
    " \\sigma |\tsigma |\t$\\sigma$\n",
    " \\tau |\ttau |\t$\\tau$\n",
    " \\upsilon |\tupsilon |\t$\\upsilon$\n",
    " \\phi |\tphi |\t$\\phi$\n",
    " \\chi |\tchi |\t$\\chi$\n",
    " \\psi |\tpsi |\t$\\psi$\n",
    " \\omega |\tomega |\t$\\omega$\n",
    " \\forall |\tFor | $\\forall$\n",
    " \\exists |\tExists |\t$\\exists$\n",
    " \\lor |\tOr |\t$\\lor$\n",
    " \\land |\tAnd |\t$\\land$\n",
    " \\veebar |\tXor |\t$\\veebar$\n",
    " \\neg |\tNot |\t$\\neg$\n",
    " \\cdot |\tDot |\t$\\cdot$\n",
    " \\div |\tDivision |\t$\\div$\n",
    " \\pm |\tPlus | $\\pm$\n",
    " \\neq |\tNot | $\\neq$\n",
    " \\approx |\tApproximately | $\\approx$\n",
    " \\leq |\tLess | $\\leq$\n",
    " \\geq |\tGreater | $\\geq$\n",
    " \\ll |\tMuch | $\\ll$\n",
    " \\gg |\tMuch | $\\gg$\n",
    " \\supset |\tsupset | $\\supset$\n",
    " \\supseteq |\tSuperset |\t$\\supseteq$\n",
    " \\subset |\tProper | $\\subset$\n",
    " \\subseteq |\tSubset |\t$\\subseteq$\n",
    " \\in |\tMember |\t$\\in$\n",
    " \\emptyset |\tEmpty  set| $\\emptyset$\n",
    " ^ |\tsuperscript | $x^2$\n",
    " ^{} |\texponents with >1 digit | $x^{23}$\n",
    " _ |\tsubscript | $x_i$\n",
    " _{} |\tsubscript with >1 digit | $x_{ir}$\n",
    " \\sum | Sum over digits | $\\sum_i$"
   ]
  },
  {
   "cell_type": "markdown",
   "metadata": {},
   "source": [
    "## Dokumentų eksportavimas"
   ]
  },
  {
   "cell_type": "markdown",
   "metadata": {},
   "source": [
    "- Iš grafinės sąsajos:\n",
    "\n",
    "File -> export"
   ]
  },
  {
   "cell_type": "markdown",
   "metadata": {},
   "source": [
    "- [nbconvert](https://nbconvert.readthedocs.io/en/latest/index.html) komanda galime atlikti įvairias operacijas su užrašinėmis.\n",
    "\n",
    "```bash\n",
    " jupyter nbconvert --to notebook --execute labreport.ipynb\n",
    "\n",
    " jupyter nbconvert --ExecutePreprocessor.timeout=1200 --ExecutePreprocessor.kernel_name='python3' --to notebook --execute labreport.ipynb\n",
    "```"
   ]
  },
  {
   "cell_type": "markdown",
   "metadata": {
    "lines_to_next_cell": 2
   },
   "source": [
    "Paversti užrašinę į html neįtraukiant kodo\n",
    "\n",
    "```bash\n",
    "jupyter nbconvert --to=html --TemplateExporter.exclude_input=True labreport.nbconvert.ipynb\n",
    "```\n",
    "\n",
    "```bash\n",
    "jupyter nbconvert labreport.ipynb --TagRemovePreprocessor.enabled=True --TagRemovePreprocessor.remove_input_tags=\"['code']\" --to html\n",
    "```"
   ]
  },
  {
   "cell_type": "markdown",
   "metadata": {},
   "source": [
    "- [Pandoc](https://pandoc.org/) konvertuoja ipynb į įvairiausius formatus."
   ]
  },
  {
   "cell_type": "markdown",
   "metadata": {},
   "source": [
    "Norint eksportuoti į pdf formatą reikės įdiegti texlive (linux) arba mikitex (windows) programas.\n",
    "\n",
    "```bash\n",
    "pandoc -f ipynb lect1_Intro.ipynb -o lect.pdf --toc --pdf-engine=xelatex\n",
    "```"
   ]
  },
  {
   "cell_type": "markdown",
   "metadata": {},
   "source": [
    "- Slidify konvertuoja užrašinę į skaidres"
   ]
  },
  {
   "cell_type": "markdown",
   "metadata": {},
   "source": [
    "- [jupytext](https://jupytext.readthedocs.io/en/latest/introduction.html)\n",
    "konvertuoja užrašinę į ir iš markdown, R Markdown, MyST ir įvairiausių programavimo kalbų skriptus."
   ]
  },
  {
   "cell_type": "markdown",
   "metadata": {},
   "source": [
    " jupytext diegimas:\n",
    "```bash\n",
    " conda install -c conda-forge jupytext\n",
    "```\n",
    "Gali reikėti dar įdiegti plėtinį kad atsirastu tiesioginis konvertavimas grafinėje jupyter lab aplinkoje.\n",
    "\n",
    "   + Jupyter Lab komandos (Commands: jupytext)\n",
    "   + Terminale\n",
    "```bash\n",
    " jupytext --to py:light labreport.ipynb\n",
    "```\n",
    "```bash\n",
    " jupytext --to notebook labreport.py\n",
    "```\n",
    "```bash\n",
    " jupytext --set-formats ipynb,py labreport.ipynb\n",
    "```\n",
    "```bash\n",
    " jupytext --sync labreport.py\n",
    "```"
   ]
  },
  {
   "cell_type": "markdown",
   "metadata": {},
   "source": [
    "Skirtingi formatai užrašinės konvertavimo į programavimo skriptus:\n",
    " - percent\n",
    " - Hydrogen\n",
    " - Markdown\n",
    " - R Markdown\n",
    " - MyST\n",
    " - light"
   ]
  },
  {
   "cell_type": "markdown",
   "metadata": {},
   "source": [
    "lect1_Intro.py yra susieta jupytext su lect1_Intro.ipynb light formatu. Markdown elementai tampa komentarais."
   ]
  },
  {
   "cell_type": "markdown",
   "metadata": {},
   "source": [
    "# Paieška informacijos internete\n",
    "\n",
    "- komandinės eilutės santrumpos google ar panašioms svetainėms su daugeliu nustatymų"
   ]
  },
  {
   "cell_type": "markdown",
   "metadata": {},
   "source": [
    "```bash\n",
    " define biophysics\n",
    "```"
   ]
  },
  {
   "cell_type": "markdown",
   "metadata": {},
   "source": [
    " - [Nesekančios istorijos](duckduckgo.com)\n",
    " - [Atmetančios didžiausias svetaines](millionshort.com)\n",
    " - [Apsimokančios iš kitų paieškos sistemų](https://www.runnaroo.com/)"
   ]
  },
  {
   "cell_type": "markdown",
   "metadata": {},
   "source": [
    "#  Santrauka\n",
    "\n",
    "Trumpa seka ko tikrai reikės:\n",
    "\n",
    "- Atsidaryt conda ir įdiegti pakuotes (conda install X)\n",
    "- Atsisiųsti naujausia medžiagą. (git pull)\n",
    "- Rašyti tekstą jupyterlab aplinkoje markdown ir python sintakses pagalba\n",
    "- Eksportuoti parašytą darbą html arba pdf formatu.\n"
   ]
  },
  {
   "cell_type": "markdown",
   "metadata": {},
   "source": [
    "## Demonstracija sekos windows aplinkoje"
   ]
  },
  {
   "cell_type": "markdown",
   "metadata": {},
   "source": [
    "![datacamp](../images/datacamp.png)"
   ]
  }
 ],
 "metadata": {
  "jupytext": {
   "cell_metadata_filter": "-all",
   "encoding": "# -*- coding: utf-8 -*-",
   "formats": "ipynb,py"
  },
  "kernelspec": {
   "display_name": "Python 3",
   "language": "python",
   "name": "python3"
  },
  "language_info": {
   "codemirror_mode": {
    "name": "ipython",
    "version": 3
   },
   "file_extension": ".py",
   "mimetype": "text/x-python",
   "name": "python",
   "nbconvert_exporter": "python",
   "pygments_lexer": "ipython3",
   "version": "3.8.3"
  }
 },
 "nbformat": 4,
 "nbformat_minor": 4
}
