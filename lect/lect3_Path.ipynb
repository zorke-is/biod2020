{
 "cells": [
  {
   "cell_type": "markdown",
   "metadata": {},
   "source": [
    "# Duomenų tvarkymas\n",
    "\n",
    "2020-09-29\n",
    "\n",
    "- Failų ir direktorijų struktūra\n",
    "- Python direktorijų ir failų tvarkymo bibliotekos ir darbas su jomis\n",
    "  - Pathlib, os\n",
    "  - csv, json, txt\n",
    "- Paieška: Regex\n",
    "- Klaidų taisymas"
   ]
  },
  {
   "cell_type": "markdown",
   "metadata": {},
   "source": [
    "Pirmi žingsniai pradedant duomenų analizę:\n",
    "\n",
    "- Surasti reikiamus duomenų masyvus\n",
    "- Importuoti duomenis\n",
    "\n",
    "## Bendra tvarka\n",
    "\n",
    "- Nenaudoti failų ir direktorijų varduose šių simbolių:\n",
    "  - LT ar pan. raidžių\n",
    "  - skyrybos ženklų (, ? ! ir t.t.)\n",
    "- Naudoti: (a-z A-Z 0-9 \\_)\n",
    "- Strategijos:\n",
    "  - Pirmas raides žodžių didžiosiomis raidėmis - VienasDu (CamelCase)\n",
    "  - Atskirt žodžius apatiniais brūkšniais vienas\\_du (snake case)"
   ]
  },
  {
   "cell_type": "markdown",
   "metadata": {},
   "source": [
    "## Direktorijų struktūra\n",
    "\n",
    "### Direktorijų medis\n",
    "\n",
    "Unix kompiuteriuose direktorijas skiria pasvirasis brūkšnys `/`\n",
    "\n",
    "Windows operacinėse sistemose atgalinis brūkšnys `\\`"
   ]
  },
  {
   "cell_type": "raw",
   "metadata": {},
   "source": [
    "~/Documents/biod2020/\n",
    "├── images\n",
    "│   ├── visualStudioCode.png\n",
    "│   └── ...\n",
    "├── lab\n",
    "│   ├── environment.yml\n",
    "│   ├── lab1.ipynb\n",
    "│   ├── lab1.pdf\n",
    "│   ├── lab2.ipynb\n",
    "│   ├── lab2.py\n",
    "│   ├── labreport.ipynb\n",
    "│   ├── labreport.nbconvert.ipynb\n",
    "│   ├── labreport.nbconvert.pdf\n",
    "│   ├── labreport.py\n",
    "│   ├── lect1_Intro.slides.html\n",
    "│   └── programa.py\n",
    "├── lect\n",
    "│   ├── lect1_Intro.ipynb\n",
    "│   ├── lect1_Intro.pdf\n",
    "│   ├── lect1_Intro.py\n",
    "│   ├── lect2_Python.ipynb\n",
    "│   ├── lect2_Python.md\n",
    "│   ├── lect2_Python.py\n",
    "│   ├── programa2.py\n",
    "│   └── __pycache__\n",
    "│       └── programa2.cpython-38.pyc\n",
    "├── planas.docx\n",
    "└── README.md\n",
    "\n",
    "4 directories, 61 files"
   ]
  },
  {
   "cell_type": "markdown",
   "metadata": {},
   "source": [
    "### Rekomenduojama neuromokslų struktūra: bids.neuroimaging.io\n",
    "\n",
    "![bids](../images/bids.png)"
   ]
  },
  {
   "cell_type": "markdown",
   "metadata": {},
   "source": [
    "### Dažniausiai aptinkama struktūra git projektuose\n",
    "\n",
    "Failas | Paskirtis\n",
    "---|---\n",
    "README.md | Aprašas projekto\n",
    "LICENSE | choosealicense.com\n",
    "setup.py | Distribucijos valdymas\n",
    "requirements.txt | programos reikalavimai\n",
    "sample/\\_\\_init\\_\\_.py | python bibliotekos\n",
    "sample/core.py | Pagrindinė programa\n",
    "docs/conf.py | Dokumentacija\n",
    "docs/index.md | Indeksas\n",
    "tests/test\\_basic.py | Testai"
   ]
  },
  {
   "cell_type": "markdown",
   "metadata": {},
   "source": [
    "### Minimali struktūra\n",
    "\n",
    "Failas ar direktorija | Paskirtis\n",
    "---|---\n",
    "Code/ | Direktorija skirta skaičiavimų kodui\n",
    "Data/ | Direktorija skirta duomenims\n",
    "Text/ | Direktorija skirta tekstu\n",
    "Text/README.md | Aprašas\n",
    "Text/Figures/ | Direktorija skirta paveikslams\n",
    ".gitignore | versijos kontrolė\n",
    ".git/ | versijos kontrolė"
   ]
  },
  {
   "cell_type": "markdown",
   "metadata": {},
   "source": [
    "### Failų tipai\n",
    "\n",
    "- .txt\n",
    "- .csv\n",
    "- .xlsx\n",
    "- .json\n",
    "- .mat\n",
    "- .pdf\n",
    "- .html\n",
    "- .dat\n",
    "- t.t."
   ]
  },
  {
   "cell_type": "markdown",
   "metadata": {},
   "source": [
    "## Tvarkymas direktorijų ir failų su python\n",
    "\n",
    "Dažniausiai direktorijų tvarkymas atliekamas keturiomis pakuotėmis:\n",
    "\n",
    "- os --- operacinės sistemos rutinos\n",
    "- glob --- paieškos funkcijos\n",
    "- shutil --- įvairios funkcijos kopijavimui ir pan.\n",
    "- pathilb  --- nuo python versijos 3.4 atsiradusi `pathlib` pakuotė\n",
    "gali viena atlikti daugumą direktorijų ir failų tvarkymo veiksmų."
   ]
  },
  {
   "cell_type": "code",
   "execution_count": 1,
   "metadata": {},
   "outputs": [],
   "source": [
    "import re\n",
    "import glob\n",
    "import os\n",
    "import shutil\n",
    "import pathlib"
   ]
  },
  {
   "cell_type": "markdown",
   "metadata": {},
   "source": [
    "### `os`\n",
    "\n",
    "Dažnai pasitaikanti pakuotė programos sąveikai su operacine sistema valdyti."
   ]
  },
  {
   "cell_type": "markdown",
   "metadata": {},
   "source": [
    "Norint gauti namų direktoriją nepriklausomai nuo sistemos:"
   ]
  },
  {
   "cell_type": "code",
   "execution_count": 2,
   "metadata": {},
   "outputs": [
    {
     "data": {
      "text/plain": [
       "'/home/aleks'"
      ]
     },
     "execution_count": 2,
     "metadata": {},
     "output_type": "execute_result"
    }
   ],
   "source": [
    "home_dir = os.path.expanduser(\"~\")\n",
    "home_dir"
   ]
  },
  {
   "cell_type": "markdown",
   "metadata": {},
   "source": [
    "Jei norime dokumentuose sukurti direktoriją `biologija` negerai būtų ją\n",
    "aprašyti kaip:"
   ]
  },
  {
   "cell_type": "code",
   "execution_count": 3,
   "metadata": {},
   "outputs": [
    {
     "data": {
      "text/plain": [
       "'/home/neuro/Documents/biologija'"
      ]
     },
     "execution_count": 3,
     "metadata": {},
     "output_type": "execute_result"
    }
   ],
   "source": [
    "direktorija = '/home/neuro/Documents' + '/biologija'\n",
    "direktorija"
   ]
  },
  {
   "cell_type": "markdown",
   "metadata": {},
   "source": [
    "arba"
   ]
  },
  {
   "cell_type": "code",
   "execution_count": 4,
   "metadata": {},
   "outputs": [
    {
     "data": {
      "text/plain": [
       "'/home/aleks/Documents/biologija'"
      ]
     },
     "execution_count": 4,
     "metadata": {},
     "output_type": "execute_result"
    }
   ],
   "source": [
    "direktorija = os.path.expanduser(\"~\") + '/Documents/biologija'\n",
    "direktorija"
   ]
  },
  {
   "cell_type": "markdown",
   "metadata": {},
   "source": [
    "Kuriant direktorijų pavadinimus svarbu kad jie būtų sukuriami nepriklausomai nuo\n",
    "sistemos kur bus naudojama programa."
   ]
  },
  {
   "cell_type": "code",
   "execution_count": 5,
   "metadata": {},
   "outputs": [
    {
     "data": {
      "text/plain": [
       "('/home/aleks/Documents/biod2020/datatest',\n",
       " '/home/aleks/Documents/biod2020/datatest/test.txt')"
      ]
     },
     "execution_count": 5,
     "metadata": {},
     "output_type": "execute_result"
    }
   ],
   "source": [
    "test_dir = os.path.join(home_dir, \"Documents\", \"biod2020\", \"datatest\")\n",
    "test_file = os.path.join(home_dir, \"Documents\", \"biod2020\", \"datatest\", \"test.txt\")\n",
    "test_dir, test_file"
   ]
  },
  {
   "cell_type": "markdown",
   "metadata": {},
   "source": [
    "Galime sukurti aprašytą failą nusiųsdami komandą operacinei sistemai:"
   ]
  },
  {
   "cell_type": "code",
   "execution_count": 6,
   "metadata": {},
   "outputs": [
    {
     "data": {
      "text/plain": [
       "0"
      ]
     },
     "execution_count": 6,
     "metadata": {},
     "output_type": "execute_result"
    }
   ],
   "source": [
    "os.system(f\"mkdir {test_dir}\")\n",
    "os.system(f\"touch {test_file}\")"
   ]
  },
  {
   "cell_type": "markdown",
   "metadata": {},
   "source": [
    "Arba `os` metodais"
   ]
  },
  {
   "cell_type": "code",
   "execution_count": 7,
   "metadata": {},
   "outputs": [
    {
     "ename": "FileExistsError",
     "evalue": "[Errno 17] File exists: '/home/aleks/Documents/biod2020/datatest'",
     "output_type": "error",
     "traceback": [
      "\u001b[0;31m---------------------------------------------------------------------------\u001b[0m",
      "\u001b[0;31mFileExistsError\u001b[0m                           Traceback (most recent call last)",
      "\u001b[0;32m<ipython-input-7-c2d5d85158e3>\u001b[0m in \u001b[0;36m<module>\u001b[0;34m\u001b[0m\n\u001b[0;32m----> 1\u001b[0;31m \u001b[0mos\u001b[0m\u001b[0;34m.\u001b[0m\u001b[0mmkdir\u001b[0m\u001b[0;34m(\u001b[0m\u001b[0mtest_dir\u001b[0m\u001b[0;34m)\u001b[0m\u001b[0;34m\u001b[0m\u001b[0;34m\u001b[0m\u001b[0m\n\u001b[0m",
      "\u001b[0;31mFileExistsError\u001b[0m: [Errno 17] File exists: '/home/aleks/Documents/biod2020/datatest'"
     ]
    }
   ],
   "source": [
    "os.mkdir(test_dir)"
   ]
  },
  {
   "cell_type": "markdown",
   "metadata": {},
   "source": [
    "Visą medį direktorijų sukuriam"
   ]
  },
  {
   "cell_type": "code",
   "execution_count": 8,
   "metadata": {},
   "outputs": [
    {
     "name": "stdout",
     "output_type": "stream",
     "text": [
      "test1\n"
     ]
    }
   ],
   "source": [
    "os.makedirs(\"test/test1/test2\", exist_ok=True)\n",
    "!ls test"
   ]
  },
  {
   "cell_type": "markdown",
   "metadata": {},
   "source": [
    "Pakeisti dabartinę direktoriją"
   ]
  },
  {
   "cell_type": "code",
   "execution_count": 9,
   "metadata": {},
   "outputs": [
    {
     "data": {
      "text/plain": [
       "'/home/aleks/Documents/biod2020/datatest'"
      ]
     },
     "execution_count": 9,
     "metadata": {},
     "output_type": "execute_result"
    }
   ],
   "source": [
    "os.chdir(test_dir)\n",
    "%pwd"
   ]
  },
  {
   "cell_type": "code",
   "execution_count": 10,
   "metadata": {},
   "outputs": [
    {
     "data": {
      "text/plain": [
       "'/home/aleks/Documents/biod2020/datatest'"
      ]
     },
     "execution_count": 10,
     "metadata": {},
     "output_type": "execute_result"
    }
   ],
   "source": [
    "pwd"
   ]
  },
  {
   "cell_type": "markdown",
   "metadata": {},
   "source": [
    "Sužinom dabartinę direktoriją"
   ]
  },
  {
   "cell_type": "code",
   "execution_count": 11,
   "metadata": {},
   "outputs": [
    {
     "data": {
      "text/plain": [
       "'/home/aleks/Documents/biod2020/datatest'"
      ]
     },
     "execution_count": 11,
     "metadata": {},
     "output_type": "execute_result"
    }
   ],
   "source": [
    "current_working_directory = os.getcwd()\n",
    "current_working_directory"
   ]
  },
  {
   "cell_type": "markdown",
   "metadata": {},
   "source": [
    "Gaunam viduje esančių failų struktūrą"
   ]
  },
  {
   "cell_type": "code",
   "execution_count": 12,
   "metadata": {},
   "outputs": [
    {
     "name": "stdout",
     "output_type": "stream",
     "text": [
      "\u001b[0m\u001b[00;32mtest.txt\u001b[0m\n"
     ]
    }
   ],
   "source": [
    "ls"
   ]
  },
  {
   "cell_type": "code",
   "execution_count": 13,
   "metadata": {},
   "outputs": [
    {
     "data": {
      "text/plain": [
       "['test.txt']"
      ]
     },
     "execution_count": 13,
     "metadata": {},
     "output_type": "execute_result"
    }
   ],
   "source": [
    "dfiles = os.listdir()\n",
    "dfiles"
   ]
  },
  {
   "cell_type": "markdown",
   "metadata": {},
   "source": [
    "Pakeičiam pavadinimus"
   ]
  },
  {
   "cell_type": "code",
   "execution_count": 14,
   "metadata": {},
   "outputs": [],
   "source": [
    "test_file2 = os.path.join(home_dir, \"Documents\",\n",
    "                          \"biod2020\", \"datatest\", \"test2.txt\")\n",
    "os.rename(test_file, test_file2)"
   ]
  },
  {
   "cell_type": "markdown",
   "metadata": {},
   "source": [
    "Ištrinam failus"
   ]
  },
  {
   "cell_type": "code",
   "execution_count": 15,
   "metadata": {},
   "outputs": [],
   "source": [
    "if os.path.isfile(test_file2):\n",
    "    os.remove(test_file2)\n",
    "    # os.unlink(file)\n",
    "else:\n",
    "    print(f\"file {file} does not exist\")"
   ]
  },
  {
   "cell_type": "markdown",
   "metadata": {},
   "source": [
    "Ištrinam prieš tai sukurtą direktorijų medį"
   ]
  },
  {
   "cell_type": "code",
   "execution_count": 16,
   "metadata": {},
   "outputs": [],
   "source": [
    "os.chdir('../lect')\n",
    "for dirpath, dirnames, files in os.walk(\"./test\", topdown=False):\n",
    "    try:\n",
    "        os.rmdir(dirpath)\n",
    "        #  shutil.rmtree()\n",
    "    except OSError as ex:\n",
    "        print(f\"Error: {dirpath} : {e.strerror}\")"
   ]
  },
  {
   "cell_type": "markdown",
   "metadata": {},
   "source": [
    "Eiti per direktorijas ir sub direktorijas galime funkcija `walk`.\n",
    "\n",
    "Einame direktorijų medžiu ir ieškome pdf failų."
   ]
  },
  {
   "cell_type": "code",
   "execution_count": 17,
   "metadata": {},
   "outputs": [
    {
     "name": "stdout",
     "output_type": "stream",
     "text": [
      "/home/aleks/Documents/biod2020/lab/labreport.nbconvert.pdf\n",
      "/home/aleks/Documents/biod2020/lab/lab1.pdf\n",
      "/home/aleks/Documents/biod2020/lab/.ipynb_checkpoints/lab1-checkpoint.pdf\n",
      "/home/aleks/Documents/biod2020/images/EEGsources.pdf\n",
      "/home/aleks/Documents/biod2020/images/ERPmine.pdf\n",
      "/home/aleks/Documents/biod2020/lect/lect1_Intro.pdf\n",
      "/home/aleks/Documents/biod2020/lect/.ipynb_checkpoints/lect1_Intro-checkpoint.pdf\n"
     ]
    }
   ],
   "source": [
    "bioa_dir = os.path.join(home_dir, \"Documents\", \"biod2020\")\n",
    "files = []\n",
    "# r=root, d=directories, f = files\n",
    "for r, d, f in os.walk(bioa_dir, topdown=True):\n",
    "    #   print(r, f, d)\n",
    "    for file in f:\n",
    "        if \".pdf\" in file:\n",
    "            files.append(os.path.join(r, file))\n",
    "\n",
    "for f in files:\n",
    "    print(f)"
   ]
  },
  {
   "cell_type": "markdown",
   "metadata": {},
   "source": [
    "Plėtinius galima ieškoti ir su `endswith` metodu"
   ]
  },
  {
   "cell_type": "code",
   "execution_count": 18,
   "metadata": {},
   "outputs": [
    {
     "name": "stdout",
     "output_type": "stream",
     "text": [
      "lect1_Intro.pdf\n",
      "lect1_Intro-checkpoint.pdf\n"
     ]
    }
   ],
   "source": [
    "for r, d, f in os.walk(\"./\"):\n",
    "    for file in f:\n",
    "        if file.endswith(\".pdf\"):  # startswith\n",
    "            print(file)"
   ]
  },
  {
   "cell_type": "markdown",
   "metadata": {},
   "source": [
    "### glob\n",
    "\n",
    "Paprastesnis būdas ieškoti failų su glob pakote"
   ]
  },
  {
   "cell_type": "code",
   "execution_count": 19,
   "metadata": {},
   "outputs": [
    {
     "data": {
      "text/plain": [
       "['lab/labreport.nbconvert.pdf',\n",
       " 'lab/lab1.pdf',\n",
       " 'images/EEGsources.pdf',\n",
       " 'images/ERPmine.pdf',\n",
       " 'lect/lect1_Intro.pdf']"
      ]
     },
     "execution_count": 19,
     "metadata": {},
     "output_type": "execute_result"
    }
   ],
   "source": [
    "os.chdir(bioa_dir)\n",
    "glob.glob(\"**/*.pdf\", recursive=True)"
   ]
  },
  {
   "cell_type": "markdown",
   "metadata": {},
   "source": [
    "\\*\\* nurodo ieškoti ir subdirektorijose\n",
    "\n",
    "rglob metodas ieškotu subdirektorijose ir be dviejų žvaigždučių"
   ]
  },
  {
   "cell_type": "markdown",
   "metadata": {},
   "source": [
    "Glob paieškos specifiniai simboliai:\n",
    "\n",
    "Simbolis | Reikšmė\n",
    "---|---\n",
    "\\* | pakeičiamas į 0 arba daugiau simbolių (l*.pdf surastų tiek lect1.pdf tiek ir lab1.pdf)\n",
    "\\? |  pakeičiamas į vieną betkokį simbolį (l??.pdf sureas tik lab.pdf)\n",
    "[seq] | surandą simbolius nurodytus tarp skliaustų ([0-9] [a-z] ieškos simbolių šiuose atkarpose)\n",
    "[!seq] | atvirkštinis variantas ieškos simbolių nesančių sąraše"
   ]
  },
  {
   "cell_type": "code",
   "execution_count": 20,
   "metadata": {},
   "outputs": [
    {
     "name": "stdout",
     "output_type": "stream",
     "text": [
      "lab/lab2.ipynb\n",
      "lab/lab1.ipynb\n",
      "lab/lab3.ipynb\n",
      "lect/lect2_Python.ipynb\n",
      "lect/lect1_Intro.ipynb\n",
      "lect/lect3_Path.ipynb\n"
     ]
    }
   ],
   "source": [
    "for name in glob.glob(\"**/*[1-9]*.ipynb\", recursive=True):\n",
    "    print(name)"
   ]
  },
  {
   "cell_type": "markdown",
   "metadata": {},
   "source": [
    ">> **UŽDUOTIS**\n",
    ">>\n",
    ">> Raskite visus py failus\n",
    ">>\n",
    "---\n",
    "```\n",
    "\n",
    "### shutil\n",
    "\n",
    "Kopijavimas"
   ]
  },
  {
   "cell_type": "code",
   "execution_count": null,
   "metadata": {},
   "outputs": [],
   "source": [
    "os.system(f\"touch {test_file}\")\n",
    "shutil.copy(test_file, test_file2)  # same as cp in shell, preserves metadata"
   ]
  },
  {
   "cell_type": "code",
   "execution_count": null,
   "metadata": {},
   "outputs": [],
   "source": [
    "shutil.copytree(source_directory, destination_directory)"
   ]
  },
  {
   "cell_type": "code",
   "execution_count": null,
   "metadata": {},
   "outputs": [],
   "source": [
    "shutil.move(souce, destination)  # files or directories"
   ]
  },
  {
   "cell_type": "code",
   "execution_count": null,
   "metadata": {},
   "outputs": [],
   "source": [
    "help(os)"
   ]
  },
  {
   "cell_type": "code",
   "execution_count": null,
   "metadata": {},
   "outputs": [],
   "source": [
    "help(glob)"
   ]
  },
  {
   "cell_type": "code",
   "execution_count": null,
   "metadata": {},
   "outputs": [],
   "source": [
    "help(shutil)"
   ]
  },
  {
   "cell_type": "markdown",
   "metadata": {},
   "source": [
    "### pathlib\n",
    "\n",
    "Pathlib pakuotė sukuria objektus reprezentuojančius direktorijas ir failus.\n",
    "\n",
    "Tada su pathlib metodais mes modifikuojame sukurtus objektus."
   ]
  },
  {
   "cell_type": "code",
   "execution_count": 21,
   "metadata": {},
   "outputs": [
    {
     "data": {
      "text/plain": [
       "(PosixPath('/home/aleks/Documents/biod2020/datatest/test.txt'),\n",
       " PosixPath('/home/aleks/Documents/biod2020/datatest'))"
      ]
     },
     "execution_count": 21,
     "metadata": {},
     "output_type": "execute_result"
    }
   ],
   "source": [
    "test_file_pathlib = pathlib.Path(test_file)\n",
    "test_dir_pathlib = pathlib.Path(test_dir)\n",
    "test_file_pathlib, test_dir_pathlib"
   ]
  },
  {
   "cell_type": "markdown",
   "metadata": {},
   "source": [
    "Dabartinė direktorija"
   ]
  },
  {
   "cell_type": "code",
   "execution_count": 22,
   "metadata": {},
   "outputs": [
    {
     "data": {
      "text/plain": [
       "PosixPath('/home/aleks/Documents/biod2020')"
      ]
     },
     "execution_count": 22,
     "metadata": {},
     "output_type": "execute_result"
    }
   ],
   "source": [
    "p = pathlib.Path.cwd()\n",
    "p"
   ]
  },
  {
   "cell_type": "markdown",
   "metadata": {},
   "source": [
    "Namų direktorija"
   ]
  },
  {
   "cell_type": "code",
   "execution_count": 23,
   "metadata": {},
   "outputs": [
    {
     "data": {
      "text/plain": [
       "PosixPath('/home/aleks')"
      ]
     },
     "execution_count": 23,
     "metadata": {},
     "output_type": "execute_result"
    }
   ],
   "source": [
    "p = pathlib.Path.home()\n",
    "p"
   ]
  },
  {
   "cell_type": "markdown",
   "metadata": {},
   "source": [
    "Kūrimas universalių nuorodų į failus ir direktorijas"
   ]
  },
  {
   "cell_type": "code",
   "execution_count": 24,
   "metadata": {},
   "outputs": [
    {
     "data": {
      "text/plain": [
       "PosixPath('/home/aleks/Documents/biod2020')"
      ]
     },
     "execution_count": 24,
     "metadata": {},
     "output_type": "execute_result"
    }
   ],
   "source": [
    "p = pathlib.Path.joinpath(pathlib.Path.home(), \"Documents\", \"biod2020\")\n",
    "p"
   ]
  },
  {
   "cell_type": "markdown",
   "metadata": {},
   "source": [
    "Tikrinimas ar direktorija/failas egzistuoja"
   ]
  },
  {
   "cell_type": "code",
   "execution_count": 25,
   "metadata": {},
   "outputs": [
    {
     "data": {
      "text/plain": [
       "True"
      ]
     },
     "execution_count": 25,
     "metadata": {},
     "output_type": "execute_result"
    }
   ],
   "source": [
    "p.exists()"
   ]
  },
  {
   "cell_type": "markdown",
   "metadata": {},
   "source": [
    "Tikrinimas ar tai direktorija"
   ]
  },
  {
   "cell_type": "code",
   "execution_count": 26,
   "metadata": {},
   "outputs": [
    {
     "data": {
      "text/plain": [
       "True"
      ]
     },
     "execution_count": 26,
     "metadata": {},
     "output_type": "execute_result"
    }
   ],
   "source": [
    "p.is_dir()"
   ]
  },
  {
   "cell_type": "markdown",
   "metadata": {},
   "source": [
    "Tikrinimas ar tai failas"
   ]
  },
  {
   "cell_type": "code",
   "execution_count": 27,
   "metadata": {},
   "outputs": [
    {
     "data": {
      "text/plain": [
       "False"
      ]
     },
     "execution_count": 27,
     "metadata": {},
     "output_type": "execute_result"
    }
   ],
   "source": [
    "p.is_file()"
   ]
  },
  {
   "cell_type": "markdown",
   "metadata": {},
   "source": [
    "Kūrimas direktorijų"
   ]
  },
  {
   "cell_type": "code",
   "execution_count": null,
   "metadata": {},
   "outputs": [],
   "source": [
    "test_dir_pathlib.mkdir(parents=True, exist_ok=True)"
   ]
  },
  {
   "cell_type": "markdown",
   "metadata": {},
   "source": [
    "Sukūrimas failo pagal objektą"
   ]
  },
  {
   "cell_type": "code",
   "execution_count": 28,
   "metadata": {},
   "outputs": [],
   "source": [
    "test_file_pathlib.touch()"
   ]
  },
  {
   "cell_type": "markdown",
   "metadata": {},
   "source": [
    "Keitimas vardo"
   ]
  },
  {
   "cell_type": "code",
   "execution_count": 29,
   "metadata": {},
   "outputs": [],
   "source": [
    "test_file_pathlib = test_file_pathlib.rename('test2.txt')"
   ]
  },
  {
   "cell_type": "markdown",
   "metadata": {},
   "source": [
    "Ištrynimas direktorijos"
   ]
  },
  {
   "cell_type": "code",
   "execution_count": 30,
   "metadata": {},
   "outputs": [],
   "source": [
    "test_dir_pathlib.rmdir()"
   ]
  },
  {
   "cell_type": "markdown",
   "metadata": {},
   "source": [
    "Ištrynimas failo"
   ]
  },
  {
   "cell_type": "code",
   "execution_count": 31,
   "metadata": {},
   "outputs": [],
   "source": [
    "test_file_pathlib.unlink()"
   ]
  },
  {
   "cell_type": "markdown",
   "metadata": {},
   "source": [
    "Paieška failų ir direktorijų"
   ]
  },
  {
   "cell_type": "code",
   "execution_count": 32,
   "metadata": {},
   "outputs": [
    {
     "data": {
      "text/plain": [
       "[PosixPath('/home/aleks/Documents/biod2020/lab/labreport.nbconvert.pdf'),\n",
       " PosixPath('/home/aleks/Documents/biod2020/lab/lab1.pdf'),\n",
       " PosixPath('/home/aleks/Documents/biod2020/lab/.ipynb_checkpoints/lab1-checkpoint.pdf'),\n",
       " PosixPath('/home/aleks/Documents/biod2020/images/EEGsources.pdf'),\n",
       " PosixPath('/home/aleks/Documents/biod2020/images/ERPmine.pdf'),\n",
       " PosixPath('/home/aleks/Documents/biod2020/lect/lect1_Intro.pdf'),\n",
       " PosixPath('/home/aleks/Documents/biod2020/lect/.ipynb_checkpoints/lect1_Intro-checkpoint.pdf')]"
      ]
     },
     "execution_count": 32,
     "metadata": {},
     "output_type": "execute_result"
    }
   ],
   "source": [
    "r = p.glob(\"**/*.pdf\")\n",
    "list(r)"
   ]
  },
  {
   "cell_type": "markdown",
   "metadata": {},
   "source": [
    "Plačiau"
   ]
  },
  {
   "cell_type": "code",
   "execution_count": 33,
   "metadata": {
    "collapsed": true,
    "jupyter": {
     "outputs_hidden": true,
     "source_hidden": true
    }
   },
   "outputs": [
    {
     "name": "stdout",
     "output_type": "stream",
     "text": [
      "Help on class Path in module pathlib:\n",
      "\n",
      "class Path(PurePath)\n",
      " |  Path(*args, **kwargs)\n",
      " |  \n",
      " |  PurePath subclass that can make system calls.\n",
      " |  \n",
      " |  Path represents a filesystem path but unlike PurePath, also offers\n",
      " |  methods to do system calls on path objects. Depending on your system,\n",
      " |  instantiating a Path will return either a PosixPath or a WindowsPath\n",
      " |  object. You can also instantiate a PosixPath or WindowsPath directly,\n",
      " |  but cannot instantiate a WindowsPath on a POSIX system or vice versa.\n",
      " |  \n",
      " |  Method resolution order:\n",
      " |      Path\n",
      " |      PurePath\n",
      " |      builtins.object\n",
      " |  \n",
      " |  Methods defined here:\n",
      " |  \n",
      " |  __enter__(self)\n",
      " |  \n",
      " |  __exit__(self, t, v, tb)\n",
      " |  \n",
      " |  absolute(self)\n",
      " |      Return an absolute version of this path.  This function works\n",
      " |      even if the path doesn't point to anything.\n",
      " |      \n",
      " |      No normalization is done, i.e. all '.' and '..' will be kept along.\n",
      " |      Use resolve() to get the canonical path to a file.\n",
      " |  \n",
      " |  chmod(self, mode)\n",
      " |      Change the permissions of the path, like os.chmod().\n",
      " |  \n",
      " |  exists(self)\n",
      " |      Whether this path exists.\n",
      " |  \n",
      " |  expanduser(self)\n",
      " |      Return a new path with expanded ~ and ~user constructs\n",
      " |      (as returned by os.path.expanduser)\n",
      " |  \n",
      " |  glob(self, pattern)\n",
      " |      Iterate over this subtree and yield all existing files (of any\n",
      " |      kind, including directories) matching the given relative pattern.\n",
      " |  \n",
      " |  group(self)\n",
      " |      Return the group name of the file gid.\n",
      " |  \n",
      " |  is_block_device(self)\n",
      " |      Whether this path is a block device.\n",
      " |  \n",
      " |  is_char_device(self)\n",
      " |      Whether this path is a character device.\n",
      " |  \n",
      " |  is_dir(self)\n",
      " |      Whether this path is a directory.\n",
      " |  \n",
      " |  is_fifo(self)\n",
      " |      Whether this path is a FIFO.\n",
      " |  \n",
      " |  is_file(self)\n",
      " |      Whether this path is a regular file (also True for symlinks pointing\n",
      " |      to regular files).\n",
      " |  \n",
      " |  is_mount(self)\n",
      " |      Check if this path is a POSIX mount point\n",
      " |  \n",
      " |  is_socket(self)\n",
      " |      Whether this path is a socket.\n",
      " |  \n",
      " |  is_symlink(self)\n",
      " |      Whether this path is a symbolic link.\n",
      " |  \n",
      " |  iterdir(self)\n",
      " |      Iterate over the files in this directory.  Does not yield any\n",
      " |      result for the special paths '.' and '..'.\n",
      " |  \n",
      " |  lchmod(self, mode)\n",
      " |      Like chmod(), except if the path points to a symlink, the symlink's\n",
      " |      permissions are changed, rather than its target's.\n",
      " |  \n",
      " |  link_to(self, target)\n",
      " |      Create a hard link pointing to a path named target.\n",
      " |  \n",
      " |  lstat(self)\n",
      " |      Like stat(), except if the path points to a symlink, the symlink's\n",
      " |      status information is returned, rather than its target's.\n",
      " |  \n",
      " |  mkdir(self, mode=511, parents=False, exist_ok=False)\n",
      " |      Create a new directory at this given path.\n",
      " |  \n",
      " |  open(self, mode='r', buffering=-1, encoding=None, errors=None, newline=None)\n",
      " |      Open the file pointed by this path and return a file object, as\n",
      " |      the built-in open() function does.\n",
      " |  \n",
      " |  owner(self)\n",
      " |      Return the login name of the file owner.\n",
      " |  \n",
      " |  read_bytes(self)\n",
      " |      Open the file in bytes mode, read it, and close the file.\n",
      " |  \n",
      " |  read_text(self, encoding=None, errors=None)\n",
      " |      Open the file in text mode, read it, and close the file.\n",
      " |  \n",
      " |  rename(self, target)\n",
      " |      Rename this path to the given path,\n",
      " |      and return a new Path instance pointing to the given path.\n",
      " |  \n",
      " |  replace(self, target)\n",
      " |      Rename this path to the given path, clobbering the existing\n",
      " |      destination if it exists, and return a new Path instance\n",
      " |      pointing to the given path.\n",
      " |  \n",
      " |  resolve(self, strict=False)\n",
      " |      Make the path absolute, resolving all symlinks on the way and also\n",
      " |      normalizing it (for example turning slashes into backslashes under\n",
      " |      Windows).\n",
      " |  \n",
      " |  rglob(self, pattern)\n",
      " |      Recursively yield all existing files (of any kind, including\n",
      " |      directories) matching the given relative pattern, anywhere in\n",
      " |      this subtree.\n",
      " |  \n",
      " |  rmdir(self)\n",
      " |      Remove this directory.  The directory must be empty.\n",
      " |  \n",
      " |  samefile(self, other_path)\n",
      " |      Return whether other_path is the same or not as this file\n",
      " |      (as returned by os.path.samefile()).\n",
      " |  \n",
      " |  stat(self)\n",
      " |      Return the result of the stat() system call on this path, like\n",
      " |      os.stat() does.\n",
      " |  \n",
      " |  symlink_to(self, target, target_is_directory=False)\n",
      " |      Make this path a symlink pointing to the given path.\n",
      " |      Note the order of arguments (self, target) is the reverse of os.symlink's.\n",
      " |  \n",
      " |  touch(self, mode=438, exist_ok=True)\n",
      " |      Create this file with the given access mode, if it doesn't exist.\n",
      " |  \n",
      " |  unlink(self, missing_ok=False)\n",
      " |      Remove this file or link.\n",
      " |      If the path is a directory, use rmdir() instead.\n",
      " |  \n",
      " |  write_bytes(self, data)\n",
      " |      Open the file in bytes mode, write to it, and close the file.\n",
      " |  \n",
      " |  write_text(self, data, encoding=None, errors=None)\n",
      " |      Open the file in text mode, write to it, and close the file.\n",
      " |  \n",
      " |  ----------------------------------------------------------------------\n",
      " |  Class methods defined here:\n",
      " |  \n",
      " |  cwd() from builtins.type\n",
      " |      Return a new path pointing to the current working directory\n",
      " |      (as returned by os.getcwd()).\n",
      " |  \n",
      " |  home() from builtins.type\n",
      " |      Return a new path pointing to the user's home directory (as\n",
      " |      returned by os.path.expanduser('~')).\n",
      " |  \n",
      " |  ----------------------------------------------------------------------\n",
      " |  Static methods defined here:\n",
      " |  \n",
      " |  __new__(cls, *args, **kwargs)\n",
      " |      Construct a PurePath from one or several strings and or existing\n",
      " |      PurePath objects.  The strings and path objects are combined so as\n",
      " |      to yield a canonicalized path, which is incorporated into the\n",
      " |      new PurePath object.\n",
      " |  \n",
      " |  ----------------------------------------------------------------------\n",
      " |  Methods inherited from PurePath:\n",
      " |  \n",
      " |  __bytes__(self)\n",
      " |      Return the bytes representation of the path.  This is only\n",
      " |      recommended to use under Unix.\n",
      " |  \n",
      " |  __eq__(self, other)\n",
      " |      Return self==value.\n",
      " |  \n",
      " |  __fspath__(self)\n",
      " |  \n",
      " |  __ge__(self, other)\n",
      " |      Return self>=value.\n",
      " |  \n",
      " |  __gt__(self, other)\n",
      " |      Return self>value.\n",
      " |  \n",
      " |  __hash__(self)\n",
      " |      Return hash(self).\n",
      " |  \n",
      " |  __le__(self, other)\n",
      " |      Return self<=value.\n",
      " |  \n",
      " |  __lt__(self, other)\n",
      " |      Return self<value.\n",
      " |  \n",
      " |  __reduce__(self)\n",
      " |      Helper for pickle.\n",
      " |  \n",
      " |  __repr__(self)\n",
      " |      Return repr(self).\n",
      " |  \n",
      " |  __rtruediv__(self, key)\n",
      " |  \n",
      " |  __str__(self)\n",
      " |      Return the string representation of the path, suitable for\n",
      " |      passing to system calls.\n",
      " |  \n",
      " |  __truediv__(self, key)\n",
      " |  \n",
      " |  as_posix(self)\n",
      " |      Return the string representation of the path with forward (/)\n",
      " |      slashes.\n",
      " |  \n",
      " |  as_uri(self)\n",
      " |      Return the path as a 'file' URI.\n",
      " |  \n",
      " |  is_absolute(self)\n",
      " |      True if the path is absolute (has both a root and, if applicable,\n",
      " |      a drive).\n",
      " |  \n",
      " |  is_reserved(self)\n",
      " |      Return True if the path contains one of the special names reserved\n",
      " |      by the system, if any.\n",
      " |  \n",
      " |  joinpath(self, *args)\n",
      " |      Combine this path with one or several arguments, and return a\n",
      " |      new path representing either a subpath (if all arguments are relative\n",
      " |      paths) or a totally different path (if one of the arguments is\n",
      " |      anchored).\n",
      " |  \n",
      " |  match(self, path_pattern)\n",
      " |      Return True if this path matches the given pattern.\n",
      " |  \n",
      " |  relative_to(self, *other)\n",
      " |      Return the relative path to another path identified by the passed\n",
      " |      arguments.  If the operation is not possible (because this is not\n",
      " |      a subpath of the other path), raise ValueError.\n",
      " |  \n",
      " |  with_name(self, name)\n",
      " |      Return a new path with the file name changed.\n",
      " |  \n",
      " |  with_suffix(self, suffix)\n",
      " |      Return a new path with the file suffix changed.  If the path\n",
      " |      has no suffix, add given suffix.  If the given suffix is an empty\n",
      " |      string, remove the suffix from the path.\n",
      " |  \n",
      " |  ----------------------------------------------------------------------\n",
      " |  Readonly properties inherited from PurePath:\n",
      " |  \n",
      " |  anchor\n",
      " |      The concatenation of the drive and root, or ''.\n",
      " |  \n",
      " |  drive\n",
      " |      The drive prefix (letter or UNC path), if any.\n",
      " |  \n",
      " |  name\n",
      " |      The final path component, if any.\n",
      " |  \n",
      " |  parent\n",
      " |      The logical parent of the path.\n",
      " |  \n",
      " |  parents\n",
      " |      A sequence of this path's logical parents.\n",
      " |  \n",
      " |  parts\n",
      " |      An object providing sequence-like access to the\n",
      " |      components in the filesystem path.\n",
      " |  \n",
      " |  root\n",
      " |      The root of the path, if any.\n",
      " |  \n",
      " |  stem\n",
      " |      The final path component, minus its last suffix.\n",
      " |  \n",
      " |  suffix\n",
      " |      The final component's last suffix, if any.\n",
      " |      \n",
      " |      This includes the leading period. For example: '.txt'\n",
      " |  \n",
      " |  suffixes\n",
      " |      A list of the final component's suffixes, if any.\n",
      " |      \n",
      " |      These include the leading periods. For example: ['.tar', '.gz']\n",
      "\n"
     ]
    }
   ],
   "source": [
    "help(pathlib.Path)"
   ]
  },
  {
   "cell_type": "markdown",
   "metadata": {},
   "source": [
    "---\n",
    ">> **UŽDUOTIS**\n",
    ">>\n",
    ">> - Naudodami pathlib sukurkite savo direktorijų medį\n",
    ">> - Naudodami pathlib raskite visus ipynb failus\n",
    ">>\n",
    "---\n",
    "\n",
    "## Tekstiniai failai\n",
    "\n",
    "Sukuriam failą"
   ]
  },
  {
   "cell_type": "code",
   "execution_count": 34,
   "metadata": {},
   "outputs": [],
   "source": [
    "test_file_pathlib.touch()"
   ]
  },
  {
   "cell_type": "markdown",
   "metadata": {},
   "source": [
    "Atidarome failą rašymo režime `w` ir įrašyti žodį 'text'"
   ]
  },
  {
   "cell_type": "code",
   "execution_count": 35,
   "metadata": {},
   "outputs": [],
   "source": [
    "failas = open(test_file_pathlib, \"w\")\n",
    "try:\n",
    "    failas.write(\"text\")\n",
    "finally:\n",
    "    failas.close()"
   ]
  },
  {
   "cell_type": "markdown",
   "metadata": {},
   "source": [
    "Komanda | Reikšmė\n",
    "---|---\n",
    "'r' | skaitymas (default)\n",
    "'w' | rašymas, pirma ištrinant\n",
    "'x' | sukurt naują failą ir įrašyti\n",
    "'a' | rašymas, pridėti tekstą\n",
    "'b' | dvejetainis rėžimas"
   ]
  },
  {
   "cell_type": "markdown",
   "metadata": {},
   "source": [
    "Kad neužmirštume uždaryti failo naudojame konteksto tvarkyklę `with`\n",
    "\n",
    "Atidarome failą skaitymo rėžime `r` ir nuskaitome visas eilutes"
   ]
  },
  {
   "cell_type": "code",
   "execution_count": 36,
   "metadata": {},
   "outputs": [
    {
     "name": "stdout",
     "output_type": "stream",
     "text": [
      "['text']\n"
     ]
    }
   ],
   "source": [
    "with open(test_file_pathlib, \"r\") as failas:\n",
    "    tt = failas.readlines()  # list su visais simboliais\n",
    "    print(tt)"
   ]
  },
  {
   "cell_type": "markdown",
   "metadata": {},
   "source": [
    "Norėdami skaityti po vieną eilutę"
   ]
  },
  {
   "cell_type": "code",
   "execution_count": 37,
   "metadata": {},
   "outputs": [
    {
     "name": "stdout",
     "output_type": "stream",
     "text": [
      "text"
     ]
    }
   ],
   "source": [
    "with open(test_file_pathlib, \"r\") as failas:\n",
    "    for row in failas:\n",
    "        print(row, end=\"\")"
   ]
  },
  {
   "cell_type": "markdown",
   "metadata": {},
   "source": [
    "Pathlib pakuotė turi metodus nuskaityti ar įrašyti tekstą į savo objektus."
   ]
  },
  {
   "cell_type": "code",
   "execution_count": 38,
   "metadata": {},
   "outputs": [
    {
     "data": {
      "text/plain": [
       "'text'"
      ]
     },
     "execution_count": 38,
     "metadata": {},
     "output_type": "execute_result"
    }
   ],
   "source": [
    "test_file_pathlib.read_text()"
   ]
  },
  {
   "cell_type": "code",
   "execution_count": 39,
   "metadata": {},
   "outputs": [
    {
     "data": {
      "text/plain": [
       "3"
      ]
     },
     "execution_count": 39,
     "metadata": {},
     "output_type": "execute_result"
    }
   ],
   "source": [
    "test_file_pathlib.write_text(\"abc\")"
   ]
  },
  {
   "cell_type": "markdown",
   "metadata": {},
   "source": [
    "Apjungiant susimuiluojame eksperimento failus."
   ]
  },
  {
   "cell_type": "code",
   "execution_count": 40,
   "metadata": {},
   "outputs": [],
   "source": [
    "test_dir_pathlib.mkdir()\n",
    "for subj in range(1, 11):\n",
    "    for txt_file in range(1, 11):\n",
    "        if txt_file < 6:\n",
    "            measure = \"power\"\n",
    "        else:\n",
    "            measure = \"phase\"\n",
    "        p = pathlib.Path.joinpath(\n",
    "            pathlib.Path.home(),\n",
    "            \"Documents\",\n",
    "            \"biod2020\",\n",
    "            \"datatest\",\n",
    "            f\"Exp_{txt_file}_{measure}_{subj}.txt\",\n",
    "        )\n",
    "        p.touch()"
   ]
  },
  {
   "cell_type": "markdown",
   "metadata": {},
   "source": [
    "Ištriname direktorijas sukurtas"
   ]
  },
  {
   "cell_type": "code",
   "execution_count": 41,
   "metadata": {},
   "outputs": [],
   "source": [
    "test_file_pathlib.unlink()\n",
    "\n",
    "\n",
    "def rm_tree(pth):\n",
    "    for child in pth.iterdir():\n",
    "        if child.is_file():\n",
    "            child.unlink()\n",
    "        else:\n",
    "            rm_tree(child)\n",
    "    pth.rmdir()\n",
    "\n",
    "\n",
    "rm_tree(test_dir_pathlib)"
   ]
  },
  {
   "cell_type": "markdown",
   "metadata": {},
   "source": [
    "## Regex\n",
    "\n",
    "Kartais paprastų filtrų neužtenka tiek norint surasti informaciją.\n",
    "\n",
    "Regex kalba yra universalus būdas (veikiantis visuose programavimo kalbose)\n",
    "automatizuoti informacijos filtravimą.\n",
    "\n",
    "Aptarsime tik mažą dalį šios kalbos, plačiau aprašyta\n",
    "[dokumentacijoje](https://docs.python.org/3/howto/regex.html)\n",
    "\n",
    "regex sakinių testavimas https://regex101.com/\n",
    "\n",
    "### Kur galima naudoti regex\n",
    "\n",
    "Dauguma duomenų analizės uždavinių galima apibūdinti kaip fragmentų paiešką\n",
    "tekste.\n",
    "\n",
    "- Radimas failų pavadinimų\n",
    "- Radimas specifinių duomenų faile\n",
    "- Analizė teksto sekų (DNR)\n",
    "- Ištraukimas koordinačių\n",
    "- Taksonominių vardų\n",
    "- t.t.\n",
    "\n",
    "Pavyzdys [regex DNR analizėje](https://pythonforbiologists.com/regular-expressions)\n",
    "\n",
    "Python pakuotė `re` aprašo regex metodus"
   ]
  },
  {
   "cell_type": "markdown",
   "metadata": {},
   "source": [
    "### Failų radimas"
   ]
  },
  {
   "cell_type": "code",
   "execution_count": 42,
   "metadata": {},
   "outputs": [
    {
     "data": {
      "text/plain": [
       "[PosixPath('/home/aleks/Documents/biod2020/lab/lab2.py'),\n",
       " PosixPath('/home/aleks/Documents/biod2020/lab/programa.py'),\n",
       " PosixPath('/home/aleks/Documents/biod2020/lab/lab3.py'),\n",
       " PosixPath('/home/aleks/Documents/biod2020/lab/labreport.py'),\n",
       " PosixPath('/home/aleks/Documents/biod2020/lab/.ipynb_checkpoints/programa-checkpoint.py'),\n",
       " PosixPath('/home/aleks/Documents/biod2020/lab/.ipynb_checkpoints/lab2-checkpoint.py'),\n",
       " PosixPath('/home/aleks/Documents/biod2020/lab/.ipynb_checkpoints/lab3-checkpoint.py'),\n",
       " PosixPath('/home/aleks/Documents/biod2020/lect/programa2.py'),\n",
       " PosixPath('/home/aleks/Documents/biod2020/lect/lect2_Python.py'),\n",
       " PosixPath('/home/aleks/Documents/biod2020/lect/lect1_Intro.py'),\n",
       " PosixPath('/home/aleks/Documents/biod2020/lect/.ipynb_checkpoints/lect2_Python-checkpoint.py'),\n",
       " PosixPath('/home/aleks/Documents/biod2020/lect/.ipynb_checkpoints/programa2-checkpoint.py')]"
      ]
     },
     "execution_count": 42,
     "metadata": {},
     "output_type": "execute_result"
    }
   ],
   "source": [
    "def find_files_glob(directory, pattern):\n",
    "    return list(Path(directory).rglob(pattern))\n",
    "\n",
    "\n",
    "file_list = find_files_glob(bioa_dir, \"*py\")\n",
    "file_list"
   ]
  },
  {
   "cell_type": "markdown",
   "metadata": {},
   "source": [
    "Jei mums reikia sudėtingesnės logikos pvz jei norime rasti tik tuos py failus\n",
    "kurie yra lab arba exam direktorijose."
   ]
  },
  {
   "cell_type": "code",
   "execution_count": 43,
   "metadata": {},
   "outputs": [
    {
     "data": {
      "text/plain": [
       "['/home/aleks/Documents/biod2020/lab/lab2.py',\n",
       " '/home/aleks/Documents/biod2020/lab/programa.py',\n",
       " '/home/aleks/Documents/biod2020/lab/lab3.py',\n",
       " '/home/aleks/Documents/biod2020/lab/labreport.py',\n",
       " '/home/aleks/Documents/biod2020/lab/.ipynb_checkpoints/programa-checkpoint.py',\n",
       " '/home/aleks/Documents/biod2020/lab/.ipynb_checkpoints/lab2-checkpoint.py',\n",
       " '/home/aleks/Documents/biod2020/lab/.ipynb_checkpoints/lab3-checkpoint.py']"
      ]
     },
     "execution_count": 43,
     "metadata": {},
     "output_type": "execute_result"
    }
   ],
   "source": [
    "def find_files_re(directory, pattern):\n",
    "    # in first for loop we convert to strings pathlib returned directory contents\n",
    "    files = [str(element) for element in list(Path(directory).rglob(\"./*\"))]\n",
    "    # in second loop using regular expressions we filter pathlib output\n",
    "    files = [element for element in files if re.search(pattern, element)]\n",
    "    return files\n",
    "\n",
    "\n",
    "file_list = find_files_re(bioa_dir, r\".*(exam|lab).*py$\")\n",
    "file_list"
   ]
  },
  {
   "cell_type": "markdown",
   "metadata": {},
   "source": [
    "Pradžioje apžvelgiam regex sakinių konstrukciją ir tada `re` pakuotės metodus.\n",
    "\n",
    "Kadangi yra daug specialių simbolių formuojant regex sakinius pravartu naudoti\n",
    "r-strings.\n",
    "\n",
    "Simboliai | Reikšmė\n",
    "---|---\n",
    "\\. | Bet koks simbolis išskyrus nauja eilutė\n",
    "\\* | 0 arba daugiau kartų pasikartojanti prieš tai einanti komanda\n",
    "\\+ | 1 arba daugiau kartų\n",
    "\\? | 0 arba 1 kartą\n",
    "[a] | specifinis simbolis\n",
    "[a-z] | raidės nuo a iki z\n",
    "[a-zA-Z0-9\\_] | mažosios arba didžiosios raidės, skaičiai ir \\_\n",
    "^ | Jei naudojamas kaip pirmas simbolis tai simbolizuoja eilutės pradžią\n",
    "[^A] | ne A\n",
    "$ | eilutės pabaiga\n",
    "{x,n} | komanda arba simbolis pakartojamas nuo x iki n kartų\n",
    "(x,x1,..) | grupuojami simboiai\n",
    "\\| | jungtukas arba\n",
    "\\d | skaičius nuo 0 iki 9\n",
    "\\D | tas pats kaip [^0-9]\n",
    "\\s |  tarpas\n",
    "\\S |  ne tarpas\n",
    "\\W | tas pats kaip [^a-zA-Z0-9\\_]\n",
    "\\w | tas pats kaip [a-zA-Z0-9\\_]\n",
    "\\b | žodžio kraštas\n",
    "\\B | ne kraštas\n",
    "\\  | leidžia naudoti simbolius rezervuotus komandoms\n",
    "\\n | nauja eilutė\n",
    "\n",
    "#### re metodai\n",
    "\n",
    "Jei turime kintamąjį HI"
   ]
  },
  {
   "cell_type": "code",
   "execution_count": 44,
   "metadata": {},
   "outputs": [],
   "source": [
    "HI = \"Hello 1 5 world! 5\""
   ]
  },
  {
   "cell_type": "markdown",
   "metadata": {},
   "source": [
    "Ir norime surasti visus skaičius šiame tekste"
   ]
  },
  {
   "cell_type": "code",
   "execution_count": 45,
   "metadata": {},
   "outputs": [
    {
     "data": {
      "text/plain": [
       "['1', '5', '5']"
      ]
     },
     "execution_count": 45,
     "metadata": {},
     "output_type": "execute_result"
    }
   ],
   "source": [
    "re.findall(r\"\\d+\", HI)"
   ]
  },
  {
   "cell_type": "markdown",
   "metadata": {},
   "source": [
    "Dažniausiai pradedame kurti paieška įtraukdami viską --- . komanda"
   ]
  },
  {
   "cell_type": "code",
   "execution_count": 46,
   "metadata": {},
   "outputs": [
    {
     "data": {
      "text/plain": [
       "<re.Match object; span=(0, 18), match='Hello 1 5 world! 5'>"
      ]
     },
     "execution_count": 46,
     "metadata": {},
     "output_type": "execute_result"
    }
   ],
   "source": [
    "re.match(r\".*\", HI)"
   ]
  },
  {
   "cell_type": "markdown",
   "metadata": {},
   "source": [
    "Metodas `group` gražina aptiktą reikšmę"
   ]
  },
  {
   "cell_type": "code",
   "execution_count": 47,
   "metadata": {},
   "outputs": [
    {
     "data": {
      "text/plain": [
       "'Hello 1 5 world! 5'"
      ]
     },
     "execution_count": 47,
     "metadata": {},
     "output_type": "execute_result"
    }
   ],
   "source": [
    "re.match(r\".*\", HI).group()"
   ]
  },
  {
   "cell_type": "code",
   "execution_count": 48,
   "metadata": {},
   "outputs": [
    {
     "data": {
      "text/plain": [
       "['1', '5', '5']"
      ]
     },
     "execution_count": 48,
     "metadata": {},
     "output_type": "execute_result"
    }
   ],
   "source": [
    "re.findall(r\"\\d+\", HI)"
   ]
  },
  {
   "cell_type": "markdown",
   "metadata": {},
   "source": [
    "'\\d+' surask bet kokį skaičių `\\d` pakartotą `+` 1 arba daugiau kartų\n",
    "\n",
    "finditer gražina po vieną reikšmes for ciklui"
   ]
  },
  {
   "cell_type": "code",
   "execution_count": 49,
   "metadata": {},
   "outputs": [
    {
     "data": {
      "text/plain": [
       "[<re.Match object; span=(6, 7), match='1'>,\n",
       " <re.Match object; span=(8, 9), match='5'>,\n",
       " <re.Match object; span=(17, 18), match='5'>]"
      ]
     },
     "execution_count": 49,
     "metadata": {},
     "output_type": "execute_result"
    }
   ],
   "source": [
    "list(re.finditer(r\"\\d+\", HI))"
   ]
  },
  {
   "cell_type": "markdown",
   "metadata": {},
   "source": [
    "`re.search` -  skenuoja tekstą ieškodamas atitinkančio šablono.\n",
    "Jis panašus į match metodą bet gražina ne vien tik pirmą rastą reikšmę.\n",
    "\n",
    "Raskime skaičių 5 kuris yra teksto pabaigoje"
   ]
  },
  {
   "cell_type": "code",
   "execution_count": 50,
   "metadata": {},
   "outputs": [
    {
     "data": {
      "text/plain": [
       "'5'"
      ]
     },
     "execution_count": 50,
     "metadata": {},
     "output_type": "execute_result"
    }
   ],
   "source": [
    "re.search(r\"5$\", HI).group()"
   ]
  },
  {
   "cell_type": "markdown",
   "metadata": {},
   "source": [
    "Metodas span gražina simbolių vietą tekste"
   ]
  },
  {
   "cell_type": "code",
   "execution_count": 51,
   "metadata": {},
   "outputs": [
    {
     "data": {
      "text/plain": [
       "(17, 18)"
      ]
     },
     "execution_count": 51,
     "metadata": {},
     "output_type": "execute_result"
    }
   ],
   "source": [
    "re.search(r\"5$\", HI).span()"
   ]
  },
  {
   "cell_type": "markdown",
   "metadata": {},
   "source": [
    "`5` randą skaičių o $ teksto pabaigą\n",
    "\n",
    "match panašia komanda neranda nieko nes skenuoja nuo pradžių tekstą"
   ]
  },
  {
   "cell_type": "code",
   "execution_count": 52,
   "metadata": {},
   "outputs": [],
   "source": [
    "re.match(r\"5$\", HI)"
   ]
  },
  {
   "cell_type": "markdown",
   "metadata": {},
   "source": [
    "`e.split` padalina ties rastais simboliais tekstą į dalis"
   ]
  },
  {
   "cell_type": "code",
   "execution_count": 54,
   "metadata": {},
   "outputs": [
    {
     "data": {
      "text/plain": [
       "['Hello', '1', '5', 'world!', '5']"
      ]
     },
     "execution_count": 54,
     "metadata": {},
     "output_type": "execute_result"
    }
   ],
   "source": [
    "re.split(r\"\\s\", HI)"
   ]
  },
  {
   "cell_type": "markdown",
   "metadata": {},
   "source": [
    "`\\s` randa tarpus tarp žodžių\n",
    "\n",
    "Padalinam tekstą ties skaičiais"
   ]
  },
  {
   "cell_type": "code",
   "execution_count": 55,
   "metadata": {},
   "outputs": [
    {
     "data": {
      "text/plain": [
       "['Hello ', ' ', ' world! ', '']"
      ]
     },
     "execution_count": 55,
     "metadata": {},
     "output_type": "execute_result"
    }
   ],
   "source": [
    "re.split(r\"\\d\", HI)"
   ]
  },
  {
   "cell_type": "markdown",
   "metadata": {},
   "source": [
    "Matome kad skaičiai išnyksta nes ties jais vyksta dalinimas.\n",
    "Jei norime išlaikyti skaičius juos reik sugauti ()"
   ]
  },
  {
   "cell_type": "code",
   "execution_count": 56,
   "metadata": {},
   "outputs": [
    {
     "data": {
      "text/plain": [
       "['Hello ', '1', ' ', '5', ' world! ', '5', '']"
      ]
     },
     "execution_count": 56,
     "metadata": {},
     "output_type": "execute_result"
    }
   ],
   "source": [
    "re.split(r\"(\\d)\", HI)"
   ]
  },
  {
   "cell_type": "markdown",
   "metadata": {},
   "source": [
    "`re.sub` pakeičia į kitas reikšmes"
   ]
  },
  {
   "cell_type": "code",
   "execution_count": 57,
   "metadata": {},
   "outputs": [
    {
     "data": {
      "text/plain": [
       "'Hello 1 5 world 5'"
      ]
     },
     "execution_count": 57,
     "metadata": {},
     "output_type": "execute_result"
    }
   ],
   "source": [
    "re.sub(r\"!\", \"\", HI)"
   ]
  },
  {
   "cell_type": "markdown",
   "metadata": {},
   "source": [
    "Rasti žodžius po kurių seka šauktukas galima su lookahead sintakse (?=x)"
   ]
  },
  {
   "cell_type": "code",
   "execution_count": 58,
   "metadata": {},
   "outputs": [
    {
     "data": {
      "text/plain": [
       "['world']"
      ]
     },
     "execution_count": 58,
     "metadata": {},
     "output_type": "execute_result"
    }
   ],
   "source": [
    "re.findall(r\"\\w+(?=!)\", HI)"
   ]
  },
  {
   "cell_type": "markdown",
   "metadata": {},
   "source": [
    "Ir atvirkštinis variantas jei pavyzdžiui nenorime rasti plėtinių pdf arba ipynb"
   ]
  },
  {
   "cell_type": "code",
   "execution_count": 59,
   "metadata": {},
   "outputs": [
    {
     "data": {
      "text/plain": [
       "['/home/aleks/Documents/biod2020/planas.docx',\n",
       " '/home/aleks/Documents/biod2020/.git',\n",
       " '/home/aleks/Documents/biod2020/.gitignore',\n",
       " '/home/aleks/Documents/biod2020/README.md',\n",
       " '/home/aleks/Documents/biod2020/.ipynb_checkpoints',\n",
       " '/home/aleks/Documents/biod2020/.git/objects',\n",
       " '/home/aleks/Documents/biod2020/.git/config',\n",
       " '/home/aleks/Documents/biod2020/.git/COMMIT_EDITMSG',\n",
       " '/home/aleks/Documents/biod2020/.git/FETCH_HEAD',\n",
       " '/home/aleks/Documents/biod2020/.git/branches',\n",
       " '/home/aleks/Documents/biod2020/.git/hooks',\n",
       " '/home/aleks/Documents/biod2020/.git/refs',\n",
       " '/home/aleks/Documents/biod2020/.git/logs',\n",
       " '/home/aleks/Documents/biod2020/.git/description',\n",
       " '/home/aleks/Documents/biod2020/.git/ORIG_HEAD',\n",
       " '/home/aleks/Documents/biod2020/.git/HEAD',\n",
       " '/home/aleks/Documents/biod2020/.git/info',\n",
       " '/home/aleks/Documents/biod2020/.git/index',\n",
       " '/home/aleks/Documents/biod2020/.git/objects/c4',\n",
       " '/home/aleks/Documents/biod2020/.git/objects/0c',\n",
       " '/home/aleks/Documents/biod2020/.git/objects/e1',\n",
       " '/home/aleks/Documents/biod2020/.git/objects/63',\n",
       " '/home/aleks/Documents/biod2020/.git/objects/c1',\n",
       " '/home/aleks/Documents/biod2020/.git/objects/86',\n",
       " '/home/aleks/Documents/biod2020/.git/objects/9a',\n",
       " '/home/aleks/Documents/biod2020/.git/objects/bb',\n",
       " '/home/aleks/Documents/biod2020/.git/objects/70',\n",
       " '/home/aleks/Documents/biod2020/.git/objects/c8',\n",
       " '/home/aleks/Documents/biod2020/.git/objects/a1',\n",
       " '/home/aleks/Documents/biod2020/.git/objects/3d',\n",
       " '/home/aleks/Documents/biod2020/.git/objects/40',\n",
       " '/home/aleks/Documents/biod2020/.git/objects/50',\n",
       " '/home/aleks/Documents/biod2020/.git/objects/09',\n",
       " '/home/aleks/Documents/biod2020/.git/objects/ae',\n",
       " '/home/aleks/Documents/biod2020/.git/objects/3a',\n",
       " '/home/aleks/Documents/biod2020/.git/objects/43',\n",
       " '/home/aleks/Documents/biod2020/.git/objects/b9',\n",
       " '/home/aleks/Documents/biod2020/.git/objects/e3',\n",
       " '/home/aleks/Documents/biod2020/.git/objects/7e',\n",
       " '/home/aleks/Documents/biod2020/.git/objects/18',\n",
       " '/home/aleks/Documents/biod2020/.git/objects/15',\n",
       " '/home/aleks/Documents/biod2020/.git/objects/26',\n",
       " '/home/aleks/Documents/biod2020/.git/objects/9d',\n",
       " '/home/aleks/Documents/biod2020/.git/objects/66',\n",
       " '/home/aleks/Documents/biod2020/.git/objects/59',\n",
       " '/home/aleks/Documents/biod2020/.git/objects/79',\n",
       " '/home/aleks/Documents/biod2020/.git/objects/f4',\n",
       " '/home/aleks/Documents/biod2020/.git/objects/33',\n",
       " '/home/aleks/Documents/biod2020/.git/objects/65',\n",
       " '/home/aleks/Documents/biod2020/.git/objects/2c',\n",
       " '/home/aleks/Documents/biod2020/.git/objects/87',\n",
       " '/home/aleks/Documents/biod2020/.git/objects/dd',\n",
       " '/home/aleks/Documents/biod2020/.git/objects/60',\n",
       " '/home/aleks/Documents/biod2020/.git/objects/c0',\n",
       " '/home/aleks/Documents/biod2020/.git/objects/3c',\n",
       " '/home/aleks/Documents/biod2020/.git/objects/a2',\n",
       " '/home/aleks/Documents/biod2020/.git/objects/5d',\n",
       " '/home/aleks/Documents/biod2020/.git/objects/a3',\n",
       " '/home/aleks/Documents/biod2020/.git/objects/8e',\n",
       " '/home/aleks/Documents/biod2020/.git/objects/24',\n",
       " '/home/aleks/Documents/biod2020/.git/objects/00',\n",
       " '/home/aleks/Documents/biod2020/.git/objects/8b',\n",
       " '/home/aleks/Documents/biod2020/.git/objects/b0',\n",
       " '/home/aleks/Documents/biod2020/.git/objects/53',\n",
       " '/home/aleks/Documents/biod2020/.git/objects/7d',\n",
       " '/home/aleks/Documents/biod2020/.git/objects/ce',\n",
       " '/home/aleks/Documents/biod2020/.git/objects/a0',\n",
       " '/home/aleks/Documents/biod2020/.git/objects/ab',\n",
       " '/home/aleks/Documents/biod2020/.git/objects/75',\n",
       " '/home/aleks/Documents/biod2020/.git/objects/06',\n",
       " '/home/aleks/Documents/biod2020/.git/objects/de',\n",
       " '/home/aleks/Documents/biod2020/.git/objects/d4',\n",
       " '/home/aleks/Documents/biod2020/.git/objects/55',\n",
       " '/home/aleks/Documents/biod2020/.git/objects/07',\n",
       " '/home/aleks/Documents/biod2020/.git/objects/f3',\n",
       " '/home/aleks/Documents/biod2020/.git/objects/e0',\n",
       " '/home/aleks/Documents/biod2020/.git/objects/cc',\n",
       " '/home/aleks/Documents/biod2020/.git/objects/6f',\n",
       " '/home/aleks/Documents/biod2020/.git/objects/ca',\n",
       " '/home/aleks/Documents/biod2020/.git/objects/97',\n",
       " '/home/aleks/Documents/biod2020/.git/objects/08',\n",
       " '/home/aleks/Documents/biod2020/.git/objects/39',\n",
       " '/home/aleks/Documents/biod2020/.git/objects/96',\n",
       " '/home/aleks/Documents/biod2020/.git/objects/b5',\n",
       " '/home/aleks/Documents/biod2020/.git/objects/f2',\n",
       " '/home/aleks/Documents/biod2020/.git/objects/7b',\n",
       " '/home/aleks/Documents/biod2020/.git/objects/ac',\n",
       " '/home/aleks/Documents/biod2020/.git/objects/f0',\n",
       " '/home/aleks/Documents/biod2020/.git/objects/pack',\n",
       " '/home/aleks/Documents/biod2020/.git/objects/info',\n",
       " '/home/aleks/Documents/biod2020/.git/objects/fc',\n",
       " '/home/aleks/Documents/biod2020/.git/objects/c6',\n",
       " '/home/aleks/Documents/biod2020/.git/objects/9f',\n",
       " '/home/aleks/Documents/biod2020/.git/objects/77',\n",
       " '/home/aleks/Documents/biod2020/.git/objects/92',\n",
       " '/home/aleks/Documents/biod2020/.git/objects/da',\n",
       " '/home/aleks/Documents/biod2020/.git/objects/0b',\n",
       " '/home/aleks/Documents/biod2020/.git/objects/bc',\n",
       " '/home/aleks/Documents/biod2020/.git/objects/1d',\n",
       " '/home/aleks/Documents/biod2020/.git/objects/29',\n",
       " '/home/aleks/Documents/biod2020/.git/objects/c4/7c428bdea0921aa9ed078c4830fb73ba8bce38',\n",
       " '/home/aleks/Documents/biod2020/.git/objects/c4/58cf4a33d06ee109f3e6d76b4a9ebd904a67e0',\n",
       " '/home/aleks/Documents/biod2020/.git/objects/0c/8b457bc22147651265b02771140f4118070da5',\n",
       " '/home/aleks/Documents/biod2020/.git/objects/e1/9a7b33f9b436452add7bc4426df782853555e4',\n",
       " '/home/aleks/Documents/biod2020/.git/objects/63/578502e5e1367754d22f891ec37c824f39e8b7',\n",
       " '/home/aleks/Documents/biod2020/.git/objects/c1/cd8c1b35dcbe982d7092bc1f779936d435928f',\n",
       " '/home/aleks/Documents/biod2020/.git/objects/86/0a29cde8896a596ae8d1d32ad463ed88ac3f6b',\n",
       " '/home/aleks/Documents/biod2020/.git/objects/9a/fb5e8dd1c7765b4d0b3e3435c2ca94aa6096a3',\n",
       " '/home/aleks/Documents/biod2020/.git/objects/bb/9d78432e7c3b19a1bfacef7fa80ec185218b5c',\n",
       " '/home/aleks/Documents/biod2020/.git/objects/70/c31aeea4ef94199bc8ad81a4fc23aaf9c0cb0c',\n",
       " '/home/aleks/Documents/biod2020/.git/objects/c8/3b722e1d89031fb8aa3dc1569d274dbc7a9c3c',\n",
       " '/home/aleks/Documents/biod2020/.git/objects/c8/ea3f6671b04373a8ac566704183b4af3f4dd0f',\n",
       " '/home/aleks/Documents/biod2020/.git/objects/a1/954b15a75d3410c692400690ca8436c3fcadac',\n",
       " '/home/aleks/Documents/biod2020/.git/objects/3d/5f0aa8ad919ef2ec44f25e977fe74a4ec0ff8b',\n",
       " '/home/aleks/Documents/biod2020/.git/objects/40/bb8c7960072118b997243b500fbcc3db337dc6',\n",
       " '/home/aleks/Documents/biod2020/.git/objects/50/82bd704fd048d1e1572a2e0c94df7695e124ef',\n",
       " '/home/aleks/Documents/biod2020/.git/objects/09/d0585094092e322f2279911516f95b0c3dc830',\n",
       " '/home/aleks/Documents/biod2020/.git/objects/ae/0a8ccc5dd04110693754357a14644e70b91266',\n",
       " '/home/aleks/Documents/biod2020/.git/objects/3a/389a8af9608d8ca1dfa8fd8c0c6ab14f6b5bd7',\n",
       " '/home/aleks/Documents/biod2020/.git/objects/43/0486f6a560d9c5a3866a1fc9f20bd3a9f133ed',\n",
       " '/home/aleks/Documents/biod2020/.git/objects/b9/caebcc32068c39dbe1cd94313edd680a9519c2',\n",
       " '/home/aleks/Documents/biod2020/.git/objects/e3/07d62fffffc19256e17e915974ffdb274fd415',\n",
       " '/home/aleks/Documents/biod2020/.git/objects/7e/f1a2db4174a4445bcea9dabad8a97a34e387ab',\n",
       " '/home/aleks/Documents/biod2020/.git/objects/18/d66f74afd4eacfb1f1b95adbeb0fb05f875060',\n",
       " '/home/aleks/Documents/biod2020/.git/objects/15/727927352386c7bdcb6ed1d2def4d86e0bd316',\n",
       " '/home/aleks/Documents/biod2020/.git/objects/15/7f8b0699bf3bddaef1fc6541048454847e79a5',\n",
       " '/home/aleks/Documents/biod2020/.git/objects/26/37d6152e38957eda59e7a971cc342b8c0aaa58',\n",
       " '/home/aleks/Documents/biod2020/.git/objects/9d/c2b50c65a148edaf20a4ce5446f3478462a1e4',\n",
       " '/home/aleks/Documents/biod2020/.git/objects/66/51995fbaaf61670811880663406fd968c56a7b',\n",
       " '/home/aleks/Documents/biod2020/.git/objects/59/a45b43b0491459160e4768978f1adba1b473cc',\n",
       " '/home/aleks/Documents/biod2020/.git/objects/79/905704ff1d93c61433f92b68d970a2f012181c',\n",
       " '/home/aleks/Documents/biod2020/.git/objects/79/ffd12f0897f55a42618d04d39120b4600d95a0',\n",
       " '/home/aleks/Documents/biod2020/.git/objects/f4/905327c6c45cfb180bc5ea439953163e010081',\n",
       " '/home/aleks/Documents/biod2020/.git/objects/f4/5840ea819445bf6238a5d74ce4e8beec521d9d',\n",
       " '/home/aleks/Documents/biod2020/.git/objects/33/0c8e12fdc86b6f6ae914cbf45f566ced922a6b',\n",
       " '/home/aleks/Documents/biod2020/.git/objects/65/311566b7374804f9ee250e37799ec0be97620e',\n",
       " '/home/aleks/Documents/biod2020/.git/objects/2c/dc69b259d435ed0375f7d547d8e4ea9415e216',\n",
       " '/home/aleks/Documents/biod2020/.git/objects/87/f269858771d733bf5e377bb2f2bd84b9187e1f',\n",
       " '/home/aleks/Documents/biod2020/.git/objects/dd/c2fc8162891f85fde4c197931c8983cc85760a',\n",
       " '/home/aleks/Documents/biod2020/.git/objects/60/2c6ba125c7e114361c4d732074888863d6ec73',\n",
       " '/home/aleks/Documents/biod2020/.git/objects/c0/8b157b9e6f9ee4389e5af57533af695ee15238',\n",
       " '/home/aleks/Documents/biod2020/.git/objects/c0/d20c977f566ca78bb375970153789bc10a88fa',\n",
       " '/home/aleks/Documents/biod2020/.git/objects/c0/ed6842e9724912066372cdf038b2f1cba1495b',\n",
       " '/home/aleks/Documents/biod2020/.git/objects/3c/610c037be30221b80eb95333e971da7ae5876c',\n",
       " '/home/aleks/Documents/biod2020/.git/objects/a2/7815d4993ae7de04581f410f2c1452787727c1',\n",
       " '/home/aleks/Documents/biod2020/.git/objects/5d/39b4039a623d8753fddb14d0e87695c59e8bd2',\n",
       " '/home/aleks/Documents/biod2020/.git/objects/a3/11e214b91d65e59cfe2c9df73b839ac2e24382',\n",
       " '/home/aleks/Documents/biod2020/.git/objects/8e/4be42e6cb7b819ded84c3039a19f647891f842',\n",
       " '/home/aleks/Documents/biod2020/.git/objects/24/4976af10726b90ebf2c120089dd772192f09a8',\n",
       " '/home/aleks/Documents/biod2020/.git/objects/00/ad94be15198ef2992592fd3475c6881b138b9a',\n",
       " '/home/aleks/Documents/biod2020/.git/objects/8b/6b291c6ad87cbf49e055aacd3ea18b09df1ebd',\n",
       " '/home/aleks/Documents/biod2020/.git/objects/b0/4269d7912d21fe44add9e4794b35cd0a051c93',\n",
       " '/home/aleks/Documents/biod2020/.git/objects/53/cfcaebcba5b72032e052649effd35901c2c159',\n",
       " '/home/aleks/Documents/biod2020/.git/objects/7d/480b00f777cc84070e77f14b75855af1fac001',\n",
       " '/home/aleks/Documents/biod2020/.git/objects/7d/e9a784f0a39dadff2fa07fb27eb216fb257ada',\n",
       " '/home/aleks/Documents/biod2020/.git/objects/7d/17ead1e07f840c5557c5f75bcfc5a5bd69e429',\n",
       " '/home/aleks/Documents/biod2020/.git/objects/ce/73eb6a10c64021b513f258ba7deae610b30594',\n",
       " '/home/aleks/Documents/biod2020/.git/objects/a0/aa76c41e9ac114772e657f6792b04dc0be92f7',\n",
       " '/home/aleks/Documents/biod2020/.git/objects/ab/df1cf0ce6cbf8b00d8f19a70f77a4f8fc893ad',\n",
       " '/home/aleks/Documents/biod2020/.git/objects/75/05b96ca54ec00f98bb598c8223f7f602a245d2',\n",
       " '/home/aleks/Documents/biod2020/.git/objects/06/1a89219ced742c04294249bbb110c7fd4a32cb',\n",
       " '/home/aleks/Documents/biod2020/.git/objects/06/23d626e4132069791aaf83a43d923307a781ea',\n",
       " '/home/aleks/Documents/biod2020/.git/objects/06/603bcf23e8ee6337484cc9264ae9529c7e3a4c',\n",
       " '/home/aleks/Documents/biod2020/.git/objects/de/d715378ad4dd1d45d6af36a24591ecdc362fbe',\n",
       " '/home/aleks/Documents/biod2020/.git/objects/d4/1d924d860ff70d14ad8f3d988c52f4d33281d7',\n",
       " '/home/aleks/Documents/biod2020/.git/objects/55/470920f755f467c8d93bdcd62629c0a7b644e3',\n",
       " '/home/aleks/Documents/biod2020/.git/objects/07/93bd17f66bc746b5c083e9e60bd6a5502121fd',\n",
       " '/home/aleks/Documents/biod2020/.git/objects/f3/98e2c6b360661b5be659ce8446c91f3e310720',\n",
       " '/home/aleks/Documents/biod2020/.git/objects/e0/83ca5151615a089b60cfc0a53bd7103d194002',\n",
       " '/home/aleks/Documents/biod2020/.git/objects/e0/eb39948e4145434c64dc26ca0fe7de287bdc95',\n",
       " '/home/aleks/Documents/biod2020/.git/objects/cc/ea8b5e23e68bd7bf8eb6b89a27bf80802bbed4',\n",
       " '/home/aleks/Documents/biod2020/.git/objects/6f/624427a4c49889cb600b93c9204829b555a3f2',\n",
       " '/home/aleks/Documents/biod2020/.git/objects/ca/ca7ef510b2d46ae54891a9dad7e0d314bfef66',\n",
       " '/home/aleks/Documents/biod2020/.git/objects/97/09b4e9939250a1993e7d2b67959a8fa03989d2',\n",
       " '/home/aleks/Documents/biod2020/.git/objects/08/c8f7a2eb9dec1f20be55a6fc48b2747af8f138',\n",
       " '/home/aleks/Documents/biod2020/.git/objects/08/daf5cb064e7fe98d8b5b5c8f99a98b9865de52',\n",
       " '/home/aleks/Documents/biod2020/.git/objects/39/983b04bf7627cb68f074b35ce840a28fffb29f',\n",
       " '/home/aleks/Documents/biod2020/.git/objects/96/1e39bbaedf9c33ab693744ed5763630c71521a',\n",
       " '/home/aleks/Documents/biod2020/.git/objects/96/917890d4d30468ee4db722e1272c2e30e08049',\n",
       " '/home/aleks/Documents/biod2020/.git/objects/b5/4e68175ee6a4616c544d7bf4ae8b823f4c2c00',\n",
       " '/home/aleks/Documents/biod2020/.git/objects/f2/6eff9ce97d72d0d1cfc12e46f0978e31f5364a',\n",
       " '/home/aleks/Documents/biod2020/.git/objects/7b/63849ac3dcca0438775731c670df4f620ed901',\n",
       " '/home/aleks/Documents/biod2020/.git/objects/ac/127b591e0507d72f184e672049e03780b4b6bc',\n",
       " '/home/aleks/Documents/biod2020/.git/objects/ac/2272e6f6649b3b785c5f2b9d8a2dffdc3efb07',\n",
       " '/home/aleks/Documents/biod2020/.git/objects/f0/ded0aa79afb1a3ae4c98e69a7957644996c0b3',\n",
       " '/home/aleks/Documents/biod2020/.git/objects/fc/1db3abe0ade883c8aac3b90899febe656228f6',\n",
       " '/home/aleks/Documents/biod2020/.git/objects/c6/8eb7defe4dbd19bb48974beb3ade46c5663bce',\n",
       " '/home/aleks/Documents/biod2020/.git/objects/9f/4bd231f2596691d1c266b88faff9064bfe5396',\n",
       " '/home/aleks/Documents/biod2020/.git/objects/77/b1594170ebb35e92a2e580e6ed0fccd7497500',\n",
       " '/home/aleks/Documents/biod2020/.git/objects/92/2b02c09110c7f6d9b90380c6e9a14b56cc84ef',\n",
       " '/home/aleks/Documents/biod2020/.git/objects/da/98fb034cff0ce960ed13983310b0ff1165bbf2',\n",
       " '/home/aleks/Documents/biod2020/.git/objects/0b/2cdb265a3e51f3a42128ef900dd45070162e19',\n",
       " '/home/aleks/Documents/biod2020/.git/objects/bc/b9020955a1dac786d848a057b7f9b2b4da79e7',\n",
       " '/home/aleks/Documents/biod2020/.git/objects/1d/9a67723e522a810f89bf84ee94e6c3c2d7fcb6',\n",
       " '/home/aleks/Documents/biod2020/.git/objects/29/0671658391e236c0220e6872626e36b817c4e2',\n",
       " '/home/aleks/Documents/biod2020/.git/hooks/pre-commit.sample',\n",
       " '/home/aleks/Documents/biod2020/.git/hooks/applypatch-msg.sample',\n",
       " '/home/aleks/Documents/biod2020/.git/hooks/post-update.sample',\n",
       " '/home/aleks/Documents/biod2020/.git/hooks/prepare-commit-msg.sample',\n",
       " '/home/aleks/Documents/biod2020/.git/hooks/pre-receive.sample',\n",
       " '/home/aleks/Documents/biod2020/.git/hooks/pre-applypatch.sample',\n",
       " '/home/aleks/Documents/biod2020/.git/hooks/pre-merge-commit.sample',\n",
       " '/home/aleks/Documents/biod2020/.git/hooks/update.sample',\n",
       " '/home/aleks/Documents/biod2020/.git/hooks/pre-push.sample',\n",
       " '/home/aleks/Documents/biod2020/.git/hooks/commit-msg.sample',\n",
       " '/home/aleks/Documents/biod2020/.git/hooks/pre-rebase.sample',\n",
       " '/home/aleks/Documents/biod2020/.git/hooks/fsmonitor-watchman.sample',\n",
       " '/home/aleks/Documents/biod2020/.git/refs/remotes',\n",
       " '/home/aleks/Documents/biod2020/.git/refs/heads',\n",
       " '/home/aleks/Documents/biod2020/.git/refs/tags',\n",
       " '/home/aleks/Documents/biod2020/.git/refs/remotes/origin',\n",
       " '/home/aleks/Documents/biod2020/.git/refs/remotes/origin/master',\n",
       " '/home/aleks/Documents/biod2020/.git/refs/heads/master',\n",
       " '/home/aleks/Documents/biod2020/.git/logs/refs',\n",
       " '/home/aleks/Documents/biod2020/.git/logs/HEAD',\n",
       " '/home/aleks/Documents/biod2020/.git/logs/refs/remotes',\n",
       " '/home/aleks/Documents/biod2020/.git/logs/refs/heads',\n",
       " '/home/aleks/Documents/biod2020/.git/logs/refs/remotes/origin',\n",
       " '/home/aleks/Documents/biod2020/.git/logs/refs/remotes/origin/master',\n",
       " '/home/aleks/Documents/biod2020/.git/logs/refs/heads/master',\n",
       " '/home/aleks/Documents/biod2020/.git/info/exclude',\n",
       " '/home/aleks/Documents/biod2020/data/tekstas5.txt',\n",
       " '/home/aleks/Documents/biod2020/lab/lab2.py',\n",
       " '/home/aleks/Documents/biod2020/lab/programa.py',\n",
       " '/home/aleks/Documents/biod2020/lab/lect1_Intro.slides.html',\n",
       " '/home/aleks/Documents/biod2020/lab/.ipynb_checkpoints',\n",
       " '/home/aleks/Documents/biod2020/lab/environment.yml',\n",
       " '/home/aleks/Documents/biod2020/lab/lab3.py',\n",
       " '/home/aleks/Documents/biod2020/lab/labreport.py',\n",
       " '/home/aleks/Documents/biod2020/lab/.ipynb_checkpoints/programa-checkpoint.py',\n",
       " '/home/aleks/Documents/biod2020/lab/.ipynb_checkpoints/lab2-checkpoint.py',\n",
       " '/home/aleks/Documents/biod2020/lab/.ipynb_checkpoints/lab3-checkpoint.py',\n",
       " '/home/aleks/Documents/biod2020/images/Pipeline.png',\n",
       " '/home/aleks/Documents/biod2020/images/ECGfirst.jpg',\n",
       " '/home/aleks/Documents/biod2020/images/LinuxFileSystem.png',\n",
       " '/home/aleks/Documents/biod2020/images/WatanabeEMG.png',\n",
       " '/home/aleks/Documents/biod2020/images/tempResults.jpg',\n",
       " '/home/aleks/Documents/biod2020/images/varela.png',\n",
       " '/home/aleks/Documents/biod2020/images/patchClamp.png',\n",
       " '/home/aleks/Documents/biod2020/images/jupyterlab.png',\n",
       " '/home/aleks/Documents/biod2020/images/pitch.jpg',\n",
       " '/home/aleks/Documents/biod2020/images/pycharm.png',\n",
       " '/home/aleks/Documents/biod2020/images/gitCycle1.png',\n",
       " '/home/aleks/Documents/biod2020/images/AnacondaEnv.png',\n",
       " '/home/aleks/Documents/biod2020/images/erp.png',\n",
       " '/home/aleks/Documents/biod2020/images/bash1.png',\n",
       " '/home/aleks/Documents/biod2020/images/neovim.png',\n",
       " '/home/aleks/Documents/biod2020/images/phdComicsFinalDoc.png',\n",
       " '/home/aleks/Documents/biod2020/images/EEGcap.png',\n",
       " '/home/aleks/Documents/biod2020/images/gitbranching.png',\n",
       " '/home/aleks/Documents/biod2020/images/veikimoPotencialas.png',\n",
       " '/home/aleks/Documents/biod2020/images/gitSimpleWorkflow.png',\n",
       " '/home/aleks/Documents/biod2020/images/sources.png',\n",
       " '/home/aleks/Documents/biod2020/images/tempSensors.jpg',\n",
       " '/home/aleks/Documents/biod2020/images/bids.png',\n",
       " '/home/aleks/Documents/biod2020/images/AnacondaHome.png',\n",
       " '/home/aleks/Documents/biod2020/images/bashLS.png',\n",
       " '/home/aleks/Documents/biod2020/images/RunInConsole2.png',\n",
       " '/home/aleks/Documents/biod2020/images/spyder.png',\n",
       " '/home/aleks/Documents/biod2020/images/RunInConsole1.png',\n",
       " '/home/aleks/Documents/biod2020/images/gitFileLyfecycle.png',\n",
       " '/home/aleks/Documents/biod2020/images/visualStudioCode.png',\n",
       " '/home/aleks/Documents/biod2020/images/ECG1.png',\n",
       " '/home/aleks/Documents/biod2020/images/EMGCOACTIVATION.JPG',\n",
       " '/home/aleks/Documents/biod2020/images/fmri.jpg',\n",
       " '/home/aleks/Documents/biod2020/images/set.png',\n",
       " '/home/aleks/Documents/biod2020/images/RunInConsole3.png',\n",
       " '/home/aleks/Documents/biod2020/images/datacamp.png',\n",
       " '/home/aleks/Documents/biod2020/images/gitHistory.png',\n",
       " '/home/aleks/Documents/biod2020/images/jupyter2.png',\n",
       " '/home/aleks/Documents/biod2020/.ipynb_checkpoints/test2-checkpoint.txt',\n",
       " '/home/aleks/Documents/biod2020/lect/programa2.py',\n",
       " '/home/aleks/Documents/biod2020/lect/lect2_Python.md',\n",
       " '/home/aleks/Documents/biod2020/lect/lect3_Path.md',\n",
       " '/home/aleks/Documents/biod2020/lect/lect2_Python.py',\n",
       " '/home/aleks/Documents/biod2020/lect/lect1_Intro.py',\n",
       " '/home/aleks/Documents/biod2020/lect/.ipynb_checkpoints',\n",
       " '/home/aleks/Documents/biod2020/lect/__pycache__/programa2.cpython-38.pyc',\n",
       " '/home/aleks/Documents/biod2020/lect/.ipynb_checkpoints/lect2_Python-checkpoint.py',\n",
       " '/home/aleks/Documents/biod2020/lect/.ipynb_checkpoints/programa2-checkpoint.py',\n",
       " '/home/aleks/Documents/biod2020/lect/.ipynb_checkpoints/lect3_Path-checkpoint.md',\n",
       " '/home/aleks/Documents/biod2020/lect/.ipynb_checkpoints/lect2_Python-checkpoint.md']"
      ]
     },
     "execution_count": 59,
     "metadata": {},
     "output_type": "execute_result"
    }
   ],
   "source": [
    "file_list = find_files_re(bioa_dir, r'.*[.](?!pdf$|ipynb$)[^.]*$')\n",
    "file_list"
   ]
  },
  {
   "cell_type": "markdown",
   "metadata": {},
   "source": [
    "[dokumentacija](https://docs.python.org/3/howto/regex.html)"
   ]
  },
  {
   "cell_type": "markdown",
   "metadata": {},
   "source": [
    "## Atpažinimas ir ištaisymas klaidų (debugging)\n",
    "\n",
    "- Bandyt reikia išvengti klaidų ir jų paieškos! :)\n",
    "- Neįmanoma parašyti kodo be klaidų\n",
    "- Yra daug įrankių priklausomai nuo užduočių\n",
    "\n",
    "### Kodo skaitymas\n",
    "\n",
    "- Kodas yra vykdomas iš viršaus į apačią.\n",
    "- Importuojami failai paleidžia kitus failus"
   ]
  },
  {
   "cell_type": "code",
   "execution_count": 60,
   "metadata": {},
   "outputs": [
    {
     "name": "stdout",
     "output_type": "stream",
     "text": [
      "0\n",
      "1\n",
      "2\n",
      "3\n",
      "4\n",
      "5\n",
      "6\n",
      "7\n",
      "8\n",
      "9\n"
     ]
    }
   ],
   "source": [
    "import math\n",
    "for item in list(range(10)):\n",
    "    print(item)"
   ]
  },
  {
   "cell_type": "markdown",
   "metadata": {},
   "source": [
    "### Skaitymas klaidos pranešimo (tracebacks)"
   ]
  },
  {
   "cell_type": "code",
   "execution_count": 61,
   "metadata": {},
   "outputs": [
    {
     "ename": "FileNotFoundError",
     "evalue": "[Errno 2] No such file or directory: 'tt.txt'",
     "output_type": "error",
     "traceback": [
      "\u001b[0;31m---------------------------------------------------------------------------\u001b[0m",
      "\u001b[0;31mFileNotFoundError\u001b[0m                         Traceback (most recent call last)",
      "\u001b[0;32m<ipython-input-61-fe3fcb04977b>\u001b[0m in \u001b[0;36m<module>\u001b[0;34m\u001b[0m\n\u001b[1;32m      1\u001b[0m \u001b[0;32mfrom\u001b[0m \u001b[0mpathlib\u001b[0m \u001b[0;32mimport\u001b[0m \u001b[0mPath\u001b[0m\u001b[0;34m\u001b[0m\u001b[0;34m\u001b[0m\u001b[0m\n\u001b[1;32m      2\u001b[0m \u001b[0mpath\u001b[0m \u001b[0;34m=\u001b[0m \u001b[0mPath\u001b[0m\u001b[0;34m(\u001b[0m\u001b[0;34m'tt.txt'\u001b[0m\u001b[0;34m)\u001b[0m\u001b[0;34m\u001b[0m\u001b[0;34m\u001b[0m\u001b[0m\n\u001b[0;32m----> 3\u001b[0;31m \u001b[0mtxt\u001b[0m \u001b[0;34m=\u001b[0m \u001b[0mpath\u001b[0m\u001b[0;34m.\u001b[0m\u001b[0mread_text\u001b[0m\u001b[0;34m(\u001b[0m\u001b[0;34m)\u001b[0m\u001b[0;34m\u001b[0m\u001b[0;34m\u001b[0m\u001b[0m\n\u001b[0m",
      "\u001b[0;32m/mnt/WD/anaconda3/lib/python3.8/pathlib.py\u001b[0m in \u001b[0;36mread_text\u001b[0;34m(self, encoding, errors)\u001b[0m\n\u001b[1;32m   1230\u001b[0m         \u001b[0mOpen\u001b[0m \u001b[0mthe\u001b[0m \u001b[0mfile\u001b[0m \u001b[0;32min\u001b[0m \u001b[0mtext\u001b[0m \u001b[0mmode\u001b[0m\u001b[0;34m,\u001b[0m \u001b[0mread\u001b[0m \u001b[0mit\u001b[0m\u001b[0;34m,\u001b[0m \u001b[0;32mand\u001b[0m \u001b[0mclose\u001b[0m \u001b[0mthe\u001b[0m \u001b[0mfile\u001b[0m\u001b[0;34m.\u001b[0m\u001b[0;34m\u001b[0m\u001b[0;34m\u001b[0m\u001b[0m\n\u001b[1;32m   1231\u001b[0m         \"\"\"\n\u001b[0;32m-> 1232\u001b[0;31m         \u001b[0;32mwith\u001b[0m \u001b[0mself\u001b[0m\u001b[0;34m.\u001b[0m\u001b[0mopen\u001b[0m\u001b[0;34m(\u001b[0m\u001b[0mmode\u001b[0m\u001b[0;34m=\u001b[0m\u001b[0;34m'r'\u001b[0m\u001b[0;34m,\u001b[0m \u001b[0mencoding\u001b[0m\u001b[0;34m=\u001b[0m\u001b[0mencoding\u001b[0m\u001b[0;34m,\u001b[0m \u001b[0merrors\u001b[0m\u001b[0;34m=\u001b[0m\u001b[0merrors\u001b[0m\u001b[0;34m)\u001b[0m \u001b[0;32mas\u001b[0m \u001b[0mf\u001b[0m\u001b[0;34m:\u001b[0m\u001b[0;34m\u001b[0m\u001b[0;34m\u001b[0m\u001b[0m\n\u001b[0m\u001b[1;32m   1233\u001b[0m             \u001b[0;32mreturn\u001b[0m \u001b[0mf\u001b[0m\u001b[0;34m.\u001b[0m\u001b[0mread\u001b[0m\u001b[0;34m(\u001b[0m\u001b[0;34m)\u001b[0m\u001b[0;34m\u001b[0m\u001b[0;34m\u001b[0m\u001b[0m\n\u001b[1;32m   1234\u001b[0m \u001b[0;34m\u001b[0m\u001b[0m\n",
      "\u001b[0;32m/mnt/WD/anaconda3/lib/python3.8/pathlib.py\u001b[0m in \u001b[0;36mopen\u001b[0;34m(self, mode, buffering, encoding, errors, newline)\u001b[0m\n\u001b[1;32m   1216\u001b[0m         \u001b[0;32mif\u001b[0m \u001b[0mself\u001b[0m\u001b[0;34m.\u001b[0m\u001b[0m_closed\u001b[0m\u001b[0;34m:\u001b[0m\u001b[0;34m\u001b[0m\u001b[0;34m\u001b[0m\u001b[0m\n\u001b[1;32m   1217\u001b[0m             \u001b[0mself\u001b[0m\u001b[0;34m.\u001b[0m\u001b[0m_raise_closed\u001b[0m\u001b[0;34m(\u001b[0m\u001b[0;34m)\u001b[0m\u001b[0;34m\u001b[0m\u001b[0;34m\u001b[0m\u001b[0m\n\u001b[0;32m-> 1218\u001b[0;31m         return io.open(self, mode, buffering, encoding, errors, newline,\n\u001b[0m\u001b[1;32m   1219\u001b[0m                        opener=self._opener)\n\u001b[1;32m   1220\u001b[0m \u001b[0;34m\u001b[0m\u001b[0m\n",
      "\u001b[0;32m/mnt/WD/anaconda3/lib/python3.8/pathlib.py\u001b[0m in \u001b[0;36m_opener\u001b[0;34m(self, name, flags, mode)\u001b[0m\n\u001b[1;32m   1072\u001b[0m     \u001b[0;32mdef\u001b[0m \u001b[0m_opener\u001b[0m\u001b[0;34m(\u001b[0m\u001b[0mself\u001b[0m\u001b[0;34m,\u001b[0m \u001b[0mname\u001b[0m\u001b[0;34m,\u001b[0m \u001b[0mflags\u001b[0m\u001b[0;34m,\u001b[0m \u001b[0mmode\u001b[0m\u001b[0;34m=\u001b[0m\u001b[0;36m0o666\u001b[0m\u001b[0;34m)\u001b[0m\u001b[0;34m:\u001b[0m\u001b[0;34m\u001b[0m\u001b[0;34m\u001b[0m\u001b[0m\n\u001b[1;32m   1073\u001b[0m         \u001b[0;31m# A stub for the opener argument to built-in open()\u001b[0m\u001b[0;34m\u001b[0m\u001b[0;34m\u001b[0m\u001b[0;34m\u001b[0m\u001b[0m\n\u001b[0;32m-> 1074\u001b[0;31m         \u001b[0;32mreturn\u001b[0m \u001b[0mself\u001b[0m\u001b[0;34m.\u001b[0m\u001b[0m_accessor\u001b[0m\u001b[0;34m.\u001b[0m\u001b[0mopen\u001b[0m\u001b[0;34m(\u001b[0m\u001b[0mself\u001b[0m\u001b[0;34m,\u001b[0m \u001b[0mflags\u001b[0m\u001b[0;34m,\u001b[0m \u001b[0mmode\u001b[0m\u001b[0;34m)\u001b[0m\u001b[0;34m\u001b[0m\u001b[0;34m\u001b[0m\u001b[0m\n\u001b[0m\u001b[1;32m   1075\u001b[0m \u001b[0;34m\u001b[0m\u001b[0m\n\u001b[1;32m   1076\u001b[0m     \u001b[0;32mdef\u001b[0m \u001b[0m_raw_open\u001b[0m\u001b[0;34m(\u001b[0m\u001b[0mself\u001b[0m\u001b[0;34m,\u001b[0m \u001b[0mflags\u001b[0m\u001b[0;34m,\u001b[0m \u001b[0mmode\u001b[0m\u001b[0;34m=\u001b[0m\u001b[0;36m0o777\u001b[0m\u001b[0;34m)\u001b[0m\u001b[0;34m:\u001b[0m\u001b[0;34m\u001b[0m\u001b[0;34m\u001b[0m\u001b[0m\n",
      "\u001b[0;31mFileNotFoundError\u001b[0m: [Errno 2] No such file or directory: 'tt.txt'"
     ]
    }
   ],
   "source": [
    "from pathlib import Path\n",
    "path = Path('tt.txt')\n",
    "txt = path.read_text()"
   ]
  },
  {
   "cell_type": "markdown",
   "metadata": {},
   "source": [
    "- Dažniausiai klaida bus mūsų kode o ne bibliotekoje.\n",
    "- Paskutinė žinutė praneša apie klaidos tipą\n",
    "\n",
    "Galimos žinutės ir tipai:"
   ]
  },
  {
   "cell_type": "code",
   "execution_count": 62,
   "metadata": {},
   "outputs": [
    {
     "ename": "SyntaxError",
     "evalue": "invalid syntax (<ipython-input-62-9a0e44ab5405>, line 1)",
     "output_type": "error",
     "traceback": [
      "\u001b[0;36m  File \u001b[0;32m\"<ipython-input-62-9a0e44ab5405>\"\u001b[0;36m, line \u001b[0;32m1\u001b[0m\n\u001b[0;31m    5 ==== 6\u001b[0m\n\u001b[0m        ^\u001b[0m\n\u001b[0;31mSyntaxError\u001b[0m\u001b[0;31m:\u001b[0m invalid syntax\n"
     ]
    }
   ],
   "source": [
    "5 ==== 6"
   ]
  },
  {
   "cell_type": "code",
   "execution_count": 63,
   "metadata": {},
   "outputs": [
    {
     "ename": "IndentationError",
     "evalue": "expected an indented block (<ipython-input-63-0a4276a0b1dc>, line 2)",
     "output_type": "error",
     "traceback": [
      "\u001b[0;36m  File \u001b[0;32m\"<ipython-input-63-0a4276a0b1dc>\"\u001b[0;36m, line \u001b[0;32m2\u001b[0m\n\u001b[0;31m    return a\u001b[0m\n\u001b[0m    ^\u001b[0m\n\u001b[0;31mIndentationError\u001b[0m\u001b[0;31m:\u001b[0m expected an indented block\n"
     ]
    }
   ],
   "source": [
    "def fun_(a):\n",
    "return a"
   ]
  },
  {
   "cell_type": "code",
   "execution_count": 65,
   "metadata": {},
   "outputs": [
    {
     "ename": "NameError",
     "evalue": "name 'prrrint' is not defined",
     "output_type": "error",
     "traceback": [
      "\u001b[0;31m---------------------------------------------------------------------------\u001b[0m",
      "\u001b[0;31mNameError\u001b[0m                                 Traceback (most recent call last)",
      "\u001b[0;32m<ipython-input-65-46aae95d6fc7>\u001b[0m in \u001b[0;36m<module>\u001b[0;34m\u001b[0m\n\u001b[0;32m----> 1\u001b[0;31m \u001b[0mprrrint\u001b[0m\u001b[0;34m(\u001b[0m\u001b[0;34m'aaa'\u001b[0m\u001b[0;34m)\u001b[0m\u001b[0;34m\u001b[0m\u001b[0;34m\u001b[0m\u001b[0m\n\u001b[0m",
      "\u001b[0;31mNameError\u001b[0m: name 'prrrint' is not defined"
     ]
    }
   ],
   "source": [
    "prrrint('aaa')"
   ]
  },
  {
   "cell_type": "code",
   "execution_count": 66,
   "metadata": {},
   "outputs": [
    {
     "ename": "AttributeError",
     "evalue": "'list' object has no attribute 'te'",
     "output_type": "error",
     "traceback": [
      "\u001b[0;31m---------------------------------------------------------------------------\u001b[0m",
      "\u001b[0;31mAttributeError\u001b[0m                            Traceback (most recent call last)",
      "\u001b[0;32m<ipython-input-66-1403276ec033>\u001b[0m in \u001b[0;36m<module>\u001b[0;34m\u001b[0m\n\u001b[1;32m      1\u001b[0m \u001b[0ma\u001b[0m \u001b[0;34m=\u001b[0m \u001b[0;34m[\u001b[0m\u001b[0;36m2\u001b[0m\u001b[0;34m,\u001b[0m\u001b[0;36m3\u001b[0m\u001b[0;34m,\u001b[0m\u001b[0;36m4\u001b[0m\u001b[0;34m]\u001b[0m\u001b[0;34m\u001b[0m\u001b[0;34m\u001b[0m\u001b[0m\n\u001b[0;32m----> 2\u001b[0;31m \u001b[0ma\u001b[0m\u001b[0;34m.\u001b[0m\u001b[0mte\u001b[0m\u001b[0;34m(\u001b[0m\u001b[0;34m)\u001b[0m\u001b[0;34m\u001b[0m\u001b[0;34m\u001b[0m\u001b[0m\n\u001b[0m",
      "\u001b[0;31mAttributeError\u001b[0m: 'list' object has no attribute 'te'"
     ]
    }
   ],
   "source": [
    "a = [2,3,4]\n",
    "a.te()"
   ]
  },
  {
   "cell_type": "code",
   "execution_count": 67,
   "metadata": {},
   "outputs": [
    {
     "ename": "IndexError",
     "evalue": "list index out of range",
     "output_type": "error",
     "traceback": [
      "\u001b[0;31m---------------------------------------------------------------------------\u001b[0m",
      "\u001b[0;31mIndexError\u001b[0m                                Traceback (most recent call last)",
      "\u001b[0;32m<ipython-input-67-beec7994ef7f>\u001b[0m in \u001b[0;36m<module>\u001b[0;34m\u001b[0m\n\u001b[0;32m----> 1\u001b[0;31m \u001b[0ma\u001b[0m\u001b[0;34m[\u001b[0m\u001b[0;36m8\u001b[0m\u001b[0;34m]\u001b[0m\u001b[0;34m\u001b[0m\u001b[0;34m\u001b[0m\u001b[0m\n\u001b[0m",
      "\u001b[0;31mIndexError\u001b[0m: list index out of range"
     ]
    }
   ],
   "source": [
    "a[8]"
   ]
  },
  {
   "cell_type": "markdown",
   "metadata": {},
   "source": [
    "Python dokumentacijoje aprašyti visi tipai"
   ]
  },
  {
   "cell_type": "markdown",
   "metadata": {},
   "source": [
    "### Print\n",
    "\n",
    "- Dažniausiai pasitaikantis ir lengviausias būdas\n",
    "- Gerai tinka logikai suprasti kodo, trumpiems algoritmams\n",
    "- Bet taip pat lėčiausias ir galintis įvelti klaidų."
   ]
  },
  {
   "cell_type": "code",
   "execution_count": 68,
   "metadata": {},
   "outputs": [
    {
     "name": "stdout",
     "output_type": "stream",
     "text": [
      "n 2\n",
      "2 is a prime number\n",
      "n 3\n",
      "x 2\n",
      "3 is a prime number\n",
      "n 4\n",
      "x 2\n",
      "4 equals 2 * 2\n",
      "n 5\n",
      "x 2\n",
      "x 3\n",
      "x 4\n",
      "5 is a prime number\n",
      "n 6\n",
      "x 2\n",
      "6 equals 2 * 3\n",
      "n 7\n",
      "x 2\n",
      "x 3\n",
      "x 4\n",
      "x 5\n",
      "x 6\n",
      "7 is a prime number\n",
      "n 8\n",
      "x 2\n",
      "8 equals 2 * 4\n",
      "n 9\n",
      "x 2\n",
      "x 3\n",
      "9 equals 3 * 3\n"
     ]
    }
   ],
   "source": [
    "for n in range(2, 10):\n",
    "    print(f\"n {n}\", flush=True)\n",
    "    for x in range(2, n):\n",
    "        print(f\"x {x}\", flush=True)\n",
    "        if n % x == 0:\n",
    "            print(n, \"equals\", x, \"*\", n // x)\n",
    "            break\n",
    "    else: \n",
    "        print(n, \"is a prime number\")"
   ]
  },
  {
   "cell_type": "markdown",
   "metadata": {},
   "source": [
    "### Python debugger (PDB)\n",
    "\n",
    "- Standard library debugger\n",
    "- Iš komandinės eilutės paleidžiamas ir galima po žingsnį eiti\n",
    "- python -m pdb script.py\n",
    "- arba kode įterpti breakpoint()\n",
    "- h help\n",
    "- q quit\n",
    "- ll dabartinė pozicija kode\n",
    "- n next\n",
    "- s step\n",
    "- c continue\n",
    "- etc\n",
    "\n",
    "https://docs.python.org/3.6/library/pdb.html"
   ]
  },
  {
   "cell_type": "code",
   "execution_count": 69,
   "metadata": {},
   "outputs": [],
   "source": [
    "def prime_detector():\n",
    "    nonprime=[]\n",
    "    primes=[]\n",
    "    for value in range(2, 10):\n",
    "        for value2 in range(2, value):\n",
    "            breakpoint()\n",
    "            if value % value2 == 0:\n",
    "                nonprime.append(value)\n",
    "                break\n",
    "        else:\n",
    "            primes.append(value)"
   ]
  },
  {
   "cell_type": "code",
   "execution_count": 70,
   "metadata": {},
   "outputs": [
    {
     "name": "stdout",
     "output_type": "stream",
     "text": [
      "> \u001b[0;32m<ipython-input-69-b993a50546b8>\u001b[0m(7)\u001b[0;36mprime_detector\u001b[0;34m()\u001b[0m\n",
      "\u001b[0;32m      5 \u001b[0;31m        \u001b[0;32mfor\u001b[0m \u001b[0mvalue2\u001b[0m \u001b[0;32min\u001b[0m \u001b[0mrange\u001b[0m\u001b[0;34m(\u001b[0m\u001b[0;36m2\u001b[0m\u001b[0;34m,\u001b[0m \u001b[0mvalue\u001b[0m\u001b[0;34m)\u001b[0m\u001b[0;34m:\u001b[0m\u001b[0;34m\u001b[0m\u001b[0;34m\u001b[0m\u001b[0m\n",
      "\u001b[0m\u001b[0;32m      6 \u001b[0;31m            \u001b[0mbreakpoint\u001b[0m\u001b[0;34m(\u001b[0m\u001b[0;34m)\u001b[0m\u001b[0;34m\u001b[0m\u001b[0;34m\u001b[0m\u001b[0m\n",
      "\u001b[0m\u001b[0;32m----> 7 \u001b[0;31m            \u001b[0;32mif\u001b[0m \u001b[0mvalue\u001b[0m \u001b[0;34m%\u001b[0m \u001b[0mvalue2\u001b[0m \u001b[0;34m==\u001b[0m \u001b[0;36m0\u001b[0m\u001b[0;34m:\u001b[0m\u001b[0;34m\u001b[0m\u001b[0;34m\u001b[0m\u001b[0m\n",
      "\u001b[0m\u001b[0;32m      8 \u001b[0;31m                \u001b[0mnonprime\u001b[0m\u001b[0;34m.\u001b[0m\u001b[0mappend\u001b[0m\u001b[0;34m(\u001b[0m\u001b[0mvalue\u001b[0m\u001b[0;34m)\u001b[0m\u001b[0;34m\u001b[0m\u001b[0;34m\u001b[0m\u001b[0m\n",
      "\u001b[0m\u001b[0;32m      9 \u001b[0;31m                \u001b[0;32mbreak\u001b[0m\u001b[0;34m\u001b[0m\u001b[0;34m\u001b[0m\u001b[0m\n",
      "\u001b[0m\n"
     ]
    },
    {
     "name": "stdin",
     "output_type": "stream",
     "text": [
      "ipdb>  ll\n"
     ]
    },
    {
     "name": "stdout",
     "output_type": "stream",
     "text": [
      "\u001b[1;32m      1 \u001b[0m\u001b[0;32mdef\u001b[0m \u001b[0mprime_detector\u001b[0m\u001b[0;34m(\u001b[0m\u001b[0;34m)\u001b[0m\u001b[0;34m:\u001b[0m\u001b[0;34m\u001b[0m\u001b[0;34m\u001b[0m\u001b[0m\n",
      "\u001b[1;32m      2 \u001b[0m    \u001b[0mnonprime\u001b[0m\u001b[0;34m=\u001b[0m\u001b[0;34m[\u001b[0m\u001b[0;34m]\u001b[0m\u001b[0;34m\u001b[0m\u001b[0;34m\u001b[0m\u001b[0m\n",
      "\u001b[1;32m      3 \u001b[0m    \u001b[0mprimes\u001b[0m\u001b[0;34m=\u001b[0m\u001b[0;34m[\u001b[0m\u001b[0;34m]\u001b[0m\u001b[0;34m\u001b[0m\u001b[0;34m\u001b[0m\u001b[0m\n",
      "\u001b[1;32m      4 \u001b[0m    \u001b[0;32mfor\u001b[0m \u001b[0mvalue\u001b[0m \u001b[0;32min\u001b[0m \u001b[0mrange\u001b[0m\u001b[0;34m(\u001b[0m\u001b[0;36m2\u001b[0m\u001b[0;34m,\u001b[0m \u001b[0;36m10\u001b[0m\u001b[0;34m)\u001b[0m\u001b[0;34m:\u001b[0m\u001b[0;34m\u001b[0m\u001b[0;34m\u001b[0m\u001b[0m\n",
      "\u001b[1;32m      5 \u001b[0m        \u001b[0;32mfor\u001b[0m \u001b[0mvalue2\u001b[0m \u001b[0;32min\u001b[0m \u001b[0mrange\u001b[0m\u001b[0;34m(\u001b[0m\u001b[0;36m2\u001b[0m\u001b[0;34m,\u001b[0m \u001b[0mvalue\u001b[0m\u001b[0;34m)\u001b[0m\u001b[0;34m:\u001b[0m\u001b[0;34m\u001b[0m\u001b[0;34m\u001b[0m\u001b[0m\n",
      "\u001b[1;32m      6 \u001b[0m            \u001b[0mbreakpoint\u001b[0m\u001b[0;34m(\u001b[0m\u001b[0;34m)\u001b[0m\u001b[0;34m\u001b[0m\u001b[0;34m\u001b[0m\u001b[0m\n",
      "\u001b[0;32m----> 7 \u001b[0;31m            \u001b[0;32mif\u001b[0m \u001b[0mvalue\u001b[0m \u001b[0;34m%\u001b[0m \u001b[0mvalue2\u001b[0m \u001b[0;34m==\u001b[0m \u001b[0;36m0\u001b[0m\u001b[0;34m:\u001b[0m\u001b[0;34m\u001b[0m\u001b[0;34m\u001b[0m\u001b[0m\n",
      "\u001b[0m\u001b[1;32m      8 \u001b[0m                \u001b[0mnonprime\u001b[0m\u001b[0;34m.\u001b[0m\u001b[0mappend\u001b[0m\u001b[0;34m(\u001b[0m\u001b[0mvalue\u001b[0m\u001b[0;34m)\u001b[0m\u001b[0;34m\u001b[0m\u001b[0;34m\u001b[0m\u001b[0m\n",
      "\u001b[1;32m      9 \u001b[0m                \u001b[0;32mbreak\u001b[0m\u001b[0;34m\u001b[0m\u001b[0;34m\u001b[0m\u001b[0m\n",
      "\u001b[1;32m     10 \u001b[0m        \u001b[0;32melse\u001b[0m\u001b[0;34m:\u001b[0m\u001b[0;34m\u001b[0m\u001b[0;34m\u001b[0m\u001b[0m\n",
      "\u001b[1;32m     11 \u001b[0m            \u001b[0mprimes\u001b[0m\u001b[0;34m.\u001b[0m\u001b[0mappend\u001b[0m\u001b[0;34m(\u001b[0m\u001b[0mvalue\u001b[0m\u001b[0;34m)\u001b[0m\u001b[0;34m\u001b[0m\u001b[0;34m\u001b[0m\u001b[0m\n",
      "\n"
     ]
    },
    {
     "name": "stdin",
     "output_type": "stream",
     "text": [
      "ipdb>  primes\n"
     ]
    },
    {
     "name": "stdout",
     "output_type": "stream",
     "text": [
      "[2]\n"
     ]
    },
    {
     "name": "stdin",
     "output_type": "stream",
     "text": [
      "ipdb>  n\n"
     ]
    },
    {
     "name": "stdout",
     "output_type": "stream",
     "text": [
      "> \u001b[0;32m<ipython-input-69-b993a50546b8>\u001b[0m(5)\u001b[0;36mprime_detector\u001b[0;34m()\u001b[0m\n",
      "\u001b[0;32m      3 \u001b[0;31m    \u001b[0mprimes\u001b[0m\u001b[0;34m=\u001b[0m\u001b[0;34m[\u001b[0m\u001b[0;34m]\u001b[0m\u001b[0;34m\u001b[0m\u001b[0;34m\u001b[0m\u001b[0m\n",
      "\u001b[0m\u001b[0;32m      4 \u001b[0;31m    \u001b[0;32mfor\u001b[0m \u001b[0mvalue\u001b[0m \u001b[0;32min\u001b[0m \u001b[0mrange\u001b[0m\u001b[0;34m(\u001b[0m\u001b[0;36m2\u001b[0m\u001b[0;34m,\u001b[0m \u001b[0;36m10\u001b[0m\u001b[0;34m)\u001b[0m\u001b[0;34m:\u001b[0m\u001b[0;34m\u001b[0m\u001b[0;34m\u001b[0m\u001b[0m\n",
      "\u001b[0m\u001b[0;32m----> 5 \u001b[0;31m        \u001b[0;32mfor\u001b[0m \u001b[0mvalue2\u001b[0m \u001b[0;32min\u001b[0m \u001b[0mrange\u001b[0m\u001b[0;34m(\u001b[0m\u001b[0;36m2\u001b[0m\u001b[0;34m,\u001b[0m \u001b[0mvalue\u001b[0m\u001b[0;34m)\u001b[0m\u001b[0;34m:\u001b[0m\u001b[0;34m\u001b[0m\u001b[0;34m\u001b[0m\u001b[0m\n",
      "\u001b[0m\u001b[0;32m      6 \u001b[0;31m            \u001b[0mbreakpoint\u001b[0m\u001b[0;34m(\u001b[0m\u001b[0;34m)\u001b[0m\u001b[0;34m\u001b[0m\u001b[0;34m\u001b[0m\u001b[0m\n",
      "\u001b[0m\u001b[0;32m      7 \u001b[0;31m            \u001b[0;32mif\u001b[0m \u001b[0mvalue\u001b[0m \u001b[0;34m%\u001b[0m \u001b[0mvalue2\u001b[0m \u001b[0;34m==\u001b[0m \u001b[0;36m0\u001b[0m\u001b[0;34m:\u001b[0m\u001b[0;34m\u001b[0m\u001b[0;34m\u001b[0m\u001b[0m\n",
      "\u001b[0m\n"
     ]
    },
    {
     "name": "stdin",
     "output_type": "stream",
     "text": [
      "ipdb>  value\n"
     ]
    },
    {
     "name": "stdout",
     "output_type": "stream",
     "text": [
      "3\n"
     ]
    },
    {
     "name": "stdin",
     "output_type": "stream",
     "text": [
      "ipdb>  q\n"
     ]
    },
    {
     "ename": "BdbQuit",
     "evalue": "",
     "output_type": "error",
     "traceback": [
      "\u001b[0;31m---------------------------------------------------------------------------\u001b[0m",
      "\u001b[0;31mBdbQuit\u001b[0m                                   Traceback (most recent call last)",
      "\u001b[0;32m<ipython-input-70-4cbff7aa1f0a>\u001b[0m in \u001b[0;36m<module>\u001b[0;34m\u001b[0m\n\u001b[0;32m----> 1\u001b[0;31m \u001b[0mprime_detector\u001b[0m\u001b[0;34m(\u001b[0m\u001b[0;34m)\u001b[0m\u001b[0;34m\u001b[0m\u001b[0;34m\u001b[0m\u001b[0m\n\u001b[0m",
      "\u001b[0;32m<ipython-input-69-b993a50546b8>\u001b[0m in \u001b[0;36mprime_detector\u001b[0;34m()\u001b[0m\n\u001b[1;32m      3\u001b[0m     \u001b[0mprimes\u001b[0m\u001b[0;34m=\u001b[0m\u001b[0;34m[\u001b[0m\u001b[0;34m]\u001b[0m\u001b[0;34m\u001b[0m\u001b[0;34m\u001b[0m\u001b[0m\n\u001b[1;32m      4\u001b[0m     \u001b[0;32mfor\u001b[0m \u001b[0mvalue\u001b[0m \u001b[0;32min\u001b[0m \u001b[0mrange\u001b[0m\u001b[0;34m(\u001b[0m\u001b[0;36m2\u001b[0m\u001b[0;34m,\u001b[0m \u001b[0;36m10\u001b[0m\u001b[0;34m)\u001b[0m\u001b[0;34m:\u001b[0m\u001b[0;34m\u001b[0m\u001b[0;34m\u001b[0m\u001b[0m\n\u001b[0;32m----> 5\u001b[0;31m         \u001b[0;32mfor\u001b[0m \u001b[0mvalue2\u001b[0m \u001b[0;32min\u001b[0m \u001b[0mrange\u001b[0m\u001b[0;34m(\u001b[0m\u001b[0;36m2\u001b[0m\u001b[0;34m,\u001b[0m \u001b[0mvalue\u001b[0m\u001b[0;34m)\u001b[0m\u001b[0;34m:\u001b[0m\u001b[0;34m\u001b[0m\u001b[0;34m\u001b[0m\u001b[0m\n\u001b[0m\u001b[1;32m      6\u001b[0m             \u001b[0mbreakpoint\u001b[0m\u001b[0;34m(\u001b[0m\u001b[0;34m)\u001b[0m\u001b[0;34m\u001b[0m\u001b[0;34m\u001b[0m\u001b[0m\n\u001b[1;32m      7\u001b[0m             \u001b[0;32mif\u001b[0m \u001b[0mvalue\u001b[0m \u001b[0;34m%\u001b[0m \u001b[0mvalue2\u001b[0m \u001b[0;34m==\u001b[0m \u001b[0;36m0\u001b[0m\u001b[0;34m:\u001b[0m\u001b[0;34m\u001b[0m\u001b[0;34m\u001b[0m\u001b[0m\n",
      "\u001b[0;32m<ipython-input-69-b993a50546b8>\u001b[0m in \u001b[0;36mprime_detector\u001b[0;34m()\u001b[0m\n\u001b[1;32m      3\u001b[0m     \u001b[0mprimes\u001b[0m\u001b[0;34m=\u001b[0m\u001b[0;34m[\u001b[0m\u001b[0;34m]\u001b[0m\u001b[0;34m\u001b[0m\u001b[0;34m\u001b[0m\u001b[0m\n\u001b[1;32m      4\u001b[0m     \u001b[0;32mfor\u001b[0m \u001b[0mvalue\u001b[0m \u001b[0;32min\u001b[0m \u001b[0mrange\u001b[0m\u001b[0;34m(\u001b[0m\u001b[0;36m2\u001b[0m\u001b[0;34m,\u001b[0m \u001b[0;36m10\u001b[0m\u001b[0;34m)\u001b[0m\u001b[0;34m:\u001b[0m\u001b[0;34m\u001b[0m\u001b[0;34m\u001b[0m\u001b[0m\n\u001b[0;32m----> 5\u001b[0;31m         \u001b[0;32mfor\u001b[0m \u001b[0mvalue2\u001b[0m \u001b[0;32min\u001b[0m \u001b[0mrange\u001b[0m\u001b[0;34m(\u001b[0m\u001b[0;36m2\u001b[0m\u001b[0;34m,\u001b[0m \u001b[0mvalue\u001b[0m\u001b[0;34m)\u001b[0m\u001b[0;34m:\u001b[0m\u001b[0;34m\u001b[0m\u001b[0;34m\u001b[0m\u001b[0m\n\u001b[0m\u001b[1;32m      6\u001b[0m             \u001b[0mbreakpoint\u001b[0m\u001b[0;34m(\u001b[0m\u001b[0;34m)\u001b[0m\u001b[0;34m\u001b[0m\u001b[0;34m\u001b[0m\u001b[0m\n\u001b[1;32m      7\u001b[0m             \u001b[0;32mif\u001b[0m \u001b[0mvalue\u001b[0m \u001b[0;34m%\u001b[0m \u001b[0mvalue2\u001b[0m \u001b[0;34m==\u001b[0m \u001b[0;36m0\u001b[0m\u001b[0;34m:\u001b[0m\u001b[0;34m\u001b[0m\u001b[0;34m\u001b[0m\u001b[0m\n",
      "\u001b[0;32m/mnt/WD/anaconda3/lib/python3.8/bdb.py\u001b[0m in \u001b[0;36mtrace_dispatch\u001b[0;34m(self, frame, event, arg)\u001b[0m\n\u001b[1;32m     86\u001b[0m             \u001b[0;32mreturn\u001b[0m \u001b[0;31m# None\u001b[0m\u001b[0;34m\u001b[0m\u001b[0;34m\u001b[0m\u001b[0m\n\u001b[1;32m     87\u001b[0m         \u001b[0;32mif\u001b[0m \u001b[0mevent\u001b[0m \u001b[0;34m==\u001b[0m \u001b[0;34m'line'\u001b[0m\u001b[0;34m:\u001b[0m\u001b[0;34m\u001b[0m\u001b[0;34m\u001b[0m\u001b[0m\n\u001b[0;32m---> 88\u001b[0;31m             \u001b[0;32mreturn\u001b[0m \u001b[0mself\u001b[0m\u001b[0;34m.\u001b[0m\u001b[0mdispatch_line\u001b[0m\u001b[0;34m(\u001b[0m\u001b[0mframe\u001b[0m\u001b[0;34m)\u001b[0m\u001b[0;34m\u001b[0m\u001b[0;34m\u001b[0m\u001b[0m\n\u001b[0m\u001b[1;32m     89\u001b[0m         \u001b[0;32mif\u001b[0m \u001b[0mevent\u001b[0m \u001b[0;34m==\u001b[0m \u001b[0;34m'call'\u001b[0m\u001b[0;34m:\u001b[0m\u001b[0;34m\u001b[0m\u001b[0;34m\u001b[0m\u001b[0m\n\u001b[1;32m     90\u001b[0m             \u001b[0;32mreturn\u001b[0m \u001b[0mself\u001b[0m\u001b[0;34m.\u001b[0m\u001b[0mdispatch_call\u001b[0m\u001b[0;34m(\u001b[0m\u001b[0mframe\u001b[0m\u001b[0;34m,\u001b[0m \u001b[0marg\u001b[0m\u001b[0;34m)\u001b[0m\u001b[0;34m\u001b[0m\u001b[0;34m\u001b[0m\u001b[0m\n",
      "\u001b[0;32m/mnt/WD/anaconda3/lib/python3.8/bdb.py\u001b[0m in \u001b[0;36mdispatch_line\u001b[0;34m(self, frame)\u001b[0m\n\u001b[1;32m    111\u001b[0m         \u001b[0;32mif\u001b[0m \u001b[0mself\u001b[0m\u001b[0;34m.\u001b[0m\u001b[0mstop_here\u001b[0m\u001b[0;34m(\u001b[0m\u001b[0mframe\u001b[0m\u001b[0;34m)\u001b[0m \u001b[0;32mor\u001b[0m \u001b[0mself\u001b[0m\u001b[0;34m.\u001b[0m\u001b[0mbreak_here\u001b[0m\u001b[0;34m(\u001b[0m\u001b[0mframe\u001b[0m\u001b[0;34m)\u001b[0m\u001b[0;34m:\u001b[0m\u001b[0;34m\u001b[0m\u001b[0;34m\u001b[0m\u001b[0m\n\u001b[1;32m    112\u001b[0m             \u001b[0mself\u001b[0m\u001b[0;34m.\u001b[0m\u001b[0muser_line\u001b[0m\u001b[0;34m(\u001b[0m\u001b[0mframe\u001b[0m\u001b[0;34m)\u001b[0m\u001b[0;34m\u001b[0m\u001b[0;34m\u001b[0m\u001b[0m\n\u001b[0;32m--> 113\u001b[0;31m             \u001b[0;32mif\u001b[0m \u001b[0mself\u001b[0m\u001b[0;34m.\u001b[0m\u001b[0mquitting\u001b[0m\u001b[0;34m:\u001b[0m \u001b[0;32mraise\u001b[0m \u001b[0mBdbQuit\u001b[0m\u001b[0;34m\u001b[0m\u001b[0;34m\u001b[0m\u001b[0m\n\u001b[0m\u001b[1;32m    114\u001b[0m         \u001b[0;32mreturn\u001b[0m \u001b[0mself\u001b[0m\u001b[0;34m.\u001b[0m\u001b[0mtrace_dispatch\u001b[0m\u001b[0;34m\u001b[0m\u001b[0;34m\u001b[0m\u001b[0m\n\u001b[1;32m    115\u001b[0m \u001b[0;34m\u001b[0m\u001b[0m\n",
      "\u001b[0;31mBdbQuit\u001b[0m: "
     ]
    }
   ],
   "source": [
    "prime_detector()"
   ]
  },
  {
   "cell_type": "markdown",
   "metadata": {},
   "source": [
    "### Jupyter\n",
    "\n",
    "- %run script\n",
    "- %debug post-mortem įeina į klaidų paieškos terpę\n",
    "- %pdb on  --- auto enter ipdb on error"
   ]
  },
  {
   "cell_type": "code",
   "execution_count": 71,
   "metadata": {},
   "outputs": [
    {
     "name": "stdout",
     "output_type": "stream",
     "text": [
      "Automatic pdb calling has been turned ON\n"
     ]
    },
    {
     "ename": "NameError",
     "evalue": "name 'vaue' is not defined",
     "output_type": "error",
     "traceback": [
      "\u001b[0;31m---------------------------------------------------------------------------\u001b[0m",
      "\u001b[0;31mNameError\u001b[0m                                 Traceback (most recent call last)",
      "\u001b[0;32m<ipython-input-71-f8f33bcef53b>\u001b[0m in \u001b[0;36m<module>\u001b[0;34m\u001b[0m\n\u001b[1;32m     11\u001b[0m             \u001b[0mprimes\u001b[0m\u001b[0;34m.\u001b[0m\u001b[0mappend\u001b[0m\u001b[0;34m(\u001b[0m\u001b[0mvalue\u001b[0m\u001b[0;34m)\u001b[0m\u001b[0;34m\u001b[0m\u001b[0;34m\u001b[0m\u001b[0m\n\u001b[1;32m     12\u001b[0m \u001b[0;34m\u001b[0m\u001b[0m\n\u001b[0;32m---> 13\u001b[0;31m \u001b[0mprime_detector\u001b[0m\u001b[0;34m(\u001b[0m\u001b[0;34m)\u001b[0m\u001b[0;34m\u001b[0m\u001b[0;34m\u001b[0m\u001b[0m\n\u001b[0m",
      "\u001b[0;32m<ipython-input-71-f8f33bcef53b>\u001b[0m in \u001b[0;36mprime_detector\u001b[0;34m()\u001b[0m\n\u001b[1;32m      5\u001b[0m     \u001b[0;32mfor\u001b[0m \u001b[0mvalue\u001b[0m \u001b[0;32min\u001b[0m \u001b[0mrange\u001b[0m\u001b[0;34m(\u001b[0m\u001b[0;36m2\u001b[0m\u001b[0;34m,\u001b[0m \u001b[0;36m10\u001b[0m\u001b[0;34m)\u001b[0m\u001b[0;34m:\u001b[0m\u001b[0;34m\u001b[0m\u001b[0;34m\u001b[0m\u001b[0m\n\u001b[1;32m      6\u001b[0m         \u001b[0;32mfor\u001b[0m \u001b[0mvalue2\u001b[0m \u001b[0;32min\u001b[0m \u001b[0mrange\u001b[0m\u001b[0;34m(\u001b[0m\u001b[0;36m2\u001b[0m\u001b[0;34m,\u001b[0m \u001b[0mvalue\u001b[0m\u001b[0;34m)\u001b[0m\u001b[0;34m:\u001b[0m\u001b[0;34m\u001b[0m\u001b[0;34m\u001b[0m\u001b[0m\n\u001b[0;32m----> 7\u001b[0;31m             \u001b[0;32mif\u001b[0m \u001b[0mvaue\u001b[0m \u001b[0;34m%\u001b[0m \u001b[0mvalue2\u001b[0m \u001b[0;34m==\u001b[0m \u001b[0;36m0\u001b[0m\u001b[0;34m:\u001b[0m\u001b[0;34m\u001b[0m\u001b[0;34m\u001b[0m\u001b[0m\n\u001b[0m\u001b[1;32m      8\u001b[0m                 \u001b[0mnonprime\u001b[0m\u001b[0;34m.\u001b[0m\u001b[0mappend\u001b[0m\u001b[0;34m(\u001b[0m\u001b[0mvalue\u001b[0m\u001b[0;34m)\u001b[0m\u001b[0;34m\u001b[0m\u001b[0;34m\u001b[0m\u001b[0m\n\u001b[1;32m      9\u001b[0m                 \u001b[0;32mbreak\u001b[0m\u001b[0;34m\u001b[0m\u001b[0;34m\u001b[0m\u001b[0m\n",
      "\u001b[0;31mNameError\u001b[0m: name 'vaue' is not defined"
     ]
    },
    {
     "name": "stdout",
     "output_type": "stream",
     "text": [
      "> \u001b[0;32m<ipython-input-71-f8f33bcef53b>\u001b[0m(7)\u001b[0;36mprime_detector\u001b[0;34m()\u001b[0m\n",
      "\u001b[0;32m      5 \u001b[0;31m    \u001b[0;32mfor\u001b[0m \u001b[0mvalue\u001b[0m \u001b[0;32min\u001b[0m \u001b[0mrange\u001b[0m\u001b[0;34m(\u001b[0m\u001b[0;36m2\u001b[0m\u001b[0;34m,\u001b[0m \u001b[0;36m10\u001b[0m\u001b[0;34m)\u001b[0m\u001b[0;34m:\u001b[0m\u001b[0;34m\u001b[0m\u001b[0;34m\u001b[0m\u001b[0m\n",
      "\u001b[0m\u001b[0;32m      6 \u001b[0;31m        \u001b[0;32mfor\u001b[0m \u001b[0mvalue2\u001b[0m \u001b[0;32min\u001b[0m \u001b[0mrange\u001b[0m\u001b[0;34m(\u001b[0m\u001b[0;36m2\u001b[0m\u001b[0;34m,\u001b[0m \u001b[0mvalue\u001b[0m\u001b[0;34m)\u001b[0m\u001b[0;34m:\u001b[0m\u001b[0;34m\u001b[0m\u001b[0;34m\u001b[0m\u001b[0m\n",
      "\u001b[0m\u001b[0;32m----> 7 \u001b[0;31m            \u001b[0;32mif\u001b[0m \u001b[0mvaue\u001b[0m \u001b[0;34m%\u001b[0m \u001b[0mvalue2\u001b[0m \u001b[0;34m==\u001b[0m \u001b[0;36m0\u001b[0m\u001b[0;34m:\u001b[0m\u001b[0;34m\u001b[0m\u001b[0;34m\u001b[0m\u001b[0m\n",
      "\u001b[0m\u001b[0;32m      8 \u001b[0;31m                \u001b[0mnonprime\u001b[0m\u001b[0;34m.\u001b[0m\u001b[0mappend\u001b[0m\u001b[0;34m(\u001b[0m\u001b[0mvalue\u001b[0m\u001b[0;34m)\u001b[0m\u001b[0;34m\u001b[0m\u001b[0;34m\u001b[0m\u001b[0m\n",
      "\u001b[0m\u001b[0;32m      9 \u001b[0;31m                \u001b[0;32mbreak\u001b[0m\u001b[0;34m\u001b[0m\u001b[0;34m\u001b[0m\u001b[0m\n",
      "\u001b[0m\n"
     ]
    },
    {
     "name": "stdin",
     "output_type": "stream",
     "text": [
      "ipdb>  q\n"
     ]
    }
   ],
   "source": [
    "%pdb on\n",
    "def prime_detector():\n",
    "    nonprime=[]\n",
    "    primes=[]\n",
    "    for value in range(2, 10):\n",
    "        for value2 in range(2, value):\n",
    "            if vaue % value2 == 0:\n",
    "                nonprime.append(value)\n",
    "                break\n",
    "        else:\n",
    "            primes.append(value)\n",
    "\n",
    "prime_detector()"
   ]
  },
  {
   "cell_type": "markdown",
   "metadata": {},
   "source": [
    "Kai nebereikia nepamiršti išjungti saugant resursus"
   ]
  },
  {
   "cell_type": "code",
   "execution_count": 72,
   "metadata": {},
   "outputs": [
    {
     "name": "stdout",
     "output_type": "stream",
     "text": [
      "Automatic pdb calling has been turned OFF\n"
     ]
    }
   ],
   "source": [
    "%pdb off"
   ]
  },
  {
   "cell_type": "markdown",
   "metadata": {},
   "source": [
    "### Pycharm, VSCODE ir kiti"
   ]
  },
  {
   "cell_type": "code",
   "execution_count": null,
   "metadata": {},
   "outputs": [],
   "source": [
    "from IPython.display import YouTubeVideo\n",
    "video = YouTubeVideo(id='nksiGORLDZw', width=400, height=200, fs=1, autoplay=0)\n",
    "video"
   ]
  },
  {
   "cell_type": "code",
   "execution_count": null,
   "metadata": {},
   "outputs": [],
   "source": []
  }
 ],
 "metadata": {
  "jupytext": {
   "formats": "ipynb,md:myst"
  },
  "kernelspec": {
   "display_name": "Python 3",
   "language": "python",
   "name": "python3"
  },
  "language_info": {
   "codemirror_mode": {
    "name": "ipython",
    "version": 3
   },
   "file_extension": ".py",
   "mimetype": "text/x-python",
   "name": "python",
   "nbconvert_exporter": "python",
   "pygments_lexer": "ipython3",
   "version": "3.8.3"
  }
 },
 "nbformat": 4,
 "nbformat_minor": 4
}
