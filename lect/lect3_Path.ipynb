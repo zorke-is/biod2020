{
 "cells": [
  {
   "cell_type": "markdown",
   "metadata": {},
   "source": [
    "# Duomenų tvarkymas\n",
    "\n",
    "2020-09-29\n",
    "\n",
    "- Failų ir direktorijų struktūra\n",
    "- Python direktorijų ir failų tvarkymo bibliotekos ir darbas su jomis\n",
    "  - Pathlib, os\n",
    "  - csv, json, txt\n",
    "- Paieška: Regex\n",
    "- Klaidų taisymas"
   ]
  },
  {
   "cell_type": "markdown",
   "metadata": {},
   "source": [
    "Pirmi žingsniai pradedant duomenų analizę:\n",
    "\n",
    "- Surasti reikiamus duomenų masyvus\n",
    "- Importuoti duomenis\n",
    "\n",
    "## Bendra tvarka\n",
    "\n",
    "- Nenaudoti failų ir direktorijų varduose šių simbolių:\n",
    "  - LT ar pan. raidžių\n",
    "  - skyrybos ženklų (, ? ! ir t.t.)\n",
    "- Naudoti: (a-z A-Z 0-9 \\_)\n",
    "- Strategijos:\n",
    "  - Pirmas raides žodžių didžiosiomis raidėmis - VienasDu (CamelCase)\n",
    "  - Atskirt žodžius apatiniais brūkšniais vienas\\_du (snake case)"
   ]
  },
  {
   "cell_type": "markdown",
   "metadata": {},
   "source": [
    "## Direktorijų struktūra\n",
    "\n",
    "### Direktorijų medis\n",
    "\n",
    "Unix kompiuteriuose direktorijas skiria pasvirasis brūkšnys `/`\n",
    "\n",
    "Windows operacinėse sistemose atgalinis brūkšnys `\\`"
   ]
  },
  {
   "cell_type": "raw",
   "metadata": {},
   "source": [
    "~/Documents/biod2020/\n",
    "├── images\n",
    "│   ├── visualStudioCode.png\n",
    "│   └── ...\n",
    "├── lab\n",
    "│   ├── environment.yml\n",
    "│   ├── lab1.ipynb\n",
    "│   ├── lab1.pdf\n",
    "│   ├── lab2.ipynb\n",
    "│   ├── lab2.py\n",
    "│   ├── labreport.ipynb\n",
    "│   ├── labreport.nbconvert.ipynb\n",
    "│   ├── labreport.nbconvert.pdf\n",
    "│   ├── labreport.py\n",
    "│   ├── lect1_Intro.slides.html\n",
    "│   └── programa.py\n",
    "├── lect\n",
    "│   ├── lect1_Intro.ipynb\n",
    "│   ├── lect1_Intro.pdf\n",
    "│   ├── lect1_Intro.py\n",
    "│   ├── lect2_Python.ipynb\n",
    "│   ├── lect2_Python.md\n",
    "│   ├── lect2_Python.py\n",
    "│   ├── programa2.py\n",
    "│   └── __pycache__\n",
    "│       └── programa2.cpython-38.pyc\n",
    "├── planas.docx\n",
    "└── README.md\n",
    "\n",
    "4 directories, 61 files"
   ]
  },
  {
   "cell_type": "markdown",
   "metadata": {},
   "source": [
    "### Rekomenduojama neuromokslų struktūra: bids.neuroimaging.io\n",
    "\n",
    "![bids](../images/bids.png)"
   ]
  },
  {
   "cell_type": "markdown",
   "metadata": {},
   "source": [
    "### Dažniausiai aptinkama struktūra git projektuose\n",
    "\n",
    "Failas | Paskirtis\n",
    "---|---\n",
    "README.md | Aprašas projekto\n",
    "LICENSE | choosealicense.com\n",
    "setup.py | Distribucijos valdymas\n",
    "requirements.txt | programos reikalavimai\n",
    "sample/\\_\\_init\\_\\_.py | python bibliotekos\n",
    "sample/core.py | Pagrindinė programa\n",
    "docs/conf.py | Dokumentacija\n",
    "docs/index.md | Indeksas\n",
    "tests/test\\_basic.py | Testai"
   ]
  },
  {
   "cell_type": "markdown",
   "metadata": {},
   "source": [
    "### Minimali struktūra\n",
    "\n",
    "Failas ar direktorija | Paskirtis\n",
    "---|---\n",
    "Code/ | Direktorija skirta skaičiavimų kodui\n",
    "Data/ | Direktorija skirta duomenims\n",
    "Text/ | Direktorija skirta tekstu\n",
    "Text/README.md | Aprašas\n",
    "Text/Figures/ | Direktorija skirta paveikslams\n",
    ".gitignore | versijos kontrolė\n",
    ".git/ | versijos kontrolė"
   ]
  },
  {
   "cell_type": "markdown",
   "metadata": {},
   "source": [
    "### Failų tipai\n",
    "\n",
    "- .txt\n",
    "- .csv\n",
    "- .xlsx\n",
    "- .json\n",
    "- .mat\n",
    "- .pdf\n",
    "- .html\n",
    "- .dat\n",
    "- t.t."
   ]
  },
  {
   "cell_type": "markdown",
   "metadata": {},
   "source": [
    "## Tvarkymas direktorijų ir failų su python\n",
    "\n",
    "Dažniausiai direktorijų tvarkymas atliekamas keturiomis pakuotėmis:\n",
    "\n",
    "- os --- operacinės sistemos rutinos\n",
    "- glob --- paieškos funkcijos\n",
    "- shutil --- įvairios funkcijos kopijavimui ir pan.\n",
    "- pathilb  --- nuo python versijos 3.4 atsiradusi `pathlib` pakuotė\n",
    "gali viena atlikti daugumą direktorijų ir failų tvarkymo veiksmų."
   ]
  },
  {
   "cell_type": "code",
   "execution_count": null,
   "metadata": {},
   "outputs": [],
   "source": [
    "import re\n",
    "import glob\n",
    "import os\n",
    "import shutil\n",
    "import pathlib"
   ]
  },
  {
   "cell_type": "markdown",
   "metadata": {},
   "source": [
    "### `os`\n",
    "\n",
    "Dažnai pasitaikanti pakuotė programos sąveikai su operacine sistema valdyti."
   ]
  },
  {
   "cell_type": "markdown",
   "metadata": {},
   "source": [
    "Norint gauti namų direktoriją nepriklausomai nuo sistemos:"
   ]
  },
  {
   "cell_type": "code",
   "execution_count": null,
   "metadata": {},
   "outputs": [],
   "source": [
    "home_dir = os.path.expanduser(\"~\")\n",
    "home_dir"
   ]
  },
  {
   "cell_type": "markdown",
   "metadata": {},
   "source": [
    "Jei norime dokumentuose sukurti direktoriją `biologija` negerai būtų ją\n",
    "aprašyti kaip:"
   ]
  },
  {
   "cell_type": "code",
   "execution_count": null,
   "metadata": {},
   "outputs": [],
   "source": [
    "direktorija = '/home/neuro/Documents' + '/biologija'\n",
    "direktorija"
   ]
  },
  {
   "cell_type": "markdown",
   "metadata": {},
   "source": [
    "arba"
   ]
  },
  {
   "cell_type": "code",
   "execution_count": null,
   "metadata": {},
   "outputs": [],
   "source": [
    "direktorija = os.path.expanduser(\"~\") + '/Documents/biologija'\n",
    "direktorija"
   ]
  },
  {
   "cell_type": "markdown",
   "metadata": {},
   "source": [
    "Kuriant direktorijų pavadinimus svarbu kad jie būtų sukuriami nepriklausomai nuo\n",
    "sistemos kur bus naudojama programa."
   ]
  },
  {
   "cell_type": "code",
   "execution_count": null,
   "metadata": {},
   "outputs": [],
   "source": [
    "test_dir = os.path.join(home_dir, \"Documents\", \"biod2020\", \"datatest\")\n",
    "test_file = os.path.join(home_dir, \"Documents\", \"biod2020\", \"datatest\", \"test.txt\")\n",
    "test_dir, test_file"
   ]
  },
  {
   "cell_type": "markdown",
   "metadata": {},
   "source": [
    "Galime sukurti aprašytą failą nusiųsdami komandą operacinei sistemai:"
   ]
  },
  {
   "cell_type": "code",
   "execution_count": null,
   "metadata": {},
   "outputs": [],
   "source": [
    "os.system(f\"mkdir {test_dir}\")\n",
    "os.system(f\"touch {test_file}\")"
   ]
  },
  {
   "cell_type": "markdown",
   "metadata": {},
   "source": [
    "Arba `os` metodais"
   ]
  },
  {
   "cell_type": "code",
   "execution_count": null,
   "metadata": {},
   "outputs": [],
   "source": [
    "os.mkdir(test_dir)"
   ]
  },
  {
   "cell_type": "markdown",
   "metadata": {},
   "source": [
    "Visą medį direktorijų sukuriam"
   ]
  },
  {
   "cell_type": "code",
   "execution_count": null,
   "metadata": {},
   "outputs": [],
   "source": [
    "os.makedirs(\"test/test1/test2\", exist_ok=True)\n",
    "!ls test"
   ]
  },
  {
   "cell_type": "markdown",
   "metadata": {},
   "source": [
    "Pakeisti dabartinę direktoriją"
   ]
  },
  {
   "cell_type": "code",
   "execution_count": null,
   "metadata": {},
   "outputs": [],
   "source": [
    "os.chdir(test_dir)\n",
    "%pwd"
   ]
  },
  {
   "cell_type": "markdown",
   "metadata": {},
   "source": [
    "Sužinom dabartinę direktoriją"
   ]
  },
  {
   "cell_type": "code",
   "execution_count": null,
   "metadata": {},
   "outputs": [],
   "source": [
    "current_working_directory = os.getcwd()\n",
    "current_working_directory"
   ]
  },
  {
   "cell_type": "markdown",
   "metadata": {},
   "source": [
    "Gaunam viduje esančių failų struktūrą"
   ]
  },
  {
   "cell_type": "code",
   "execution_count": null,
   "metadata": {},
   "outputs": [],
   "source": [
    "ls"
   ]
  },
  {
   "cell_type": "code",
   "execution_count": null,
   "metadata": {},
   "outputs": [],
   "source": [
    "dfiles = os.listdir()\n",
    "dfiles"
   ]
  },
  {
   "cell_type": "markdown",
   "metadata": {},
   "source": [
    "Pakeičiam pavadinimus"
   ]
  },
  {
   "cell_type": "code",
   "execution_count": null,
   "metadata": {},
   "outputs": [],
   "source": [
    "test_file2 = os.path.join(home_dir, \"Documents\",\n",
    "                          \"biod2020\", \"datatest\", \"test2.txt\")\n",
    "os.rename(test_file, test_file2)"
   ]
  },
  {
   "cell_type": "markdown",
   "metadata": {},
   "source": [
    "Ištrinam failus"
   ]
  },
  {
   "cell_type": "code",
   "execution_count": null,
   "metadata": {},
   "outputs": [],
   "source": [
    "if os.path.isfile(test_file2):\n",
    "    os.remove(test_file2)\n",
    "    # os.unlink(file)\n",
    "else:\n",
    "    print(f\"file {file} does not exist\")"
   ]
  },
  {
   "cell_type": "markdown",
   "metadata": {},
   "source": [
    "Ištrinam prieš tai sukurtą direktorijų medį"
   ]
  },
  {
   "cell_type": "code",
   "execution_count": null,
   "metadata": {},
   "outputs": [],
   "source": [
    "os.chdir('../lect')\n",
    "for dirpath, dirnames, files in os.walk(\"./test\", topdown=False):\n",
    "    try:\n",
    "        os.rmdir(dirpath)\n",
    "        #  shutil.rmtree()\n",
    "    except OSError as ex:\n",
    "        print(f\"Error: {dirpath} : {e.strerror}\")"
   ]
  },
  {
   "cell_type": "markdown",
   "metadata": {},
   "source": [
    "Eiti per direktorijas ir sub direktorijas galime funkcija `walk`.\n",
    "\n",
    "Einame direktorijų medžiu ir ieškome pdf failų."
   ]
  },
  {
   "cell_type": "code",
   "execution_count": null,
   "metadata": {},
   "outputs": [],
   "source": [
    "bioa_dir = os.path.join(home_dir, \"Documents\", \"biod2020\")\n",
    "files = []\n",
    "# r=root, d=directories, f = files\n",
    "for r, d, f in os.walk(bioa_dir, topdown=True):\n",
    "    #   print(r, f, d)\n",
    "    for file in f:\n",
    "        if \".pdf\" in file:\n",
    "            files.append(os.path.join(r, file))\n",
    "\n",
    "for f in files:\n",
    "    print(f)"
   ]
  },
  {
   "cell_type": "markdown",
   "metadata": {},
   "source": [
    "Plėtinius galima ieškoti ir su `endswith` metodu"
   ]
  },
  {
   "cell_type": "code",
   "execution_count": null,
   "metadata": {},
   "outputs": [],
   "source": [
    "for r, d, f in os.walk(\"./\"):\n",
    "    for file in f:\n",
    "        if file.endswith(\".pdf\"):  # startswith\n",
    "            print(file)"
   ]
  },
  {
   "cell_type": "markdown",
   "metadata": {},
   "source": [
    "### glob\n",
    "\n",
    "Paprastesnis būdas ieškoti failų su glob pakote"
   ]
  },
  {
   "cell_type": "code",
   "execution_count": null,
   "metadata": {},
   "outputs": [],
   "source": [
    "os.chdir(bioa_dir)\n",
    "glob.glob(\"**/*.pdf\", recursive=True)"
   ]
  },
  {
   "cell_type": "markdown",
   "metadata": {},
   "source": [
    "\\*\\* nurodo ieškoti ir subdirektorijose\n",
    "\n",
    "rglob metodas ieškotu subdirektorijose ir be dviejų žvaigždučių"
   ]
  },
  {
   "cell_type": "markdown",
   "metadata": {},
   "source": [
    "Glob paieškos specifiniai simboliai:\n",
    "\n",
    "Simbolis | Reikšmė\n",
    "---|---\n",
    "\\* | pakeičiamas į 0 arba daugiau simbolių (l*.pdf surastų tiek lect1.pdf tiek ir lab1.pdf)\n",
    "\\? |  pakeičiamas į vieną betkokį simbolį (l??.pdf sureas tik lab.pdf)\n",
    "[seq] | surandą simbolius nurodytus tarp skliaustų ([0-9] [a-z] ieškos simbolių šiuose atkarpose)\n",
    "[!seq] | atvirkštinis variantas ieškos simbolių nesančių sąraše"
   ]
  },
  {
   "cell_type": "code",
   "execution_count": null,
   "metadata": {},
   "outputs": [],
   "source": [
    "for name in glob.glob(\"**/*[1-9]*.ipynb\", recursive=True):\n",
    "    print(name)"
   ]
  },
  {
   "cell_type": "markdown",
   "metadata": {},
   "source": [
    ">> **UŽDUOTIS**\n",
    ">>\n",
    ">> Raskite visus py failus\n",
    ">>\n",
    "---\n",
    "```\n",
    "\n",
    "### shutil\n",
    "\n",
    "Kopijavimas\n",
    "\n",
    "```{code-cell} ipython3\n",
    "os.system(f\"touch {test_file}\")\n",
    "shutil.copy(test_file, test_file2)  # same as cp in shell, preserves metadata\n",
    "```\n",
    "\n",
    "shutil.copytree(source_directory, destination_directory)\n",
    "\n",
    "shutil.move(souce, destination)  # files or directories"
   ]
  },
  {
   "cell_type": "code",
   "execution_count": null,
   "metadata": {},
   "outputs": [],
   "source": [
    "help(os)"
   ]
  },
  {
   "cell_type": "code",
   "execution_count": null,
   "metadata": {},
   "outputs": [],
   "source": [
    "help(glob)"
   ]
  },
  {
   "cell_type": "code",
   "execution_count": null,
   "metadata": {},
   "outputs": [],
   "source": [
    "help(shutil)"
   ]
  },
  {
   "cell_type": "markdown",
   "metadata": {},
   "source": [
    "### pathlib\n",
    "\n",
    "Pathlib pakuotė sukuria objektus reprezentuojančius direktorijas ir failus.\n",
    "\n",
    "Tada su pathlib metodais mes modifikuojame sukurtus objektus."
   ]
  },
  {
   "cell_type": "code",
   "execution_count": null,
   "metadata": {},
   "outputs": [],
   "source": [
    "test_file_pathlib = pathlib.Path(test_file)\n",
    "test_dir_pathlib = pathlib.Path(test_dir)\n",
    "test_file_pathlib, test_dir_pathlib"
   ]
  },
  {
   "cell_type": "markdown",
   "metadata": {},
   "source": [
    "Dabartinė direktorija"
   ]
  },
  {
   "cell_type": "code",
   "execution_count": null,
   "metadata": {},
   "outputs": [],
   "source": [
    "p = pathlib.Path.cwd()\n",
    "p"
   ]
  },
  {
   "cell_type": "markdown",
   "metadata": {},
   "source": [
    "Namų direktorija"
   ]
  },
  {
   "cell_type": "code",
   "execution_count": null,
   "metadata": {},
   "outputs": [],
   "source": [
    "p = pathlib.Path.home()\n",
    "p"
   ]
  },
  {
   "cell_type": "markdown",
   "metadata": {},
   "source": [
    "Kūrimas universalių nuorodų į failus ir direktorijas"
   ]
  },
  {
   "cell_type": "code",
   "execution_count": null,
   "metadata": {},
   "outputs": [],
   "source": [
    "p = pathlib.Path.joinpath(pathlib.Path.home(), \"Documents\", \"biod2020\")\n",
    "p"
   ]
  },
  {
   "cell_type": "markdown",
   "metadata": {},
   "source": [
    "Tikrinimas ar direktorija/failas egzistuoja"
   ]
  },
  {
   "cell_type": "code",
   "execution_count": null,
   "metadata": {},
   "outputs": [],
   "source": [
    "p.exists()"
   ]
  },
  {
   "cell_type": "markdown",
   "metadata": {},
   "source": [
    "Tikrinimas ar tai direktorija"
   ]
  },
  {
   "cell_type": "code",
   "execution_count": null,
   "metadata": {},
   "outputs": [],
   "source": [
    "p.is_dir()"
   ]
  },
  {
   "cell_type": "markdown",
   "metadata": {},
   "source": [
    "Tikrinimas ar tai failas"
   ]
  },
  {
   "cell_type": "code",
   "execution_count": null,
   "metadata": {},
   "outputs": [],
   "source": [
    "p.is_file()"
   ]
  },
  {
   "cell_type": "markdown",
   "metadata": {},
   "source": [
    "Kūrimas direktorijų"
   ]
  },
  {
   "cell_type": "code",
   "execution_count": null,
   "metadata": {},
   "outputs": [],
   "source": [
    "test_dir_pathlib.mkdir(parents=True, exist_ok=True)"
   ]
  },
  {
   "cell_type": "markdown",
   "metadata": {},
   "source": [
    "Sukūrimas failo pagal objektą"
   ]
  },
  {
   "cell_type": "code",
   "execution_count": null,
   "metadata": {},
   "outputs": [],
   "source": [
    "test_file_pathlib.touch()"
   ]
  },
  {
   "cell_type": "markdown",
   "metadata": {},
   "source": [
    "Keitimas vardo"
   ]
  },
  {
   "cell_type": "code",
   "execution_count": null,
   "metadata": {},
   "outputs": [],
   "source": [
    "test_file_pathlib = test_file_pathlib.rename('test2.txt')"
   ]
  },
  {
   "cell_type": "markdown",
   "metadata": {},
   "source": [
    "Ištrynimas direktorijos"
   ]
  },
  {
   "cell_type": "code",
   "execution_count": null,
   "metadata": {},
   "outputs": [],
   "source": [
    "test_dir_pathlib.rmdir()"
   ]
  },
  {
   "cell_type": "markdown",
   "metadata": {},
   "source": [
    "Ištrynimas failo"
   ]
  },
  {
   "cell_type": "code",
   "execution_count": null,
   "metadata": {},
   "outputs": [],
   "source": [
    "test_file_pathlib.unlink()"
   ]
  },
  {
   "cell_type": "markdown",
   "metadata": {},
   "source": [
    "Paieška failų ir direktorijų"
   ]
  },
  {
   "cell_type": "code",
   "execution_count": null,
   "metadata": {},
   "outputs": [],
   "source": [
    "r = p.glob(\"**/*.pdf\")\n",
    "list(r)"
   ]
  },
  {
   "cell_type": "markdown",
   "metadata": {},
   "source": [
    "Plačiau"
   ]
  },
  {
   "cell_type": "code",
   "execution_count": null,
   "metadata": {},
   "outputs": [],
   "source": [
    "help(pathlib.Path)"
   ]
  },
  {
   "cell_type": "markdown",
   "metadata": {},
   "source": [
    "---\n",
    ">> **UŽDUOTIS**\n",
    ">>\n",
    ">> - Naudodami pathlib sukurkite savo direktorijų medį\n",
    ">> - Naudodami pathlib raskite visus ipynb failus\n",
    ">>\n",
    "---\n",
    "\n",
    "## Tekstiniai failai\n",
    "\n",
    "Sukuriam failą"
   ]
  },
  {
   "cell_type": "code",
   "execution_count": null,
   "metadata": {},
   "outputs": [],
   "source": [
    "test_file_pathlib.touch()"
   ]
  },
  {
   "cell_type": "markdown",
   "metadata": {},
   "source": [
    "Atidarome failą rašymo režime `w` ir įrašyti žodį 'text'"
   ]
  },
  {
   "cell_type": "code",
   "execution_count": null,
   "metadata": {},
   "outputs": [],
   "source": [
    "failas = open(test_file_pathlib, \"w\")\n",
    "try:\n",
    "    failas.write(\"text\")\n",
    "finally:\n",
    "    failas.close()"
   ]
  },
  {
   "cell_type": "markdown",
   "metadata": {},
   "source": [
    "Komanda | Reikšmė\n",
    "---|---\n",
    "'r' | skaitymas (default)\n",
    "'w' | rašymas, pirma ištrinant\n",
    "'x' | sukurt naują failą ir įrašyti\n",
    "'a' | rašymas, pridėti tekstą\n",
    "'b' | dvejetainis rėžimas"
   ]
  },
  {
   "cell_type": "markdown",
   "metadata": {},
   "source": [
    "Kad neužmirštume uždaryti failo naudojame konteksto tvarkyklę `with`\n",
    "\n",
    "Atidarome failą skaitymo rėžime `r` ir nuskaitome visas eilutes"
   ]
  },
  {
   "cell_type": "code",
   "execution_count": null,
   "metadata": {},
   "outputs": [],
   "source": [
    "with open(test_file_pathlib, \"r\") as failas:\n",
    "    tt = failas.readlines()  # list su visais simboliais\n",
    "    print(tt)"
   ]
  },
  {
   "cell_type": "markdown",
   "metadata": {},
   "source": [
    "Norėdami skaityti po vieną eilutę"
   ]
  },
  {
   "cell_type": "code",
   "execution_count": null,
   "metadata": {},
   "outputs": [],
   "source": [
    "with open(test_file_pathlib, \"r\") as failas:\n",
    "    for row in failas:\n",
    "        print(row, end=\"\")"
   ]
  },
  {
   "cell_type": "markdown",
   "metadata": {},
   "source": [
    "Pathlib pakuotė turi metodus nuskaityti ar įrašyti tekstą į savo objektus."
   ]
  },
  {
   "cell_type": "code",
   "execution_count": null,
   "metadata": {},
   "outputs": [],
   "source": [
    "test_file_pathlib.read_text()"
   ]
  },
  {
   "cell_type": "code",
   "execution_count": null,
   "metadata": {},
   "outputs": [],
   "source": [
    "test_file_pathlib.write_text(\"abc\")"
   ]
  },
  {
   "cell_type": "markdown",
   "metadata": {},
   "source": [
    "Apjungiant susimuiluojame eksperimento failus."
   ]
  },
  {
   "cell_type": "code",
   "execution_count": null,
   "metadata": {},
   "outputs": [],
   "source": [
    "test_dir_pathlib.mkdir()\n",
    "for subj in range(1, 11):\n",
    "    for txt_file in range(1, 11):\n",
    "        if txt_file < 6:\n",
    "            measure = \"power\"\n",
    "        else:\n",
    "            measure = \"phase\"\n",
    "        p = pathlib.Path.joinpath(\n",
    "            pathlib.Path.home(),\n",
    "            \"Documents\",\n",
    "            \"biod2020\",\n",
    "            \"datatest\",\n",
    "            f\"Exp_{txt_file}_{measure}_{subj}.txt\",\n",
    "        )\n",
    "        p.touch()"
   ]
  },
  {
   "cell_type": "markdown",
   "metadata": {},
   "source": [
    "Ištriname direktorijas sukurtas"
   ]
  },
  {
   "cell_type": "code",
   "execution_count": null,
   "metadata": {},
   "outputs": [],
   "source": [
    "test_file_pathlib.unlink()\n",
    "\n",
    "\n",
    "def rm_tree(pth):\n",
    "    for child in pth.iterdir():\n",
    "        if child.is_file():\n",
    "            child.unlink()\n",
    "        else:\n",
    "            rm_tree(child)\n",
    "    pth.rmdir()\n",
    "\n",
    "\n",
    "rm_tree(test_dir_pathlib)"
   ]
  },
  {
   "cell_type": "markdown",
   "metadata": {},
   "source": [
    "## Regex\n",
    "\n",
    "Kartais paprastų filtrų neužtenka tiek norint surasti informaciją.\n",
    "\n",
    "Regex kalba yra universalus būdas (veikiantis visuose programavimo kalbose)\n",
    "automatizuoti informacijos filtravimą.\n",
    "\n",
    "Aptarsime tik mažą dalį šios kalbos, plačiau aprašyta\n",
    "[dokumentacijoje](https://docs.python.org/3/howto/regex.html)\n",
    "\n",
    "regex sakinių testavimas https://regex101.com/\n",
    "\n",
    "### Kur galima naudoti regex\n",
    "\n",
    "Dauguma duomenų analizės uždavinių galima apibūdinti kaip fragmentų paiešką\n",
    "tekste.\n",
    "\n",
    "- Radimas failų pavadinimų\n",
    "- Radimas specifinių duomenų faile\n",
    "- Analizė teksto sekų (DNR)\n",
    "- Ištraukimas koordinačių\n",
    "- Taksonominių vardų\n",
    "- t.t.\n",
    "\n",
    "Pavyzdys [regex DNR analizėje](https://pythonforbiologists.com/regular-expressions)\n",
    "\n",
    "Python pakuotė `re` aprašo regex metodus"
   ]
  },
  {
   "cell_type": "markdown",
   "metadata": {},
   "source": [
    "### Failų radimas"
   ]
  },
  {
   "cell_type": "code",
   "execution_count": null,
   "metadata": {},
   "outputs": [],
   "source": [
    "def find_files_glob(directory, pattern):\n",
    "    return list(Path(directory).rglob(pattern))\n",
    "\n",
    "\n",
    "file_list = find_files_glob(bioa_dir, \"*py\")\n",
    "file_list"
   ]
  },
  {
   "cell_type": "markdown",
   "metadata": {},
   "source": [
    "Jei mums reikia sudėtingesnės logikos pvz jei norime rasti tik tuos py failus\n",
    "kurie yra lab arba exam direktorijose."
   ]
  },
  {
   "cell_type": "code",
   "execution_count": null,
   "metadata": {},
   "outputs": [],
   "source": [
    "def find_files_re(directory, pattern):\n",
    "    # in first for loop we convert to strings pathlib returned directory contents\n",
    "    files = [str(element) for element in list(Path(directory).rglob(\"./*\"))]\n",
    "    # in second loop using regular expressions we filter pathlib output\n",
    "    files = [element for element in files if re.search(pattern, element)]\n",
    "    return files\n",
    "\n",
    "\n",
    "file_list = find_files_re(bioa_dir, r\".*(exam|lab).*py$\")\n",
    "file_list"
   ]
  },
  {
   "cell_type": "markdown",
   "metadata": {},
   "source": [
    "Pradžioje apžvelgiam regex sakinių konstrukciją ir tada `re` pakuotės metodus.\n",
    "\n",
    "Kadangi yra daug specialių simbolių formuojant regex sakinius pravartu naudoti\n",
    "r-strings.\n",
    "\n",
    "Simboliai | Reikšmė\n",
    "---|---\n",
    "\\. | Bet koks simbolis išskyrus nauja eilutė\n",
    "\\* | 0 arba daugiau kartų pasikartojanti prieš tai einanti komanda\n",
    "\\+ | 1 arba daugiau kartų\n",
    "\\? | 0 arba 1 kartą\n",
    "[a] | specifinis simbolis\n",
    "[a-z] | raidės nuo a iki z\n",
    "[a-zA-Z0-9\\_] | mažosios arba didžiosios raidės, skaičiai ir \\_\n",
    "^ | Jei naudojamas kaip pirmas simbolis tai simbolizuoja eilutės pradžią\n",
    "[^A] | ne A\n",
    "$ | eilutės pabaiga\n",
    "{x,n} | komanda arba simbolis pakartojamas nuo x iki n kartų\n",
    "(x,x1,..) | grupuojami simboiai\n",
    "\\| | jungtukas arba\n",
    "\\d | skaičius nuo 0 iki 9\n",
    "\\D | tas pats kaip [^0-9]\n",
    "\\s |  tarpas\n",
    "\\S |  ne tarpas\n",
    "\\W | tas pats kaip [^a-zA-Z0-9\\_]\n",
    "\\w | tas pats kaip [a-zA-Z0-9\\_]\n",
    "\\b | žodžio kraštas\n",
    "\\B | ne kraštas\n",
    "\\  | leidžia naudoti simbolius rezervuotus komandoms\n",
    "\\n | nauja eilutė\n",
    "\n",
    "#### re metodai\n",
    "\n",
    "Jei turime kintamąjį HI"
   ]
  },
  {
   "cell_type": "code",
   "execution_count": null,
   "metadata": {},
   "outputs": [],
   "source": [
    "HI = \"Hello 1 5 world! 5\""
   ]
  },
  {
   "cell_type": "markdown",
   "metadata": {},
   "source": [
    "Ir norime surasti visus skaičius šiame tekste"
   ]
  },
  {
   "cell_type": "code",
   "execution_count": null,
   "metadata": {},
   "outputs": [],
   "source": [
    "re.findall(r\"\\d+\", HI)"
   ]
  },
  {
   "cell_type": "markdown",
   "metadata": {},
   "source": [
    "Dažniausiai pradedame kurti paieška įtraukdami viską --- . komanda"
   ]
  },
  {
   "cell_type": "code",
   "execution_count": null,
   "metadata": {},
   "outputs": [],
   "source": [
    "re.match(r\".*\", HI)"
   ]
  },
  {
   "cell_type": "markdown",
   "metadata": {},
   "source": [
    "Metodas `group` gražina aptiktą reikšmę"
   ]
  },
  {
   "cell_type": "code",
   "execution_count": null,
   "metadata": {},
   "outputs": [],
   "source": [
    "re.match(r\".*\", HI).group()"
   ]
  },
  {
   "cell_type": "code",
   "execution_count": null,
   "metadata": {},
   "outputs": [],
   "source": [
    "re.findall(r\"\\d+\", HI)"
   ]
  },
  {
   "cell_type": "markdown",
   "metadata": {},
   "source": [
    "'\\d+' surask bet kokį skaičių `\\d` pakartotą `+` 1 arba daugiau kartų\n",
    "\n",
    "finditer gražina po vieną reikšmes for ciklui"
   ]
  },
  {
   "cell_type": "code",
   "execution_count": null,
   "metadata": {},
   "outputs": [],
   "source": [
    "list(re.finditer(r\"\\d+\", HI))"
   ]
  },
  {
   "cell_type": "markdown",
   "metadata": {},
   "source": [
    "`re.search` -  skenuoja tekstą ieškodamas atitinkančio šablono.\n",
    "Jis panašus į match metodą bet gražina ne vien tik pirmą rastą reikšmę.\n",
    "\n",
    "Raskime skaičių 5 kuris yra teksto pabaigoje"
   ]
  },
  {
   "cell_type": "code",
   "execution_count": null,
   "metadata": {},
   "outputs": [],
   "source": [
    "re.search(r\"5$\", HI).group()"
   ]
  },
  {
   "cell_type": "markdown",
   "metadata": {},
   "source": [
    "Metodas span gražina simbolių vietą tekste"
   ]
  },
  {
   "cell_type": "code",
   "execution_count": null,
   "metadata": {},
   "outputs": [],
   "source": [
    "re.search(r\"5$\", HI).span()"
   ]
  },
  {
   "cell_type": "markdown",
   "metadata": {},
   "source": [
    "`5` randą skaičių o $ teksto pabaigą\n",
    "\n",
    "match panašia komanda neranda nieko nes skenuoja nuo pradžių tekstą"
   ]
  },
  {
   "cell_type": "code",
   "execution_count": null,
   "metadata": {},
   "outputs": [],
   "source": [
    "re.match(r\"5$\", HI)"
   ]
  },
  {
   "cell_type": "markdown",
   "metadata": {},
   "source": [
    "`e.split` padalina ties rastais simboliais tekstą į dalis"
   ]
  },
  {
   "cell_type": "code",
   "execution_count": null,
   "metadata": {},
   "outputs": [],
   "source": [
    "re.split(r\"\\s\", HI)"
   ]
  },
  {
   "cell_type": "markdown",
   "metadata": {},
   "source": [
    "`\\s` randa tarpus tarp žodžių\n",
    "\n",
    "Padalinam tekstą ties skaičiais"
   ]
  },
  {
   "cell_type": "code",
   "execution_count": null,
   "metadata": {},
   "outputs": [],
   "source": [
    "re.split(r\"\\d\", HI)"
   ]
  },
  {
   "cell_type": "markdown",
   "metadata": {},
   "source": [
    "Matome kad skaičiai išnyksta nes ties jais vyksta dalinimas.\n",
    "Jei norime išlaikyti skaičius juos reik sugauti ()"
   ]
  },
  {
   "cell_type": "code",
   "execution_count": null,
   "metadata": {},
   "outputs": [],
   "source": [
    "re.split(r\"(\\d)\", HI)"
   ]
  },
  {
   "cell_type": "markdown",
   "metadata": {},
   "source": [
    "`re.sub` pakeičia į kitas reikšmes"
   ]
  },
  {
   "cell_type": "code",
   "execution_count": null,
   "metadata": {},
   "outputs": [],
   "source": [
    "re.sub(r\"!\", \"\", HI)"
   ]
  },
  {
   "cell_type": "markdown",
   "metadata": {},
   "source": [
    "Rasti žodžius po kurių seka šauktukas galima su lookahead sintakse (?=x)"
   ]
  },
  {
   "cell_type": "code",
   "execution_count": null,
   "metadata": {},
   "outputs": [],
   "source": [
    "re.findall(r\"\\w+(?=!)\", HI)"
   ]
  },
  {
   "cell_type": "markdown",
   "metadata": {},
   "source": [
    "Ir atvirkštinis variantas jei pavyzdžiui nenorime rasti plėtinių pdf arba ipynb"
   ]
  },
  {
   "cell_type": "code",
   "execution_count": null,
   "metadata": {},
   "outputs": [],
   "source": [
    "file_list = find_files_re(bioa_dir, r'.*[.](?!pdf$|ipynb$)[^.]*$')\n",
    "file_list"
   ]
  },
  {
   "cell_type": "markdown",
   "metadata": {},
   "source": [
    "[dokumentacija](https://docs.python.org/3/howto/regex.html)"
   ]
  },
  {
   "cell_type": "markdown",
   "metadata": {},
   "source": [
    "## Atpažinimas ir ištaisymas klaidų (debugging)\n",
    "\n",
    "- Bandyt reikia išvengti klaidų ir jų paieškos! :)\n",
    "- Neįmanoma parašyti kodo be klaidų\n",
    "- Yra daug įrankių priklausomai nuo užduočių\n",
    "\n",
    "### Kodo skaitymas\n",
    "\n",
    "- Kodas yra vykdomas iš viršaus į apačią.\n",
    "- Importuojami failai paleidžia kitus failus"
   ]
  },
  {
   "cell_type": "code",
   "execution_count": null,
   "metadata": {},
   "outputs": [],
   "source": [
    "import math\n",
    "for item in list(range(10)):\n",
    "    print(item)"
   ]
  },
  {
   "cell_type": "markdown",
   "metadata": {},
   "source": [
    "### Skaitymas klaidos pranešimo (tracebacks)"
   ]
  },
  {
   "cell_type": "code",
   "execution_count": null,
   "metadata": {},
   "outputs": [],
   "source": [
    "from pathlib import Path\n",
    "path = Path('tt.txt')\n",
    "txt = path.read_text()"
   ]
  },
  {
   "cell_type": "markdown",
   "metadata": {},
   "source": [
    "- Dažniausiai klaida bus mūsų kode o ne bibliotekoje.\n",
    "- Paskutinė žinutė praneša apie klaidos tipą\n",
    "\n",
    "Galimos žinutės ir tipai:"
   ]
  },
  {
   "cell_type": "code",
   "execution_count": null,
   "metadata": {},
   "outputs": [],
   "source": [
    "5 ==== 6"
   ]
  },
  {
   "cell_type": "code",
   "execution_count": null,
   "metadata": {},
   "outputs": [],
   "source": [
    "def fun_(a):\n",
    "return a"
   ]
  },
  {
   "cell_type": "code",
   "execution_count": null,
   "metadata": {},
   "outputs": [],
   "source": [
    "prrrint('aaa')"
   ]
  },
  {
   "cell_type": "code",
   "execution_count": null,
   "metadata": {},
   "outputs": [],
   "source": [
    "a = [2,3,4]\n",
    "a.te()"
   ]
  },
  {
   "cell_type": "code",
   "execution_count": null,
   "metadata": {},
   "outputs": [],
   "source": [
    "a[8]"
   ]
  },
  {
   "cell_type": "markdown",
   "metadata": {},
   "source": [
    "Python dokumentacijoje aprašyti visi tipai"
   ]
  },
  {
   "cell_type": "markdown",
   "metadata": {},
   "source": [
    "### Print\n",
    "\n",
    "- Dažniausiai pasitaikantis ir lengviausias būdas\n",
    "- Gerai tinka logikai suprasti kodo, trumpiems algoritmams\n",
    "- Bet taip pat lėčiausias ir galintis įvelti klaidų."
   ]
  },
  {
   "cell_type": "code",
   "execution_count": null,
   "metadata": {},
   "outputs": [],
   "source": [
    "for n in range(2, 10):\n",
    "    print(f\"n {n}\", flush=True)\n",
    "    for x in range(2, n):\n",
    "        print(f\"x {x}\", flush=True)\n",
    "        if n % x == 0:\n",
    "            print(n, \"equals\", x, \"*\", n // x)\n",
    "            break\n",
    "    else: \n",
    "        print(n, \"is a prime number\")"
   ]
  },
  {
   "cell_type": "markdown",
   "metadata": {},
   "source": [
    "### Python debugger (PDB)\n",
    "\n",
    "- Standard library debugger\n",
    "- Iš komandinės eilutės paleidžiamas ir galima po žingsnį eiti\n",
    "- python -m pdb script.py\n",
    "- arba kode įterpti breakpoint()\n",
    "- h help\n",
    "- q quit\n",
    "- ll dabartinė pozicija kode\n",
    "- n next\n",
    "- s step\n",
    "- c continue\n",
    "- etc\n",
    "\n",
    "https://docs.python.org/3.6/library/pdb.html"
   ]
  },
  {
   "cell_type": "code",
   "execution_count": null,
   "metadata": {},
   "outputs": [],
   "source": [
    "def prime_detector():\n",
    "    nonprime=[]\n",
    "    primes=[]\n",
    "    for value in range(2, 10):\n",
    "        for value2 in range(2, value):\n",
    "            breakpoint()\n",
    "            if value % value2 == 0:\n",
    "                nonprime.append(value)\n",
    "                break\n",
    "        else:\n",
    "            primes.append(value)"
   ]
  },
  {
   "cell_type": "code",
   "execution_count": null,
   "metadata": {},
   "outputs": [],
   "source": [
    "prime_detector()"
   ]
  },
  {
   "cell_type": "markdown",
   "metadata": {},
   "source": [
    "### Jupyter\n",
    "\n",
    "- %run script\n",
    "- %debug post-mortem įeina į klaidų paieškos terpę\n",
    "- %pdb on  --- auto enter ipdb on error"
   ]
  },
  {
   "cell_type": "code",
   "execution_count": null,
   "metadata": {},
   "outputs": [],
   "source": [
    "%pdb on\n",
    "def prime_detector():\n",
    "    nonprime=[]\n",
    "    primes=[]\n",
    "    for value in range(2, 10):\n",
    "        for value2 in range(2, value):\n",
    "            if vaue % value2 == 0:\n",
    "                nonprime.append(value)\n",
    "                break\n",
    "        else:\n",
    "            primes.append(value)\n",
    "\n",
    "prime_detector()"
   ]
  },
  {
   "cell_type": "markdown",
   "metadata": {},
   "source": [
    "Kai nebereikia nepamiršti išjungti saugant resursus"
   ]
  },
  {
   "cell_type": "code",
   "execution_count": null,
   "metadata": {},
   "outputs": [],
   "source": [
    "%pdb off"
   ]
  },
  {
   "cell_type": "markdown",
   "metadata": {},
   "source": [
    "### Pycharm, VSCODE ir kiti"
   ]
  },
  {
   "cell_type": "code",
   "execution_count": null,
   "metadata": {},
   "outputs": [],
   "source": [
    "from IPython.display import YouTubeVideo\n",
    "video = YouTubeVideo(id='nksiGORLDZw', width=400, height=200, fs=1, autoplay=0)\n",
    "video"
   ]
  },
  {
   "cell_type": "code",
   "execution_count": null,
   "metadata": {},
   "outputs": [],
   "source": []
  }
 ],
 "metadata": {
  "jupytext": {
   "formats": "ipynb,md:myst"
  },
  "kernelspec": {
   "display_name": "Python 3",
   "language": "python",
   "name": "python3"
  },
  "language_info": {
   "codemirror_mode": {
    "name": "ipython",
    "version": 3
   },
   "file_extension": ".py",
   "mimetype": "text/x-python",
   "name": "python",
   "nbconvert_exporter": "python",
   "pygments_lexer": "ipython3",
   "version": "3.8.3"
  }
 },
 "nbformat": 4,
 "nbformat_minor": 4
}
