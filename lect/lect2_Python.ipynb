{
 "cells": [
  {
   "cell_type": "markdown",
   "metadata": {},
   "source": [
    "# 2020-09-22\n",
    "\n",
    "## Temos\n",
    "\n",
    "- Python\n",
    "- IPython\n",
    "- Python sintaksė\n",
    "  - Duomenų tipai\n",
    "  - Teksto spausdinimas\n",
    "  - Funkcijos\n",
    "  - Pakuotės\n",
    "  - Programos eigos kontrolė"
   ]
  },
  {
   "cell_type": "markdown",
   "metadata": {},
   "source": [
    "## Programavimas\n",
    "\n",
    "- Kam reikia?\n",
    "- Kokią programavimo kalbą pasirinkti?\n",
    "- Kokius įrankius naudoti?\n",
    "- Kaip tobulėti?\n",
    "\n",
    "![DataCamp](../images/datacamp.png)\n",
    "\n",
    "### Užduotys skirtinguose etapuose\n",
    "\n",
    "![Data analysis](../images/Pipeline.png)\n",
    "\n",
    "### Programavimo kalbos\n",
    "\n",
    "- C\n",
    "- Java\n",
    "- JavaScript\n",
    "- SQL\n",
    "- Matlab\n",
    "- R\n",
    "- Python\n",
    "- Julia\n",
    "- etc..\n",
    "\n",
    "[Paprasto kodo pavyzdžiai su skirtingom kalbom](https://www.scriptol.com/programming/hello-world.php)\n",
    "\n",
    "## Python\n",
    "\n",
    "Python diegimas aprašytas skirtingom OS pagrindiniame\n",
    "python [puslapyje](https://www.python.org/)\n",
    "\n",
    "Paprasčiau sudiegti izoliuotomis aplinkomis kaip [anaconda](https://anaconda.org/) ar [canopy](https://www.enthought.com/).\n",
    "\n",
    "Python interpretatoriai:\n",
    "\n",
    "- Python 2\n",
    "- Python 3\n",
    "- IPython\n",
    "\n",
    "Python [dokumentacija](https://docs.python.org/3/tutorial/index.html)\n",
    "\n",
    "Python programų plėtinys .py\n",
    "\n",
    "Terminale galime paleisti python programas rašydami:"
   ]
  },
  {
   "cell_type": "code",
   "execution_count": 1,
   "metadata": {},
   "outputs": [
    {
     "name": "stdout",
     "output_type": "stream",
     "text": [
      "tekstas\n"
     ]
    }
   ],
   "source": [
    "!python ../lab/programa.py"
   ]
  },
  {
   "cell_type": "markdown",
   "metadata": {},
   "source": [
    "## [IPython](jupyter.org)\n",
    "\n",
    "Duomenų analizę atlikti palengvinantis interpretatorius.\n",
    "Iš matlabo ir kitų programų pasiėmęs įvairių funkcijų:\n",
    "\n",
    "TAB klavišas užbaigia arba pasiūlo komandas.\n",
    "\n",
    "Buvusių komandų pasiekimas Ctrl-r/n/p\n",
    "\n",
    "Sesijos kontrolė\n",
    "\n",
    "- Ctrl-l teksto ištrynimas terminale\n",
    "- Ctrl-c nutraukia komandos vykdymą\n",
    "- Ctrl-d exit\n",
    "\n",
    "Platesnė pagalba, informacija apie funkcijas:"
   ]
  },
  {
   "cell_type": "code",
   "execution_count": 2,
   "metadata": {},
   "outputs": [
    {
     "name": "stdout",
     "output_type": "stream",
     "text": [
      "Help on built-in function len in module builtins:\n",
      "\n",
      "len(obj, /)\n",
      "    Return the number of items in a container.\n",
      "\n"
     ]
    }
   ],
   "source": [
    "help(len)"
   ]
  },
  {
   "cell_type": "code",
   "execution_count": 3,
   "metadata": {},
   "outputs": [
    {
     "data": {
      "text/plain": [
       "\u001b[0;31mSignature:\u001b[0m \u001b[0mlen\u001b[0m\u001b[0;34m(\u001b[0m\u001b[0mobj\u001b[0m\u001b[0;34m,\u001b[0m \u001b[0;34m/\u001b[0m\u001b[0;34m)\u001b[0m\u001b[0;34m\u001b[0m\u001b[0;34m\u001b[0m\u001b[0m\n",
       "\u001b[0;31mDocstring:\u001b[0m Return the number of items in a container.\n",
       "\u001b[0;31mType:\u001b[0m      builtin_function_or_method\n"
      ]
     },
     "metadata": {},
     "output_type": "display_data"
    }
   ],
   "source": [
    "len?"
   ]
  },
  {
   "cell_type": "code",
   "execution_count": 4,
   "metadata": {},
   "outputs": [
    {
     "data": {
      "text/plain": [
       "\u001b[0;31mSignature:\u001b[0m \u001b[0mlen\u001b[0m\u001b[0;34m(\u001b[0m\u001b[0mobj\u001b[0m\u001b[0;34m,\u001b[0m \u001b[0;34m/\u001b[0m\u001b[0;34m)\u001b[0m\u001b[0;34m\u001b[0m\u001b[0;34m\u001b[0m\u001b[0m\n",
       "\u001b[0;31mDocstring:\u001b[0m Return the number of items in a container.\n",
       "\u001b[0;31mType:\u001b[0m      builtin_function_or_method\n"
      ]
     },
     "metadata": {},
     "output_type": "display_data"
    }
   ],
   "source": [
    "len??"
   ]
  },
  {
   "cell_type": "markdown",
   "metadata": {},
   "source": [
    "### Komandinės eilutės komandos"
   ]
  },
  {
   "cell_type": "code",
   "execution_count": 5,
   "metadata": {},
   "outputs": [
    {
     "name": "stdout",
     "output_type": "stream",
     "text": [
      "/home/aleks/Documents/biod2020/lect\n"
     ]
    }
   ],
   "source": [
    "cd ."
   ]
  },
  {
   "cell_type": "code",
   "execution_count": 6,
   "metadata": {},
   "outputs": [
    {
     "name": "stdout",
     "output_type": "stream",
     "text": [
      "\u001b[0m\u001b[01;32mlect1_Intro.ipynb\u001b[0m*  \u001b[01;32mlect1_Intro.py\u001b[0m*      lect2_Python.md   \u001b[01;32mprograma2.py\u001b[0m*\n",
      "\u001b[00;32mlect1_Intro.pdf\u001b[0m     \u001b[01;32mlect2_Python.ipynb\u001b[0m*  \u001b[01;32mlect2_Python.py\u001b[0m*  \u001b[01;34m__pycache__\u001b[0m/\n"
     ]
    }
   ],
   "source": [
    "ls"
   ]
  },
  {
   "cell_type": "code",
   "execution_count": null,
   "metadata": {},
   "outputs": [],
   "source": [
    "!man ls"
   ]
  },
  {
   "cell_type": "code",
   "execution_count": 8,
   "metadata": {},
   "outputs": [
    {
     "data": {
      "text/plain": [
       "['.', './__pycache__', './.ipynb_checkpoints']"
      ]
     },
     "execution_count": 8,
     "metadata": {},
     "output_type": "execute_result"
    }
   ],
   "source": [
    "direct = !find . -type d\n",
    "direct"
   ]
  },
  {
   "cell_type": "markdown",
   "metadata": {},
   "source": [
    "### Magiškos komandos: %cpaste, %run,  %pip, %conda"
   ]
  },
  {
   "cell_type": "code",
   "execution_count": 10,
   "metadata": {},
   "outputs": [
    {
     "name": "stdout",
     "output_type": "stream",
     "text": [
      "Collecting package metadata (current_repodata.json): done\n",
      "Solving environment: done\n",
      "\n",
      "## Package Plan ##\n",
      "\n",
      "  environment location: /mnt/WD/anaconda3\n",
      "\n",
      "  added / updated specs:\n",
      "    - git\n",
      "\n",
      "\n",
      "The following packages will be downloaded:\n",
      "\n",
      "    package                    |            build\n",
      "    ---------------------------|-----------------\n",
      "    conda-4.8.5                |           py38_0         2.9 MB\n",
      "    git-2.23.0                 |  pl526hacde149_0         3.2 MB\n",
      "    perl-5.26.2                |       h14c3975_0        10.5 MB\n",
      "    ------------------------------------------------------------\n",
      "                                           Total:        16.5 MB\n",
      "\n",
      "The following NEW packages will be INSTALLED:\n",
      "\n",
      "  git                pkgs/main/linux-64::git-2.23.0-pl526hacde149_0\n",
      "  perl               pkgs/main/linux-64::perl-5.26.2-h14c3975_0\n",
      "\n",
      "The following packages will be UPDATED:\n",
      "\n",
      "  conda                                        4.8.4-py38_0 --> 4.8.5-py38_0\n",
      "\n",
      "\n",
      "\n",
      "Downloading and Extracting Packages\n",
      "perl-5.26.2          | 10.5 MB   | ##################################### | 100% \n",
      "git-2.23.0           | 3.2 MB    | ##################################### | 100% \n",
      "conda-4.8.5          | 2.9 MB    | ##################################### | 100% \n",
      "Preparing transaction: done\n",
      "Verifying transaction: done\n",
      "Executing transaction: done\n",
      "\n",
      "Note: you may need to restart the kernel to use updated packages.\n"
     ]
    }
   ],
   "source": [
    "conda install git"
   ]
  },
  {
   "cell_type": "code",
   "execution_count": 11,
   "metadata": {},
   "outputs": [
    {
     "name": "stdout",
     "output_type": "stream",
     "text": [
      "tekstas\n"
     ]
    }
   ],
   "source": [
    "%run ../lab/programa.py"
   ]
  },
  {
   "cell_type": "markdown",
   "metadata": {},
   "source": [
    "### Komandų istorija"
   ]
  },
  {
   "cell_type": "code",
   "execution_count": 12,
   "metadata": {},
   "outputs": [
    {
     "name": "stdout",
     "output_type": "stream",
     "text": [
      "   1: !python ../lab/programa.py\n",
      "   2: help(len)\n",
      "   3: len?\n",
      "   4: len??\n"
     ]
    }
   ],
   "source": [
    "%history -n 1-4"
   ]
  },
  {
   "cell_type": "markdown",
   "metadata": {},
   "source": [
    "Paskutinė išeiga"
   ]
  },
  {
   "cell_type": "code",
   "execution_count": 13,
   "metadata": {},
   "outputs": [
    {
     "name": "stdout",
     "output_type": "stream",
     "text": [
      "['.', './__pycache__', './.ipynb_checkpoints']\n"
     ]
    }
   ],
   "source": [
    "print(_)"
   ]
  },
  {
   "cell_type": "code",
   "execution_count": 16,
   "metadata": {},
   "outputs": [
    {
     "name": "stdout",
     "output_type": "stream",
     "text": [
      "a\t dir\t direct\t \n"
     ]
    }
   ],
   "source": [
    "who"
   ]
  },
  {
   "cell_type": "code",
   "execution_count": 15,
   "metadata": {},
   "outputs": [
    {
     "data": {
      "text/plain": [
       "5"
      ]
     },
     "execution_count": 15,
     "metadata": {},
     "output_type": "execute_result"
    }
   ],
   "source": [
    "a = 5\n",
    "a"
   ]
  },
  {
   "cell_type": "code",
   "execution_count": 18,
   "metadata": {},
   "outputs": [
    {
     "data": {
      "text/plain": [
       "5"
      ]
     },
     "execution_count": 18,
     "metadata": {},
     "output_type": "execute_result"
    }
   ],
   "source": [
    "Out[15]"
   ]
  },
  {
   "cell_type": "code",
   "execution_count": 19,
   "metadata": {},
   "outputs": [],
   "source": [
    "b = 4"
   ]
  },
  {
   "cell_type": "code",
   "execution_count": 20,
   "metadata": {},
   "outputs": [
    {
     "data": {
      "text/plain": [
       "'In[-1] + In[-2]b = 4'"
      ]
     },
     "execution_count": 20,
     "metadata": {},
     "output_type": "execute_result"
    }
   ],
   "source": [
    "In[-1] + In[-2]"
   ]
  },
  {
   "cell_type": "code",
   "execution_count": 21,
   "metadata": {},
   "outputs": [
    {
     "data": {
      "text/plain": [
       "False"
      ]
     },
     "execution_count": 21,
     "metadata": {},
     "output_type": "execute_result"
    }
   ],
   "source": [
    "42 in Out"
   ]
  },
  {
   "cell_type": "markdown",
   "metadata": {},
   "source": [
    "### Kintamųjų valdymas\n",
    "\n",
    "- Informacija apie kintamuosius:"
   ]
  },
  {
   "cell_type": "code",
   "execution_count": 24,
   "metadata": {},
   "outputs": [
    {
     "name": "stdout",
     "output_type": "stream",
     "text": [
      "Interactive namespace is empty.\n"
     ]
    }
   ],
   "source": [
    "who"
   ]
  },
  {
   "cell_type": "markdown",
   "metadata": {},
   "source": [
    "- Kintamųjų pašalinimas"
   ]
  },
  {
   "cell_type": "code",
   "execution_count": 23,
   "metadata": {},
   "outputs": [
    {
     "name": "stdin",
     "output_type": "stream",
     "text": [
      "Once deleted, variables cannot be recovered. Proceed (y/[n])?  y\n"
     ]
    }
   ],
   "source": [
    "%reset"
   ]
  },
  {
   "cell_type": "markdown",
   "metadata": {},
   "source": [
    "### Visos komandos"
   ]
  },
  {
   "cell_type": "code",
   "execution_count": null,
   "metadata": {},
   "outputs": [],
   "source": [
    "%magic"
   ]
  },
  {
   "cell_type": "markdown",
   "metadata": {},
   "source": [
    "[dokumentacija](http://ipython.org/)\n",
    "\n",
    "## Python sintaksė\n",
    "\n",
    "Raktiniai, rezervuoti raktažodžiai"
   ]
  },
  {
   "cell_type": "raw",
   "metadata": {},
   "source": [
    "   False      await      else       import     pass\n",
    "   None       break      except     in         raise\n",
    "   True       class      finally    is         return\n",
    "   and        continue   for        lambda     try\n",
    "   as         def        from       nonlocal   while\n",
    "   assert     del        global     not        with\n",
    "   async      elif       if         or         yield"
   ]
  },
  {
   "cell_type": "markdown",
   "metadata": {},
   "source": [
    "[Komentarai](https://www.python.org/dev/peps/pep-0257/) svarbi kodo dalis.\n",
    "Komentarų pagalba galime padėti sau pačiam ateityje susivokti kas kam."
   ]
  },
  {
   "cell_type": "code",
   "execution_count": 27,
   "metadata": {},
   "outputs": [],
   "source": [
    "#!/usr/bin/env python37\n",
    "# -*- coding: utf-8 -*-\n",
    "\n",
    "2+2 # Comment is ignored\n",
    "\n",
    "def function_name():\n",
    "    \"\"\" docstring example\n",
    "\n",
    "    This comment is accesible from .__doc__  atribute\n",
    "    \"\"\""
   ]
  },
  {
   "cell_type": "code",
   "execution_count": 28,
   "metadata": {},
   "outputs": [
    {
     "name": "stdout",
     "output_type": "stream",
     "text": [
      " docstring example\n",
      "\n",
      "    This comment is accesible from .__doc__  atribute\n",
      "    \n"
     ]
    }
   ],
   "source": [
    "# help(function_name)\n",
    "print(function_name.__doc__)"
   ]
  },
  {
   "cell_type": "markdown",
   "metadata": {},
   "source": [
    "### Kintamieji"
   ]
  },
  {
   "cell_type": "code",
   "execution_count": 29,
   "metadata": {
    "lines_to_next_cell": 2
   },
   "outputs": [],
   "source": [
    "# Integers\n",
    "10\n",
    "10\n",
    "0b10\n",
    "2\n",
    "# Float\n",
    "type(3.14)\n",
    "float\n",
    "4e2\n",
    "400.0\n",
    "# Boolean\n",
    "type(True)\n",
    "\n",
    "# Complex\n",
    "type(3+4j)\n",
    "\n",
    "# Strings;\n",
    "path = '~/Documents/bioa/data'"
   ]
  },
  {
   "cell_type": "markdown",
   "metadata": {},
   "source": [
    "### Operatoriai\n",
    "\n",
    "operatorius| reikšmė\n",
    "---|---\n",
    "$+$  | suma\n",
    "$-$  | skirtumas\n",
    "$*$  | sandauga\n",
    "$**$ | kelimas laipsniu\n",
    "$<$  | mažiau\n",
    "$>$  | daugiau\n",
    "$==$ | lygu\n",
    "$!=$ | nelygu\n",
    "$<=$ | mažiau arba lygu\n",
    "$/$ | dalyba\n",
    "$//$ | dalmuo \n",
    "$\\%$ | liekana"
   ]
  },
  {
   "cell_type": "code",
   "execution_count": 30,
   "metadata": {},
   "outputs": [
    {
     "data": {
      "text/plain": [
       "2.5"
      ]
     },
     "execution_count": 30,
     "metadata": {},
     "output_type": "execute_result"
    }
   ],
   "source": [
    "5/2"
   ]
  },
  {
   "cell_type": "code",
   "execution_count": 31,
   "metadata": {},
   "outputs": [
    {
     "data": {
      "text/plain": [
       "2"
      ]
     },
     "execution_count": 31,
     "metadata": {},
     "output_type": "execute_result"
    }
   ],
   "source": [
    "5//2 "
   ]
  },
  {
   "cell_type": "code",
   "execution_count": 32,
   "metadata": {},
   "outputs": [
    {
     "data": {
      "text/plain": [
       "1"
      ]
     },
     "execution_count": 32,
     "metadata": {},
     "output_type": "execute_result"
    }
   ],
   "source": [
    "5%2"
   ]
  },
  {
   "cell_type": "markdown",
   "metadata": {},
   "source": [
    "### Sąrašai (list)"
   ]
  },
  {
   "cell_type": "code",
   "execution_count": 33,
   "metadata": {},
   "outputs": [
    {
     "data": {
      "text/plain": [
       "[1, 'text', True, '3.14', <function len(obj, /)>, int]"
      ]
     },
     "execution_count": 33,
     "metadata": {},
     "output_type": "execute_result"
    }
   ],
   "source": [
    "list()\n",
    "# mutable, ordered objects\n",
    "a = [1, 'text', True,'3.14', len, int]\n",
    "# [1, 'text', True, '3.14', <function len(obj, /)>, int]\n",
    "a"
   ]
  },
  {
   "cell_type": "markdown",
   "metadata": {},
   "source": [
    "Pasiekimas elementų sąrašuose:\n",
    "\n",
    "Skaičiavimas prasideda nuo 0"
   ]
  },
  {
   "cell_type": "code",
   "execution_count": 34,
   "metadata": {},
   "outputs": [
    {
     "data": {
      "text/plain": [
       "1"
      ]
     },
     "execution_count": 34,
     "metadata": {},
     "output_type": "execute_result"
    }
   ],
   "source": [
    "a[0]"
   ]
  },
  {
   "cell_type": "markdown",
   "metadata": {},
   "source": [
    "iš kitos pusės nuo -1"
   ]
  },
  {
   "cell_type": "code",
   "execution_count": 35,
   "metadata": {},
   "outputs": [
    {
     "data": {
      "text/plain": [
       "int"
      ]
     },
     "execution_count": 35,
     "metadata": {},
     "output_type": "execute_result"
    }
   ],
   "source": [
    "a[-1]"
   ]
  },
  {
   "cell_type": "markdown",
   "metadata": {},
   "source": [
    "Iškirpimas dalies sąrašo (slice)"
   ]
  },
  {
   "cell_type": "code",
   "execution_count": 36,
   "metadata": {},
   "outputs": [
    {
     "data": {
      "text/plain": [
       "['text', True, '3.14']"
      ]
     },
     "execution_count": 36,
     "metadata": {},
     "output_type": "execute_result"
    }
   ],
   "source": [
    "a[1:4]"
   ]
  },
  {
   "cell_type": "markdown",
   "metadata": {},
   "source": [
    "Apvertimas"
   ]
  },
  {
   "cell_type": "code",
   "execution_count": 37,
   "metadata": {},
   "outputs": [
    {
     "data": {
      "text/plain": [
       "[int, <function len(obj, /)>, '3.14', True, 'text', 1]"
      ]
     },
     "execution_count": 37,
     "metadata": {},
     "output_type": "execute_result"
    }
   ],
   "source": [
    "a[::-1]"
   ]
  },
  {
   "cell_type": "markdown",
   "metadata": {},
   "source": [
    "Trumpos komandos elementų paeiškai ar palyginimui"
   ]
  },
  {
   "cell_type": "code",
   "execution_count": 39,
   "metadata": {},
   "outputs": [
    {
     "name": "stdout",
     "output_type": "stream",
     "text": [
      "[1, 'text', True, '3.14', <built-in function len>, <class 'int'>]\n"
     ]
    }
   ],
   "source": [
    "print(a)"
   ]
  },
  {
   "cell_type": "code",
   "execution_count": 40,
   "metadata": {
    "lines_to_next_cell": 2
   },
   "outputs": [
    {
     "data": {
      "text/plain": [
       "True"
      ]
     },
     "execution_count": 40,
     "metadata": {},
     "output_type": "execute_result"
    }
   ],
   "source": [
    "1 in a"
   ]
  },
  {
   "cell_type": "code",
   "execution_count": 41,
   "metadata": {},
   "outputs": [
    {
     "name": "stderr",
     "output_type": "stream",
     "text": [
      "<>:1: SyntaxWarning: \"is\" with a literal. Did you mean \"==\"?\n",
      "<>:1: SyntaxWarning: \"is\" with a literal. Did you mean \"==\"?\n",
      "<ipython-input-41-0504c29c4665>:1: SyntaxWarning: \"is\" with a literal. Did you mean \"==\"?\n",
      "  1 is a[0]\n"
     ]
    },
    {
     "data": {
      "text/plain": [
       "True"
      ]
     },
     "execution_count": 41,
     "metadata": {},
     "output_type": "execute_result"
    }
   ],
   "source": [
    "1 is a[0]"
   ]
  },
  {
   "cell_type": "code",
   "execution_count": 42,
   "metadata": {},
   "outputs": [
    {
     "data": {
      "text/plain": [
       "True"
      ]
     },
     "execution_count": 42,
     "metadata": {},
     "output_type": "execute_result"
    }
   ],
   "source": [
    "1 == a[0]"
   ]
  },
  {
   "cell_type": "code",
   "execution_count": 43,
   "metadata": {},
   "outputs": [
    {
     "name": "stderr",
     "output_type": "stream",
     "text": [
      "<>:2: SyntaxWarning: \"is\" with a literal. Did you mean \"==\"?\n",
      "<>:2: SyntaxWarning: \"is\" with a literal. Did you mean \"==\"?\n",
      "<ipython-input-43-d10ee48f51a7>:2: SyntaxWarning: \"is\" with a literal. Did you mean \"==\"?\n",
      "  257 is b\n"
     ]
    },
    {
     "data": {
      "text/plain": [
       "False"
      ]
     },
     "execution_count": 43,
     "metadata": {},
     "output_type": "execute_result"
    }
   ],
   "source": [
    "b = 257\n",
    "257 is b"
   ]
  },
  {
   "cell_type": "code",
   "execution_count": 44,
   "metadata": {},
   "outputs": [
    {
     "data": {
      "text/plain": [
       "True"
      ]
     },
     "execution_count": 44,
     "metadata": {},
     "output_type": "execute_result"
    }
   ],
   "source": [
    "257 == b"
   ]
  },
  {
   "cell_type": "markdown",
   "metadata": {},
   "source": [
    "Dimensijų pridėjimas"
   ]
  },
  {
   "cell_type": "code",
   "execution_count": 45,
   "metadata": {},
   "outputs": [
    {
     "data": {
      "text/plain": [
       "['nested', [1, 'text', True, '3.14', <function len(obj, /)>, int]]"
      ]
     },
     "execution_count": 45,
     "metadata": {},
     "output_type": "execute_result"
    }
   ],
   "source": [
    "b = ['nested',a]\n",
    "b"
   ]
  },
  {
   "cell_type": "code",
   "execution_count": 46,
   "metadata": {},
   "outputs": [
    {
     "data": {
      "text/plain": [
       "'text'"
      ]
     },
     "execution_count": 46,
     "metadata": {},
     "output_type": "execute_result"
    }
   ],
   "source": [
    "b[1][1]"
   ]
  },
  {
   "cell_type": "markdown",
   "metadata": {},
   "source": [
    "#### [Įmontuoti metodai](https://docs.python.org/3/library/functions.html)"
   ]
  },
  {
   "cell_type": "code",
   "execution_count": 47,
   "metadata": {},
   "outputs": [
    {
     "data": {
      "text/plain": [
       "2"
      ]
     },
     "execution_count": 47,
     "metadata": {},
     "output_type": "execute_result"
    }
   ],
   "source": [
    "len(b)"
   ]
  },
  {
   "cell_type": "code",
   "execution_count": 48,
   "metadata": {},
   "outputs": [
    {
     "data": {
      "text/plain": [
       "list"
      ]
     },
     "execution_count": 48,
     "metadata": {},
     "output_type": "execute_result"
    }
   ],
   "source": [
    "type(b)"
   ]
  },
  {
   "cell_type": "code",
   "execution_count": 49,
   "metadata": {},
   "outputs": [
    {
     "data": {
      "text/plain": [
       "24"
      ]
     },
     "execution_count": 49,
     "metadata": {},
     "output_type": "execute_result"
    }
   ],
   "source": [
    "round(23.99)"
   ]
  },
  {
   "cell_type": "markdown",
   "metadata": {},
   "source": [
    "### Kortežas (Tuple)\n",
    "\n",
    "Nekintantis objektas, sudaromas iš bet kokio tipo duomenų.\n",
    "Sukuriamas `tuple()` komandos pagalba arba `()`.\n",
    "Elementai atskiriami kableliu.\n",
    "Vieno elemento tuple sukuriamas `(x,)`.\n",
    "\n",
    "Kortežai veikia greičiau negu sąrašai,\n",
    "neleidžia keisti vertes ir naudojami žodynų formavimui."
   ]
  },
  {
   "cell_type": "code",
   "execution_count": 50,
   "metadata": {},
   "outputs": [
    {
     "data": {
      "text/plain": [
       "('a', 'b', 'c')"
      ]
     },
     "execution_count": 50,
     "metadata": {},
     "output_type": "execute_result"
    }
   ],
   "source": [
    "tuple()\n",
    "# immutable\n",
    "t = ('a','b','c')\n",
    "t"
   ]
  },
  {
   "cell_type": "code",
   "execution_count": 51,
   "metadata": {},
   "outputs": [
    {
     "data": {
      "text/plain": [
       "(42, 'text')"
      ]
     },
     "execution_count": 51,
     "metadata": {},
     "output_type": "execute_result"
    }
   ],
   "source": [
    "42, 'text'"
   ]
  },
  {
   "cell_type": "code",
   "execution_count": 52,
   "metadata": {},
   "outputs": [
    {
     "data": {
      "text/plain": [
       "'a'"
      ]
     },
     "execution_count": 52,
     "metadata": {},
     "output_type": "execute_result"
    }
   ],
   "source": [
    "a,b,c=t # unpack\n",
    "a"
   ]
  },
  {
   "cell_type": "markdown",
   "metadata": {},
   "source": [
    "### Žodynas\n",
    "\n",
    "Sąrašas kuris sudarytas iš rakto - vertės porų\n",
    "ir jo elementai pasiekiami rakto pagalba vietoje indekso.\n",
    "Raktas turi būti unikalus ir nemodifikuojamo tipo\n",
    "(tuple, integer, string, float, boolean), vertės gali būti bet kokio tipo."
   ]
  },
  {
   "cell_type": "code",
   "execution_count": 54,
   "metadata": {},
   "outputs": [
    {
     "data": {
      "text/plain": [
       "{}"
      ]
     },
     "execution_count": 54,
     "metadata": {},
     "output_type": "execute_result"
    }
   ],
   "source": [
    "dict()\n",
    "# mutable, dynamic, nested, elements accessed via keys\n",
    "human = {}\n",
    "human"
   ]
  },
  {
   "cell_type": "code",
   "execution_count": 56,
   "metadata": {},
   "outputs": [
    {
     "data": {
      "text/plain": [
       "dict"
      ]
     },
     "execution_count": 56,
     "metadata": {},
     "output_type": "execute_result"
    }
   ],
   "source": [
    "type(human)"
   ]
  },
  {
   "cell_type": "code",
   "execution_count": 57,
   "metadata": {},
   "outputs": [
    {
     "data": {
      "text/plain": [
       "{'name': 'John', 'gender': 'male', 'age': 40}"
      ]
     },
     "execution_count": 57,
     "metadata": {},
     "output_type": "execute_result"
    }
   ],
   "source": [
    "human['name'] = 'John'\n",
    "human['gender']='male'\n",
    "human['age']=40\n",
    "human"
   ]
  },
  {
   "cell_type": "code",
   "execution_count": null,
   "metadata": {},
   "outputs": [],
   "source": [
    "{'name': 'John', 'gender': 'male', 'age': 40}"
   ]
  },
  {
   "cell_type": "code",
   "execution_count": 58,
   "metadata": {},
   "outputs": [
    {
     "data": {
      "text/plain": [
       "{(1, 1): 45, (1, 2): 5}"
      ]
     },
     "execution_count": 58,
     "metadata": {},
     "output_type": "execute_result"
    }
   ],
   "source": [
    "{(1,1):45, (1, 2):5}"
   ]
  },
  {
   "cell_type": "code",
   "execution_count": 59,
   "metadata": {},
   "outputs": [
    {
     "data": {
      "text/plain": [
       "dict_keys(['name', 'gender', 'age'])"
      ]
     },
     "execution_count": 59,
     "metadata": {},
     "output_type": "execute_result"
    }
   ],
   "source": [
    "human.keys()"
   ]
  },
  {
   "cell_type": "code",
   "execution_count": 61,
   "metadata": {},
   "outputs": [
    {
     "data": {
      "text/plain": [
       "('gender', 'male')"
      ]
     },
     "execution_count": 61,
     "metadata": {},
     "output_type": "execute_result"
    }
   ],
   "source": [
    "human.popitem()"
   ]
  },
  {
   "cell_type": "markdown",
   "metadata": {},
   "source": [
    "### Aibė (set)\n",
    "\n",
    "Modifikuojamas nesutvarkytas, unikalių duomenų rinkinys\n",
    "sukurti galima komanda `set()`\n",
    "\n",
    "![aibe](../images/set.png)"
   ]
  },
  {
   "cell_type": "code",
   "execution_count": 62,
   "metadata": {},
   "outputs": [
    {
     "data": {
      "text/plain": [
       "['q', 'u', 'u', 'x']"
      ]
     },
     "execution_count": 62,
     "metadata": {},
     "output_type": "execute_result"
    }
   ],
   "source": [
    "set()\n",
    "s = 'quux'\n",
    "list(s)"
   ]
  },
  {
   "cell_type": "code",
   "execution_count": 64,
   "metadata": {},
   "outputs": [
    {
     "data": {
      "text/plain": [
       "3"
      ]
     },
     "execution_count": 64,
     "metadata": {},
     "output_type": "execute_result"
    }
   ],
   "source": [
    "set(s)"
   ]
  },
  {
   "cell_type": "markdown",
   "metadata": {},
   "source": [
    "## Teksto spausdinimas"
   ]
  },
  {
   "cell_type": "code",
   "execution_count": 65,
   "metadata": {
    "lines_to_next_cell": 2
   },
   "outputs": [
    {
     "name": "stdout",
     "output_type": "stream",
     "text": [
      "long senctence      can be divided into       parats using \\\n"
     ]
    }
   ],
   "source": [
    "print('long senctence\\\n",
    "      can be divided into \\\n",
    "      parats using \\\\')"
   ]
  },
  {
   "cell_type": "markdown",
   "metadata": {},
   "source": [
    "|kaip rašosi|komanda|\n",
    "|-----------|----------|\n",
    "|\\t|tab|\n",
    "|\\n|nauja eilutė|\n",
    "|\\r|Enter|\n",
    "|\\b|Atgal|\n",
    "|\\\\|pasviras brūkšnys \\|\n",
    "|\\'|kabutė|\n",
    "|\\\"|dviguba kabutė|\n",
    "\n",
    "## r strings"
   ]
  },
  {
   "cell_type": "code",
   "execution_count": 66,
   "metadata": {
    "lines_to_next_cell": 2
   },
   "outputs": [
    {
     "name": "stdout",
     "output_type": "stream",
     "text": [
      "raw\\nkeyward\\tprints all symbols\\\\\n"
     ]
    }
   ],
   "source": [
    "print(r'raw\\nkeyward\\tprints all symbols\\\\')"
   ]
  },
  {
   "cell_type": "markdown",
   "metadata": {},
   "source": [
    "Jei paprastai"
   ]
  },
  {
   "cell_type": "code",
   "execution_count": 67,
   "metadata": {},
   "outputs": [
    {
     "name": "stdout",
     "output_type": "stream",
     "text": [
      "raw\n",
      "vkeyward\tprints all symbols\\\n"
     ]
    }
   ],
   "source": [
    "print('raw\\nvkeyward\\tprints all symbols\\\\')"
   ]
  },
  {
   "cell_type": "markdown",
   "metadata": {},
   "source": [
    "### f strings"
   ]
  },
  {
   "cell_type": "code",
   "execution_count": 68,
   "metadata": {},
   "outputs": [
    {
     "data": {
      "text/plain": [
       "'Name:, John. Age: 22.'"
      ]
     },
     "execution_count": 68,
     "metadata": {},
     "output_type": "execute_result"
    }
   ],
   "source": [
    "name = 'John'\n",
    "age = 22\n",
    "\"Name:, %s. Age: %s.\" % (name, age)"
   ]
  },
  {
   "cell_type": "code",
   "execution_count": 69,
   "metadata": {},
   "outputs": [
    {
     "data": {
      "text/plain": [
       "'Name, John. Age 22.'"
      ]
     },
     "execution_count": 69,
     "metadata": {},
     "output_type": "execute_result"
    }
   ],
   "source": [
    "\"Name, {0}. Age {1}.\".format(name, age)"
   ]
  },
  {
   "cell_type": "code",
   "execution_count": 70,
   "metadata": {},
   "outputs": [
    {
     "data": {
      "text/plain": [
       "'Name, John. Age 22.'"
      ]
     },
     "execution_count": 70,
     "metadata": {},
     "output_type": "execute_result"
    }
   ],
   "source": [
    "f\"Name, {name}. Age {age}.\""
   ]
  },
  {
   "cell_type": "code",
   "execution_count": 71,
   "metadata": {},
   "outputs": [
    {
     "data": {
      "text/plain": [
       "'Name, john. age 22.'"
      ]
     },
     "execution_count": 71,
     "metadata": {},
     "output_type": "execute_result"
    }
   ],
   "source": [
    "f\"Name, {name.lower()}. age {age}.\""
   ]
  },
  {
   "cell_type": "markdown",
   "metadata": {},
   "source": [
    "## Pakuotės\n",
    "\n",
    "Importuoti reikia taip kad nepersidengtų skirtingų bibliotekų funkcijų vardai."
   ]
  },
  {
   "cell_type": "code",
   "execution_count": 72,
   "metadata": {},
   "outputs": [
    {
     "data": {
      "text/plain": [
       "2.0"
      ]
     },
     "execution_count": 72,
     "metadata": {},
     "output_type": "execute_result"
    }
   ],
   "source": [
    "import math\n",
    "math.sqrt(4)"
   ]
  },
  {
   "cell_type": "code",
   "execution_count": 73,
   "metadata": {},
   "outputs": [
    {
     "data": {
      "text/plain": [
       "2.0"
      ]
     },
     "execution_count": 73,
     "metadata": {},
     "output_type": "execute_result"
    }
   ],
   "source": [
    "from math import sqrt\n",
    "sqrt(4)"
   ]
  },
  {
   "cell_type": "code",
   "execution_count": 74,
   "metadata": {},
   "outputs": [
    {
     "data": {
      "text/plain": [
       "2.0"
      ]
     },
     "execution_count": 74,
     "metadata": {},
     "output_type": "execute_result"
    }
   ],
   "source": [
    "from math import *\n",
    "sqrt(4)"
   ]
  },
  {
   "cell_type": "markdown",
   "metadata": {},
   "source": [
    "Python pakuotes, versijas ir aplinkas valdom:\n",
    "\n",
    "- Anaconda leidžia ir atsisiųsti programas duomenų analizei,\n",
    "atlikti ir tvarko versijas pakuočių.\n",
    "- Daugiau Python pakuočių galima atsisiųsti iš oficialios\n",
    "python pakuočių bibliotekos su  pip programa ([Python Package Index](https://pypi.org/))"
   ]
  },
  {
   "cell_type": "markdown",
   "metadata": {},
   "source": [
    "Pravartu kodą atliekanti skirtingus uždavinius skirstyti į atskirus failus ir prireikus importuoti.\n",
    "Taip programa tamp švaresnė\\skaitomesnė, lengviau suprantama.\n",
    "Atskiras izoliuotas programas galima panaudoti daug kartų.\n",
    "Taip pat lengviau rašyti ir testuoti."
   ]
  },
  {
   "cell_type": "code",
   "execution_count": 75,
   "metadata": {},
   "outputs": [
    {
     "name": "stdout",
     "output_type": "stream",
     "text": [
      "tekstas\n"
     ]
    }
   ],
   "source": [
    "import programa2"
   ]
  },
  {
   "cell_type": "code",
   "execution_count": 76,
   "metadata": {},
   "outputs": [
    {
     "name": "stdout",
     "output_type": "stream",
     "text": [
      "funkcija tekstasA\n"
     ]
    }
   ],
   "source": [
    "programa2.tekstasA()"
   ]
  },
  {
   "cell_type": "code",
   "execution_count": 78,
   "metadata": {},
   "outputs": [
    {
     "name": "stdout",
     "output_type": "stream",
     "text": [
      "tekstas\n",
      "print iš main\n"
     ]
    }
   ],
   "source": [
    "%run programa2.py"
   ]
  },
  {
   "cell_type": "markdown",
   "metadata": {},
   "source": [
    "### Funkcijos\n",
    "\n",
    "Funkcijos apibrėžiamos `def` raktiniu žodžiu:"
   ]
  },
  {
   "cell_type": "code",
   "execution_count": null,
   "metadata": {},
   "outputs": [],
   "source": [
    "def functionName(inputVariable):\n",
    "    #  somethingis done here\n",
    "    return something"
   ]
  },
  {
   "cell_type": "markdown",
   "metadata": {},
   "source": [
    "$Celsius = (Fahrenheit - 32) * 5.0/9.0$\n",
    "\n",
    "$Fahrenheit = 9.0/5.0 * Celsius + 32$"
   ]
  },
  {
   "cell_type": "code",
   "execution_count": 86,
   "metadata": {},
   "outputs": [
    {
     "data": {
      "text/plain": [
       "(91.4, 33)"
      ]
     },
     "execution_count": 86,
     "metadata": {},
     "output_type": "execute_result"
    }
   ],
   "source": [
    "def celcius_to_farenheit(celcius=100, temp=0):\n",
    "    fahrenheit = 9.0/5.0 * celcius + 32\n",
    "    return fahrenheit, celcius\n",
    "\n",
    "celcius_to_farenheit(celcius=33)"
   ]
  },
  {
   "cell_type": "code",
   "execution_count": 80,
   "metadata": {},
   "outputs": [
    {
     "data": {
      "text/plain": [
       "(32.0, 0)"
      ]
     },
     "execution_count": 80,
     "metadata": {},
     "output_type": "execute_result"
    }
   ],
   "source": [
    "output = celcius_to_farenheit(0)\n",
    "output"
   ]
  },
  {
   "cell_type": "markdown",
   "metadata": {},
   "source": [
    "## Kontrolė eigos programos\n",
    "\n",
    "- Dvitaškis po formuluotės\n",
    "- Visur vienodi tarpai (tab vs space)\n",
    "\n",
    "### If"
   ]
  },
  {
   "cell_type": "code",
   "execution_count": 87,
   "metadata": {},
   "outputs": [
    {
     "name": "stdin",
     "output_type": "stream",
     "text": [
      "Please enter an integer:  3\n"
     ]
    }
   ],
   "source": [
    "x = int(input(\"Please enter an integer: \"))"
   ]
  },
  {
   "cell_type": "code",
   "execution_count": 88,
   "metadata": {},
   "outputs": [
    {
     "name": "stdout",
     "output_type": "stream",
     "text": [
      "įvestas teigiamas skaičius\n"
     ]
    }
   ],
   "source": [
    "if x < 0:\n",
    "    print('įvestas neigiamas skaičius')\n",
    "elif x == 0:\n",
    "    print('įvestas nulis')\n",
    "else:\n",
    "    print('įvestas teigiamas skaičius')"
   ]
  },
  {
   "cell_type": "markdown",
   "metadata": {},
   "source": [
    "Funkcijų deklaravimo metu galime nurodyti numatytuosius kintamuosius.\n",
    "Kreipiantis į funkciją tokius kintamuosius galime praleisti\n",
    "arba kreiptis į juos vardu ir nepaisyti eiliškumo"
   ]
  },
  {
   "cell_type": "code",
   "execution_count": 89,
   "metadata": {},
   "outputs": [],
   "source": [
    "def convert_to_SI(value, type='temp', beta=5):\n",
    "    ''' supported types:\n",
    "            temp (fahrenheit input, celsius and kelvin outputs)\n",
    "            dist (inches input, meters output)'''\n",
    "    if type == 'temp':\n",
    "        celsius = (value - 32) * 5/9\n",
    "        kelvin = celsius + 273.15\n",
    "        return round(celsius), round(kelvin)\n",
    "    elif type == 'dist':\n",
    "        meters = value * 0.0245\n",
    "        return(meters)\n",
    "    else:\n",
    "        print(f'Type is not defined, beta is {beta}')"
   ]
  },
  {
   "cell_type": "code",
   "execution_count": 90,
   "metadata": {},
   "outputs": [
    {
     "data": {
      "text/plain": [
       "(1, 274)"
      ]
     },
     "execution_count": 90,
     "metadata": {},
     "output_type": "execute_result"
    }
   ],
   "source": [
    "convert_to_SI(33, 'temp')"
   ]
  },
  {
   "cell_type": "code",
   "execution_count": 91,
   "metadata": {},
   "outputs": [
    {
     "data": {
      "text/plain": [
       "(-16, 257)"
      ]
     },
     "execution_count": 91,
     "metadata": {},
     "output_type": "execute_result"
    }
   ],
   "source": [
    "convert_to_SI(value=3, beta=4, type='temp')"
   ]
  },
  {
   "cell_type": "code",
   "execution_count": 92,
   "metadata": {},
   "outputs": [
    {
     "data": {
      "text/plain": [
       "(1, 274)"
      ]
     },
     "execution_count": 92,
     "metadata": {},
     "output_type": "execute_result"
    }
   ],
   "source": [
    "convert_to_SI(33)"
   ]
  },
  {
   "cell_type": "markdown",
   "metadata": {},
   "source": [
    "### For"
   ]
  },
  {
   "cell_type": "code",
   "execution_count": 93,
   "metadata": {},
   "outputs": [
    {
     "name": "stdout",
     "output_type": "stream",
     "text": [
      "1\n",
      "2\n",
      "3\n"
     ]
    }
   ],
   "source": [
    "for x in [1,2,3]:\n",
    "    print(x)"
   ]
  },
  {
   "cell_type": "code",
   "execution_count": 94,
   "metadata": {},
   "outputs": [],
   "source": [
    "values_in_fahrenheit = [0,44,56,788]\n",
    "values_in_celsius= []\n",
    "values_in_kelvin= []\n",
    "\n",
    "for value in values_in_fahrenheit:\n",
    "    cel, kel = convert_to_SI(value)\n",
    "    values_in_celsius.append(cel)\n",
    "    values_in_kelvin.append(kel)"
   ]
  },
  {
   "cell_type": "code",
   "execution_count": 95,
   "metadata": {},
   "outputs": [
    {
     "data": {
      "text/plain": [
       "[255, 280, 286, 693]"
      ]
     },
     "execution_count": 95,
     "metadata": {},
     "output_type": "execute_result"
    }
   ],
   "source": [
    "values_in_kelvin"
   ]
  },
  {
   "cell_type": "markdown",
   "metadata": {},
   "source": [
    "### Range\n",
    "\n",
    "range([start], stop[, step])"
   ]
  },
  {
   "cell_type": "code",
   "execution_count": 96,
   "metadata": {},
   "outputs": [
    {
     "name": "stdout",
     "output_type": "stream",
     "text": [
      "0\n",
      "1\n",
      "2\n",
      "3\n"
     ]
    }
   ],
   "source": [
    "for i in range(4):\n",
    "    print(i)"
   ]
  },
  {
   "cell_type": "code",
   "execution_count": 97,
   "metadata": {},
   "outputs": [
    {
     "data": {
      "text/plain": [
       "range(-10, -100, -30)"
      ]
     },
     "execution_count": 97,
     "metadata": {},
     "output_type": "execute_result"
    }
   ],
   "source": [
    "range(-10, -100, -30)"
   ]
  },
  {
   "cell_type": "code",
   "execution_count": 98,
   "metadata": {},
   "outputs": [
    {
     "data": {
      "text/plain": [
       "[0, 1, 2, 3]"
      ]
     },
     "execution_count": 98,
     "metadata": {},
     "output_type": "execute_result"
    }
   ],
   "source": [
    "list(range(4))"
   ]
  },
  {
   "cell_type": "code",
   "execution_count": 100,
   "metadata": {},
   "outputs": [
    {
     "name": "stdout",
     "output_type": "stream",
     "text": [
      "0\n",
      "10\n",
      "1\n",
      "10\n",
      "2\n",
      "10\n",
      "3\n",
      "10\n"
     ]
    }
   ],
   "source": [
    "for i in range(4):\n",
    "    print(i)\n",
    "    i = 10\n",
    "    print(i)"
   ]
  },
  {
   "cell_type": "code",
   "execution_count": 101,
   "metadata": {},
   "outputs": [
    {
     "name": "stdout",
     "output_type": "stream",
     "text": [
      "[##############################] 100%"
     ]
    }
   ],
   "source": [
    "from time import sleep\n",
    "def progress(percent=0, width=30):\n",
    "    left = width * percent // 100\n",
    "    right = width - left\n",
    "    print('\\r[', '#' * left, ' ' * right, ']',\n",
    "          f' {percent:.0f}%',\n",
    "          sep='', end='', flush=True)\n",
    "\n",
    "\n",
    "for i in range(101):\n",
    "    progress(i)\n",
    "    sleep(0.1)"
   ]
  },
  {
   "cell_type": "markdown",
   "metadata": {},
   "source": [
    "Atvirkštine tvarka"
   ]
  },
  {
   "cell_type": "code",
   "execution_count": 102,
   "metadata": {},
   "outputs": [
    {
     "name": "stdout",
     "output_type": "stream",
     "text": [
      "9\n",
      "7\n",
      "5\n",
      "3\n",
      "1\n"
     ]
    }
   ],
   "source": [
    "for i in reversed(range(1, 10, 2)):\n",
    "     print(i)"
   ]
  },
  {
   "cell_type": "markdown",
   "metadata": {},
   "source": [
    "#### For su žodynais"
   ]
  },
  {
   "cell_type": "code",
   "execution_count": 103,
   "metadata": {},
   "outputs": [
    {
     "name": "stdout",
     "output_type": "stream",
     "text": [
      "Celsius: -18, Kelvin 255\n",
      "Celsius: 7, Kelvin 280\n"
     ]
    }
   ],
   "source": [
    "data = {'-18': '255', '7': '280'}\n",
    "for k, v in data.items():\n",
    "    print(f'Celsius: {k}, Kelvin {v}')"
   ]
  },
  {
   "cell_type": "markdown",
   "metadata": {},
   "source": [
    "#### Enumerate"
   ]
  },
  {
   "cell_type": "code",
   "execution_count": 104,
   "metadata": {},
   "outputs": [
    {
     "name": "stdout",
     "output_type": "stream",
     "text": [
      "0 a\n",
      "1 b\n",
      "2 c\n"
     ]
    }
   ],
   "source": [
    "a = ['a', 'b', 'c'];\n",
    "for i, v in enumerate(a):\n",
    "    print(i, v)"
   ]
  },
  {
   "cell_type": "code",
   "execution_count": 106,
   "metadata": {},
   "outputs": [
    {
     "name": "stdout",
     "output_type": "stream",
     "text": [
      "0 a\n",
      "1 b\n",
      "2 c\n"
     ]
    }
   ],
   "source": [
    "for i in range(len(a)):\n",
    "    print(i,a[i])"
   ]
  },
  {
   "cell_type": "markdown",
   "metadata": {},
   "source": [
    "#### Zip\n",
    "\n",
    "Norėdami vienu metu iteruoti per keletą sąrašų naudojame zip funkciją"
   ]
  },
  {
   "cell_type": "code",
   "execution_count": 107,
   "metadata": {},
   "outputs": [
    {
     "name": "stdout",
     "output_type": "stream",
     "text": [
      "Temperature in celsius -18 equals 0 in fahrenheit\n",
      "Temperature in celsius 7 equals 44 in fahrenheit\n",
      "Temperature in celsius 13 equals 56 in fahrenheit\n",
      "Temperature in celsius 420 equals 788 in fahrenheit\n"
     ]
    }
   ],
   "source": [
    "for q, a in zip(values_in_fahrenheit, values_in_celsius):\n",
    "    print(f'Temperature in celsius {a} equals {q} in fahrenheit')"
   ]
  },
  {
   "cell_type": "markdown",
   "metadata": {},
   "source": [
    "### While"
   ]
  },
  {
   "cell_type": "code",
   "execution_count": 108,
   "metadata": {},
   "outputs": [
    {
     "name": "stdout",
     "output_type": "stream",
     "text": [
      "0\n",
      "1\n",
      "1\n",
      "2\n",
      "3\n",
      "5\n",
      "8\n"
     ]
    }
   ],
   "source": [
    "a, b = 0, 1\n",
    "while a < 10:\n",
    "    print(a)\n",
    "    a, b = b, a+b"
   ]
  },
  {
   "cell_type": "markdown",
   "metadata": {},
   "source": [
    "#### Begalinės iteracijos"
   ]
  },
  {
   "cell_type": "raw",
   "metadata": {},
   "source": [
    "while True:\n",
    "    print('a')"
   ]
  },
  {
   "cell_type": "code",
   "execution_count": 110,
   "metadata": {},
   "outputs": [
    {
     "name": "stdout",
     "output_type": "stream",
     "text": [
      "0.7223959385551291\n",
      "0.3068470231707304\n",
      "0.3711730058009629\n",
      "0.6804999185333013\n",
      "0.5250729930833186\n",
      "0.33253452675922524\n",
      "0.761652756432487\n",
      "0.06365842583342529\n",
      "0.45626265406330246\n",
      "0.09231449380982204\n",
      "0.00012265964702551369\n",
      "0.676174242875322\n",
      "0.39342264488948486\n",
      "0.9106021164271362\n"
     ]
    }
   ],
   "source": [
    "import random\n",
    "x = 0\n",
    "while x<0.9:\n",
    "    x = random.random()\n",
    "    print(x)"
   ]
  },
  {
   "cell_type": "markdown",
   "metadata": {},
   "source": [
    "### Break ir continue\n",
    "\n",
    "Break nutraukią for arba while ciklą.\n",
    "Continue tęsia ciklą su sekančia iteracija\n",
    "\n",
    "For ciklo else sąlyga yra įgyvendinama jei ciklas\n",
    "nebuvo nutrauktas  break raktinio žodžio."
   ]
  },
  {
   "cell_type": "code",
   "execution_count": 111,
   "metadata": {},
   "outputs": [
    {
     "name": "stdout",
     "output_type": "stream",
     "text": [
      "2 is a prime number\n",
      "3 is a prime number\n",
      "4 lygu 2 * 2\n",
      "5 is a prime number\n",
      "6 lygu 2 * 3\n",
      "7 is a prime number\n",
      "8 lygu 2 * 4\n",
      "9 lygu 3 * 3\n"
     ]
    }
   ],
   "source": [
    "for n in range(2, 10):\n",
    "     for x in range(2, n):\n",
    "         if n % x == 0:\n",
    "             print(n, 'lygu', x, '*', n//x)\n",
    "             break\n",
    "     else:\n",
    "         print(n, 'is a prime number')"
   ]
  },
  {
   "cell_type": "markdown",
   "metadata": {},
   "source": [
    "### Pass\n",
    "\n",
    "Raktinis žodis `pass` nedaro nieko."
   ]
  },
  {
   "cell_type": "code",
   "execution_count": 112,
   "metadata": {},
   "outputs": [],
   "source": [
    "for i in range(4):\n",
    "    pass"
   ]
  },
  {
   "cell_type": "markdown",
   "metadata": {},
   "source": [
    "## Comprehensions\n",
    "\n",
    "[Dokumentacija](https://docs.python.org/3.9/tutorial/datastructures.html#list-comprehensions)\n",
    "\n",
    "Sąrašus python programavimo kalboje galime kurti keliais būdais.\n",
    "Pavyzdžiui jei norime sukurti sąrašą elementų nuo 1 iki 100"
   ]
  },
  {
   "cell_type": "code",
   "execution_count": 113,
   "metadata": {},
   "outputs": [
    {
     "name": "stdout",
     "output_type": "stream",
     "text": [
      "[1, 2, 3, 4, 5, 6, 7, 8, 9, 10, 11, 12, 13, 14, 15, 16, 17, 18, 19, 20, 21, 22, 23, 24, 25, 26, 27, 28, 29, 30, 31, 32, 33, 34, 35, 36, 37, 38, 39, 40, 41, 42, 43, 44, 45, 46, 47, 48, 49, 50, 51, 52, 53, 54, 55, 56, 57, 58, 59, 60, 61, 62, 63, 64, 65, 66, 67, 68, 69, 70, 71, 72, 73, 74, 75, 76, 77, 78, 79, 80, 81, 82, 83, 84, 85, 86, 87, 88, 89, 90, 91, 92, 93, 94, 95, 96, 97, 98, 99, 100]\n"
     ]
    }
   ],
   "source": [
    "listA = list(range(1, 101))\n",
    "print(listA)"
   ]
  },
  {
   "cell_type": "markdown",
   "metadata": {},
   "source": [
    "Bet jei norime sukurti šiek tiek sudėtingesnį sąrašą\n",
    "turintį tam tikrą logiką tenka išplėsti aprašymą.\n",
    "\n",
    "Jei norime sukurti sąrašą skaičių\n",
    "kūbų nuo 1 iki 10 galime naudoti `for` ciklą"
   ]
  },
  {
   "cell_type": "code",
   "execution_count": 114,
   "metadata": {},
   "outputs": [
    {
     "data": {
      "text/plain": [
       "[0, 1, 8, 27, 64, 125, 216, 343, 512, 729]"
      ]
     },
     "execution_count": 114,
     "metadata": {},
     "output_type": "execute_result"
    }
   ],
   "source": [
    "listB = []  # sukuriam tuščią sąrašą\n",
    "for i in range(10):\n",
    "    listB.append(i ** 3)\n",
    "\n",
    "listB"
   ]
  },
  {
   "cell_type": "markdown",
   "metadata": {},
   "source": [
    "Tikslui galime panaudoti `map` funkciją.\n",
    "Ji daug greitesnė ir jos sintaksė lengvina programos skaitomumą."
   ]
  },
  {
   "cell_type": "code",
   "execution_count": 115,
   "metadata": {},
   "outputs": [
    {
     "data": {
      "text/plain": [
       "[0, 1, 8, 27, 64, 125, 216, 343, 512, 729]"
      ]
     },
     "execution_count": 115,
     "metadata": {},
     "output_type": "execute_result"
    }
   ],
   "source": [
    "def cube_function(x):\n",
    "    cube = x ** 3\n",
    "    return cube\n",
    "\n",
    "listB = map(cube_function, list(range(10)))\n",
    "list(listB)"
   ]
  },
  {
   "cell_type": "markdown",
   "metadata": {},
   "source": [
    "Bet tokiems paprastiems uždaviniams spręsti gerai turėti\n",
    "mažai rašymo reikalaujantį metodą."
   ]
  },
  {
   "cell_type": "code",
   "execution_count": 116,
   "metadata": {},
   "outputs": [
    {
     "data": {
      "text/plain": [
       "[0, 1, 8, 27, 64, 125, 216, 343, 512, 729]"
      ]
     },
     "execution_count": 116,
     "metadata": {},
     "output_type": "execute_result"
    }
   ],
   "source": [
    "listB = [x ** 3 for x in range(10)]\n",
    "listB"
   ]
  },
  {
   "cell_type": "markdown",
   "metadata": {},
   "source": [
    "Padalinam `list comprehension` metodą į dalis\n",
    "\n",
    "Pirmiausiai nusprendžiame kokio tipo atsakymas bus\n",
    "\n",
    "- sąrašus apsupam laužtiniais skliaustais []"
   ]
  },
  {
   "cell_type": "code",
   "execution_count": 117,
   "metadata": {},
   "outputs": [
    {
     "data": {
      "text/plain": [
       "[0, 1, 8, 27, 64, 125, 216, 343, 512, 729]"
      ]
     },
     "execution_count": 117,
     "metadata": {},
     "output_type": "execute_result"
    }
   ],
   "source": [
    "listB = [x ** 3 for x in range(10)]\n",
    "listB"
   ]
  },
  {
   "cell_type": "markdown",
   "metadata": {},
   "source": [
    "- Aibę (set) apsupam riestiniais skliaustais {}"
   ]
  },
  {
   "cell_type": "code",
   "execution_count": 118,
   "metadata": {},
   "outputs": [
    {
     "data": {
      "text/plain": [
       "{0, 1, 8, 27, 64, 125, 216, 343, 512, 729}"
      ]
     },
     "execution_count": 118,
     "metadata": {},
     "output_type": "execute_result"
    }
   ],
   "source": [
    "listB = {x ** 3 for x in range(10)}\n",
    "listB"
   ]
  },
  {
   "cell_type": "markdown",
   "metadata": {},
   "source": [
    "- Žodynus kurdami nurodome raktą ir jo vertę"
   ]
  },
  {
   "cell_type": "code",
   "execution_count": 119,
   "metadata": {},
   "outputs": [
    {
     "data": {
      "text/plain": [
       "{0: 0, 1: 1, 2: 8, 3: 27, 4: 64, 5: 125, 6: 216, 7: 343, 8: 512, 9: 729}"
      ]
     },
     "execution_count": 119,
     "metadata": {},
     "output_type": "execute_result"
    }
   ],
   "source": [
    "listB = {x:x ** 3 for x in range(10)}\n",
    "listB"
   ]
  },
  {
   "cell_type": "markdown",
   "metadata": {},
   "source": [
    "- Kortežą kuriam naudodami tuple funkciją"
   ]
  },
  {
   "cell_type": "code",
   "execution_count": 120,
   "metadata": {},
   "outputs": [
    {
     "data": {
      "text/plain": [
       "(0, 1, 8, 27, 64, 125, 216, 343, 512, 729)"
      ]
     },
     "execution_count": 120,
     "metadata": {},
     "output_type": "execute_result"
    }
   ],
   "source": [
    "listB = tuple(i**3 for i in range(10))\n",
    "listB"
   ]
  },
  {
   "cell_type": "markdown",
   "metadata": {},
   "source": [
    "- Kurdami generatorius apsupame juos skliaustais ()"
   ]
  },
  {
   "cell_type": "code",
   "execution_count": 121,
   "metadata": {},
   "outputs": [
    {
     "data": {
      "text/plain": [
       "<generator object <genexpr> at 0x7f3667ca8900>"
      ]
     },
     "execution_count": 121,
     "metadata": {},
     "output_type": "execute_result"
    }
   ],
   "source": [
    "listB = (x ** 3 for x in range(10))\n",
    "listB"
   ]
  },
  {
   "cell_type": "markdown",
   "metadata": {},
   "source": [
    "Tada rašome komandos logiką:\n",
    "\n",
    "`[result (if condition) for item in iterable (if condition)]`\n",
    "\n",
    "- result tai mūsų galutinis elementas kurį pridėsim į savo struktūrą\n",
    "- item tai vertė kurią gaunam kiekvienoje iteracijoje\n",
    "- iterable yra sąrašas arba panaši struktūra kuri gali gražinti po vieną elementą\n",
    "- (if condition) nėra būtinos sąlygos\n",
    "\n",
    "Pvz: norime surasti unikalius elementus dviejuose sąrašuose"
   ]
  },
  {
   "cell_type": "code",
   "execution_count": 122,
   "metadata": {},
   "outputs": [
    {
     "data": {
      "text/plain": [
       "{3, 5, 8, 9}"
      ]
     },
     "execution_count": 122,
     "metadata": {},
     "output_type": "execute_result"
    }
   ],
   "source": [
    "listA = [10, 5, 91, 5, 2, 42, 8, 3, 5, 4, 9, 5, 45, 68, 3, 2, 48]\n",
    "listB = [0, 3, 5, 88, 94, 5, 21, 9, 5, 0, 0, 5, 6, 0, 0, 8, 5]\n",
    "\n",
    "{item for item in listA if item in listB}"
   ]
  },
  {
   "cell_type": "markdown",
   "metadata": {},
   "source": [
    "Aibės automatiškai išmeta pasikartojimus\n",
    "\n",
    "Dažniausiai šios struktūros turi būti paprastos ir trumpos\n",
    "\n",
    "Vietoje ciklo"
   ]
  },
  {
   "cell_type": "code",
   "execution_count": 123,
   "metadata": {},
   "outputs": [
    {
     "data": {
      "text/plain": [
       "[0, 1, 2, 3, 4, 5, 6, 7, 8, 9]"
      ]
     },
     "execution_count": 123,
     "metadata": {},
     "output_type": "execute_result"
    }
   ],
   "source": [
    "listA = []\n",
    "for item in range(10):\n",
    "    listA.append(item)\n",
    "\n",
    "listA"
   ]
  },
  {
   "cell_type": "markdown",
   "metadata": {},
   "source": [
    "Daug paprasčiau parašyti:"
   ]
  },
  {
   "cell_type": "code",
   "execution_count": 124,
   "metadata": {},
   "outputs": [],
   "source": [
    "listA = [item for item in range(10)]"
   ]
  },
  {
   "cell_type": "markdown",
   "metadata": {},
   "source": [
    "### Kam reikalinga?\n",
    "\n",
    "- Daug žmonių rašydami kodą juos naudoja tad gerai suprasti\n",
    "kaip jos veikia norint mokėti perskaityti logiką.\n",
    "- Užima mažiau vietos, lengvai skaitoma ir greičiau pasirašo\n",
    "- Lengva naudoti kaip kintamuosius funkcijoms\n",
    "\n",
    "### Kada nenaudoti?\n",
    "\n",
    "- Esant sudėtingai logikai tampa sunkiai skaitomos ir suprantamos\n",
    "- map daug greitesnė\n",
    "- sunku surasti klaidas"
   ]
  },
  {
   "cell_type": "code",
   "execution_count": null,
   "metadata": {},
   "outputs": [],
   "source": []
  },
  {
   "cell_type": "code",
   "execution_count": null,
   "metadata": {},
   "outputs": [],
   "source": []
  },
  {
   "cell_type": "code",
   "execution_count": null,
   "metadata": {},
   "outputs": [],
   "source": []
  }
 ],
 "metadata": {
  "jupytext": {
   "cell_metadata_filter": "-all",
   "formats": "ipynb,md,py:light",
   "main_language": "python",
   "notebook_metadata_filter": "-all"
  },
  "kernelspec": {
   "display_name": "Python 3",
   "language": "python",
   "name": "python3"
  },
  "language_info": {
   "codemirror_mode": {
    "name": "ipython",
    "version": 3
   },
   "file_extension": ".py",
   "mimetype": "text/x-python",
   "name": "python",
   "nbconvert_exporter": "python",
   "pygments_lexer": "ipython3",
   "version": "3.8.3"
  }
 },
 "nbformat": 4,
 "nbformat_minor": 4
}
