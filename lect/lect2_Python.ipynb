{
 "cells": [
  {
   "cell_type": "markdown",
   "metadata": {},
   "source": [
    "# 2020-09-22\n",
    "\n",
    "## Temos\n",
    "\n",
    "- Python\n",
    "- IPython\n",
    "- Python sintaksė\n",
    "  - Duomenų tipai\n",
    "  - Teksto spausdinimas\n",
    "  - Funkcijos\n",
    "  - Pakuotės\n",
    "  - Programos eigos kontrolė"
   ]
  },
  {
   "cell_type": "markdown",
   "metadata": {},
   "source": [
    "## Programavimas\n",
    "\n",
    "- Kam reikia?\n",
    "- Kokią programavimo kalbą pasirinkti?\n",
    "- Kokius įrankius naudoti?\n",
    "- Kaip tobulėti?\n",
    "\n",
    "![DataCamp](../images/datacamp.png)\n",
    "\n",
    "### Užduotys skirtinguose etapuose\n",
    "\n",
    "![Data analysis](../images/Pipeline.png)\n",
    "\n",
    "### Programavimo kalbos\n",
    "\n",
    "- C\n",
    "- Java\n",
    "- JavaScript\n",
    "- SQL\n",
    "- Matlab\n",
    "- R\n",
    "- Python\n",
    "- Julia\n",
    "- etc..\n",
    "\n",
    "[Paprasto kodo pavyzdžiai su skirtingom kalbom](https://www.scriptol.com/programming/hello-world.php)\n",
    "\n",
    "## Python\n",
    "\n",
    "Python diegimas aprašytas skirtingom OS pagrindiniame\n",
    "python [puslapyje](https://www.python.org/)\n",
    "\n",
    "Paprasčiau sudiegti izoliuotomis aplinkomis kaip [anaconda](https://anaconda.org/) ar [canopy](https://www.enthought.com/).\n",
    "\n",
    "Python interpretatoriai:\n",
    "\n",
    "- Python 2\n",
    "- Python 3\n",
    "- IPython\n",
    "\n",
    "Python [dokumentacija](https://docs.python.org/3/tutorial/index.html)\n",
    "\n",
    "Python programų plėtinys .py\n",
    "\n",
    "Terminale galime paleisti python programas rašydami:"
   ]
  },
  {
   "cell_type": "code",
   "execution_count": null,
   "metadata": {},
   "outputs": [],
   "source": [
    "!python ../lab/programa.py"
   ]
  },
  {
   "cell_type": "markdown",
   "metadata": {},
   "source": [
    "## [IPython](jupyter.org)\n",
    "\n",
    "Duomenų analizę atlikti palengvinantis interpretatorius.\n",
    "Iš matlabo ir kitų programų pasiėmęs įvairių funkcijų:\n",
    "\n",
    "TAB klavišas užbaigia arba pasiūlo komandas.\n",
    "\n",
    "Buvusių komandų pasiekimas Ctrl-r/n/p\n",
    "\n",
    "Sesijos kontrolė\n",
    "\n",
    "- Ctrl-l teksto ištrynimas terminale\n",
    "- Ctrl-c nutraukia komandos vykdymą\n",
    "- Ctrl-d exit\n",
    "\n",
    "Platesnė pagalba, informacija apie funkcijas:"
   ]
  },
  {
   "cell_type": "code",
   "execution_count": null,
   "metadata": {},
   "outputs": [],
   "source": [
    "help(len)"
   ]
  },
  {
   "cell_type": "code",
   "execution_count": null,
   "metadata": {},
   "outputs": [],
   "source": [
    "len?"
   ]
  },
  {
   "cell_type": "code",
   "execution_count": null,
   "metadata": {},
   "outputs": [],
   "source": [
    "len??"
   ]
  },
  {
   "cell_type": "markdown",
   "metadata": {},
   "source": [
    "### Komandinės eilutės komandos"
   ]
  },
  {
   "cell_type": "code",
   "execution_count": null,
   "metadata": {},
   "outputs": [],
   "source": [
    "cd ."
   ]
  },
  {
   "cell_type": "code",
   "execution_count": null,
   "metadata": {},
   "outputs": [],
   "source": [
    "ls"
   ]
  },
  {
   "cell_type": "code",
   "execution_count": null,
   "metadata": {},
   "outputs": [],
   "source": [
    "!man ls"
   ]
  },
  {
   "cell_type": "code",
   "execution_count": null,
   "metadata": {},
   "outputs": [],
   "source": [
    "dir = !find . -type d\n",
    "dir"
   ]
  },
  {
   "cell_type": "markdown",
   "metadata": {},
   "source": [
    "### Magiškos komandos: %cpaste, %run,  %pip, %conda"
   ]
  },
  {
   "cell_type": "code",
   "execution_count": null,
   "metadata": {},
   "outputs": [],
   "source": [
    "conda info"
   ]
  },
  {
   "cell_type": "code",
   "execution_count": null,
   "metadata": {},
   "outputs": [],
   "source": [
    "%run ../lab/programa.py"
   ]
  },
  {
   "cell_type": "markdown",
   "metadata": {},
   "source": [
    "### Komandų istorija"
   ]
  },
  {
   "cell_type": "code",
   "execution_count": null,
   "metadata": {},
   "outputs": [],
   "source": [
    "%history -n 1-4"
   ]
  },
  {
   "cell_type": "markdown",
   "metadata": {},
   "source": [
    "Paskutinė išeiga"
   ]
  },
  {
   "cell_type": "code",
   "execution_count": null,
   "metadata": {},
   "outputs": [],
   "source": [
    "print(_)"
   ]
  },
  {
   "cell_type": "code",
   "execution_count": null,
   "metadata": {},
   "outputs": [],
   "source": [
    "a = 5\n",
    "a"
   ]
  },
  {
   "cell_type": "code",
   "execution_count": null,
   "metadata": {},
   "outputs": [],
   "source": [
    "Out[5]"
   ]
  },
  {
   "cell_type": "code",
   "execution_count": null,
   "metadata": {},
   "outputs": [],
   "source": [
    "b = 4"
   ]
  },
  {
   "cell_type": "code",
   "execution_count": null,
   "metadata": {},
   "outputs": [],
   "source": [
    "In[-1] + In[-2]"
   ]
  },
  {
   "cell_type": "code",
   "execution_count": null,
   "metadata": {},
   "outputs": [],
   "source": [
    "42 in Out"
   ]
  },
  {
   "cell_type": "markdown",
   "metadata": {},
   "source": [
    "### Kintamųjų valdymas\n",
    "\n",
    "- Informacija apie kintamuosius:"
   ]
  },
  {
   "cell_type": "code",
   "execution_count": null,
   "metadata": {},
   "outputs": [],
   "source": [
    "who"
   ]
  },
  {
   "cell_type": "markdown",
   "metadata": {},
   "source": [
    "- Kintamųjų pašalinimas"
   ]
  },
  {
   "cell_type": "code",
   "execution_count": null,
   "metadata": {},
   "outputs": [],
   "source": [
    "%reset"
   ]
  },
  {
   "cell_type": "markdown",
   "metadata": {},
   "source": [
    "### Visos komandos"
   ]
  },
  {
   "cell_type": "code",
   "execution_count": null,
   "metadata": {},
   "outputs": [],
   "source": [
    "%magic"
   ]
  },
  {
   "cell_type": "markdown",
   "metadata": {},
   "source": [
    "[dokumentacija](http://ipython.org/)\n",
    "\n",
    "## Python sintaksė\n",
    "\n",
    "Raktiniai, rezervuoti raktažodžiai"
   ]
  },
  {
   "cell_type": "raw",
   "metadata": {},
   "source": [
    "   False      await      else       import     pass\n",
    "   None       break      except     in         raise\n",
    "   True       class      finally    is         return\n",
    "   and        continue   for        lambda     try\n",
    "   as         def        from       nonlocal   while\n",
    "   assert     del        global     not        with\n",
    "   async      elif       if         or         yield"
   ]
  },
  {
   "cell_type": "markdown",
   "metadata": {},
   "source": [
    "[Komentarai](https://www.python.org/dev/peps/pep-0257/) svarbi kodo dalis.\n",
    "Komentarų pagalba galime padėti sau pačiam ateityje susivokti kas kam."
   ]
  },
  {
   "cell_type": "code",
   "execution_count": null,
   "metadata": {},
   "outputs": [],
   "source": [
    "#!/usr/bin/env python37\n",
    "# -*- coding: utf-8 -*-\n",
    "\n",
    "2+2 # Comment is ignored\n",
    "\n",
    "def function_name():\n",
    "    \"\"\" docstring example\n",
    "\n",
    "    This comment is accesible from .__doc__  atribute\n",
    "    \"\"\""
   ]
  },
  {
   "cell_type": "code",
   "execution_count": null,
   "metadata": {},
   "outputs": [],
   "source": [
    "# help(function_name)\n",
    "print(function_name.__doc__)"
   ]
  },
  {
   "cell_type": "markdown",
   "metadata": {},
   "source": [
    "### Kintamieji"
   ]
  },
  {
   "cell_type": "code",
   "execution_count": null,
   "metadata": {
    "lines_to_next_cell": 2
   },
   "outputs": [],
   "source": [
    "# Integers\n",
    "10\n",
    "10\n",
    "0b10\n",
    "2\n",
    "# Float\n",
    "type(3.14)\n",
    "float\n",
    "4e2\n",
    "400.0\n",
    "# Boolean\n",
    "type(True)\n",
    "bool\n",
    "# Complex\n",
    "type(3+4j)\n",
    "complex\n",
    "# Strings;\n",
    "path = '~/Documents/bioa/data'"
   ]
  },
  {
   "cell_type": "markdown",
   "metadata": {},
   "source": [
    "### Operatoriai\n",
    "\n",
    "operatorius| reikšmė\n",
    "---|---\n",
    "$+$  | suma\n",
    "$-$  | skirtumas\n",
    "$*$  | sandauga\n",
    "$**$ | kelimas laipsniu\n",
    "$<$  | mažiau\n",
    "$>$  | daugiau\n",
    "$==$ | lygu\n",
    "$!=$ | nelygu\n",
    "$<=$ | mažiau arba lygu\n",
    "$/$ | dalyba\n",
    "$//$ | dalmuo \n",
    "$\\%$ | liekana"
   ]
  },
  {
   "cell_type": "code",
   "execution_count": null,
   "metadata": {},
   "outputs": [],
   "source": [
    "5/2"
   ]
  },
  {
   "cell_type": "code",
   "execution_count": null,
   "metadata": {},
   "outputs": [],
   "source": [
    "5//2 "
   ]
  },
  {
   "cell_type": "code",
   "execution_count": null,
   "metadata": {},
   "outputs": [],
   "source": [
    "5%2"
   ]
  },
  {
   "cell_type": "markdown",
   "metadata": {},
   "source": [
    "### Sąrašai (list)"
   ]
  },
  {
   "cell_type": "code",
   "execution_count": null,
   "metadata": {},
   "outputs": [],
   "source": [
    "list()\n",
    "# mutable, ordered objects\n",
    "a = [1, 'text', True,'3.14', len, int]\n",
    "# [1, 'text', True, '3.14', <function len(obj, /)>, int]\n",
    "a"
   ]
  },
  {
   "cell_type": "markdown",
   "metadata": {},
   "source": [
    "Pasiekimas elementų sąrašuose:\n",
    "\n",
    "Skaičiavimas prasideda nuo 0"
   ]
  },
  {
   "cell_type": "code",
   "execution_count": null,
   "metadata": {},
   "outputs": [],
   "source": [
    "a[0]"
   ]
  },
  {
   "cell_type": "markdown",
   "metadata": {},
   "source": [
    "iš kitos pusės nuo -1"
   ]
  },
  {
   "cell_type": "code",
   "execution_count": null,
   "metadata": {},
   "outputs": [],
   "source": [
    "a[-1]"
   ]
  },
  {
   "cell_type": "markdown",
   "metadata": {},
   "source": [
    "Iškirpimas dalies sąrašo (slice)"
   ]
  },
  {
   "cell_type": "code",
   "execution_count": null,
   "metadata": {},
   "outputs": [],
   "source": [
    "a[1:4]"
   ]
  },
  {
   "cell_type": "markdown",
   "metadata": {},
   "source": [
    "Apvertimas"
   ]
  },
  {
   "cell_type": "code",
   "execution_count": null,
   "metadata": {},
   "outputs": [],
   "source": [
    "a[::-1]"
   ]
  },
  {
   "cell_type": "markdown",
   "metadata": {},
   "source": [
    "Trumpos komandos elementų paeiškai ar palyginimui"
   ]
  },
  {
   "cell_type": "code",
   "execution_count": null,
   "metadata": {},
   "outputs": [],
   "source": [
    "a"
   ]
  },
  {
   "cell_type": "code",
   "execution_count": null,
   "metadata": {
    "lines_to_next_cell": 2
   },
   "outputs": [],
   "source": [
    "1 in a"
   ]
  },
  {
   "cell_type": "code",
   "execution_count": null,
   "metadata": {},
   "outputs": [],
   "source": [
    "1 is a[0]"
   ]
  },
  {
   "cell_type": "code",
   "execution_count": null,
   "metadata": {},
   "outputs": [],
   "source": [
    "1 == a[0]"
   ]
  },
  {
   "cell_type": "code",
   "execution_count": null,
   "metadata": {},
   "outputs": [],
   "source": [
    "b = 257\n",
    "257 is b"
   ]
  },
  {
   "cell_type": "code",
   "execution_count": null,
   "metadata": {},
   "outputs": [],
   "source": [
    "257 == b"
   ]
  },
  {
   "cell_type": "markdown",
   "metadata": {},
   "source": [
    "Dimensijų pridėjimas"
   ]
  },
  {
   "cell_type": "code",
   "execution_count": null,
   "metadata": {},
   "outputs": [],
   "source": [
    "b = ['nested',a]\n",
    "b"
   ]
  },
  {
   "cell_type": "code",
   "execution_count": null,
   "metadata": {},
   "outputs": [],
   "source": [
    "b[1][1]"
   ]
  },
  {
   "cell_type": "markdown",
   "metadata": {},
   "source": [
    "#### [Įmontuoti metodai](https://docs.python.org/3/library/functions.html)"
   ]
  },
  {
   "cell_type": "code",
   "execution_count": null,
   "metadata": {},
   "outputs": [],
   "source": [
    "len(b)"
   ]
  },
  {
   "cell_type": "code",
   "execution_count": null,
   "metadata": {},
   "outputs": [],
   "source": [
    "type(b)"
   ]
  },
  {
   "cell_type": "code",
   "execution_count": null,
   "metadata": {},
   "outputs": [],
   "source": [
    "round(23.99)"
   ]
  },
  {
   "cell_type": "markdown",
   "metadata": {},
   "source": [
    "### Kortežas (Tuple)\n",
    "\n",
    "Nekintantis objektas, sudaromas iš bet kokio tipo duomenų.\n",
    "Sukuriamas `tuple()` komandos pagalba arba `()`.\n",
    "Elementai atskiriami kableliu.\n",
    "Vieno elemento tuple sukuriamas `(x,)`.\n",
    "\n",
    "Kortežai veikia greičiau negu sąrašai,\n",
    "neleidžia keisti vertes ir naudojami žodynų formavimui."
   ]
  },
  {
   "cell_type": "code",
   "execution_count": null,
   "metadata": {},
   "outputs": [],
   "source": [
    "tuple()\n",
    "# immutable\n",
    "t = ('a','b','c')\n",
    "t"
   ]
  },
  {
   "cell_type": "code",
   "execution_count": null,
   "metadata": {},
   "outputs": [],
   "source": [
    "42, 'text'"
   ]
  },
  {
   "cell_type": "code",
   "execution_count": null,
   "metadata": {},
   "outputs": [],
   "source": [
    "a,b,c=t # unpack\n",
    "a"
   ]
  },
  {
   "cell_type": "markdown",
   "metadata": {},
   "source": [
    "### Žodynas\n",
    "\n",
    "Sąrašas kuris sudarytas iš rakto - vertės porų\n",
    "ir jo elementai pasiekiami rakto pagalba vietoje indekso.\n",
    "Raktas turi būti unikalus ir nemodifikuojamo tipo\n",
    "(tuple, integer, string, float, boolean), vertės gali būti bet kokio tipo."
   ]
  },
  {
   "cell_type": "code",
   "execution_count": null,
   "metadata": {},
   "outputs": [],
   "source": [
    "dict()\n",
    "# mutable, dynamic, nested, elements accessed via keys\n",
    "human = {}\n",
    "human"
   ]
  },
  {
   "cell_type": "code",
   "execution_count": null,
   "metadata": {},
   "outputs": [],
   "source": [
    "type(human)"
   ]
  },
  {
   "cell_type": "code",
   "execution_count": null,
   "metadata": {},
   "outputs": [],
   "source": [
    "human['name'] = 'John'\n",
    "human['gender']='male'\n",
    "human['age']=40\n",
    "human"
   ]
  },
  {
   "cell_type": "code",
   "execution_count": null,
   "metadata": {},
   "outputs": [],
   "source": [
    "{'name': 'John', 'gender': 'male', 'age': 40}"
   ]
  },
  {
   "cell_type": "code",
   "execution_count": null,
   "metadata": {},
   "outputs": [],
   "source": [
    "{(1,1):45, (1, 2):5}"
   ]
  },
  {
   "cell_type": "code",
   "execution_count": null,
   "metadata": {},
   "outputs": [],
   "source": [
    "human.keys()"
   ]
  },
  {
   "cell_type": "code",
   "execution_count": null,
   "metadata": {},
   "outputs": [],
   "source": [
    "human.popitem()"
   ]
  },
  {
   "cell_type": "markdown",
   "metadata": {},
   "source": [
    "### Aibė (set)\n",
    "\n",
    "Modifikuojamas nesutvarkytas, unikalių duomenų rinkinys\n",
    "sukurti galima komanda `set()`\n",
    "\n",
    "![aibe](../images/set.png)"
   ]
  },
  {
   "cell_type": "code",
   "execution_count": null,
   "metadata": {},
   "outputs": [],
   "source": [
    "set()\n",
    "s = 'quux'\n",
    "list(s)"
   ]
  },
  {
   "cell_type": "code",
   "execution_count": null,
   "metadata": {},
   "outputs": [],
   "source": [
    "set(s)"
   ]
  },
  {
   "cell_type": "markdown",
   "metadata": {},
   "source": [
    "## Teksto spausdinimas"
   ]
  },
  {
   "cell_type": "code",
   "execution_count": null,
   "metadata": {
    "lines_to_next_cell": 2
   },
   "outputs": [],
   "source": [
    "print('long senctence\\\n",
    "      can be divided into \\\n",
    "      parats using \\\\')"
   ]
  },
  {
   "cell_type": "markdown",
   "metadata": {},
   "source": [
    "|kaip rašosi|komanda|\n",
    "|-----------|----------|\n",
    "|\\t|tab|\n",
    "|\\n|nauja eilutė|\n",
    "|\\r|Enter|\n",
    "|\\b|Atgal|\n",
    "|\\\\|pasviras brūkšnys \\|\n",
    "|\\'|kabutė|\n",
    "|\\\"|dviguba kabutė|\n",
    "\n",
    "## r strings"
   ]
  },
  {
   "cell_type": "code",
   "execution_count": null,
   "metadata": {
    "lines_to_next_cell": 2
   },
   "outputs": [],
   "source": [
    "print(r'raw\\nkeyward\\tprints all symbols\\\\')"
   ]
  },
  {
   "cell_type": "markdown",
   "metadata": {},
   "source": [
    "Jei paprastai"
   ]
  },
  {
   "cell_type": "code",
   "execution_count": null,
   "metadata": {},
   "outputs": [],
   "source": [
    "print('raw\\nvkeyward\\tprints all symbols\\\\')"
   ]
  },
  {
   "cell_type": "markdown",
   "metadata": {},
   "source": [
    "### f strings"
   ]
  },
  {
   "cell_type": "code",
   "execution_count": null,
   "metadata": {},
   "outputs": [],
   "source": [
    "name = 'John'\n",
    "age = 22\n",
    "\"Name:, %s. Age: %s.\" % (name, age)"
   ]
  },
  {
   "cell_type": "code",
   "execution_count": null,
   "metadata": {},
   "outputs": [],
   "source": [
    "\"Name, {0}. Age {1}.\".format(name, age)"
   ]
  },
  {
   "cell_type": "code",
   "execution_count": null,
   "metadata": {},
   "outputs": [],
   "source": [
    "f\"Name, {name}. Age {age}.\""
   ]
  },
  {
   "cell_type": "code",
   "execution_count": null,
   "metadata": {},
   "outputs": [],
   "source": [
    "f\"Name, {name.lower()}. age {age}.\""
   ]
  },
  {
   "cell_type": "markdown",
   "metadata": {},
   "source": [
    "## Pakuotės\n",
    "\n",
    "Importuoti reikia taip kad nepersidengtų skirtingų bibliotekų funkcijų vardai."
   ]
  },
  {
   "cell_type": "code",
   "execution_count": null,
   "metadata": {},
   "outputs": [],
   "source": [
    "import math\n",
    "math.sqrt(4)"
   ]
  },
  {
   "cell_type": "code",
   "execution_count": null,
   "metadata": {},
   "outputs": [],
   "source": [
    "from math import sqrt\n",
    "sqrt(4)"
   ]
  },
  {
   "cell_type": "code",
   "execution_count": null,
   "metadata": {},
   "outputs": [],
   "source": [
    "from math import *\n",
    "sqrt(4)"
   ]
  },
  {
   "cell_type": "markdown",
   "metadata": {},
   "source": [
    "Python pakuotes, versijas ir aplinkas valdom:\n",
    "\n",
    "- Anaconda leidžia ir atsisiųsti programas duomenų analizei,\n",
    "atlikti ir tvarko versijas pakuočių.\n",
    "- Daugiau Python pakuočių galima atsisiųsti iš oficialios\n",
    "python pakuočių bibliotekos su  pip programa ([Python Package Index](https://pypi.org/))"
   ]
  },
  {
   "cell_type": "markdown",
   "metadata": {},
   "source": [
    "Pravartu kodą atliekanti skirtingus uždavinius skirstyti į atskirus failus ir prireikus importuoti.\n",
    "Taip programa tamp švaresnė\\skaitomesnė, lengviau suprantama.\n",
    "Atskiras izoliuotas programas galima panaudoti daug kartų.\n",
    "Taip pat lengviau rašyti ir testuoti."
   ]
  },
  {
   "cell_type": "code",
   "execution_count": null,
   "metadata": {},
   "outputs": [],
   "source": [
    "import programa2"
   ]
  },
  {
   "cell_type": "code",
   "execution_count": null,
   "metadata": {},
   "outputs": [],
   "source": [
    "programa2.tekstasA()"
   ]
  },
  {
   "cell_type": "code",
   "execution_count": null,
   "metadata": {},
   "outputs": [],
   "source": [
    "%run programa2.py"
   ]
  },
  {
   "cell_type": "markdown",
   "metadata": {},
   "source": [
    "### Funkcijos\n",
    "\n",
    "Funkcijos apibrėžiamos `def` raktiniu žodžiu:"
   ]
  },
  {
   "cell_type": "code",
   "execution_count": null,
   "metadata": {},
   "outputs": [],
   "source": [
    "def functionName(inputVariable):\n",
    "    #  somethingis done here\n",
    "    return something"
   ]
  },
  {
   "cell_type": "markdown",
   "metadata": {},
   "source": [
    "$Celsius = (Fahrenheit - 32) * 5.0/9.0$\n",
    "\n",
    "$Fahrenheit = 9.0/5.0 * Celsius + 32$"
   ]
  },
  {
   "cell_type": "code",
   "execution_count": null,
   "metadata": {},
   "outputs": [],
   "source": [
    "def celcius_to_farenheit(celcius):\n",
    "    fahrenheit = 9.0/5.0 * celcius + 32\n",
    "    return fahrenheit, celcius\n",
    "\n",
    "celcius_to_farenheit(36)"
   ]
  },
  {
   "cell_type": "code",
   "execution_count": null,
   "metadata": {},
   "outputs": [],
   "source": [
    "output = celcius_to_farenheit(0)\n",
    "output"
   ]
  },
  {
   "cell_type": "markdown",
   "metadata": {},
   "source": [
    "## Kontrolė eigos programos\n",
    "\n",
    "- Dvitaškis po formuluotės\n",
    "- Visur vienodi tarpai (tab vs space)\n",
    "\n",
    "### If"
   ]
  },
  {
   "cell_type": "code",
   "execution_count": null,
   "metadata": {},
   "outputs": [],
   "source": [
    "x = int(input(\"Please enter an integer: \"))"
   ]
  },
  {
   "cell_type": "code",
   "execution_count": null,
   "metadata": {},
   "outputs": [],
   "source": [
    "if x < 0:\n",
    "    print('įvestas neigiamas skaičius')\n",
    "elif x == 0:\n",
    "    print('įvestas nulis')\n",
    "else:\n",
    "    print('įvestas teigiamas skaičius')"
   ]
  },
  {
   "cell_type": "markdown",
   "metadata": {},
   "source": [
    "Funkcijų deklaravimo metu galime nurodyti numatytuosius kintamuosius.\n",
    "Kreipiantis į funkciją tokius kintamuosius galime praleisti\n",
    "arba kreiptis į juos vardu ir nepaisyti eiliškumo"
   ]
  },
  {
   "cell_type": "code",
   "execution_count": null,
   "metadata": {},
   "outputs": [],
   "source": [
    "def convert_to_SI(value, type='temp', beta=5):\n",
    "    ''' supported types:\n",
    "            temp (fahrenheit input, celsius and kelvin outputs)\n",
    "            dist (inches input, meters output)'''\n",
    "    if type == 'temp':\n",
    "        celsius = (value - 32) * 5/9\n",
    "        kelvin = celsius + 273.15\n",
    "        return round(celsius), round(kelvin)\n",
    "    elif type == 'dist':\n",
    "        meters = value * 0.0245\n",
    "        return(meters)\n",
    "    else:\n",
    "        print(f'Type is not defined, beta is {beta}')"
   ]
  },
  {
   "cell_type": "code",
   "execution_count": null,
   "metadata": {},
   "outputs": [],
   "source": [
    "convert_to_SI(33, 'temp')"
   ]
  },
  {
   "cell_type": "code",
   "execution_count": null,
   "metadata": {},
   "outputs": [],
   "source": [
    "convert_to_SI(value=3, beta=4, type='temp')"
   ]
  },
  {
   "cell_type": "code",
   "execution_count": null,
   "metadata": {},
   "outputs": [],
   "source": [
    "convert_to_SI(33)"
   ]
  },
  {
   "cell_type": "markdown",
   "metadata": {},
   "source": [
    "### For"
   ]
  },
  {
   "cell_type": "code",
   "execution_count": null,
   "metadata": {},
   "outputs": [],
   "source": [
    "for x in [1,2,3]:\n",
    "    print(x)"
   ]
  },
  {
   "cell_type": "code",
   "execution_count": null,
   "metadata": {},
   "outputs": [],
   "source": [
    "values_in_fahrenheit = [0,44,56,788]\n",
    "values_in_celsius= []\n",
    "values_in_kelvin= []\n",
    "\n",
    "for value in values_in_fahrenheit:\n",
    "    cel, kel = convert_to_SI(value)\n",
    "    values_in_celsius.append(cel)\n",
    "    values_in_kelvin.append(kel)"
   ]
  },
  {
   "cell_type": "code",
   "execution_count": null,
   "metadata": {},
   "outputs": [],
   "source": [
    "values_in_kelvin"
   ]
  },
  {
   "cell_type": "markdown",
   "metadata": {},
   "source": [
    "### Range\n",
    "\n",
    "range([start], stop[, step])"
   ]
  },
  {
   "cell_type": "code",
   "execution_count": null,
   "metadata": {},
   "outputs": [],
   "source": [
    "for i in range(4):\n",
    "    print(i)"
   ]
  },
  {
   "cell_type": "code",
   "execution_count": null,
   "metadata": {},
   "outputs": [],
   "source": [
    "range(-10, -100, -30)"
   ]
  },
  {
   "cell_type": "code",
   "execution_count": null,
   "metadata": {},
   "outputs": [],
   "source": [
    "list(range(4))"
   ]
  },
  {
   "cell_type": "code",
   "execution_count": null,
   "metadata": {},
   "outputs": [],
   "source": [
    "for i in range(4):\n",
    "    print(i)\n",
    "    i = 10"
   ]
  },
  {
   "cell_type": "code",
   "execution_count": null,
   "metadata": {},
   "outputs": [],
   "source": [
    "from time import sleep\n",
    "def progress(percent=0, width=30):\n",
    "    left = width * percent // 100\n",
    "    right = width - left\n",
    "    print('\\r[', '#' * left, ' ' * right, ']',\n",
    "          f' {percent:.0f}%',\n",
    "          sep='', end='', flush=True)\n",
    "\n",
    "\n",
    "for i in range(101):\n",
    "    progress(i)\n",
    "    sleep(0.1)"
   ]
  },
  {
   "cell_type": "markdown",
   "metadata": {},
   "source": [
    "Atvirkštine tvarka"
   ]
  },
  {
   "cell_type": "code",
   "execution_count": null,
   "metadata": {},
   "outputs": [],
   "source": [
    "for i in reversed(range(1, 10, 2)):\n",
    "     print(i)"
   ]
  },
  {
   "cell_type": "markdown",
   "metadata": {},
   "source": [
    "#### For su žodynais"
   ]
  },
  {
   "cell_type": "code",
   "execution_count": null,
   "metadata": {},
   "outputs": [],
   "source": [
    "data = {'-18': '255', '7': '280'}\n",
    "for k, v in data.items():\n",
    "    print(f'Celsius: {k}, Kelvin {v}')"
   ]
  },
  {
   "cell_type": "markdown",
   "metadata": {},
   "source": [
    "#### Enumerate"
   ]
  },
  {
   "cell_type": "code",
   "execution_count": null,
   "metadata": {},
   "outputs": [],
   "source": [
    "a = ['a', 'b', 'c'];\n",
    "for i, v in enumerate(a):\n",
    "    print(i, v)"
   ]
  },
  {
   "cell_type": "code",
   "execution_count": null,
   "metadata": {},
   "outputs": [],
   "source": [
    "for i in range(len(a)):\n",
    "    print(i,a[i])"
   ]
  },
  {
   "cell_type": "markdown",
   "metadata": {},
   "source": [
    "#### Zip\n",
    "\n",
    "Norėdami vienu metu iteruoti per keletą sąrašų naudojame zip funkciją"
   ]
  },
  {
   "cell_type": "code",
   "execution_count": null,
   "metadata": {},
   "outputs": [],
   "source": [
    "for q, a in zip(values_in_fahrenheit, values_in_celsius):\n",
    "    print(f'Temperature in celsius {a} equals {q} in fahrenheit')"
   ]
  },
  {
   "cell_type": "markdown",
   "metadata": {},
   "source": [
    "### While"
   ]
  },
  {
   "cell_type": "code",
   "execution_count": null,
   "metadata": {},
   "outputs": [],
   "source": [
    "a, b = 0, 1\n",
    "while a < 10:\n",
    "    print(a)\n",
    "    a, b = b, a+b"
   ]
  },
  {
   "cell_type": "markdown",
   "metadata": {},
   "source": [
    "#### Begalinės iteracijos"
   ]
  },
  {
   "cell_type": "raw",
   "metadata": {},
   "source": [
    "while True:\n",
    "    print('a')"
   ]
  },
  {
   "cell_type": "code",
   "execution_count": null,
   "metadata": {},
   "outputs": [],
   "source": [
    "import random\n",
    "x = 0\n",
    "while x<0.9:\n",
    "    x = random.random()\n",
    "    print(x)"
   ]
  },
  {
   "cell_type": "markdown",
   "metadata": {},
   "source": [
    "### Break ir continue\n",
    "\n",
    "Break nutraukią for arba while ciklą.\n",
    "Continue tęsia ciklą su sekančia iteracija\n",
    "\n",
    "For ciklo else sąlyga yra įgyvendinama jei ciklas\n",
    "nebuvo nutrauktas  break raktinio žodžio."
   ]
  },
  {
   "cell_type": "code",
   "execution_count": null,
   "metadata": {},
   "outputs": [],
   "source": [
    "for n in range(2, 10):\n",
    "     for x in range(2, n):\n",
    "         if n % x == 0:\n",
    "             print(n, 'lygu', x, '*', n//x)\n",
    "             break\n",
    "     else:\n",
    "         print(n, 'is a prime number')"
   ]
  },
  {
   "cell_type": "markdown",
   "metadata": {},
   "source": [
    "### Pass\n",
    "\n",
    "Raktinis žodis `pass` nedaro nieko."
   ]
  },
  {
   "cell_type": "code",
   "execution_count": null,
   "metadata": {},
   "outputs": [],
   "source": [
    "for i in range(4):\n",
    "    pass"
   ]
  },
  {
   "cell_type": "markdown",
   "metadata": {},
   "source": [
    "## Comprehensions\n",
    "\n",
    "[Dokumentacija](https://docs.python.org/3.9/tutorial/datastructures.html#list-comprehensions)\n",
    "\n",
    "Sąrašus python programavimo kalboje galime kurti keliais būdais.\n",
    "Pavyzdžiui jei norime sukurti sąrašą elementų nuo 1 iki 100"
   ]
  },
  {
   "cell_type": "code",
   "execution_count": null,
   "metadata": {},
   "outputs": [],
   "source": [
    "listA = list(range(1, 101))\n",
    "print(listA)"
   ]
  },
  {
   "cell_type": "markdown",
   "metadata": {},
   "source": [
    "Bet jei norime sukurti šiek tiek sudėtingesnį sąrašą\n",
    "turintį tam tikrą logiką tenka išplėsti aprašymą.\n",
    "\n",
    "Jei norime sukurti sąrašą skaičių\n",
    "kūbų nuo 1 iki 10 galime naudoti `for` ciklą"
   ]
  },
  {
   "cell_type": "code",
   "execution_count": null,
   "metadata": {},
   "outputs": [],
   "source": [
    "listB = []  # sukuriam tuščią sąrašą\n",
    "for i in range(10):\n",
    "    listB.append(i ** 3)\n",
    "\n",
    "listB"
   ]
  },
  {
   "cell_type": "markdown",
   "metadata": {},
   "source": [
    "Tikslui galime panaudoti `map` funkciją.\n",
    "Ji daug greitesnė ir jos sintaksė lengvina programos skaitomumą."
   ]
  },
  {
   "cell_type": "code",
   "execution_count": null,
   "metadata": {},
   "outputs": [],
   "source": [
    "def cube_function(x):\n",
    "    cube = x ** 3\n",
    "    return cube\n",
    "\n",
    "listB = map(cube_function, list(range(10)))\n",
    "list(listB)"
   ]
  },
  {
   "cell_type": "markdown",
   "metadata": {},
   "source": [
    "Bet tokiems paprastiems uždaviniams spręsti gerai turėti\n",
    "mažai rašymo reikalaujantį metodą."
   ]
  },
  {
   "cell_type": "code",
   "execution_count": null,
   "metadata": {},
   "outputs": [],
   "source": [
    "listB = [x ** 3 for x in range(10)]\n",
    "listB"
   ]
  },
  {
   "cell_type": "markdown",
   "metadata": {},
   "source": [
    "Padalinam `list comprehension` metodą į dalis\n",
    "\n",
    "Pirmiausiai nusprendžiame kokio tipo atsakymas bus\n",
    "\n",
    "- sąrašus apsupam laužtiniais skliaustais []"
   ]
  },
  {
   "cell_type": "code",
   "execution_count": null,
   "metadata": {},
   "outputs": [],
   "source": [
    "listB = [x ** 3 for x in range(10)]\n",
    "listB"
   ]
  },
  {
   "cell_type": "markdown",
   "metadata": {},
   "source": [
    "- Aibę (set) apsupam riestiniais skliaustais {}"
   ]
  },
  {
   "cell_type": "code",
   "execution_count": null,
   "metadata": {},
   "outputs": [],
   "source": [
    "listB = {x ** 3 for x in range(10)}\n",
    "listB"
   ]
  },
  {
   "cell_type": "markdown",
   "metadata": {},
   "source": [
    "- Žodynus kurdami nurodome raktą ir jo vertę"
   ]
  },
  {
   "cell_type": "code",
   "execution_count": null,
   "metadata": {},
   "outputs": [],
   "source": [
    "listB = {x:x ** 3 for x in range(10)}\n",
    "listB"
   ]
  },
  {
   "cell_type": "markdown",
   "metadata": {},
   "source": [
    "- Kortežą kuriam naudodami tuple funkciją"
   ]
  },
  {
   "cell_type": "code",
   "execution_count": null,
   "metadata": {},
   "outputs": [],
   "source": [
    "listB = tuple(i**3 for i in range(10))\n",
    "listB"
   ]
  },
  {
   "cell_type": "markdown",
   "metadata": {},
   "source": [
    "- Kurdami generatorius apsupame juos skliaustais ()"
   ]
  },
  {
   "cell_type": "code",
   "execution_count": null,
   "metadata": {},
   "outputs": [],
   "source": [
    "listB = (x ** 3 for x in range(10))\n",
    "listB"
   ]
  },
  {
   "cell_type": "markdown",
   "metadata": {},
   "source": [
    "Tada rašome komandos logiką:\n",
    "\n",
    "`[result (if condition) for item in iterable (if condition)]`\n",
    "\n",
    "- result tai mūsų galutinis elementas kurį pridėsim į savo struktūrą\n",
    "- item tai vertė kurią gaunam kiekvienoje iteracijoje\n",
    "- iterable yra sąrašas arba panaši struktūra kuri gali gražinti po vieną elementą\n",
    "- (if condition) nėra būtinos sąlygos\n",
    "\n",
    "Pvz: norime surasti unikalius elementus dviejuose sąrašuose"
   ]
  },
  {
   "cell_type": "code",
   "execution_count": null,
   "metadata": {},
   "outputs": [],
   "source": [
    "listA = [10, 5, 91, 5, 2, 42, 8, 3, 5, 4, 9, 5, 45, 68, 3, 2, 48]\n",
    "listB = [0, 3, 5, 88, 94, 5, 21, 9, 5, 0, 0, 5, 6, 0, 0, 8, 5]\n",
    "\n",
    "{item for item in listA if item in listB}"
   ]
  },
  {
   "cell_type": "markdown",
   "metadata": {},
   "source": [
    "Aibės automatiškai išmeta pasikartojimus\n",
    "\n",
    "Dažniausiai šios struktūros turi būti paprastos ir trumpos\n",
    "\n",
    "Vietoje ciklo"
   ]
  },
  {
   "cell_type": "code",
   "execution_count": null,
   "metadata": {},
   "outputs": [],
   "source": [
    "listA = []\n",
    "for item in range(10):\n",
    "    listA.append(item)\n",
    "\n",
    "listA"
   ]
  },
  {
   "cell_type": "markdown",
   "metadata": {},
   "source": [
    "Daug paprasčiau parašyti:"
   ]
  },
  {
   "cell_type": "code",
   "execution_count": null,
   "metadata": {},
   "outputs": [],
   "source": [
    "listA = [item for item in range(10)]"
   ]
  },
  {
   "cell_type": "markdown",
   "metadata": {},
   "source": [
    "### Kam reikalinga?\n",
    "\n",
    "- Daug žmonių rašydami kodą juos naudoja tad gerai suprasti\n",
    "kaip jos veikia norint mokėti perskaityti logiką.\n",
    "- Užima mažiau vietos, lengvai skaitoma ir greičiau pasirašo\n",
    "- Lengva naudoti kaip kintamuosius funkcijoms\n",
    "\n",
    "### Kada nenaudoti?\n",
    "\n",
    "- Esant sudėtingai logikai tampa sunkiai skaitomos ir suprantamos\n",
    "- map daug greitesnė\n",
    "- sunku surasti klaidas"
   ]
  },
  {
   "cell_type": "code",
   "execution_count": null,
   "metadata": {},
   "outputs": [],
   "source": []
  },
  {
   "cell_type": "code",
   "execution_count": null,
   "metadata": {},
   "outputs": [],
   "source": []
  },
  {
   "cell_type": "code",
   "execution_count": null,
   "metadata": {},
   "outputs": [],
   "source": []
  }
 ],
 "metadata": {
  "jupytext": {
   "cell_metadata_filter": "-all",
   "formats": "ipynb,md,py:light",
   "main_language": "python",
   "notebook_metadata_filter": "-all"
  },
  "kernelspec": {
   "display_name": "Python 3",
   "language": "python",
   "name": "python3"
  },
  "language_info": {
   "codemirror_mode": {
    "name": "ipython",
    "version": 3
   },
   "file_extension": ".py",
   "mimetype": "text/x-python",
   "name": "python",
   "nbconvert_exporter": "python",
   "pygments_lexer": "ipython3",
   "version": "3.8.3"
  }
 },
 "nbformat": 4,
 "nbformat_minor": 4
}
