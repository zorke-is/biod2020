{
 "cells": [
  {
   "cell_type": "markdown",
   "metadata": {},
   "source": [
    "# Duomenų tvarkymas\n",
    "\n",
    "2020-10-27\n",
    "\n",
    "- Trūkstamos vertės\n",
    "- Duomenų tvarkymas\n",
    "- Interpoliacija"
   ]
  },
  {
   "cell_type": "code",
   "execution_count": null,
   "metadata": {},
   "outputs": [],
   "source": [
    "import datetime\n",
    "import re\n",
    "import pathlib\n",
    "import numpy as np\n",
    "import pandas as pd\n",
    "import matplotlib.pyplot as plt\n",
    "import matplotlib as mpl\n",
    "import seaborn as sns\n",
    "import scipy.signal as signal\n",
    "sns.set()"
   ]
  },
  {
   "cell_type": "markdown",
   "metadata": {},
   "source": [
    "## Trūkstamos vertės\n",
    "\n",
    "Duomenys retai kada būna tvarkingi.\n",
    "Tyrimuose neišvengiamai supainiojami pavadinimai, praleidžiami tyrimo etapai.\n",
    "Duomenų masyvų dimensijos ar tyrimų eiga nesutampa ir t.t.\n",
    "Viena iš dažniausių problemų --- trūkstamos vertės.\n",
    "\n",
    "Python kalba turi specifinį objektą trūkstamoms vertėms reprezentuoti -- `None`."
   ]
  },
  {
   "cell_type": "code",
   "execution_count": null,
   "metadata": {},
   "outputs": [],
   "source": [
    "numbers = [1, None, 3, 4]\n",
    "numbers"
   ]
  },
  {
   "cell_type": "markdown",
   "metadata": {},
   "source": [
    "Dauguma funkcijų nežino ką daryti su šiomis vertėmis ir tiesiog neveikia"
   ]
  },
  {
   "cell_type": "code",
   "execution_count": null,
   "metadata": {},
   "outputs": [],
   "source": [
    "sum(numbers)"
   ]
  },
  {
   "cell_type": "markdown",
   "metadata": {},
   "source": [
    "NumPy `None` keičia masyvo tipą"
   ]
  },
  {
   "cell_type": "code",
   "execution_count": null,
   "metadata": {},
   "outputs": [],
   "source": [
    "numbers = np.array([1, 2, 3, 4])\n",
    "numbers.dtype"
   ]
  },
  {
   "cell_type": "code",
   "execution_count": null,
   "metadata": {},
   "outputs": [],
   "source": [
    "numbers = np.array([1, None, 3, 4])\n",
    "numbers.dtype"
   ]
  },
  {
   "cell_type": "markdown",
   "metadata": {},
   "source": [
    "Numpy problemoms spręsti sukūrė atskirą `float` tipo elementą `np.nan`"
   ]
  },
  {
   "cell_type": "code",
   "execution_count": null,
   "metadata": {},
   "outputs": [],
   "source": [
    "numbers = np.array([1, np.nan, 3, 4])\n",
    "numbers.dtype"
   ]
  },
  {
   "cell_type": "markdown",
   "metadata": {},
   "source": [
    "Funkcijos nebemeta klaidos, bet rezultatas vis dar netinkamas"
   ]
  },
  {
   "cell_type": "code",
   "execution_count": null,
   "metadata": {},
   "outputs": [],
   "source": [
    "np.sum(numbers)"
   ]
  },
  {
   "cell_type": "code",
   "execution_count": null,
   "metadata": {},
   "outputs": [],
   "source": [
    "type(np.nan)"
   ]
  },
  {
   "cell_type": "markdown",
   "metadata": {},
   "source": [
    "Pandas interpretuoja `None` ir `np.nan` vienodai. Pakeičia į `NaN`"
   ]
  },
  {
   "cell_type": "code",
   "execution_count": null,
   "metadata": {},
   "outputs": [],
   "source": [
    "numbers = pd.Series([1, np.nan, None, 4])\n",
    "numbers"
   ]
  },
  {
   "cell_type": "markdown",
   "metadata": {},
   "source": [
    "NaN tipą galimą keisti optimizuojant kodą"
   ]
  },
  {
   "cell_type": "code",
   "execution_count": null,
   "metadata": {},
   "outputs": [],
   "source": [
    "numbers = pd.Series([1, np.nan, None, 4], dtype=pd.Int64Dtype())\n",
    "numbers"
   ]
  },
  {
   "cell_type": "markdown",
   "metadata": {},
   "source": [
    "Dauguma funkcijų veikia tiesiog praleisdamos NaN elementus"
   ]
  },
  {
   "cell_type": "code",
   "execution_count": null,
   "metadata": {},
   "outputs": [],
   "source": [
    "np.sum(numbers)"
   ]
  },
  {
   "cell_type": "code",
   "execution_count": null,
   "metadata": {},
   "outputs": [],
   "source": [
    "np.mean(numbers)"
   ]
  },
  {
   "cell_type": "markdown",
   "metadata": {},
   "source": [
    "### Tvarkymas NaN verčių\n",
    "\n",
    "Importuojam duomenis. Excelio faile rezultatai ecog tyrimo su žiurkėmis. Suskaičiuotos vidutinės vertės įvairių matavimų, ties skirtingom stimuliacijomis ir sąlygomis."
   ]
  },
  {
   "cell_type": "code",
   "execution_count": null,
   "metadata": {},
   "outputs": [],
   "source": [
    "missing_data_file = pathlib.Path('../data/MissingData.xlsx')\n",
    "missing_data = pd.read_excel(missing_data_file)\n",
    "missing_data.head(5)"
   ]
  },
  {
   "cell_type": "markdown",
   "metadata": {},
   "source": [
    "Importavimo metu svarbu suprasti duomenų struktūrą.\n",
    "Paanalizavus xlsx failą matome kad duomenys yra A1 lape."
   ]
  },
  {
   "cell_type": "code",
   "execution_count": null,
   "metadata": {},
   "outputs": [],
   "source": [
    "missing_data = pd.read_excel(\n",
    "    missing_data_file, sheet_name=\"A1\")\n",
    "missing_data.head(5)"
   ]
  },
  {
   "cell_type": "markdown",
   "metadata": {},
   "source": [
    "Duomenų pradžioje esantis tarpas (header) šiuo atveju nėra svarbus.\n",
    "Praleidžiam pradines eilutes."
   ]
  },
  {
   "cell_type": "code",
   "execution_count": null,
   "metadata": {},
   "outputs": [],
   "source": [
    "missing_data = pd.read_excel(\n",
    "    missing_data_file, sheet_name=\"A1\", skiprows=3\n",
    ")\n",
    "missing_data.head(5)"
   ]
  },
  {
   "cell_type": "code",
   "execution_count": null,
   "metadata": {},
   "outputs": [],
   "source": [
    "missing_data.tail(5)"
   ]
  },
  {
   "cell_type": "markdown",
   "metadata": {},
   "source": [
    "`head` ir `tail` funkcijos padeda greitai apžvelgti duomenis\n",
    "\n",
    "`NaN` vertes randame  `isnull` ir `isnan` metodais"
   ]
  },
  {
   "cell_type": "code",
   "execution_count": null,
   "metadata": {},
   "outputs": [],
   "source": [
    "missing_data.isnull()"
   ]
  },
  {
   "cell_type": "markdown",
   "metadata": {},
   "source": [
    "Atvirkštinis metodas  `notnull`"
   ]
  },
  {
   "cell_type": "code",
   "execution_count": null,
   "metadata": {},
   "outputs": [],
   "source": [
    "pd.set_option(\"max_rows\", 50)\n",
    "missing_data.notnull()"
   ]
  },
  {
   "cell_type": "markdown",
   "metadata": {},
   "source": [
    "Vizuolizuoti trūkstamas vertes galima su `missingno` pakuote"
   ]
  },
  {
   "cell_type": "code",
   "execution_count": null,
   "metadata": {},
   "outputs": [],
   "source": [
    "pip install missingno"
   ]
  },
  {
   "cell_type": "code",
   "execution_count": null,
   "metadata": {},
   "outputs": [],
   "source": [
    "import missingno as msno"
   ]
  },
  {
   "cell_type": "code",
   "execution_count": null,
   "metadata": {},
   "outputs": [],
   "source": [
    "msno.matrix(missing_data);"
   ]
  },
  {
   "cell_type": "markdown",
   "metadata": {},
   "source": [
    "`dropna` metodas pašalina trūkstamas vertes"
   ]
  },
  {
   "cell_type": "code",
   "execution_count": null,
   "metadata": {},
   "outputs": [],
   "source": [
    "droped_Nan = missing_data.dropna()\n",
    "droped_Nan"
   ]
  },
  {
   "cell_type": "code",
   "execution_count": null,
   "metadata": {},
   "outputs": [],
   "source": [
    "pd.set_option(\"max_rows\", 15)"
   ]
  },
  {
   "cell_type": "markdown",
   "metadata": {},
   "source": [
    "`dropna` gali trinti tiek stulpelius tiek eilutes"
   ]
  },
  {
   "cell_type": "code",
   "execution_count": null,
   "metadata": {},
   "outputs": [],
   "source": [
    "missing_data.dropna(axis=\"columns\")"
   ]
  },
  {
   "cell_type": "markdown",
   "metadata": {},
   "source": [
    "arba trinti tik kai visas stulpelis ar eilutė yra NaN vertės"
   ]
  },
  {
   "cell_type": "code",
   "execution_count": null,
   "metadata": {},
   "outputs": [],
   "source": [
    "missing_data.dropna(how=\"all\")"
   ]
  },
  {
   "cell_type": "markdown",
   "metadata": {},
   "source": [
    "Galime nustatyti limitą NaN verčių  turinčių eit iš eilės kad būtų\n",
    "pašalinta eilutė/stulpelis"
   ]
  },
  {
   "cell_type": "code",
   "execution_count": null,
   "metadata": {},
   "outputs": [],
   "source": [
    "missing_data.dropna(axis=\"rows\", thresh=6)"
   ]
  },
  {
   "cell_type": "markdown",
   "metadata": {},
   "source": [
    "Duomenų pašalinimas yra skausmingas.\n",
    "Bet tai dažnai lengviausias ir mažiausiai klausimų keliantis kelias.\n",
    "\n",
    "Jei duomenų negalime trinti naudojame įvairius duomenų atkūrimo metodus.\n",
    "Paprasčiausias metodas yra užpildyti trūkstamas vertes fiksuota verte."
   ]
  },
  {
   "cell_type": "code",
   "execution_count": null,
   "metadata": {},
   "outputs": [],
   "source": [
    "a = missing_data.fillna(0)\n",
    "a"
   ]
  },
  {
   "cell_type": "markdown",
   "metadata": {},
   "source": [
    "Dažnai vertės užpildomas su artimiausia verte"
   ]
  },
  {
   "cell_type": "code",
   "execution_count": null,
   "metadata": {},
   "outputs": [],
   "source": [
    "missing_data.fillna(method=\"ffill\")  # bfill; axis"
   ]
  },
  {
   "cell_type": "markdown",
   "metadata": {},
   "source": [
    "Arba vidurkiu (mediana ar pan)"
   ]
  },
  {
   "cell_type": "code",
   "execution_count": null,
   "metadata": {},
   "outputs": [],
   "source": [
    "missing_data[\"baseline avg\"] = missing_data[\"baseline avg\"].fillna(\n",
    "    missing_data[\"baseline avg\"].mean()\n",
    ")\n",
    "missing_data"
   ]
  },
  {
   "cell_type": "markdown",
   "metadata": {},
   "source": [
    "`filter` metodas padeda greitai išfiltruoti stulpelių ir indekso vardus"
   ]
  },
  {
   "cell_type": "code",
   "execution_count": null,
   "metadata": {},
   "outputs": [],
   "source": [
    "missing_data.filter(items=[\"baseline avg\"])"
   ]
  },
  {
   "cell_type": "code",
   "execution_count": null,
   "metadata": {},
   "outputs": [],
   "source": [
    "missing_data.filter(regex=\"g$\")"
   ]
  },
  {
   "cell_type": "code",
   "execution_count": null,
   "metadata": {},
   "outputs": [],
   "source": [
    "missing_data.filter(regex=\"g$\").mean()"
   ]
  },
  {
   "cell_type": "markdown",
   "metadata": {},
   "source": [
    "`transform` metodo pagalba galima greitai pritaikyti funkcijas\n",
    "sugrupuotiems duomenims"
   ]
  },
  {
   "cell_type": "code",
   "execution_count": null,
   "metadata": {},
   "outputs": [],
   "source": [
    "missing_data.groupby(\"channel group\").mean()"
   ]
  },
  {
   "cell_type": "code",
   "execution_count": null,
   "metadata": {},
   "outputs": [],
   "source": [
    "missing_data.loc[:, \"baseline avg\":\"test avg\"] = missing_data.groupby(\n",
    "    \"channel group\"\n",
    ").transform(lambda x: x - x.mean())"
   ]
  },
  {
   "cell_type": "markdown",
   "metadata": {},
   "source": [
    "---------------\n",
    "\n",
    ">> ### Lambda\n",
    ">>\n",
    ">>  Anoniminės funkcijos.\n",
    "Kaip ir sąrašų kūrimo atveju 'comprehensions' sintaksė pagreitina kodo kūrimą.\n",
    ">>\n",
    ">> Sintaksė:\n",
    ">>\n",
    ">> `lambda arguments: expression`"
   ]
  },
  {
   "cell_type": "code",
   "execution_count": null,
   "metadata": {},
   "outputs": [],
   "source": [
    "def testf(x):\n",
    "    result = x-x.mean()\n",
    "    return result"
   ]
  },
  {
   "cell_type": "code",
   "execution_count": null,
   "metadata": {},
   "outputs": [],
   "source": [
    "testf(np.array([1, 2, 3]))"
   ]
  },
  {
   "cell_type": "markdown",
   "metadata": {},
   "source": [
    "Tai tas pats kaip"
   ]
  },
  {
   "cell_type": "code",
   "execution_count": null,
   "metadata": {},
   "outputs": [],
   "source": [
    "a=lambda x: x-x.mean()\n",
    "a(np.array([1,2,3]))"
   ]
  },
  {
   "cell_type": "markdown",
   "metadata": {},
   "source": [
    "--------------------"
   ]
  },
  {
   "cell_type": "markdown",
   "metadata": {},
   "source": [
    "### Apply"
   ]
  },
  {
   "cell_type": "code",
   "execution_count": null,
   "metadata": {},
   "outputs": [],
   "source": [
    "missing_data.groupby(\"channel group\").mean()"
   ]
  },
  {
   "cell_type": "markdown",
   "metadata": {},
   "source": [
    "`apply` metodas veikia iškarto su visa lentele.\n",
    "Taigi galime pasiekti lambdos viduje stulpelius ir eilutes visos lentelės\n",
    "(transform mato elementus po groupby padalinimo)"
   ]
  },
  {
   "cell_type": "code",
   "execution_count": null,
   "metadata": {},
   "outputs": [],
   "source": [
    "missing_data.groupby(\"channel group\").apply(\n",
    "    lambda x: x[\"test avg\"] - x[\"baseline avg\"].mean()\n",
    ")"
   ]
  },
  {
   "cell_type": "markdown",
   "metadata": {},
   "source": [
    "### drop\n",
    "\n",
    "Ištrina stulpelius arba eilutes (`level` raktažodis multiindex atveju)"
   ]
  },
  {
   "cell_type": "code",
   "execution_count": null,
   "metadata": {},
   "outputs": [],
   "source": [
    "missing_data = missing_data.dropna().drop(\n",
    "    [\"dataType\", \"measure\", \"channels\"], axis=1)\n",
    "missing_data.head()"
   ]
  },
  {
   "cell_type": "markdown",
   "metadata": {},
   "source": [
    "### Review\n",
    "\n",
    "- Atidarymas"
   ]
  },
  {
   "cell_type": "code",
   "execution_count": null,
   "metadata": {},
   "outputs": [],
   "source": [
    "missing_data = pd.read_excel(missing_data_file, sheet_name=\"A1\")\n",
    "missing_data.head(5)"
   ]
  },
  {
   "cell_type": "code",
   "execution_count": null,
   "metadata": {},
   "outputs": [],
   "source": [
    "missing_data.info()"
   ]
  },
  {
   "cell_type": "code",
   "execution_count": null,
   "metadata": {},
   "outputs": [],
   "source": [
    "missing_data.describe()"
   ]
  },
  {
   "cell_type": "markdown",
   "metadata": {},
   "source": [
    "- Stulpelių vardų pakeitimas"
   ]
  },
  {
   "cell_type": "code",
   "execution_count": null,
   "metadata": {},
   "outputs": [],
   "source": [
    "missing_data.columns = missing_data.loc[2]\n",
    "missing_data.head(5)"
   ]
  },
  {
   "cell_type": "code",
   "execution_count": null,
   "metadata": {},
   "outputs": [],
   "source": [
    "missing_data.columns.name = \"\"\n",
    "missing_data.head(5)"
   ]
  },
  {
   "cell_type": "markdown",
   "metadata": {},
   "source": [
    "Pašalinimas eilučių"
   ]
  },
  {
   "cell_type": "code",
   "execution_count": null,
   "metadata": {},
   "outputs": [],
   "source": [
    "missing_data = missing_data.drop([0, 1, 2])\n",
    "missing_data.head()"
   ]
  },
  {
   "cell_type": "markdown",
   "metadata": {},
   "source": [
    "Indekso numeracijos pakeitimas"
   ]
  },
  {
   "cell_type": "code",
   "execution_count": null,
   "metadata": {},
   "outputs": [],
   "source": [
    "missing_data=missing_data.reset_index()\n",
    "missing_data.head()"
   ]
  },
  {
   "cell_type": "markdown",
   "metadata": {},
   "source": [
    "Pašalinimas nereikalingų stulpelių"
   ]
  },
  {
   "cell_type": "code",
   "execution_count": null,
   "metadata": {},
   "outputs": [],
   "source": [
    "missing_data = missing_data.drop(\n",
    "    [\"measure\",'index', \"dataType\", \"channels\", \"type\"], axis=1)\n",
    "missing_data.head()"
   ]
  },
  {
   "cell_type": "markdown",
   "metadata": {},
   "source": [
    "Sukuriam naują stulpelį vaizduojantį dalyvio numerį"
   ]
  },
  {
   "cell_type": "code",
   "execution_count": null,
   "metadata": {},
   "outputs": [],
   "source": [
    "rat_nr = [\"\".join([x, str(y)])\n",
    "          for x, y in zip([\"subj\"] * 10, np.arange(1, 11))]\n",
    "rat_nr"
   ]
  },
  {
   "cell_type": "code",
   "execution_count": null,
   "metadata": {},
   "outputs": [],
   "source": [
    "rat_nr = rat_nr * int((len(missing_data) / len(rat_nr)))\n",
    "missing_data.insert(0, \"rat_nr\", rat_nr, True)\n",
    "missing_data.head()"
   ]
  },
  {
   "cell_type": "markdown",
   "metadata": {},
   "source": [
    "Užpildom trūkstamus stulpelius vidurkiu"
   ]
  },
  {
   "cell_type": "code",
   "execution_count": null,
   "metadata": {},
   "outputs": [],
   "source": [
    "missing_data[\"baseline avg\"] = missing_data[\"baseline avg\"].fillna(\n",
    "    missing_data[\"baseline avg\"].mean()\n",
    ")\n",
    "\n",
    "missing_data[\"test avg\"] = missing_data[\"test avg\"].fillna(\n",
    "    missing_data[\"test avg\"].mean()\n",
    ")"
   ]
  },
  {
   "cell_type": "code",
   "execution_count": null,
   "metadata": {},
   "outputs": [],
   "source": [
    "missing_data.isna().sum()"
   ]
  },
  {
   "cell_type": "markdown",
   "metadata": {},
   "source": [
    "Pataisom klaidas rašybos"
   ]
  },
  {
   "cell_type": "code",
   "execution_count": null,
   "metadata": {},
   "outputs": [],
   "source": [
    "missing_data.groupby('channel group').count()"
   ]
  },
  {
   "cell_type": "code",
   "execution_count": null,
   "metadata": {},
   "outputs": [],
   "source": [
    "missing_data[\"channel group\"] = missing_data[\"channel group\"].str.replace(\n",
    "    r\"(^[F]$)\", \"Frontal\"\n",
    ")"
   ]
  },
  {
   "cell_type": "code",
   "execution_count": null,
   "metadata": {},
   "outputs": [],
   "source": [
    "missing_data.groupby('channel group').count()"
   ]
  },
  {
   "cell_type": "markdown",
   "metadata": {},
   "source": [
    "Tą patį galėtumėme padaryti su replace"
   ]
  },
  {
   "cell_type": "code",
   "execution_count": null,
   "metadata": {},
   "outputs": [],
   "source": [
    "missing_data.replace(r\"^F$\", \"Frontal\", regex=True)"
   ]
  },
  {
   "cell_type": "markdown",
   "metadata": {},
   "source": [
    "Rezultatas"
   ]
  },
  {
   "cell_type": "code",
   "execution_count": null,
   "metadata": {},
   "outputs": [],
   "source": [
    "missing_data.groupby(\"channel group\").describe()"
   ]
  },
  {
   "cell_type": "code",
   "execution_count": null,
   "metadata": {},
   "outputs": [],
   "source": [
    "missing_data.groupby(\"channel group\").boxplot()"
   ]
  },
  {
   "cell_type": "code",
   "execution_count": null,
   "metadata": {},
   "outputs": [],
   "source": [
    "missing_data.boxplot()"
   ]
  },
  {
   "cell_type": "markdown",
   "metadata": {},
   "source": [
    "## Pvz: Airbnb duomenų apžvalga\n",
    "\n",
    "Importuojam duomenis"
   ]
  },
  {
   "cell_type": "code",
   "execution_count": null,
   "metadata": {},
   "outputs": [],
   "source": [
    "import zipfile\n",
    "with zipfile.ZipFile('../data/Athens.zip', 'r') as zip_ref:\n",
    "    zip_ref.extractall('../data/')"
   ]
  },
  {
   "cell_type": "code",
   "execution_count": null,
   "metadata": {},
   "outputs": [],
   "source": [
    "listings = pd.read_csv(\n",
    "    \"../data/Athens/listings.csv\", index_col=\"id\")\n",
    "listings_details = pd.read_csv(\n",
    "    \"../data/Athens/listings_details.csv\",\n",
    "    index_col=\"id\",\n",
    "    low_memory=False,\n",
    ")\n",
    "\n",
    "calendar = pd.read_csv(\n",
    "    \"../data/Athens/calendar.csv\",\n",
    "    parse_dates=[\"date\"],\n",
    "    index_col=[\"listing_id\"],\n",
    ")\n",
    "\n",
    "reviews = pd.read_csv(\n",
    "    \"../data/Athens/reviews.csv\",\n",
    "    parse_dates=[\"date\"],\n",
    "    index_col=[\"listing_id\"],\n",
    ")\n",
    "\n",
    "reviews_details = pd.read_csv(\n",
    "    \"../data/Athens/reviews_details.csv\",\n",
    "    parse_dates=[\"date\"],\n",
    "    index_col=[\"listing_id\"],\n",
    ")"
   ]
  },
  {
   "cell_type": "markdown",
   "metadata": {},
   "source": [
    "- listings.csv -- bendra informacija apie būstus\n",
    "- listings_details.csv -- detali informacija apie būstus\n",
    "- calendar.csv -- datos\n",
    "- reviews -- atsiliepimai\n",
    "- reviews_details -- detali atsiliepimų informacija\n",
    "\n",
    "id - unikalus skelbimo numeris\n",
    "\n",
    "Apžvelgiam duomenis"
   ]
  },
  {
   "cell_type": "code",
   "execution_count": null,
   "metadata": {},
   "outputs": [],
   "source": [
    "pd.set_option(\"display.max_column\", 500)\n",
    "pd.set_option(\"display.max_rows\", 500)\n",
    "pd.set_option(\"display.max_seq_items\", 500)\n",
    "pd.set_option(\"display.max_colwidth\", 500)\n",
    "pd.set_option(\"expand_frame_repr\", True)"
   ]
  },
  {
   "cell_type": "code",
   "execution_count": null,
   "metadata": {},
   "outputs": [],
   "source": [
    "listings.head(3)"
   ]
  },
  {
   "cell_type": "code",
   "execution_count": null,
   "metadata": {},
   "outputs": [],
   "source": [
    "listings.shape"
   ]
  },
  {
   "cell_type": "code",
   "execution_count": null,
   "metadata": {},
   "outputs": [],
   "source": [
    "listings.columns"
   ]
  },
  {
   "cell_type": "code",
   "execution_count": null,
   "metadata": {},
   "outputs": [],
   "source": [
    "listings_details.shape"
   ]
  },
  {
   "cell_type": "code",
   "execution_count": null,
   "metadata": {},
   "outputs": [],
   "source": [
    "listings_details.columns"
   ]
  },
  {
   "cell_type": "markdown",
   "metadata": {},
   "source": [
    "Atrenkame grupę stulpelių"
   ]
  },
  {
   "cell_type": "code",
   "execution_count": null,
   "metadata": {},
   "outputs": [],
   "source": [
    "target_columns = [\n",
    "    \"property_type\",\n",
    "    \"accommodates\",\n",
    "    \"first_review\",\n",
    "    \"review_scores_value\",\n",
    "    \"review_scores_cleanliness\",\n",
    "    \"review_scores_location\",\n",
    "    \"review_scores_accuracy\",\n",
    "    \"review_scores_communication\",\n",
    "    \"review_scores_checkin\",\n",
    "    \"review_scores_rating\",\n",
    "    \"maximum_nights\",\n",
    "    \"listing_url\",\n",
    "    \"host_is_superhost\",\n",
    "    \"host_about\",\n",
    "    \"host_response_time\",\n",
    "    \"host_response_rate\",\n",
    "    \"street\",\n",
    "    \"weekly_price\",\n",
    "    \"monthly_price\",\n",
    "    \"market\",\n",
    "]\n",
    "listings = pd.merge(\n",
    "    listings, listings_details[target_columns], on=\"id\", how=\"left\")"
   ]
  },
  {
   "cell_type": "code",
   "execution_count": null,
   "metadata": {},
   "outputs": [],
   "source": [
    "listings.head(1)"
   ]
  },
  {
   "cell_type": "code",
   "execution_count": null,
   "metadata": {},
   "outputs": [],
   "source": [
    "listings.dtypes"
   ]
  },
  {
   "cell_type": "code",
   "execution_count": null,
   "metadata": {},
   "outputs": [],
   "source": [
    "listings.shape"
   ]
  },
  {
   "cell_type": "code",
   "execution_count": null,
   "metadata": {},
   "outputs": [],
   "source": [
    "listings.info()"
   ]
  },
  {
   "cell_type": "markdown",
   "metadata": {},
   "source": [
    "`neighbourhood_group`  neturi duomenų"
   ]
  },
  {
   "cell_type": "code",
   "execution_count": null,
   "metadata": {},
   "outputs": [],
   "source": [
    "listings[\"neighbourhood_group\"].head()"
   ]
  },
  {
   "cell_type": "markdown",
   "metadata": {},
   "source": [
    "Ištrinam"
   ]
  },
  {
   "cell_type": "code",
   "execution_count": null,
   "metadata": {},
   "outputs": [],
   "source": [
    "listings = listings.drop(columns=[\"neighbourhood_group\"])"
   ]
  },
  {
   "cell_type": "markdown",
   "metadata": {},
   "source": [
    "`host_response_rate` yra teksto tipo su % ženklu"
   ]
  },
  {
   "cell_type": "code",
   "execution_count": null,
   "metadata": {},
   "outputs": [],
   "source": [
    "listings[\"host_response_rate\"].head(2)"
   ]
  },
  {
   "cell_type": "markdown",
   "metadata": {},
   "source": [
    "Norint atlikti skaičiavimus ištrinam % ženklą ir paverčiam į skaičių"
   ]
  },
  {
   "cell_type": "code",
   "execution_count": null,
   "metadata": {},
   "outputs": [],
   "source": [
    "listings[\"host_response_rate\"] = pd.to_numeric(\n",
    "    listings[\"host_response_rate\"].str.strip(\"%\")\n",
    ")\n",
    "listings[\"host_response_rate\"].head(2)"
   ]
  },
  {
   "cell_type": "markdown",
   "metadata": {},
   "source": [
    "Randame NaN verčių kiekį"
   ]
  },
  {
   "cell_type": "code",
   "execution_count": null,
   "metadata": {},
   "outputs": [],
   "source": [
    "listings.isnull().sum()"
   ]
  },
  {
   "cell_type": "code",
   "execution_count": null,
   "metadata": {},
   "outputs": [],
   "source": [
    "msno.matrix(listings);"
   ]
  },
  {
   "cell_type": "code",
   "execution_count": null,
   "metadata": {},
   "outputs": [],
   "source": [
    "msno.heatmap(listings);"
   ]
  },
  {
   "cell_type": "code",
   "execution_count": null,
   "metadata": {},
   "outputs": [],
   "source": [
    "msno.dendrogram(listings);"
   ]
  },
  {
   "cell_type": "markdown",
   "metadata": {},
   "source": [
    "Kuris rajonas turi daugiausiai skelbimų"
   ]
  },
  {
   "cell_type": "code",
   "execution_count": null,
   "metadata": {},
   "outputs": [],
   "source": [
    "listings[\"neighbourhood\"].value_counts().sort_values(ascending=True).plot.barh(\n",
    "    figsize=(10, 10), color=\"b\", width=1\n",
    ")\n",
    "plt.title(\"Listings\", fontsize=20)\n",
    "plt.xlabel(\"Count of Listings\", fontsize=12);"
   ]
  },
  {
   "cell_type": "markdown",
   "metadata": {},
   "source": [
    "Yra daug būdu kaip nubraižyti žemėlapį rodanti visus skelbimus.\n",
    "Paprasčiausias būdas yra braižyti sklaidos grafiką."
   ]
  },
  {
   "cell_type": "code",
   "execution_count": null,
   "metadata": {},
   "outputs": [],
   "source": [
    "lats = listings[\"latitude\"].tolist()\n",
    "lons = listings[\"longitude\"].tolist()\n",
    "locations = list(zip(lats, lons))\n",
    "plt.scatter(lats, lons);"
   ]
  },
  {
   "cell_type": "markdown",
   "metadata": {},
   "source": [
    "`folium` pakuotė kitas paprastas būdas greitai nubraižyti interaktyvų žemėlapį."
   ]
  },
  {
   "cell_type": "code",
   "execution_count": null,
   "metadata": {},
   "outputs": [],
   "source": [
    "pip install folium"
   ]
  },
  {
   "cell_type": "code",
   "execution_count": null,
   "metadata": {},
   "outputs": [],
   "source": [
    "import folium\n",
    "from folium.plugins import FastMarkerCluster"
   ]
  },
  {
   "cell_type": "code",
   "execution_count": null,
   "metadata": {},
   "outputs": [],
   "source": [
    "map1 = folium.Map(location=[37.9838, 23.7275], zoom_start=11.5)\n",
    "FastMarkerCluster(data=locations).add_to(map1)\n",
    "map1"
   ]
  },
  {
   "cell_type": "markdown",
   "metadata": {},
   "source": [
    "Dažniausi kambarių tipai"
   ]
  },
  {
   "cell_type": "code",
   "execution_count": null,
   "metadata": {},
   "outputs": [],
   "source": [
    "listings[\"room_type\"].value_counts().sort_values(ascending=True).plot.barh(\n",
    "    figsize=(15, 3), width=1, color=[\"g\", \"b\", \"r\"]\n",
    ");"
   ]
  },
  {
   "cell_type": "markdown",
   "metadata": {},
   "source": [
    "Visi būstų tipai"
   ]
  },
  {
   "cell_type": "code",
   "execution_count": null,
   "metadata": {},
   "outputs": [],
   "source": [
    "listings.property_type.unique()"
   ]
  },
  {
   "cell_type": "markdown",
   "metadata": {},
   "source": [
    "Kiek ir kokio tipo būstų yra nuomojama?"
   ]
  },
  {
   "cell_type": "code",
   "execution_count": null,
   "metadata": {},
   "outputs": [],
   "source": [
    "prop = listings.groupby([\"property_type\", \"room_type\"]).room_type.count()\n",
    "prop"
   ]
  },
  {
   "cell_type": "code",
   "execution_count": null,
   "metadata": {},
   "outputs": [],
   "source": [
    "prop = prop.unstack()\n",
    "prop"
   ]
  },
  {
   "cell_type": "code",
   "execution_count": null,
   "metadata": {},
   "outputs": [],
   "source": [
    "prop[\"total\"] = prop.iloc[:, 0:3].sum(axis=1)\n",
    "prop"
   ]
  },
  {
   "cell_type": "code",
   "execution_count": null,
   "metadata": {},
   "outputs": [],
   "source": [
    "prop = prop.sort_values(by=[\"total\"])\n",
    "prop"
   ]
  },
  {
   "cell_type": "code",
   "execution_count": null,
   "metadata": {},
   "outputs": [],
   "source": [
    "prop = prop[prop[\"total\"] >= 100]\n",
    "prop"
   ]
  },
  {
   "cell_type": "code",
   "execution_count": null,
   "metadata": {},
   "outputs": [],
   "source": [
    "prop = prop.drop(columns=[\"total\"])\n",
    "prop.plot(\n",
    "    kind=\"barh\",\n",
    "    stacked=True,\n",
    "    color=[\"r\", \"b\", \"g\"],\n",
    "    linewidth=1,\n",
    "    grid=True,\n",
    "    figsize=(25, 8),\n",
    "    width=1,\n",
    ")\n",
    "plt.title(\"Property type\", fontsize=18)\n",
    "plt.xlabel(\"Listings count\", fontsize=14)\n",
    "plt.ylabel(\"\")\n",
    "plt.legend(loc=4, prop={\"size\": 13});"
   ]
  },
  {
   "cell_type": "markdown",
   "metadata": {},
   "source": [
    "Kiek žmonių gali atvykti į būstą"
   ]
  },
  {
   "cell_type": "code",
   "execution_count": null,
   "metadata": {},
   "outputs": [],
   "source": [
    "listings[\"accommodates\"].describe()"
   ]
  },
  {
   "cell_type": "code",
   "execution_count": null,
   "metadata": {},
   "outputs": [],
   "source": [
    "listings[\"accommodates\"].value_counts().sort_index().plot.bar(\n",
    "    figsize=(20, 8), color=\"b\", width=1, rot=0\n",
    ")\n",
    "plt.ylabel(\"Listings\", fontsize=12)\n",
    "plt.xlabel(\"Accommodates\", fontsize=12);"
   ]
  },
  {
   "cell_type": "markdown",
   "metadata": {},
   "source": [
    "Kokia dalis visų būstų yra nuomojama profesionalių nuomotojų\n",
    "\n",
    "Sugrupuojam ir suskaičiuojam kiek skirtingi žmonės nuomoja būstų"
   ]
  },
  {
   "cell_type": "code",
   "execution_count": null,
   "metadata": {},
   "outputs": [],
   "source": [
    "freq = (\n",
    "    listings.groupby([\"host_id\"])[\"host_name\"]\n",
    "    .count()\n",
    "    .reset_index(name=\"Number of apartments\")\n",
    ")\n",
    "freq.head()"
   ]
  },
  {
   "cell_type": "markdown",
   "metadata": {},
   "source": [
    "Suskaičiuojam kiek yra skirtingų nuomotojų"
   ]
  },
  {
   "cell_type": "code",
   "execution_count": null,
   "metadata": {},
   "outputs": [],
   "source": [
    "host = (\n",
    "    freq.groupby([\"Number of apartments\"])[\"host_id\"]\n",
    "    .count()\n",
    "    .reset_index(name=\"Number of hosts\")\n",
    ")\n",
    "host.head()"
   ]
  },
  {
   "cell_type": "markdown",
   "metadata": {},
   "source": [
    "Proporcija profesionalių"
   ]
  },
  {
   "cell_type": "code",
   "execution_count": null,
   "metadata": {},
   "outputs": [],
   "source": [
    "(host[host[\"Number of apartments\"] > 1].sum() / host.sum())[\"Number of hosts\"]"
   ]
  },
  {
   "cell_type": "markdown",
   "metadata": {},
   "source": [
    "Daugiausiai būstų nuomoja"
   ]
  },
  {
   "cell_type": "code",
   "execution_count": null,
   "metadata": {},
   "outputs": [],
   "source": [
    "freq[freq[\"Number of apartments\"] >= 30].sort_values(by=[\"Number of apartments\"], ascending=False)"
   ]
  },
  {
   "cell_type": "code",
   "execution_count": null,
   "metadata": {},
   "outputs": [],
   "source": [
    "listings.loc[listings['host_id']==77457889]"
   ]
  },
  {
   "cell_type": "code",
   "execution_count": null,
   "metadata": {},
   "outputs": [],
   "source": [
    "listings[listings['host_id'].isin([77457889])]"
   ]
  },
  {
   "cell_type": "markdown",
   "metadata": {},
   "source": [
    "Vidutinės kaitos rajone"
   ]
  },
  {
   "cell_type": "code",
   "execution_count": null,
   "metadata": {},
   "outputs": [],
   "source": [
    "avg_price = (\n",
    "    listings.groupby(\"neighbourhood\")[\n",
    "        \"price\"].mean().sort_values(ascending=True)\n",
    ")\n",
    "avg_price.plot.barh(figsize=(20, 15), color=\"b\", width=1)\n",
    "plt.xlabel(\"Average price (USD)\", fontsize=12);"
   ]
  },
  {
   "cell_type": "markdown",
   "metadata": {},
   "source": [
    "Vidutinės kainos visam namui/butui"
   ]
  },
  {
   "cell_type": "code",
   "execution_count": null,
   "metadata": {},
   "outputs": [],
   "source": [
    "listings[listings[\"room_type\"] == \"Entire home/apt\"].groupby(\"neighbourhood\")[\n",
    "    \"price\"\n",
    "].mean().sort_values(ascending=True).plot.barh(figsize=(20, 15), color=\"b\", width=1)\n",
    "plt.xlabel(\"Average price (USD)\", fontsize=12);"
   ]
  },
  {
   "cell_type": "markdown",
   "metadata": {},
   "source": [
    "Kaip kainos priklauso nuo vietos ir būsto tipo?"
   ]
  },
  {
   "cell_type": "code",
   "execution_count": null,
   "metadata": {},
   "outputs": [],
   "source": [
    "plt.figure(figsize=(20, 15))\n",
    "sns.scatterplot(\n",
    "    x=lats,\n",
    "    y=lons,\n",
    "    hue=listings[\"property_type\"],\n",
    "    size=listings[\"price\"],\n",
    "    s=20,\n",
    "    palette=\"rainbow\",\n",
    ");"
   ]
  },
  {
   "cell_type": "markdown",
   "metadata": {},
   "source": [
    "Dažnai naudojama kita biblioteka paišymui [`plotly`](https://github.com/plotly/plotly.py#jupyterlab-support-python-35\n",
    ")\n",
    "\n",
    "---\n",
    "$ pip install jupyterlab \"ipywidgets>=7.5\"\n",
    "\n",
    "arba\n",
    "\n",
    "$ conda install jupyterlab \"ipywidgets=7.5\"\n",
    "\n",
    "Then run the following commands to install the required JupyterLab extensions (note that this will require node to be installed):\n",
    "\n",
    "#### JupyterLab renderer support\n",
    "jupyter labextension install jupyterlab-plotly@4.11.0\n",
    "\n",
    "#### OPTIONAL: Jupyter widgets extension\n",
    "jupyter labextension install @jupyter-widgets/jupyterlab-manager plotlywidget@4.11.0\n",
    "\n",
    "---"
   ]
  },
  {
   "cell_type": "code",
   "execution_count": null,
   "metadata": {},
   "outputs": [],
   "source": [
    "from plotly import express as px\n",
    "from plotly import graph_objects as go"
   ]
  },
  {
   "cell_type": "code",
   "execution_count": null,
   "metadata": {},
   "outputs": [],
   "source": [
    "cscale = [\n",
    "    [0.0, \"rgb(165,0,38)\"],\n",
    "    [0.0005, \"rgb(215,48,39)\"],\n",
    "    [0.007, \"rgb(250, 152, 122)\"],\n",
    "    [0.08, \"rgb(208, 254, 144)\"],\n",
    "    [0.1, \"rgb(0, 255, 179)\"],\n",
    "    [0.3, \"rgb(171,217,233)\"],\n",
    "    [0.7, \"rgb(116,173,209)\"],\n",
    "    [0.9, \"rgb(69,117,180)\"],\n",
    "    [1.0, \"rgb(49,54,149)\"],\n",
    "]\n",
    "\n",
    "fig = px.scatter_mapbox(\n",
    "    listings,\n",
    "    lat=\"latitude\",\n",
    "    lon=\"longitude\",\n",
    "    color=\"price\",\n",
    "    color_continuous_scale=cscale,\n",
    "    size_max=20,\n",
    "    height=760,\n",
    "    zoom=10,\n",
    "    title=\"Scatter map\",\n",
    "    range_color=(0, 700),\n",
    ")\n",
    "fig.update_layout(mapbox_style=\"open-street-map\")\n",
    "fig.show()"
   ]
  },
  {
   "cell_type": "markdown",
   "metadata": {},
   "source": [
    "Kainų pasiskirstymas kiekvienam tipui"
   ]
  },
  {
   "cell_type": "code",
   "execution_count": null,
   "metadata": {},
   "outputs": [],
   "source": [
    "fig, ax = plt.subplots(figsize=(20, 8))\n",
    "sns.violinplot(x=\"room_type\", y=\"price\",\n",
    "               data=listings[listings[\"price\"] <= 700], ax=ax);"
   ]
  },
  {
   "cell_type": "markdown",
   "metadata": {},
   "source": [
    "Kiek laisvų kambarių yra iki 2019-12-31?\n",
    "\n",
    "Norint suskaičiuoti turim ištaisyti kainas ($8,000.00 -> 8000.00)"
   ]
  },
  {
   "cell_type": "code",
   "execution_count": null,
   "metadata": {},
   "outputs": [],
   "source": [
    "calendar.head(2)"
   ]
  },
  {
   "cell_type": "code",
   "execution_count": null,
   "metadata": {},
   "outputs": [],
   "source": [
    "calendar.price = calendar.price.str.replace(\",\", \"\")\n",
    "calendar[\"price\"] = pd.to_numeric(calendar[\"price\"].str.strip(\"$\"))\n",
    "calendar = calendar[calendar.date < \"2019-12-31\"]\n",
    "calendar.head(2)"
   ]
  },
  {
   "cell_type": "code",
   "execution_count": null,
   "metadata": {},
   "outputs": [],
   "source": [
    "free_count = (\n",
    "    calendar[calendar.available == \"t\"]\n",
    "    .groupby([\"date\"])\n",
    "    .size()\n",
    "    .to_frame(name=\"available\")\n",
    "    .reset_index()\n",
    ")\n",
    "free_count.head()"
   ]
  },
  {
   "cell_type": "code",
   "execution_count": null,
   "metadata": {},
   "outputs": [],
   "source": [
    "free_count[\"weekday\"] = free_count[\"date\"].dt.day_name()\n",
    "free_count = free_count.set_index(\"date\")\n",
    "free_count"
   ]
  },
  {
   "cell_type": "code",
   "execution_count": null,
   "metadata": {},
   "outputs": [],
   "source": [
    "free_count.plot(y=\"available\", title=\"Amount of places\", legend=\"\");"
   ]
  },
  {
   "cell_type": "markdown",
   "metadata": {},
   "source": [
    "Vidutinės kainos laisvų būstų"
   ]
  },
  {
   "cell_type": "code",
   "execution_count": null,
   "metadata": {},
   "outputs": [],
   "source": [
    "avg_price = (\n",
    "    calendar[(calendar.available == \"t\")]\n",
    "    .groupby([\"date\"])\n",
    "    .mean()\n",
    "    .astype(np.int64)\n",
    "    .reset_index()\n",
    ")\n",
    "avg_price[\"weekday\"] = avg_price[\"date\"].dt.day_name()\n",
    "avg_price = avg_price.set_index(\"date\")\n",
    "avg_price.plot(y=\"price\", title=\"Avg price\", figsize=(20, 10));"
   ]
  },
  {
   "cell_type": "markdown",
   "metadata": {},
   "source": [
    "## Pavyzdys: nvidia akcijos kaina\n",
    "\n",
    "Įdiegiam pakuotę skirtą atsisiųst duomenims"
   ]
  },
  {
   "cell_type": "code",
   "execution_count": null,
   "metadata": {},
   "outputs": [],
   "source": [
    "pip install pandas_datareader"
   ]
  },
  {
   "cell_type": "code",
   "execution_count": null,
   "metadata": {},
   "outputs": [],
   "source": [
    "import pandas_datareader.data as web"
   ]
  },
  {
   "cell_type": "markdown",
   "metadata": {},
   "source": [
    "Pirmiausiai atsisiunčiam ir vizualizuojame duomenis\n",
    "\n",
    "- Nvidia kainos kaita nuo 2004"
   ]
  },
  {
   "cell_type": "code",
   "execution_count": null,
   "metadata": {},
   "outputs": [],
   "source": [
    "nvidia = web.DataReader(\"nvda\", start=\"2004\", end=\"2021\", data_source=\"yahoo\")\n",
    "nvidia.head()"
   ]
  },
  {
   "cell_type": "code",
   "execution_count": null,
   "metadata": {},
   "outputs": [],
   "source": [
    "fig = plt.figure(figsize=(20, 20))\n",
    "ax = plt.axes()\n",
    "ax.plot(nvidia[\"Close\"], color=\"red\", linestyle=\"-\")\n",
    "ax.plot(nvidia[\"Open\"], color=\"blue\", linestyle=\"-\")\n",
    "ax.axis(\"tight\")\n",
    "ax.set_title(\"Nvidia price chart\")\n",
    "ax.set_xlabel(\"Year\")\n",
    "ax.set_ylabel(\"Price\")\n",
    "ax.legend([\"Closing price\", \"Opening price\"]);"
   ]
  },
  {
   "cell_type": "markdown",
   "metadata": {},
   "source": [
    "## Data"
   ]
  },
  {
   "cell_type": "code",
   "execution_count": null,
   "metadata": {},
   "outputs": [],
   "source": [
    "nvidia.index"
   ]
  },
  {
   "cell_type": "markdown",
   "metadata": {},
   "source": [
    "a) Python"
   ]
  },
  {
   "cell_type": "code",
   "execution_count": null,
   "metadata": {},
   "outputs": [],
   "source": [
    "datetime.datetime(year=2019, month=10, day=1)"
   ]
  },
  {
   "cell_type": "markdown",
   "metadata": {},
   "source": [
    "datetime.datetime(2019, 10, 1, 0, 0)\n",
    "\n",
    "b) NumPy"
   ]
  },
  {
   "cell_type": "code",
   "execution_count": null,
   "metadata": {},
   "outputs": [],
   "source": [
    "date = np.array(\"2019-10-01\", dtype=np.datetime64)\n",
    "date"
   ]
  },
  {
   "cell_type": "markdown",
   "metadata": {},
   "source": [
    "c) Pandas timestamp"
   ]
  },
  {
   "cell_type": "code",
   "execution_count": null,
   "metadata": {},
   "outputs": [],
   "source": [
    "pd.to_datetime([\"2020-03-26\"])"
   ]
  },
  {
   "cell_type": "code",
   "execution_count": null,
   "metadata": {},
   "outputs": [],
   "source": [
    "pd.to_datetime([\"1/1/2018\", np.datetime64(\"2018-01-01\"),\n",
    "                datetime.datetime(2018, 1, 1)])"
   ]
  },
  {
   "cell_type": "code",
   "execution_count": null,
   "metadata": {},
   "outputs": [],
   "source": [
    "pd.Timestamp(1513393355.5, unit=\"s\")"
   ]
  },
  {
   "cell_type": "code",
   "execution_count": null,
   "metadata": {},
   "outputs": [],
   "source": [
    "pd.Timestamp(year=2020, month=1, day=1, hour=12)"
   ]
  },
  {
   "cell_type": "code",
   "execution_count": null,
   "metadata": {},
   "outputs": [],
   "source": [
    "pd.Timestamp(year=2020, month=1, day=2, hour=12).strftime(\"%A\")"
   ]
  },
  {
   "cell_type": "code",
   "execution_count": null,
   "metadata": {},
   "outputs": [],
   "source": [
    "pd.Timestamp(year=2020, month=1, day=2, hour=12).isocalendar()"
   ]
  },
  {
   "cell_type": "code",
   "execution_count": null,
   "metadata": {},
   "outputs": [],
   "source": [
    "pd.Timestamp.today()"
   ]
  },
  {
   "cell_type": "markdown",
   "metadata": {},
   "source": [
    "`pd.NaT` koduoja trūkstamas datas"
   ]
  },
  {
   "cell_type": "code",
   "execution_count": null,
   "metadata": {},
   "outputs": [],
   "source": [
    "pd.Timestamp(pd.NaT)"
   ]
  },
  {
   "cell_type": "markdown",
   "metadata": {},
   "source": [
    "Aritmetika su datom"
   ]
  },
  {
   "cell_type": "code",
   "execution_count": null,
   "metadata": {},
   "outputs": [],
   "source": [
    "date + pd.to_timedelta(np.arange(3), \"D\")"
   ]
  },
  {
   "cell_type": "markdown",
   "metadata": {},
   "source": [
    "Generuojam masyvą datų"
   ]
  },
  {
   "cell_type": "code",
   "execution_count": null,
   "metadata": {},
   "outputs": [],
   "source": [
    "start = datetime.datetime(2011, 1, 1)\n",
    "end = datetime.datetime(2012, 1, 1)\n",
    "index = pd.date_range(start, end)\n",
    "index"
   ]
  },
  {
   "cell_type": "code",
   "execution_count": null,
   "metadata": {},
   "outputs": [],
   "source": [
    "idx = pd.date_range(\"today\", periods=7, freq=\"D\")\n",
    "idx"
   ]
  },
  {
   "cell_type": "code",
   "execution_count": null,
   "metadata": {},
   "outputs": [],
   "source": [
    "pd.date_range(start, periods=1000, freq=\"M\")"
   ]
  },
  {
   "cell_type": "markdown",
   "metadata": {},
   "source": [
    "[Trumpiniai datų](https://pandas.pydata.org/pandas-docs/stable/user_guide/timeseries.html#timeseries-offset-aliases)\n",
    "\n",
    "`Timedelta` vaizduoja trukmę\\skirtumą tarp datų"
   ]
  },
  {
   "cell_type": "code",
   "execution_count": null,
   "metadata": {},
   "outputs": [],
   "source": [
    "pd.Timestamp.today() + pd.Timedelta(\"1 day\")"
   ]
  },
  {
   "cell_type": "markdown",
   "metadata": {},
   "source": [
    "Datas dažniausiai naudoja indeksui"
   ]
  },
  {
   "cell_type": "code",
   "execution_count": null,
   "metadata": {},
   "outputs": [],
   "source": [
    "data = pd.Series(np.arange(7), index=idx)\n",
    "data"
   ]
  },
  {
   "cell_type": "code",
   "execution_count": null,
   "metadata": {},
   "outputs": [],
   "source": [
    "data[\"2020-10-28\"]"
   ]
  },
  {
   "cell_type": "code",
   "execution_count": null,
   "metadata": {},
   "outputs": [],
   "source": [
    "data[\"2020-10-28\":\"2020-10-30\"]"
   ]
  },
  {
   "cell_type": "code",
   "execution_count": null,
   "metadata": {},
   "outputs": [],
   "source": [
    "nvidia[\"2018\"]"
   ]
  },
  {
   "cell_type": "code",
   "execution_count": null,
   "metadata": {},
   "outputs": [],
   "source": [
    "nvidia[\"2018-10\":\"2018-12\"]"
   ]
  },
  {
   "cell_type": "code",
   "execution_count": null,
   "metadata": {},
   "outputs": [],
   "source": [
    "nvidia.index.resolution"
   ]
  },
  {
   "cell_type": "code",
   "execution_count": null,
   "metadata": {},
   "outputs": [],
   "source": [
    "nvidia.truncate(after=\"2008-11\", before=\"2006\")"
   ]
  },
  {
   "cell_type": "markdown",
   "metadata": {},
   "source": [
    "### `shift`"
   ]
  },
  {
   "cell_type": "code",
   "execution_count": null,
   "metadata": {},
   "outputs": [],
   "source": [
    "fig, ax = plt.subplots(3, sharey=True, figsize=(20, 20))\n",
    "nvidia = nvidia.asfreq(\"D\", method=\"pad\")\n",
    "nvidia[\"Close\"].plot(ax=ax[0])\n",
    "nvidia[\"Close\"].shift(900).plot(ax=ax[1])  # shift values\n",
    "nvidia[\"Close\"].tshift(900).plot(ax=ax[2]);  # shift index"
   ]
  },
  {
   "cell_type": "markdown",
   "metadata": {},
   "source": [
    "### `resample`"
   ]
  },
  {
   "cell_type": "code",
   "execution_count": null,
   "metadata": {},
   "outputs": [],
   "source": [
    "idx = pd.date_range(\"2018-01-01\", periods=5, freq=\"H\")\n",
    "idx"
   ]
  },
  {
   "cell_type": "code",
   "execution_count": null,
   "metadata": {},
   "outputs": [],
   "source": [
    "ts = pd.Series(range(len(idx)), index=idx)\n",
    "ts"
   ]
  },
  {
   "cell_type": "code",
   "execution_count": null,
   "metadata": {},
   "outputs": [],
   "source": [
    "ts.resample(\"2H\").mean()"
   ]
  },
  {
   "cell_type": "markdown",
   "metadata": {},
   "source": [
    "`resample`  skaičiuoja vidutines vertes\n",
    "\n",
    "`asfreq` naudoja paskutinę vertę"
   ]
  },
  {
   "cell_type": "code",
   "execution_count": null,
   "metadata": {},
   "outputs": [],
   "source": [
    "plt.figure(figsize=(20, 20))\n",
    "nvidia[\"Close\"].plot(alpha=0.5, style=\"-\", color=\"red\", label='original')\n",
    "resampled_mean = nvidia[\"Close\"].resample(\"BA\").mean()\n",
    "resampled_mean.plot(style=\":\", color=\"blue\", label='resample')\n",
    "resampled_asfreq = nvidia[\"Close\"].asfreq(\"BA\")\n",
    "resampled_asfreq.plot(style=\"--\", color=\"black\", label='asfreq')\n",
    "plt.legend();"
   ]
  },
  {
   "cell_type": "markdown",
   "metadata": {},
   "source": [
    "Panašiai veikia slenkantis langas (rolling window)"
   ]
  },
  {
   "cell_type": "code",
   "execution_count": null,
   "metadata": {},
   "outputs": [],
   "source": [
    "plt.figure(figsize=(10, 10))\n",
    "nvidia[\"Close\"].plot()\n",
    "nvidia[\"Close\"].rolling(1000).mean().plot();"
   ]
  },
  {
   "cell_type": "markdown",
   "metadata": {},
   "source": [
    "scipy.signal keičią dažnį naudodamas Fourier"
   ]
  },
  {
   "cell_type": "code",
   "execution_count": null,
   "metadata": {},
   "outputs": [],
   "source": [
    "resampled_nvidia = pd.DataFrame(signal.resample(\n",
    "    nvidia[\"Close\"], 17), index=resampled_mean.index)\n",
    "plt.figure(figsize=(10, 10))\n",
    "plt.plot(nvidia[\"Close\"], label=\"original\")\n",
    "plt.plot(resampled_mean, label=\"resample\")\n",
    "plt.plot(resampled_asfreq, label=\"asfreq\")\n",
    "plt.plot(resampled_nvidia, label=\"scipy resample\")\n",
    "plt.legend(loc=\"upper left\");"
   ]
  },
  {
   "cell_type": "markdown",
   "metadata": {},
   "source": [
    "## Interpoliacija\n",
    "\n",
    "Trūkstami elementai gali būti atstatyti naudojant juos supančius elementus\n",
    "\n",
    "Pirmiausiai ištrinam dalį duomenų algoritmų vizualizacijos tikslais"
   ]
  },
  {
   "cell_type": "code",
   "execution_count": null,
   "metadata": {},
   "outputs": [],
   "source": [
    "nvidia_spoiled = nvidia[\"Close\"].copy()\n",
    "nvidia_spoiled[\"2018\"] = np.nan\n",
    "nvidia_spoiled[\"2014\"] = np.nan"
   ]
  },
  {
   "cell_type": "markdown",
   "metadata": {},
   "source": [
    "Dažniausiai naudojami metodai:\n",
    "\n",
    "- Tiesinė interpoliacija - veda tiesia liniją tarp dviejų artimiausių taškų\n",
    "- Artimiausių kaimynų metodas užpildo vertes artimiausių kaimynų\n",
    "  vertėmis.\n",
    "Puikiai veikia su daugiadimensiais duomenimis."
   ]
  },
  {
   "cell_type": "code",
   "execution_count": null,
   "metadata": {},
   "outputs": [],
   "source": [
    "fig, ax = plt.subplots(2, 2, sharey=True, sharex=True, figsize=(10, 10))\n",
    "nvidia[\"Close\"].plot(alpha=0.5, style=\"-\", color=\"red\",\n",
    "                     ax=ax[0, 0], title=\"orginalas\")\n",
    "nvidia_spoiled.plot(alpha=0.5, style=\"-\", color=\"black\",\n",
    "                    ax=ax[0, 1], title=\"sugadinti duomenys\")\n",
    "\n",
    "nvidia_spoiled.interpolate(method=\"linear\").plot(\n",
    "    alpha=0.5, style=\"-\", color=\"orange\", ax=ax[1, 0], title=\"tiesinė interpoliacija\"\n",
    ")\n",
    "nvidia_spoiled.interpolate(method=\"nearest\").plot(\n",
    "    alpha=0.5, style=\"-\", color=\"blue\", ax=ax[1, 1], title=\"artimiausi kaimynai\"\n",
    ");"
   ]
  },
  {
   "cell_type": "markdown",
   "metadata": {},
   "source": [
    "- Polynomials. Trūkstami taškai aprašomi lygtimi naudojant visus duomenis.\n",
    "- Spline. Matrica lygčių\n",
    "- akima. Optimizuotas spline naudojantis tik artimiausius taškus.\n",
    "- pchip. Panašus į akima, mažiau glotnus."
   ]
  },
  {
   "cell_type": "code",
   "execution_count": null,
   "metadata": {},
   "outputs": [],
   "source": [
    "fig, ax = plt.subplots(3, 2, sharey=True, sharex=True, figsize=(10, 10))\n",
    "nvidia[\"Close\"].plot(alpha=0.5, style=\"-\", color=\"red\",\n",
    "                     ax=ax[0, 0], title=\"orginalus\")\n",
    "nvidia_spoiled.plot(alpha=0.5, style=\"-\", color=\"black\",\n",
    "                    ax=ax[0, 1], title=\"sugadintas\")\n",
    "nvidia_spoiled.interpolate(method=\"polynomial\", order=2).plot(\n",
    "    alpha=0.5, style=\"-\", color=\"blue\", ax=ax[1, 0], title=\"2 laipnsio polinomas\"\n",
    ")\n",
    "nvidia_spoiled.interpolate(method=\"spline\", order=3).plot(\n",
    "    alpha=0.5, style=\"-\", color=\"orange\", ax=ax[1, 1], title=\"3 laipnsio spline\"\n",
    ")\n",
    "nvidia_spoiled.interpolate(method=\"akima\").plot(\n",
    "    alpha=0.5, style=\"-\", color=\"grey\", ax=ax[2, 0], title=\"akima\"\n",
    ")\n",
    "nvidia_spoiled.interpolate(method=\"pchip\").plot(\n",
    "    alpha=0.5, style=\"-\", color=\"brown\", ax=ax[2, 1], title=\"pchip\"\n",
    ");"
   ]
  },
  {
   "cell_type": "code",
   "execution_count": null,
   "metadata": {},
   "outputs": [],
   "source": []
  }
 ],
 "metadata": {
  "jupytext": {
   "cell_metadata_filter": "-all",
   "encoding": "# -*- coding: utf-8 -*-",
   "formats": "ipynb,py:light,md:myst"
  },
  "kernelspec": {
   "display_name": "Python 3",
   "language": "python",
   "name": "python3"
  },
  "language_info": {
   "codemirror_mode": {
    "name": "ipython",
    "version": 3
   },
   "file_extension": ".py",
   "mimetype": "text/x-python",
   "name": "python",
   "nbconvert_exporter": "python",
   "pygments_lexer": "ipython3",
   "version": "3.8.3"
  }
 },
 "nbformat": 4,
 "nbformat_minor": 4
}
