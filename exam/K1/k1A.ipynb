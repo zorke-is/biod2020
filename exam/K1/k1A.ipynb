{
 "cells": [
  {
   "cell_type": "markdown",
   "metadata": {},
   "source": [
    "# Bioduomenų surinkimas ir analizė\n",
    "\n",
    "2020-10-06\n",
    "\n",
    "Sprendimus siųskite (vardas_pavarde_k1.ipynb; ipynb ir pdf/html formatais)\n",
    "iki 2020-10-10 23:55 į avoicikas@gmail.com"
   ]
  },
  {
   "cell_type": "markdown",
   "metadata": {},
   "source": [
    "Įveskite savo vardą ir pavardę"
   ]
  },
  {
   "cell_type": "raw",
   "metadata": {},
   "source": []
  },
  {
   "cell_type": "markdown",
   "metadata": {},
   "source": [
    "Vertinimas\n",
    "\n",
    "- Komentarai (veiksmų planas ir paaiškinimas) 50 %\n",
    "- Programos kodas 25 %\n",
    "- Rezultatas 25 %"
   ]
  },
  {
   "cell_type": "markdown",
   "metadata": {},
   "source": [
    "---\n",
    ">> **1. UŽDUOTIS**\n",
    ">>\n",
    ">> - Python pagrindai\n",
    ">>\n",
    "\n",
    "---\n",
    "\n",
    "## a) Gauti elementus iš sąrašo"
   ]
  },
  {
   "cell_type": "code",
   "execution_count": 21,
   "metadata": {},
   "outputs": [
    {
     "data": {
      "text/plain": [
       "['12345', ['a', 'b', ['c', 'df'], 6], 78]"
      ]
     },
     "execution_count": 21,
     "metadata": {},
     "output_type": "execute_result"
    }
   ],
   "source": [
    "listA1 = ['12345', ['a', 'b', ['c', 'df'], 6], 78]\n",
    "listA1"
   ]
  },
  {
   "cell_type": "markdown",
   "metadata": {},
   "source": [
    "### 78"
   ]
  },
  {
   "cell_type": "code",
   "execution_count": 22,
   "metadata": {},
   "outputs": [
    {
     "data": {
      "text/plain": [
       "78"
      ]
     },
     "execution_count": 22,
     "metadata": {},
     "output_type": "execute_result"
    }
   ],
   "source": [
    "listA1[2]"
   ]
  },
  {
   "cell_type": "markdown",
   "metadata": {},
   "source": [
    "### 2"
   ]
  },
  {
   "cell_type": "code",
   "execution_count": 23,
   "metadata": {},
   "outputs": [
    {
     "data": {
      "text/plain": [
       "2"
      ]
     },
     "execution_count": 23,
     "metadata": {},
     "output_type": "execute_result"
    }
   ],
   "source": [
    "int(listA1[0][1])"
   ]
  },
  {
   "cell_type": "markdown",
   "metadata": {},
   "source": [
    "### b"
   ]
  },
  {
   "cell_type": "code",
   "execution_count": 24,
   "metadata": {},
   "outputs": [
    {
     "name": "stdout",
     "output_type": "stream",
     "text": [
      "b\n"
     ]
    }
   ],
   "source": [
    "print(listA1[1][1])"
   ]
  },
  {
   "cell_type": "markdown",
   "metadata": {},
   "source": [
    "### d"
   ]
  },
  {
   "cell_type": "code",
   "execution_count": 25,
   "metadata": {},
   "outputs": [
    {
     "name": "stdout",
     "output_type": "stream",
     "text": [
      "d\n"
     ]
    }
   ],
   "source": [
    "print(listA1[1][2][1][0])"
   ]
  },
  {
   "cell_type": "markdown",
   "metadata": {},
   "source": [
    "### a,b"
   ]
  },
  {
   "cell_type": "code",
   "execution_count": 26,
   "metadata": {},
   "outputs": [
    {
     "name": "stdout",
     "output_type": "stream",
     "text": [
      "a,b\n"
     ]
    }
   ],
   "source": [
    "print(listA1[1][0]+','+listA1[1][1])"
   ]
  },
  {
   "cell_type": "markdown",
   "metadata": {},
   "source": [
    "### 234"
   ]
  },
  {
   "cell_type": "code",
   "execution_count": 27,
   "metadata": {},
   "outputs": [
    {
     "data": {
      "text/plain": [
       "234"
      ]
     },
     "execution_count": 27,
     "metadata": {},
     "output_type": "execute_result"
    }
   ],
   "source": [
    "int(listA1[0][1:4])"
   ]
  },
  {
   "cell_type": "markdown",
   "metadata": {},
   "source": [
    "## b) Naudojant du sąrašus `listB1` ir `listB2` sukurti sąrašą\n",
    "\n",
    "res_list --> ['two', 4+9j]"
   ]
  },
  {
   "cell_type": "code",
   "execution_count": 28,
   "metadata": {},
   "outputs": [],
   "source": [
    "listB1 = [1, 'two', False, 3.14, 4+9j]\n",
    "listB2 = [1, 4]"
   ]
  },
  {
   "cell_type": "code",
   "execution_count": 29,
   "metadata": {},
   "outputs": [
    {
     "data": {
      "text/plain": [
       "['two', (4+9j)]"
      ]
     },
     "execution_count": 29,
     "metadata": {},
     "output_type": "execute_result"
    }
   ],
   "source": [
    "res_list = []\n",
    "for element in listB2:\n",
    "    res_list.append(listB1[element])\n",
    "\n",
    "res_list"
   ]
  },
  {
   "cell_type": "markdown",
   "metadata": {},
   "source": [
    "## c) Gauti elementus iš žodyno"
   ]
  },
  {
   "cell_type": "code",
   "execution_count": 30,
   "metadata": {},
   "outputs": [
    {
     "data": {
      "text/plain": [
       "{'Monday': ['Bioethics'],\n",
       " 'Tuesday': ['Biophysical Nanotechnologies'],\n",
       " 'Thursday': ['Biological Membranes',\n",
       "  'Biophysics of Control Systems',\n",
       "  'Biophysics of Neuron'],\n",
       " 'Wednesday': ['Cell Technologies', 'Biological data analysis'],\n",
       " 'Friday': 'Research project',\n",
       " 'Saturday': 'None',\n",
       " 'Sunday': 'None'}"
      ]
     },
     "execution_count": 30,
     "metadata": {},
     "output_type": "execute_result"
    }
   ],
   "source": [
    "Classes = {\n",
    "            'Monday': ['Bioethics'],\n",
    "            'Tuesday': ['Biophysical Nanotechnologies'],\n",
    "            'Thursday': ['Biological Membranes', 'Biophysics of Control Systems', 'Biophysics of Neuron'],\n",
    "            'Wednesday': ['Cell Technologies', 'Biological data analysis'],\n",
    "            'Friday': 'Research project',\n",
    "            'Saturday': 'None',\n",
    "            'Sunday': 'None'\n",
    "           }\n",
    "Classes"
   ]
  },
  {
   "cell_type": "markdown",
   "metadata": {},
   "source": [
    "### Bioethics"
   ]
  },
  {
   "cell_type": "code",
   "execution_count": 31,
   "metadata": {},
   "outputs": [
    {
     "data": {
      "text/plain": [
       "'Bioethics'"
      ]
     },
     "execution_count": 31,
     "metadata": {},
     "output_type": "execute_result"
    }
   ],
   "source": [
    "Classes[\"Monday\"][0]"
   ]
  },
  {
   "cell_type": "markdown",
   "metadata": {},
   "source": [
    "### Biophysics of Neuron"
   ]
  },
  {
   "cell_type": "code",
   "execution_count": 32,
   "metadata": {},
   "outputs": [
    {
     "data": {
      "text/plain": [
       "'Biophysics of Neuron'"
      ]
     },
     "execution_count": 32,
     "metadata": {},
     "output_type": "execute_result"
    }
   ],
   "source": [
    "Classes[\"Thursday\"][2]"
   ]
  },
  {
   "cell_type": "markdown",
   "metadata": {},
   "source": [
    "### ['Monday', 'Tuesday', 'Thursday', 'Wednesday', 'Friday', 'Saturday', 'Sunday']"
   ]
  },
  {
   "cell_type": "code",
   "execution_count": 33,
   "metadata": {},
   "outputs": [
    {
     "data": {
      "text/plain": [
       "['Monday', 'Tuesday', 'Thursday', 'Wednesday', 'Friday', 'Saturday', 'Sunday']"
      ]
     },
     "execution_count": 33,
     "metadata": {},
     "output_type": "execute_result"
    }
   ],
   "source": [
    "list(Classes.keys())"
   ]
  },
  {
   "cell_type": "markdown",
   "metadata": {},
   "source": [
    "### Thursday"
   ]
  },
  {
   "cell_type": "code",
   "execution_count": 34,
   "metadata": {},
   "outputs": [
    {
     "data": {
      "text/plain": [
       "'Thursday'"
      ]
     },
     "execution_count": 34,
     "metadata": {},
     "output_type": "execute_result"
    }
   ],
   "source": [
    "list(Classes.keys())[2]"
   ]
  },
  {
   "cell_type": "markdown",
   "metadata": {},
   "source": [
    "### Nanotechnolog"
   ]
  },
  {
   "cell_type": "code",
   "execution_count": 35,
   "metadata": {},
   "outputs": [
    {
     "data": {
      "text/plain": [
       "'Nanotechnolog'"
      ]
     },
     "execution_count": 35,
     "metadata": {},
     "output_type": "execute_result"
    }
   ],
   "source": [
    "Classes[\"Tuesday\"][0][12:25]"
   ]
  },
  {
   "cell_type": "markdown",
   "metadata": {},
   "source": [
    "### friday"
   ]
  },
  {
   "cell_type": "code",
   "execution_count": 37,
   "metadata": {},
   "outputs": [
    {
     "data": {
      "text/plain": [
       "'friday'"
      ]
     },
     "execution_count": 37,
     "metadata": {},
     "output_type": "execute_result"
    }
   ],
   "source": [
    "list(Classes.keys())[4].lower()"
   ]
  },
  {
   "cell_type": "markdown",
   "metadata": {},
   "source": [
    "### d) Sukurti žodyną kurio raktai `keys` skaičiai nuo 1 iki 1000, o vertės `values` raktų kvadratai\n",
    "\n",
    "Out[1]: {1: 1, 2: 4, 3: 9, 4: 16, 5: 25, 6: 36, 7: 49, 8: 64, 9: 81, .....}"
   ]
  },
  {
   "cell_type": "code",
   "execution_count": 38,
   "metadata": {},
   "outputs": [
    {
     "name": "stdout",
     "output_type": "stream",
     "text": [
      "{1: 1, 2: 4, 3: 9, 4: 16, 5: 25, 6: 36, 7: 49, 8: 64, 9: 81, 10: 100, 11: 121, 12: 144, 13: 169, 14: 196, 15: 225, 16: 256, 17: 289, 18: 324, 19: 361, 20: 400, 21: 441, 22: 484, 23: 529, 24: 576, 25: 625, 26: 676, 27: 729, 28: 784, 29: 841, 30: 900, 31: 961, 32: 1024, 33: 1089, 34: 1156, 35: 1225, 36: 1296, 37: 1369, 38: 1444, 39: 1521, 40: 1600, 41: 1681, 42: 1764, 43: 1849, 44: 1936, 45: 2025, 46: 2116, 47: 2209, 48: 2304, 49: 2401, 50: 2500, 51: 2601, 52: 2704, 53: 2809, 54: 2916, 55: 3025, 56: 3136, 57: 3249, 58: 3364, 59: 3481, 60: 3600, 61: 3721, 62: 3844, 63: 3969, 64: 4096, 65: 4225, 66: 4356, 67: 4489, 68: 4624, 69: 4761, 70: 4900, 71: 5041, 72: 5184, 73: 5329, 74: 5476, 75: 5625, 76: 5776, 77: 5929, 78: 6084, 79: 6241, 80: 6400, 81: 6561, 82: 6724, 83: 6889, 84: 7056, 85: 7225, 86: 7396, 87: 7569, 88: 7744, 89: 7921, 90: 8100, 91: 8281, 92: 8464, 93: 8649, 94: 8836, 95: 9025, 96: 9216, 97: 9409, 98: 9604, 99: 9801, 100: 10000, 101: 10201, 102: 10404, 103: 10609, 104: 10816, 105: 11025, 106: 11236, 107: 11449, 108: 11664, 109: 11881, 110: 12100, 111: 12321, 112: 12544, 113: 12769, 114: 12996, 115: 13225, 116: 13456, 117: 13689, 118: 13924, 119: 14161, 120: 14400, 121: 14641, 122: 14884, 123: 15129, 124: 15376, 125: 15625, 126: 15876, 127: 16129, 128: 16384, 129: 16641, 130: 16900, 131: 17161, 132: 17424, 133: 17689, 134: 17956, 135: 18225, 136: 18496, 137: 18769, 138: 19044, 139: 19321, 140: 19600, 141: 19881, 142: 20164, 143: 20449, 144: 20736, 145: 21025, 146: 21316, 147: 21609, 148: 21904, 149: 22201, 150: 22500, 151: 22801, 152: 23104, 153: 23409, 154: 23716, 155: 24025, 156: 24336, 157: 24649, 158: 24964, 159: 25281, 160: 25600, 161: 25921, 162: 26244, 163: 26569, 164: 26896, 165: 27225, 166: 27556, 167: 27889, 168: 28224, 169: 28561, 170: 28900, 171: 29241, 172: 29584, 173: 29929, 174: 30276, 175: 30625, 176: 30976, 177: 31329, 178: 31684, 179: 32041, 180: 32400, 181: 32761, 182: 33124, 183: 33489, 184: 33856, 185: 34225, 186: 34596, 187: 34969, 188: 35344, 189: 35721, 190: 36100, 191: 36481, 192: 36864, 193: 37249, 194: 37636, 195: 38025, 196: 38416, 197: 38809, 198: 39204, 199: 39601, 200: 40000, 201: 40401, 202: 40804, 203: 41209, 204: 41616, 205: 42025, 206: 42436, 207: 42849, 208: 43264, 209: 43681, 210: 44100, 211: 44521, 212: 44944, 213: 45369, 214: 45796, 215: 46225, 216: 46656, 217: 47089, 218: 47524, 219: 47961, 220: 48400, 221: 48841, 222: 49284, 223: 49729, 224: 50176, 225: 50625, 226: 51076, 227: 51529, 228: 51984, 229: 52441, 230: 52900, 231: 53361, 232: 53824, 233: 54289, 234: 54756, 235: 55225, 236: 55696, 237: 56169, 238: 56644, 239: 57121, 240: 57600, 241: 58081, 242: 58564, 243: 59049, 244: 59536, 245: 60025, 246: 60516, 247: 61009, 248: 61504, 249: 62001, 250: 62500, 251: 63001, 252: 63504, 253: 64009, 254: 64516, 255: 65025, 256: 65536, 257: 66049, 258: 66564, 259: 67081, 260: 67600, 261: 68121, 262: 68644, 263: 69169, 264: 69696, 265: 70225, 266: 70756, 267: 71289, 268: 71824, 269: 72361, 270: 72900, 271: 73441, 272: 73984, 273: 74529, 274: 75076, 275: 75625, 276: 76176, 277: 76729, 278: 77284, 279: 77841, 280: 78400, 281: 78961, 282: 79524, 283: 80089, 284: 80656, 285: 81225, 286: 81796, 287: 82369, 288: 82944, 289: 83521, 290: 84100, 291: 84681, 292: 85264, 293: 85849, 294: 86436, 295: 87025, 296: 87616, 297: 88209, 298: 88804, 299: 89401, 300: 90000, 301: 90601, 302: 91204, 303: 91809, 304: 92416, 305: 93025, 306: 93636, 307: 94249, 308: 94864, 309: 95481, 310: 96100, 311: 96721, 312: 97344, 313: 97969, 314: 98596, 315: 99225, 316: 99856, 317: 100489, 318: 101124, 319: 101761, 320: 102400, 321: 103041, 322: 103684, 323: 104329, 324: 104976, 325: 105625, 326: 106276, 327: 106929, 328: 107584, 329: 108241, 330: 108900, 331: 109561, 332: 110224, 333: 110889, 334: 111556, 335: 112225, 336: 112896, 337: 113569, 338: 114244, 339: 114921, 340: 115600, 341: 116281, 342: 116964, 343: 117649, 344: 118336, 345: 119025, 346: 119716, 347: 120409, 348: 121104, 349: 121801, 350: 122500, 351: 123201, 352: 123904, 353: 124609, 354: 125316, 355: 126025, 356: 126736, 357: 127449, 358: 128164, 359: 128881, 360: 129600, 361: 130321, 362: 131044, 363: 131769, 364: 132496, 365: 133225, 366: 133956, 367: 134689, 368: 135424, 369: 136161, 370: 136900, 371: 137641, 372: 138384, 373: 139129, 374: 139876, 375: 140625, 376: 141376, 377: 142129, 378: 142884, 379: 143641, 380: 144400, 381: 145161, 382: 145924, 383: 146689, 384: 147456, 385: 148225, 386: 148996, 387: 149769, 388: 150544, 389: 151321, 390: 152100, 391: 152881, 392: 153664, 393: 154449, 394: 155236, 395: 156025, 396: 156816, 397: 157609, 398: 158404, 399: 159201, 400: 160000, 401: 160801, 402: 161604, 403: 162409, 404: 163216, 405: 164025, 406: 164836, 407: 165649, 408: 166464, 409: 167281, 410: 168100, 411: 168921, 412: 169744, 413: 170569, 414: 171396, 415: 172225, 416: 173056, 417: 173889, 418: 174724, 419: 175561, 420: 176400, 421: 177241, 422: 178084, 423: 178929, 424: 179776, 425: 180625, 426: 181476, 427: 182329, 428: 183184, 429: 184041, 430: 184900, 431: 185761, 432: 186624, 433: 187489, 434: 188356, 435: 189225, 436: 190096, 437: 190969, 438: 191844, 439: 192721, 440: 193600, 441: 194481, 442: 195364, 443: 196249, 444: 197136, 445: 198025, 446: 198916, 447: 199809, 448: 200704, 449: 201601, 450: 202500, 451: 203401, 452: 204304, 453: 205209, 454: 206116, 455: 207025, 456: 207936, 457: 208849, 458: 209764, 459: 210681, 460: 211600, 461: 212521, 462: 213444, 463: 214369, 464: 215296, 465: 216225, 466: 217156, 467: 218089, 468: 219024, 469: 219961, 470: 220900, 471: 221841, 472: 222784, 473: 223729, 474: 224676, 475: 225625, 476: 226576, 477: 227529, 478: 228484, 479: 229441, 480: 230400, 481: 231361, 482: 232324, 483: 233289, 484: 234256, 485: 235225, 486: 236196, 487: 237169, 488: 238144, 489: 239121, 490: 240100, 491: 241081, 492: 242064, 493: 243049, 494: 244036, 495: 245025, 496: 246016, 497: 247009, 498: 248004, 499: 249001, 500: 250000, 501: 251001, 502: 252004, 503: 253009, 504: 254016, 505: 255025, 506: 256036, 507: 257049, 508: 258064, 509: 259081, 510: 260100, 511: 261121, 512: 262144, 513: 263169, 514: 264196, 515: 265225, 516: 266256, 517: 267289, 518: 268324, 519: 269361, 520: 270400, 521: 271441, 522: 272484, 523: 273529, 524: 274576, 525: 275625, 526: 276676, 527: 277729, 528: 278784, 529: 279841, 530: 280900, 531: 281961, 532: 283024, 533: 284089, 534: 285156, 535: 286225, 536: 287296, 537: 288369, 538: 289444, 539: 290521, 540: 291600, 541: 292681, 542: 293764, 543: 294849, 544: 295936, 545: 297025, 546: 298116, 547: 299209, 548: 300304, 549: 301401, 550: 302500, 551: 303601, 552: 304704, 553: 305809, 554: 306916, 555: 308025, 556: 309136, 557: 310249, 558: 311364, 559: 312481, 560: 313600, 561: 314721, 562: 315844, 563: 316969, 564: 318096, 565: 319225, 566: 320356, 567: 321489, 568: 322624, 569: 323761, 570: 324900, 571: 326041, 572: 327184, 573: 328329, 574: 329476, 575: 330625, 576: 331776, 577: 332929, 578: 334084, 579: 335241, 580: 336400, 581: 337561, 582: 338724, 583: 339889, 584: 341056, 585: 342225, 586: 343396, 587: 344569, 588: 345744, 589: 346921, 590: 348100, 591: 349281, 592: 350464, 593: 351649, 594: 352836, 595: 354025, 596: 355216, 597: 356409, 598: 357604, 599: 358801, 600: 360000, 601: 361201, 602: 362404, 603: 363609, 604: 364816, 605: 366025, 606: 367236, 607: 368449, 608: 369664, 609: 370881, 610: 372100, 611: 373321, 612: 374544, 613: 375769, 614: 376996, 615: 378225, 616: 379456, 617: 380689, 618: 381924, 619: 383161, 620: 384400, 621: 385641, 622: 386884, 623: 388129, 624: 389376, 625: 390625, 626: 391876, 627: 393129, 628: 394384, 629: 395641, 630: 396900, 631: 398161, 632: 399424, 633: 400689, 634: 401956, 635: 403225, 636: 404496, 637: 405769, 638: 407044, 639: 408321, 640: 409600, 641: 410881, 642: 412164, 643: 413449, 644: 414736, 645: 416025, 646: 417316, 647: 418609, 648: 419904, 649: 421201, 650: 422500, 651: 423801, 652: 425104, 653: 426409, 654: 427716, 655: 429025, 656: 430336, 657: 431649, 658: 432964, 659: 434281, 660: 435600, 661: 436921, 662: 438244, 663: 439569, 664: 440896, 665: 442225, 666: 443556, 667: 444889, 668: 446224, 669: 447561, 670: 448900, 671: 450241, 672: 451584, 673: 452929, 674: 454276, 675: 455625, 676: 456976, 677: 458329, 678: 459684, 679: 461041, 680: 462400, 681: 463761, 682: 465124, 683: 466489, 684: 467856, 685: 469225, 686: 470596, 687: 471969, 688: 473344, 689: 474721, 690: 476100, 691: 477481, 692: 478864, 693: 480249, 694: 481636, 695: 483025, 696: 484416, 697: 485809, 698: 487204, 699: 488601, 700: 490000, 701: 491401, 702: 492804, 703: 494209, 704: 495616, 705: 497025, 706: 498436, 707: 499849, 708: 501264, 709: 502681, 710: 504100, 711: 505521, 712: 506944, 713: 508369, 714: 509796, 715: 511225, 716: 512656, 717: 514089, 718: 515524, 719: 516961, 720: 518400, 721: 519841, 722: 521284, 723: 522729, 724: 524176, 725: 525625, 726: 527076, 727: 528529, 728: 529984, 729: 531441, 730: 532900, 731: 534361, 732: 535824, 733: 537289, 734: 538756, 735: 540225, 736: 541696, 737: 543169, 738: 544644, 739: 546121, 740: 547600, 741: 549081, 742: 550564, 743: 552049, 744: 553536, 745: 555025, 746: 556516, 747: 558009, 748: 559504, 749: 561001, 750: 562500, 751: 564001, 752: 565504, 753: 567009, 754: 568516, 755: 570025, 756: 571536, 757: 573049, 758: 574564, 759: 576081, 760: 577600, 761: 579121, 762: 580644, 763: 582169, 764: 583696, 765: 585225, 766: 586756, 767: 588289, 768: 589824, 769: 591361, 770: 592900, 771: 594441, 772: 595984, 773: 597529, 774: 599076, 775: 600625, 776: 602176, 777: 603729, 778: 605284, 779: 606841, 780: 608400, 781: 609961, 782: 611524, 783: 613089, 784: 614656, 785: 616225, 786: 617796, 787: 619369, 788: 620944, 789: 622521, 790: 624100, 791: 625681, 792: 627264, 793: 628849, 794: 630436, 795: 632025, 796: 633616, 797: 635209, 798: 636804, 799: 638401, 800: 640000, 801: 641601, 802: 643204, 803: 644809, 804: 646416, 805: 648025, 806: 649636, 807: 651249, 808: 652864, 809: 654481, 810: 656100, 811: 657721, 812: 659344, 813: 660969, 814: 662596, 815: 664225, 816: 665856, 817: 667489, 818: 669124, 819: 670761, 820: 672400, 821: 674041, 822: 675684, 823: 677329, 824: 678976, 825: 680625, 826: 682276, 827: 683929, 828: 685584, 829: 687241, 830: 688900, 831: 690561, 832: 692224, 833: 693889, 834: 695556, 835: 697225, 836: 698896, 837: 700569, 838: 702244, 839: 703921, 840: 705600, 841: 707281, 842: 708964, 843: 710649, 844: 712336, 845: 714025, 846: 715716, 847: 717409, 848: 719104, 849: 720801, 850: 722500, 851: 724201, 852: 725904, 853: 727609, 854: 729316, 855: 731025, 856: 732736, 857: 734449, 858: 736164, 859: 737881, 860: 739600, 861: 741321, 862: 743044, 863: 744769, 864: 746496, 865: 748225, 866: 749956, 867: 751689, 868: 753424, 869: 755161, 870: 756900, 871: 758641, 872: 760384, 873: 762129, 874: 763876, 875: 765625, 876: 767376, 877: 769129, 878: 770884, 879: 772641, 880: 774400, 881: 776161, 882: 777924, 883: 779689, 884: 781456, 885: 783225, 886: 784996, 887: 786769, 888: 788544, 889: 790321, 890: 792100, 891: 793881, 892: 795664, 893: 797449, 894: 799236, 895: 801025, 896: 802816, 897: 804609, 898: 806404, 899: 808201, 900: 810000, 901: 811801, 902: 813604, 903: 815409, 904: 817216, 905: 819025, 906: 820836, 907: 822649, 908: 824464, 909: 826281, 910: 828100, 911: 829921, 912: 831744, 913: 833569, 914: 835396, 915: 837225, 916: 839056, 917: 840889, 918: 842724, 919: 844561, 920: 846400, 921: 848241, 922: 850084, 923: 851929, 924: 853776, 925: 855625, 926: 857476, 927: 859329, 928: 861184, 929: 863041, 930: 864900, 931: 866761, 932: 868624, 933: 870489, 934: 872356, 935: 874225, 936: 876096, 937: 877969, 938: 879844, 939: 881721, 940: 883600, 941: 885481, 942: 887364, 943: 889249, 944: 891136, 945: 893025, 946: 894916, 947: 896809, 948: 898704, 949: 900601, 950: 902500, 951: 904401, 952: 906304, 953: 908209, 954: 910116, 955: 912025, 956: 913936, 957: 915849, 958: 917764, 959: 919681, 960: 921600, 961: 923521, 962: 925444, 963: 927369, 964: 929296, 965: 931225, 966: 933156, 967: 935089, 968: 937024, 969: 938961, 970: 940900, 971: 942841, 972: 944784, 973: 946729, 974: 948676, 975: 950625, 976: 952576, 977: 954529, 978: 956484, 979: 958441, 980: 960400, 981: 962361, 982: 964324, 983: 966289, 984: 968256, 985: 970225, 986: 972196, 987: 974169, 988: 976144, 989: 978121, 990: 980100, 991: 982081, 992: 984064, 993: 986049, 994: 988036, 995: 990025, 996: 992016, 997: 994009, 998: 996004, 999: 998001, 1000: 1000000}\n"
     ]
    }
   ],
   "source": [
    "zodynas = {}\n",
    "type(zodynas)\n",
    "\n",
    "for element in range(1, 1001):\n",
    "    zodynas[element] = element ** 2\n",
    "\n",
    "print(zodynas)"
   ]
  },
  {
   "cell_type": "code",
   "execution_count": null,
   "metadata": {},
   "outputs": [],
   "source": [
    "zodynas = {x:x**2 for x in range(1,1001)}\n",
    "print(zodynas)"
   ]
  },
  {
   "cell_type": "markdown",
   "metadata": {},
   "source": [
    "### e) Naudojant sąrašų metodus apjungti list2B1, list2B2 ir list2B3 ir gauti list2B4\n",
    "\n",
    "list2B4 --> [1, 'two', False, 3.14, (3+4j), [[4, 5]], 7, 8]"
   ]
  },
  {
   "cell_type": "code",
   "execution_count": 39,
   "metadata": {},
   "outputs": [],
   "source": [
    "list2B1 = [1, 'two', False, 3.14, 3+4j]\n",
    "list2B2 = [[4, 5]]\n",
    "list2B3 = [7, 8]"
   ]
  },
  {
   "cell_type": "code",
   "execution_count": 40,
   "metadata": {},
   "outputs": [
    {
     "data": {
      "text/plain": [
       "[1, 'two', False, 3.14, (3+4j), [[4, 5]], 7, 8]"
      ]
     },
     "execution_count": 40,
     "metadata": {},
     "output_type": "execute_result"
    }
   ],
   "source": [
    "list2B4 = list2B1.copy()\n",
    "list2B4.append(list2B2)\n",
    "list2B4.extend(list2B3)\n",
    "list2B4"
   ]
  },
  {
   "cell_type": "markdown",
   "metadata": {},
   "source": [
    "### f) Apjungti list2C2 ir list2C3 taip kad gauti"
   ]
  },
  {
   "cell_type": "code",
   "execution_count": 41,
   "metadata": {},
   "outputs": [],
   "source": [
    "list2C2 = [10, 5, 91, 5, 2, 42, 8, 3, 5, 4, 9, 5, 45, 68, 3, 2, 48]\n",
    "list2C3 = [0, 3, 5, 88, 94, 5, 21, 9, 5, 0, 0, 5, 6, 0, 0, 8, 5]"
   ]
  },
  {
   "cell_type": "markdown",
   "metadata": {},
   "source": [
    "- list2C1 turintį tik bendrus list2C2 ir list2C3 sąrašams elementus:\n",
    "\n",
    "list2C1 = [8, 9, 3, 5]"
   ]
  },
  {
   "cell_type": "code",
   "execution_count": 42,
   "metadata": {},
   "outputs": [
    {
     "data": {
      "text/plain": [
       "[8, 9, 3, 5]"
      ]
     },
     "execution_count": 42,
     "metadata": {},
     "output_type": "execute_result"
    }
   ],
   "source": [
    "setA = set(list2C2)\n",
    "setB = set(list2C3)\n",
    "\n",
    "listC = list(setA.intersection(setB))\n",
    "listC"
   ]
  },
  {
   "cell_type": "markdown",
   "metadata": {},
   "source": [
    "- list2C4 unikalius elementus\n",
    "\n",
    "list2C4 = [2, 4, 10, 42, 45, 48, 68, 91]"
   ]
  },
  {
   "cell_type": "code",
   "execution_count": 43,
   "metadata": {},
   "outputs": [
    {
     "data": {
      "text/plain": [
       "[2, 4, 10, 42, 45, 48, 68, 91]"
      ]
     },
     "execution_count": 43,
     "metadata": {},
     "output_type": "execute_result"
    }
   ],
   "source": [
    "listD = list(setA.difference(setB))\n",
    "listD.sort()\n",
    "listD"
   ]
  },
  {
   "cell_type": "markdown",
   "metadata": {},
   "source": [
    "### g) Parašykite `print` komandą ir suformatuokit tekstą\n",
    "\n",
    "a) Output:"
   ]
  },
  {
   "cell_type": "raw",
   "metadata": {},
   "source": [
    " one two\n",
    " three four      five\n",
    " six\\                 seven"
   ]
  },
  {
   "cell_type": "code",
   "execution_count": 44,
   "metadata": {},
   "outputs": [
    {
     "name": "stdout",
     "output_type": "stream",
     "text": [
      "one two\n",
      " three four\t five\n",
      "six\\                 seven                  \n"
     ]
    }
   ],
   "source": [
    "print(f'one two\\n three four\\t five\\nsix\\\\{\"seven\".center(40)}')"
   ]
  },
  {
   "cell_type": "markdown",
   "metadata": {},
   "source": [
    "b) Output:"
   ]
  },
  {
   "cell_type": "raw",
   "metadata": {},
   "source": [
    " integer\\bfloat\\rstring\\\\boolean{5+5}"
   ]
  },
  {
   "cell_type": "code",
   "execution_count": 45,
   "metadata": {},
   "outputs": [
    {
     "name": "stdout",
     "output_type": "stream",
     "text": [
      "integer\\bfloat\\rstring\\\\boolean{5+5}\n"
     ]
    }
   ],
   "source": [
    "print(r\"integer\\bfloat\\rstring\\\\boolean{5+5}\")"
   ]
  },
  {
   "cell_type": "markdown",
   "metadata": {},
   "source": [
    "---\n",
    ">> **2. UŽDUOTIS**\n",
    ">>\n",
    ">> Parašykite mini programą/funkciją kuri automatiškai sukurtų jūsų projektų direktorijų medį ir jame esančius startinius failus.\n",
    ">>\n",
    ">> Minimalus veikimas:\n",
    ">>\n",
    ">> - norime sukurti nauja projektą. pvz kursinis\n",
    ">> - rašome funkciją mkprojektas(`direktorija`,`kursinis`)\n",
    ">> - funkcija sukuria:\n",
    ">>   - Bent 3 direktorijos\n",
    ">>   - README.txt ar README.md failą kuriame yra įrašytas jūsų vardas\n",
    ">>\n",
    "---\n",
    "\n",
    "mkpr.py file"
   ]
  },
  {
   "cell_type": "code",
   "execution_count": 46,
   "metadata": {},
   "outputs": [
    {
     "name": "stdout",
     "output_type": "stream",
     "text": [
      "\u001b[0m\u001b[01;32mcoords.txt\u001b[0m*  \u001b[01;32mk1A.ipynb\u001b[0m*  k1A.md  \u001b[01;32mk1A.py\u001b[0m*  \u001b[01;32mk1.ipynb\u001b[0m*  \u001b[01;32mk1.md\u001b[0m*  \u001b[01;32mk1.py\u001b[0m*  \u001b[01;32mmkpr\u001b[0m*\n"
     ]
    }
   ],
   "source": [
    "ls"
   ]
  },
  {
   "cell_type": "code",
   "execution_count": 47,
   "metadata": {},
   "outputs": [],
   "source": [
    "%run mkpr test2"
   ]
  },
  {
   "cell_type": "markdown",
   "metadata": {},
   "source": [
    "---\n",
    ">> **3. UŽDUOTIS**\n",
    ">>\n",
    ">> Dažnai gauname duomenis keistame pavidale ir norėdami juos importuoti\n",
    ">> darbui turime aprašyti importavimo funkciją\n",
    ">>\n",
    ">> Sukurkite funkciją kuri nuskaitytų duomenis pateiktus faile:\n",
    ">>\n",
    ">> biod2020/exam/K1/coords.txt\n",
    ">>\n",
    ">> Funkcijos išeigoje turi būti keturi sąrašai:\n",
    ">>\n",
    ">> - image: talpinantis nuskaitytus paveiksliukų pavadinimus\n",
    ">> - scale: talpinantis nuskaitytas skales\n",
    ">> - id: talpinantis eilės numerį\n",
    ">> - coord: talpinantis koordinates (2d sąrašai sąraše 5x10)\n",
    ">>\n",
    ">> image, scale,id, coord = konvertuojam('coords.txt')\n",
    ">>\n",
    ">>\n",
    "---"
   ]
  },
  {
   "cell_type": "code",
   "execution_count": 48,
   "metadata": {},
   "outputs": [],
   "source": [
    "def readcoords(input):\n",
    "    tps_file = open(input, 'r')\n",
    "    tps = tps_file.read().splitlines()\n",
    "    tps_file.close()\n",
    "    lm, im, ID, coords_array, sc = [], [], [], [], []\n",
    "    for i, ln in enumerate(tps):\n",
    "        if ln.startswith(\"LM\"):\n",
    "            lm_num = int(ln.split('=')[1])\n",
    "            lm.append(lm_num)\n",
    "            coords_mat = []\n",
    "            for j in range(i + 1, i + 1 + lm_num):\n",
    "                coords_mat.append([float(element) for element in tps[j].split(' ')])\n",
    "            coords_array.append(coords_mat)\n",
    "        if ln.startswith(\"IMAGE\"):\n",
    "            im.append(ln.split('=')[1])\n",
    "        if ln.startswith(\"ID\"):\n",
    "            ID.append(int(ln.split('=')[1]))\n",
    "        if ln.startswith(\"SCALE\"):\n",
    "            sc.append(float(ln.split('=')[1]))\n",
    "    return {'lm': lm, 'im': im, 'id': ID, 'coords': coords_array, 'sc': sc}"
   ]
  },
  {
   "cell_type": "code",
   "execution_count": 49,
   "metadata": {},
   "outputs": [
    {
     "data": {
      "text/plain": [
       "{'lm': [10, 10, 10, 10, 10],\n",
       " 'im': ['DIPzei90_d_1.jpg',\n",
       "  'DIPzei90_d_2.jpg',\n",
       "  'DIPzei90_d_3.jpg',\n",
       "  'DIPzei90_d_4.jpg',\n",
       "  'DIPzei90_d_5.jpg'],\n",
       " 'id': [0, 1, 2, 3, 4],\n",
       " 'coords': [[[971.0, 295.0],\n",
       "   [1073.0, 295.0],\n",
       "   [1026.0, 507.0],\n",
       "   [925.0, 594.0],\n",
       "   [999.0, 596.0],\n",
       "   [933.0, 754.0],\n",
       "   [1080.0, 538.0],\n",
       "   [1144.0, 533.0],\n",
       "   [1145.0, 682.0],\n",
       "   [1054.0, 875.0]],\n",
       "  [[1114.0, 609.0],\n",
       "   [1213.0, 608.0],\n",
       "   [1163.0, 800.0],\n",
       "   [1054.0, 818.0],\n",
       "   [1124.0, 819.0],\n",
       "   [1057.0, 971.0],\n",
       "   [1203.0, 834.0],\n",
       "   [1279.0, 833.0],\n",
       "   [1268.0, 1002.0],\n",
       "   [1155.0, 1148.0]],\n",
       "  [[980.0, 278.0],\n",
       "   [1075.0, 277.0],\n",
       "   [1029.0, 464.0],\n",
       "   [922.0, 578.0],\n",
       "   [992.0, 578.0],\n",
       "   [930.0, 748.0],\n",
       "   [1069.0, 531.0],\n",
       "   [1148.0, 530.0],\n",
       "   [1148.0, 707.0],\n",
       "   [1048.0, 897.0]],\n",
       "  [[1020.0, 746.0],\n",
       "   [1114.0, 743.0],\n",
       "   [1066.0, 923.0],\n",
       "   [956.0, 952.0],\n",
       "   [1026.0, 952.0],\n",
       "   [964.0, 1110.0],\n",
       "   [1107.0, 945.0],\n",
       "   [1192.0, 946.0],\n",
       "   [1175.0, 1080.0],\n",
       "   [1067.0, 1272.0]],\n",
       "  [[1097.0, 396.0],\n",
       "   [1203.0, 396.0],\n",
       "   [1152.0, 627.0],\n",
       "   [1043.0, 631.0],\n",
       "   [1120.0, 631.0],\n",
       "   [1040.0, 810.0],\n",
       "   [1196.0, 667.0],\n",
       "   [1267.0, 667.0],\n",
       "   [1261.0, 847.0],\n",
       "   [1146.0, 986.0]]],\n",
       " 'sc': [0.000907, 0.000917, 0.000908, 0.000905, 0.000896]}"
      ]
     },
     "execution_count": 49,
     "metadata": {},
     "output_type": "execute_result"
    }
   ],
   "source": [
    "ats=readcoords('./coords.txt')\n",
    "ats"
   ]
  },
  {
   "cell_type": "markdown",
   "metadata": {},
   "source": [
    "---\n",
    ">> **4. UŽDUOTIS**\n",
    ">>\n",
    ">> Parašykite programą kuri nuskaitytų visus failų vardus biod2020 direktorijoje ir jos subdirektorijose ir susumuotų juose esančius skaičius\n",
    ">>\n",
    ">> K1.ipynb, lect12.py... = 1+1+2...=4\n",
    ">>\n",
    "---"
   ]
  },
  {
   "cell_type": "code",
   "execution_count": 50,
   "metadata": {},
   "outputs": [
    {
     "data": {
      "text/plain": [
       "[PosixPath('/home/aleks/Documents/biod2020/data/tekstas5.txt'),\n",
       " PosixPath('/home/aleks/Documents/biod2020/exam/K1/coords.txt'),\n",
       " PosixPath('/home/aleks/Documents/biod2020/exam/K1/.ipynb_checkpoints/coords-checkpoint.txt'),\n",
       " PosixPath('/home/aleks/Documents/biod2020/.ipynb_checkpoints/test2-checkpoint.txt')]"
      ]
     },
     "execution_count": 50,
     "metadata": {},
     "output_type": "execute_result"
    }
   ],
   "source": [
    "import pathlib\n",
    "import re\n",
    "def find_files_re(directory, pattern):\n",
    "    files = [element for element in list(pathlib.Path(directory).rglob(\"./*\"))]\n",
    "    files = [element for element in files if re.search(pattern, element.name)]\n",
    "    return files\n",
    "\n",
    "bioa_dir = pathlib.Path.joinpath(pathlib.Path.home(), \"Documents\", \"biod2020\")\n",
    "file_list = find_files_re(bioa_dir, r\".*txt\")\n",
    "file_list"
   ]
  },
  {
   "cell_type": "code",
   "execution_count": 51,
   "metadata": {},
   "outputs": [
    {
     "data": {
      "text/plain": [
       "4"
      ]
     },
     "execution_count": 51,
     "metadata": {},
     "output_type": "execute_result"
    }
   ],
   "source": [
    "len(file_list)"
   ]
  },
  {
   "cell_type": "code",
   "execution_count": 52,
   "metadata": {},
   "outputs": [],
   "source": [
    "numbers_str = [re.findall(r'\\d',number.name) for number in file_list]"
   ]
  },
  {
   "cell_type": "code",
   "execution_count": 53,
   "metadata": {},
   "outputs": [],
   "source": [
    "numbers2 = []\n",
    "for num in numbers_str:\n",
    "    numbers2.append([int(number) for number in num])"
   ]
  },
  {
   "cell_type": "code",
   "execution_count": 54,
   "metadata": {},
   "outputs": [
    {
     "data": {
      "text/plain": [
       "7"
      ]
     },
     "execution_count": 54,
     "metadata": {},
     "output_type": "execute_result"
    }
   ],
   "source": [
    "sum([sum(element) for element in numbers2])"
   ]
  },
  {
   "cell_type": "code",
   "execution_count": null,
   "metadata": {},
   "outputs": [],
   "source": []
  }
 ],
 "metadata": {
  "jupytext": {
   "cell_metadata_filter": "-all",
   "encoding": "# -*- coding: utf-8 -*-",
   "formats": "ipynb,py:light,md:myst"
  },
  "kernelspec": {
   "display_name": "Python 3",
   "language": "python",
   "name": "python3"
  },
  "language_info": {
   "codemirror_mode": {
    "name": "ipython",
    "version": 3
   },
   "file_extension": ".py",
   "mimetype": "text/x-python",
   "name": "python",
   "nbconvert_exporter": "python",
   "pygments_lexer": "ipython3",
   "version": "3.8.3"
  }
 },
 "nbformat": 4,
 "nbformat_minor": 4
}
