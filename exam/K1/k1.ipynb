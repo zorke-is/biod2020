{
 "cells": [
  {
   "cell_type": "markdown",
   "metadata": {},
   "source": [
    "# Bioduomenų surinkimas ir analizė\n",
    "\n",
    "2020-10-06\n",
    "\n",
    "Sprendimus siųskite (vardas_pavarde_k1.ipynb; ipynb ir pdf/html formatais)\n",
    "iki 2020-10-10 23:55 į avoicikas@gmail.com"
   ]
  },
  {
   "cell_type": "markdown",
   "metadata": {},
   "source": [
    "Įveskite savo vardą ir pavardę"
   ]
  },
  {
   "cell_type": "raw",
   "metadata": {},
   "source": []
  },
  {
   "cell_type": "markdown",
   "metadata": {},
   "source": [
    "Vertinimas\n",
    "\n",
    "- Komentarai (veiksmų planas ir paaiškinimas) 50 %\n",
    "- Programos kodas 25 %\n",
    "- Rezultatas 25 %"
   ]
  },
  {
   "cell_type": "markdown",
   "metadata": {},
   "source": [
    "---\n",
    ">> **1. UŽDUOTIS**\n",
    ">>\n",
    ">> - Python pagrindai\n",
    ">>\n",
    "\n",
    "---\n",
    "\n",
    "## a) Gauti elementus iš sąrašo"
   ]
  },
  {
   "cell_type": "code",
   "execution_count": null,
   "metadata": {},
   "outputs": [],
   "source": [
    "listA1 = ['12345', ['a', 'b', ['c', 'df'], 6], 78]\n",
    "listA1"
   ]
  },
  {
   "cell_type": "markdown",
   "metadata": {},
   "source": [
    "### 78"
   ]
  },
  {
   "cell_type": "code",
   "execution_count": null,
   "metadata": {},
   "outputs": [],
   "source": []
  },
  {
   "cell_type": "markdown",
   "metadata": {},
   "source": [
    "### 2"
   ]
  },
  {
   "cell_type": "code",
   "execution_count": null,
   "metadata": {},
   "outputs": [],
   "source": []
  },
  {
   "cell_type": "markdown",
   "metadata": {},
   "source": [
    "### b"
   ]
  },
  {
   "cell_type": "code",
   "execution_count": null,
   "metadata": {},
   "outputs": [],
   "source": []
  },
  {
   "cell_type": "markdown",
   "metadata": {},
   "source": [
    "### d"
   ]
  },
  {
   "cell_type": "code",
   "execution_count": null,
   "metadata": {},
   "outputs": [],
   "source": []
  },
  {
   "cell_type": "markdown",
   "metadata": {},
   "source": [
    "### a,b"
   ]
  },
  {
   "cell_type": "code",
   "execution_count": null,
   "metadata": {},
   "outputs": [],
   "source": []
  },
  {
   "cell_type": "markdown",
   "metadata": {},
   "source": [
    "### 234"
   ]
  },
  {
   "cell_type": "code",
   "execution_count": null,
   "metadata": {},
   "outputs": [],
   "source": []
  },
  {
   "cell_type": "markdown",
   "metadata": {},
   "source": [
    "## b) Naudojant du sąrašus `listB1` ir `listB2` sukurti sąrašą\n",
    "\n",
    "res_list --> ['two', 4+9j]"
   ]
  },
  {
   "cell_type": "code",
   "execution_count": null,
   "metadata": {},
   "outputs": [],
   "source": [
    "listB1 = [1, 'two', False, 3.14, 4+9j]\n",
    "listB2 = [1, 4]"
   ]
  },
  {
   "cell_type": "code",
   "execution_count": null,
   "metadata": {},
   "outputs": [],
   "source": [
    "res_list ="
   ]
  },
  {
   "cell_type": "markdown",
   "metadata": {},
   "source": [
    "## c) Gauti elementus iš žodyno"
   ]
  },
  {
   "cell_type": "code",
   "execution_count": 1,
   "metadata": {},
   "outputs": [
    {
     "data": {
      "text/plain": [
       "{'Monday': ['Bioethics'],\n",
       " 'Tuesday': ['Biophysical Nanotechnologies'],\n",
       " 'Thursday': ['Biological Membranes',\n",
       "  'Biophysics of Control Systems',\n",
       "  'Biophysics of Neuron'],\n",
       " 'Wednesday': ['Cell Technologies', 'Biological data analysis'],\n",
       " 'Friday': 'Research project',\n",
       " 'Saturday': 'None',\n",
       " 'Sunday': 'None'}"
      ]
     },
     "execution_count": 1,
     "metadata": {},
     "output_type": "execute_result"
    }
   ],
   "source": [
    "Classes = {\n",
    "            'Monday': ['Bioethics'],\n",
    "            'Tuesday': ['Biophysical Nanotechnologies'],\n",
    "            'Thursday': ['Biological Membranes', 'Biophysics of Control Systems', 'Biophysics of Neuron'],\n",
    "            'Wednesday': ['Cell Technologies', 'Biological data analysis'],\n",
    "            'Friday': 'Research project',\n",
    "            'Saturday': 'None',\n",
    "            'Sunday': 'None'\n",
    "           }\n",
    "Classes"
   ]
  },
  {
   "cell_type": "markdown",
   "metadata": {},
   "source": [
    "### Bioethics"
   ]
  },
  {
   "cell_type": "code",
   "execution_count": null,
   "metadata": {},
   "outputs": [],
   "source": []
  },
  {
   "cell_type": "markdown",
   "metadata": {},
   "source": [
    "### Biophysics of Neuron"
   ]
  },
  {
   "cell_type": "code",
   "execution_count": null,
   "metadata": {},
   "outputs": [],
   "source": []
  },
  {
   "cell_type": "markdown",
   "metadata": {},
   "source": [
    "### ['Monday', 'Tuesday', 'Thursday', 'Wednesday', 'Friday', 'Saturday', 'Sunday']"
   ]
  },
  {
   "cell_type": "code",
   "execution_count": null,
   "metadata": {},
   "outputs": [],
   "source": []
  },
  {
   "cell_type": "markdown",
   "metadata": {},
   "source": [
    "### Thursday"
   ]
  },
  {
   "cell_type": "code",
   "execution_count": null,
   "metadata": {},
   "outputs": [],
   "source": []
  },
  {
   "cell_type": "markdown",
   "metadata": {},
   "source": [
    "### Nanotechnolog"
   ]
  },
  {
   "cell_type": "code",
   "execution_count": null,
   "metadata": {},
   "outputs": [],
   "source": []
  },
  {
   "cell_type": "markdown",
   "metadata": {},
   "source": [
    "### friday"
   ]
  },
  {
   "cell_type": "code",
   "execution_count": null,
   "metadata": {},
   "outputs": [],
   "source": []
  },
  {
   "cell_type": "markdown",
   "metadata": {},
   "source": [
    "### d) Sukurti žodyną kurio raktai `keys` skaičiai nuo 1 iki 1000, o vertės `values` raktų kvadratai\n",
    "\n",
    "Out[1]: {1: 1, 2: 4, 3: 9, 4: 16, 5: 25, 6: 36, 7: 49, 8: 64, 9: 81, .....}"
   ]
  },
  {
   "cell_type": "code",
   "execution_count": null,
   "metadata": {},
   "outputs": [],
   "source": []
  },
  {
   "cell_type": "markdown",
   "metadata": {},
   "source": [
    "### e) Naudojant sąrašų metodus apjungti list2B1, list2B2 ir list2B3 ir gauti list2B4\n",
    "\n",
    "list2B4 --> [1, 'two', False, 3.14, (3+4j), [[4, 5]], 7, 8]"
   ]
  },
  {
   "cell_type": "code",
   "execution_count": null,
   "metadata": {},
   "outputs": [],
   "source": [
    "list2B1 = [1, 'two', False, 3.14, 3+4j]\n",
    "list2B2 = [[4, 5]]\n",
    "list2B3 = [7, 8]"
   ]
  },
  {
   "cell_type": "code",
   "execution_count": null,
   "metadata": {},
   "outputs": [],
   "source": [
    "list2B4="
   ]
  },
  {
   "cell_type": "markdown",
   "metadata": {},
   "source": [
    "### f) Apjungti list2C2 ir list2C3 taip kad gauti"
   ]
  },
  {
   "cell_type": "code",
   "execution_count": null,
   "metadata": {},
   "outputs": [],
   "source": [
    "list2C2 = [10, 5, 91, 5, 2, 42, 8, 3, 5, 4, 9, 5, 45, 68, 3, 2, 48]\n",
    "list2C3 = [0, 3, 5, 88, 94, 5, 21, 9, 5, 0, 0, 5, 6, 0, 0, 8, 5]"
   ]
  },
  {
   "cell_type": "markdown",
   "metadata": {},
   "source": [
    "- list2C1 turintį tik bendrus list2C2 ir list2C3 sąrašams elementus:\n",
    "\n",
    "list2C1 = [8, 9, 3, 5]"
   ]
  },
  {
   "cell_type": "code",
   "execution_count": null,
   "metadata": {},
   "outputs": [],
   "source": []
  },
  {
   "cell_type": "markdown",
   "metadata": {},
   "source": [
    "- list2C4 unikalius elementus\n",
    "\n",
    "list2C4 = [2, 4, 10, 42, 45, 48, 68, 91]"
   ]
  },
  {
   "cell_type": "code",
   "execution_count": null,
   "metadata": {},
   "outputs": [],
   "source": []
  },
  {
   "cell_type": "markdown",
   "metadata": {},
   "source": [
    "### g) Parašykite `print` komandą ir suformatuokit tekstą\n",
    "\n",
    "a) Output:"
   ]
  },
  {
   "cell_type": "raw",
   "metadata": {
    "lines_to_next_cell": 0
   },
   "source": [
    " one two\n",
    " three four      five\n",
    " six\\                 seven"
   ]
  },
  {
   "cell_type": "code",
   "execution_count": null,
   "metadata": {
    "lines_to_next_cell": 2
   },
   "outputs": [],
   "source": []
  },
  {
   "cell_type": "markdown",
   "metadata": {},
   "source": [
    "b) Output:"
   ]
  },
  {
   "cell_type": "raw",
   "metadata": {
    "lines_to_next_cell": 0
   },
   "source": [
    " integer\\bfloat\\rstring\\\\boolean{5+5}"
   ]
  },
  {
   "cell_type": "code",
   "execution_count": null,
   "metadata": {
    "lines_to_next_cell": 2
   },
   "outputs": [],
   "source": []
  },
  {
   "cell_type": "markdown",
   "metadata": {},
   "source": [
    "---\n",
    ">> **2. UŽDUOTIS**\n",
    ">>\n",
    ">> Parašykite mini programą/funkciją kuri automatiškai sukurtų jūsų projektų direktorijų medį ir jame esančius startinius failus.\n",
    ">>\n",
    ">> Minimalus veikimas:\n",
    ">>\n",
    ">> - norime sukurti nauja projektą. pvz kursinis\n",
    ">> - rašome funkciją mkprojektas(`direktorija`,`kursinis`)\n",
    ">> - funkcija sukuria:\n",
    ">>   - Bent 3 direktorijos\n",
    ">>   - README.txt ar README.md failą kuriame yra įrašytas jūsų vardas\n",
    ">>\n",
    "---"
   ]
  },
  {
   "cell_type": "code",
   "execution_count": null,
   "metadata": {},
   "outputs": [],
   "source": []
  },
  {
   "cell_type": "markdown",
   "metadata": {},
   "source": [
    "---\n",
    ">> **3. UŽDUOTIS**\n",
    ">>\n",
    ">> Dažnai gauname duomenis keistame pavidale ir norėdami juos importuoti\n",
    ">> darbui turime aprašyti importavimo funkciją\n",
    ">>\n",
    ">> Sukurkite funkciją kuri nuskaitytų duomenis pateiktus faile:\n",
    ">>\n",
    ">> biod2020/exam/K1/coords.txt\n",
    ">>\n",
    ">> Funkcijos išeigoje turi būti keturi sąrašai:\n",
    ">>\n",
    ">> - image: talpinantis nuskaitytus paveiksliukų pavadinimus\n",
    ">> - scale: talpinantis nuskaitytas skales\n",
    ">> - id: talpinantis eilės numerį\n",
    ">> - coord: talpinantis koordinates (2d sąrašai sąraše 5x10)\n",
    ">>\n",
    ">> image, scale,id, coord = konvertuojam('coords.txt')\n",
    ">>\n",
    ">>\n",
    "---"
   ]
  },
  {
   "cell_type": "code",
   "execution_count": null,
   "metadata": {},
   "outputs": [],
   "source": []
  },
  {
   "cell_type": "markdown",
   "metadata": {},
   "source": [
    "---\n",
    ">> **4. UŽDUOTIS**\n",
    ">>\n",
    ">> Parašykite programą kuri nuskaitytų visus failų vardus biod2020 direktorijoje ir jos subdirektorijose ir susumuotų juose esančius skaičius\n",
    ">>\n",
    ">> K1.ipynb, lect12.py... = 1+1+2...=4\n",
    ">>\n",
    "---"
   ]
  },
  {
   "cell_type": "code",
   "execution_count": null,
   "metadata": {},
   "outputs": [],
   "source": []
  }
 ],
 "metadata": {
  "jupytext": {
   "cell_metadata_filter": "-all",
   "encoding": "# -*- coding: utf-8 -*-",
   "formats": "ipynb,py:light,md:myst"
  },
  "kernelspec": {
   "display_name": "Python 3",
   "language": "python",
   "name": "python3"
  },
  "language_info": {
   "codemirror_mode": {
    "name": "ipython",
    "version": 3
   },
   "file_extension": ".py",
   "mimetype": "text/x-python",
   "name": "python",
   "nbconvert_exporter": "python",
   "pygments_lexer": "ipython3",
   "version": "3.8.3"
  }
 },
 "nbformat": 4,
 "nbformat_minor": 4
}
