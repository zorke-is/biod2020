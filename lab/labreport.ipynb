{
 "cells": [
  {
   "cell_type": "code",
   "execution_count": null,
   "metadata": {},
   "outputs": [],
   "source": [
    "from pathlib import Path\n",
    "from IPython.display import Image, display\n",
    "def plotPNGs(directory: str, pattern: str = '*', opt_plot: bool = True) -> list:\n",
    "    files = [str(element) for element in Path(directory).glob(pattern)]\n",
    "    files.sort()\n",
    "    images = []\n",
    "    for ifile in files:\n",
    "        images.append(Image(ifile))\n",
    "    if opt_plot:\n",
    "        display(*images)\n",
    "    return files"
   ]
  },
  {
   "cell_type": "code",
   "execution_count": null,
   "metadata": {},
   "outputs": [],
   "source": [
    "dirData = '../images/'"
   ]
  },
  {
   "cell_type": "markdown",
   "metadata": {},
   "source": [
    "# some text description"
   ]
  },
  {
   "cell_type": "code",
   "execution_count": null,
   "metadata": {},
   "outputs": [],
   "source": [
    "res = plotPNGs(dirData, '*png')"
   ]
  }
 ],
 "metadata": {
  "jupytext": {
   "cell_metadata_filter": "-all",
   "formats": "ipynb,py:light"
  },
  "kernelspec": {
   "display_name": "Python 3",
   "language": "python",
   "name": "python3"
  }
 },
 "nbformat": 4,
 "nbformat_minor": 4
}
