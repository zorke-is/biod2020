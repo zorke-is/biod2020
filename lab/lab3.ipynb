{
 "cells": [
  {
   "cell_type": "markdown",
   "metadata": {},
   "source": [
    "---\n",
    "# Lab 3\n",
    "\n",
    "2020-09-29\n"
   ]
  },
  {
   "cell_type": "markdown",
   "metadata": {
    "lines_to_next_cell": 2
   },
   "source": [
    " ![datacamp](../images/datacamp.png)\n",
    " \n",
    "Python fundamentals\n",
    " - Introduction to python 1,2,3 up to numpy\n",
    " - python data science toolbox part\n",
    "\n",
    "Python toolbox\n",
    " - regular expressions"
   ]
  },
  {
   "cell_type": "markdown",
   "metadata": {},
   "source": [
    ">> **UŽDUOTIS**\n",
    ">>\n",
    ">> 1. Perskaityti dokumentacijas ir regex panaudojimą DNR sekose\n",
    ">>\n",
    "---"
   ]
  },
  {
   "cell_type": "markdown",
   "metadata": {},
   "source": [
    "---\n",
    ">> **UŽDUOTIS**\n",
    ">>\n",
    ">> 2. Pakeiskite programą kad kuriant Exp_....txt failus dar ir įrašytų informaciją\n",
    ">>\n",
    "---"
   ]
  },
  {
   "cell_type": "code",
   "execution_count": null,
   "metadata": {
    "lines_to_next_cell": 2
   },
   "outputs": [],
   "source": [
    "test_dir_pathlib.mkdir()\n",
    "for subj in range(1, 11):\n",
    "    for txt_file in range(1, 11):\n",
    "        if txt_file < 6:\n",
    "            measure = \"power\"\n",
    "        else:\n",
    "            measure = \"phase\"\n",
    "        p = pathlib.Path.joinpath(\n",
    "            pathlib.Path.home(),\n",
    "            \"Documents\",\n",
    "            \"biod2020\",\n",
    "            \"data\",\n",
    "            f\"Exp_{txt_file}_{measure}_{subj}.txt\",\n",
    "        )\n",
    "        p.touch()"
   ]
  },
  {
   "cell_type": "markdown",
   "metadata": {
    "lines_to_next_cell": 2
   },
   "source": [
    "---\n",
    ">> **3. UŽDUOTIS**\n",
    ">>\n",
    ">>  - Suraskite failus tik pirmo dalyvio (subj)\n",
    ">>  - Išfiltruokite tik galios matavimus\n",
    ">>\n",
    "---"
   ]
  },
  {
   "cell_type": "code",
   "execution_count": null,
   "metadata": {},
   "outputs": [],
   "source": []
  },
  {
   "cell_type": "code",
   "execution_count": null,
   "metadata": {},
   "outputs": [],
   "source": []
  },
  {
   "cell_type": "code",
   "execution_count": null,
   "metadata": {},
   "outputs": [],
   "source": []
  },
  {
   "cell_type": "markdown",
   "metadata": {},
   "source": [
    "---\n",
    ">> **4. UŽDUOTIS**\n",
    ">>\n",
    ">> Pakeiskite programą kad galėtų rodyt tik direktorijas\n",
    ">>\n",
    "---"
   ]
  },
  {
   "cell_type": "code",
   "execution_count": null,
   "metadata": {},
   "outputs": [],
   "source": [
    "def tree(directory):\n",
    "    print(f\"+ {directory}\")\n",
    "    for path in sorted(directory.rglob(\"*\")):\n",
    "        depth = len(path.relative_to(directory).parts)\n",
    "        spacer = \"    \" * depth\n",
    "        print(f\"{spacer}+ {path.name}\")"
   ]
  },
  {
   "cell_type": "code",
   "execution_count": null,
   "metadata": {},
   "outputs": [],
   "source": [
    "tree(bioa_dir)"
   ]
  },
  {
   "cell_type": "code",
   "execution_count": null,
   "metadata": {
    "lines_to_next_cell": 2
   },
   "outputs": [],
   "source": [
    "tree(bioa_dir, \"onlydir\")"
   ]
  },
  {
   "cell_type": "code",
   "execution_count": null,
   "metadata": {},
   "outputs": [],
   "source": []
  },
  {
   "cell_type": "code",
   "execution_count": null,
   "metadata": {},
   "outputs": [],
   "source": []
  },
  {
   "cell_type": "markdown",
   "metadata": {},
   "source": [
    "---\n",
    ">> **5. UŽDUOTIS**\n",
    ">>\n",
    ">> Raskite tekste šiuos elementus\n",
    ">>\n",
    "---"
   ]
  },
  {
   "cell_type": "code",
   "execution_count": null,
   "metadata": {},
   "outputs": [],
   "source": [
    "text = 'There’s also a syntax for referring to named groups as defined by the (?P<name>...) syntax. \\g<name> will use the substring matched by the group named name, and \\g<number> uses the corresponding group number. \\g<2> is therefore equivalent to \\2, but isn’t ambiguous in a replacement string such as \\g<2>0. (\\20 would be interpreted as a reference to group 20, not a reference to group 2 followed by the literal character \"0\".) The following substitutions are all equivalent, but use all three variations of the replacement string.'\n",
    "text"
   ]
  },
  {
   "cell_type": "code",
   "execution_count": null,
   "metadata": {},
   "outputs": [],
   "source": []
  },
  {
   "cell_type": "markdown",
   "metadata": {
    "lines_to_next_cell": 2
   },
   "source": [
    "Visus skaičius\n",
    "\n",
    "Out[]: ['2', '2', '0', '20', '2', '0']"
   ]
  },
  {
   "cell_type": "code",
   "execution_count": null,
   "metadata": {},
   "outputs": [],
   "source": []
  },
  {
   "cell_type": "markdown",
   "metadata": {
    "lines_to_next_cell": 2
   },
   "source": [
    "Elementus esančius tarp ženklų <>\n",
    "\n",
    "Out[]: ['name', 'name', 'number', '2', '2']"
   ]
  },
  {
   "cell_type": "code",
   "execution_count": null,
   "metadata": {},
   "outputs": [],
   "source": []
  },
  {
   "cell_type": "markdown",
   "metadata": {
    "lines_to_next_cell": 2
   },
   "source": [
    "3 raidžių žodžius\n",
    "\n",
    "Out[]: ['for', 'the', 'use', 'the', 'the', 'and', 'the', 'but', 'isn', 'not', 'the', 'The', 'are', 'all', 'but', 'use', 'all', 'the']"
   ]
  },
  {
   "cell_type": "code",
   "execution_count": null,
   "metadata": {},
   "outputs": [],
   "source": []
  },
  {
   "cell_type": "markdown",
   "metadata": {
    "lines_to_next_cell": 2
   },
   "source": [
    "---\n",
    ">> **6. UŽDUOTIS**\n",
    ">>\n",
    ">> faile data/tekstas5.txt yra 100 žodžių\n",
    ">>\n",
    ">> Atidarykite failą ir raskite žodžius prasidedančius raide c ir pasibaigiančius  t arba n\n",
    ">>\n",
    "---"
   ]
  },
  {
   "cell_type": "code",
   "execution_count": null,
   "metadata": {},
   "outputs": [],
   "source": []
  },
  {
   "cell_type": "code",
   "execution_count": null,
   "metadata": {},
   "outputs": [],
   "source": []
  },
  {
   "cell_type": "code",
   "execution_count": null,
   "metadata": {},
   "outputs": [],
   "source": []
  },
  {
   "cell_type": "markdown",
   "metadata": {
    "lines_to_next_cell": 2
   },
   "source": [
    "---\n",
    ">> **7. UŽDUOTIS**\n",
    ">>\n",
    ">> Pakeiskite kintamąjį `text` kad jis taptų toks kaip Out\n",
    ">>\n",
    ">> Out []: \"'1', '2', '3', '4'\"\n",
    ">>\n",
    "---\n"
   ]
  },
  {
   "cell_type": "code",
   "execution_count": null,
   "metadata": {},
   "outputs": [],
   "source": [
    "text = \"1, 2, 3, 4\"\n",
    "text"
   ]
  },
  {
   "cell_type": "code",
   "execution_count": null,
   "metadata": {},
   "outputs": [],
   "source": [
    "re.sub("
   ]
  },
  {
   "cell_type": "code",
   "execution_count": null,
   "metadata": {},
   "outputs": [],
   "source": []
  },
  {
   "cell_type": "markdown",
   "metadata": {
    "lines_to_next_cell": 2
   },
   "source": [
    "Out []:\n",
    "\n",
    "\"'1', '2', '3', '4'\""
   ]
  },
  {
   "cell_type": "markdown",
   "metadata": {},
   "source": [
    "---\n",
    ">> **8. UŽDUOTIS**\n",
    ">>\n",
    ">> Suraskite ir ištrinkite visus žodžius kur frazė su yra pakartota du arba tris kartus kad gauti Out[?]\n",
    ">>\n",
    "---\n",
    "Out[?]:\n",
    "\n",
    "'su su3 sususususu4 susususususu6'"
   ]
  },
  {
   "cell_type": "code",
   "execution_count": null,
   "metadata": {},
   "outputs": [],
   "source": [
    "text='su susu1 sususu2 su3 sususususu4 susu5 susususususu6'\n",
    "text"
   ]
  },
  {
   "cell_type": "code",
   "execution_count": null,
   "metadata": {},
   "outputs": [],
   "source": [
    "patter=''\n",
    "re.sub(pattern, '', text)"
   ]
  },
  {
   "cell_type": "code",
   "execution_count": null,
   "metadata": {
    "lines_to_next_cell": 2
   },
   "outputs": [],
   "source": []
  },
  {
   "cell_type": "code",
   "execution_count": null,
   "metadata": {},
   "outputs": [],
   "source": []
  },
  {
   "cell_type": "code",
   "execution_count": null,
   "metadata": {},
   "outputs": [],
   "source": []
  },
  {
   "cell_type": "code",
   "execution_count": null,
   "metadata": {},
   "outputs": [],
   "source": []
  },
  {
   "cell_type": "code",
   "execution_count": null,
   "metadata": {},
   "outputs": [],
   "source": []
  },
  {
   "cell_type": "code",
   "execution_count": null,
   "metadata": {},
   "outputs": [],
   "source": []
  },
  {
   "cell_type": "code",
   "execution_count": null,
   "metadata": {},
   "outputs": [],
   "source": []
  },
  {
   "cell_type": "code",
   "execution_count": null,
   "metadata": {},
   "outputs": [],
   "source": []
  },
  {
   "cell_type": "code",
   "execution_count": null,
   "metadata": {},
   "outputs": [],
   "source": []
  },
  {
   "cell_type": "code",
   "execution_count": null,
   "metadata": {},
   "outputs": [],
   "source": []
  },
  {
   "cell_type": "code",
   "execution_count": null,
   "metadata": {},
   "outputs": [],
   "source": []
  },
  {
   "cell_type": "code",
   "execution_count": null,
   "metadata": {},
   "outputs": [],
   "source": []
  },
  {
   "cell_type": "code",
   "execution_count": null,
   "metadata": {},
   "outputs": [],
   "source": []
  },
  {
   "cell_type": "code",
   "execution_count": null,
   "metadata": {},
   "outputs": [],
   "source": []
  },
  {
   "cell_type": "markdown",
   "metadata": {},
   "source": [
    "## Atsakymai\n",
    "\n",
    "2. pridėti  p.write_text(f'asdf')\n",
    "\n",
    "3. list(Path(test_dir_pathlib).rglob(r'Exp_\\d_\\w+_1.txt'))\n",
    "\n",
    "4."
   ]
  },
  {
   "cell_type": "code",
   "execution_count": null,
   "metadata": {},
   "outputs": [],
   "source": [
    "def tree(directory, flag=\"all\"):\n",
    "    print(f\"+ {directory}\")\n",
    "    for path in sorted(directory.rglob(\"*\")):\n",
    "        if flag == \"onlydir\" and path.is_dir():\n",
    "            depth=len(path.relative_to(directory).parts)\n",
    "            spacer=\"    \" * depth\n",
    "            print(f\"{spacer}+ {path.name}\")\n",
    "        elif flag == \"all\":\n",
    "            depth=len(path.relative_to(directory).parts)\n",
    "            spacer=\"    \" * depth\n",
    "            print(f\"{spacer}+ {path.name}\")"
   ]
  },
  {
   "cell_type": "code",
   "execution_count": null,
   "metadata": {},
   "outputs": [],
   "source": [
    "tree(bioa_dir, \"onlydir\")"
   ]
  },
  {
   "cell_type": "markdown",
   "metadata": {},
   "source": [
    "5"
   ]
  },
  {
   "cell_type": "code",
   "execution_count": null,
   "metadata": {},
   "outputs": [],
   "source": [
    "re.findall(r\"\\d+\", text)\n",
    "re.findall(r'<(.*?)>', text)\n",
    "re.findall(r'\\b\\w{3,3}\\b', text)"
   ]
  },
  {
   "cell_type": "markdown",
   "metadata": {},
   "source": [
    "6"
   ]
  },
  {
   "cell_type": "code",
   "execution_count": null,
   "metadata": {
    "lines_to_next_cell": 1
   },
   "outputs": [],
   "source": [
    "def find_words(filename, pattern):\n",
    "    result=[]\n",
    "    with open(filename, \"r\") as txt:\n",
    "        for line in txt:\n",
    "            if re.search(pattern, line):\n",
    "                result.append(line.strip())\n",
    "    return result"
   ]
  },
  {
   "cell_type": "code",
   "execution_count": null,
   "metadata": {},
   "outputs": [],
   "source": [
    "pattern=\"^c.*(t|n)$\"\n",
    "filename=\"/home/aleks/Documents/biod2020/data/tekstas5.txt\""
   ]
  },
  {
   "cell_type": "code",
   "execution_count": null,
   "metadata": {},
   "outputs": [],
   "source": [
    "find_words(filename, pattern)"
   ]
  },
  {
   "cell_type": "markdown",
   "metadata": {},
   "source": [
    "7"
   ]
  },
  {
   "cell_type": "code",
   "execution_count": null,
   "metadata": {},
   "outputs": [],
   "source": [
    "re.sub(\"\\b?\", \"'\", text)"
   ]
  },
  {
   "cell_type": "markdown",
   "metadata": {},
   "source": [
    "8"
   ]
  },
  {
   "cell_type": "code",
   "execution_count": null,
   "metadata": {},
   "outputs": [],
   "source": [
    "text='su susu1 sususu2 su3 sususususu4 susu5 susususususu6'\n",
    "text"
   ]
  },
  {
   "cell_type": "code",
   "execution_count": null,
   "metadata": {},
   "outputs": [],
   "source": [
    "pattern=r'\\b(su){2,3}\\d'\n",
    "re.sub(pattern, '', text)"
   ]
  }
 ],
 "metadata": {
  "jupytext": {
   "cell_metadata_filter": "-all",
   "encoding": "# -*- coding: utf-8 -*-",
   "formats": "ipynb,py"
  },
  "kernelspec": {
   "display_name": "Python 3",
   "language": "python",
   "name": "python3"
  },
  "language_info": {
   "codemirror_mode": {
    "name": "ipython",
    "version": 3
   },
   "file_extension": ".py",
   "mimetype": "text/x-python",
   "name": "python",
   "nbconvert_exporter": "python",
   "pygments_lexer": "ipython3",
   "version": "3.8.3"
  }
 },
 "nbformat": 4,
 "nbformat_minor": 4
}
