{
 "cells": [
  {
   "cell_type": "markdown",
   "metadata": {},
   "source": [
    "---\n",
    ">> **Praktinis darbas**\n",
    ">>\n",
    ">> a) Atsisiųsti anaconda, įsidiegti, išmėginti jupyter lab programą ir  parašyti trumpą tekstą naudojant markdown bei eksportuoti į html.\n",
    ">>\n",
    ">> https://www.anaconda.com/products/individual\n",
    ">> \n",
    ">>\n",
    ">> b) Įsidiegti git ir atsisiųsti kurso medžiagą\n",
    ">>\n",
    ">> https://git-scm.com/downloads\n",
    ">>\n",
    ">> https://chocolatey.org/\n",
    ">>\n",
    ">> c) Datacamp platformoje padaryti užduotis. Skill track -> shell -> anaconda skills. Shell, conda ir git skyriuose bent po pirma dalį.\n",
    ">>\n",
    ">> https://learn.datacamp.com/\n",
    ">> \n",
    ">> ![](../images/datacamp.png)\n",
    "---"
   ]
  },
  {
   "cell_type": "markdown",
   "metadata": {},
   "source": [
    "Lengviausias/minimalus kelias pasiekti visus tikslus:\n",
    "\n",
    "- Atsisiunčiam ir įdiegiam Anaconda https://www.anaconda.com/products/individual\n",
    "- Startuojam anaconda-navigator (start mygtuko pagalba)\n",
    "- startuojame jupyterlab programą home skiltyje (gali reikėti pradžioje install paspausti)\n",
    "- atsidaro naršyklė ir jos viduje jupyter lab programa\n",
    "- jupyter lab programos viduje atidarome terminalą: file - new - terminal\n",
    "- terminalas statuoja ir matome direktorija kurioje jis yra pwd komanda\n",
    "- terminale naudodami komandas `cd direktorijosvardas` nueiname į vietą kur norėtumėme saugoti viską. patartina rašome `cd ~/Documents`\n",
    "- sudiegiam git rašome: conda install git \n",
    "- rašome komandą: git clone https://github.com/avoicikas/biod2020.git\n",
    "- rašome komandą: cd biod2020\n",
    "- atsidarome paskaitos/ pratybų failą šone esančiame exporeryje nuėje į Documents/biod2020/lect direktoriją ir paspaudę ant lect1_Intro.ipynb failo du kartus \n",
    "- Kai paskaitos medžiaga atsidariusi spaudžiam file-export notebook as ir kuri norit variantą\n",
    "Dar galit išmėginti Print opciją\n",
    "\n",
    "Formatavimas turbut nebus pats gražiausias norint kad geriau viskas atrodytų reikia daryt su nbconvert komandomis nueinam `cd lab` ir\n",
    "\n",
    "`jupyter nbconvert --to=html lab1.ipynb` \n",
    "\n",
    "sugeneruotą failą atidarome su kairiu pelės klavišu paspaudę ir pasirinkę open in external browser\n",
    "\n",
    "Kad eksportuotų gražiai į pdf tikėtiną kad reikės sudiegti mikitex programą (realiai jei gaunasi html tai pdf opciją padarysit vėliau kai aiškiau bus įprasit prie visko)"
   ]
  }
 ],
 "metadata": {
  "kernelspec": {
   "display_name": "Python 3",
   "language": "python",
   "name": "python3"
  },
  "language_info": {
   "codemirror_mode": {
    "name": "ipython",
    "version": 3
   },
   "file_extension": ".py",
   "mimetype": "text/x-python",
   "name": "python",
   "nbconvert_exporter": "python",
   "pygments_lexer": "ipython3",
   "version": "3.8.3"
  }
 },
 "nbformat": 4,
 "nbformat_minor": 4
}
