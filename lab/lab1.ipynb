{
 "cells": [
  {
   "cell_type": "markdown",
   "metadata": {},
   "source": [
    "---\n",
    ">> **Praktinis darbas**\n",
    ">>\n",
    ">> a) Atsisiųsti anaconda, įsidiegti, išmėginti jupyter lab programą ir  parašyti trumpą tekstą naudojant markdown bei eksportuoti į html.\n",
    ">>\n",
    ">> https://www.anaconda.com/products/individual\n",
    ">> \n",
    ">>\n",
    ">> b) Įsidiegti git ir atsisiųsti kurso medžiagą\n",
    ">>\n",
    ">> https://git-scm.com/downloads\n",
    ">>\n",
    ">> https://chocolatey.org/\n",
    ">>\n",
    ">> c) Datacamp platformoje padaryti užduotis. Skill track -> shell -> anaconda skills. Shell, conda ir git skyriuose bent po pirma dalį.\n",
    ">>\n",
    ">> https://learn.datacamp.com/\n",
    ">> \n",
    ">> ![](../images/datacamp.png)\n",
    "---"
   ]
  },
  {
   "cell_type": "code",
   "execution_count": null,
   "metadata": {},
   "outputs": [],
   "source": []
  }
 ],
 "metadata": {
  "kernelspec": {
   "display_name": "Python 3",
   "language": "python",
   "name": "python3"
  },
  "language_info": {
   "codemirror_mode": {
    "name": "ipython",
    "version": 3
   },
   "file_extension": ".py",
   "mimetype": "text/x-python",
   "name": "python",
   "nbconvert_exporter": "python",
   "pygments_lexer": "ipython3",
   "version": "3.8.3"
  }
 },
 "nbformat": 4,
 "nbformat_minor": 4
}
